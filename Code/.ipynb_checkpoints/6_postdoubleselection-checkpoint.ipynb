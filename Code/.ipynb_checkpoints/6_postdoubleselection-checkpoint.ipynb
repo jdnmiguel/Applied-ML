{
 "cells": [
  {
   "cell_type": "markdown",
   "metadata": {
    "slideshow": {
     "slide_type": "slide"
    }
   },
   "source": [
    "# Lab: Post-Double Selection"
   ]
  },
  {
   "cell_type": "markdown",
   "metadata": {},
   "source": [
    "Before starting we have to install seaborn, to do so open you miniconda prompt and write `pip install seaborn`"
   ]
  },
  {
   "cell_type": "code",
   "execution_count": 1,
   "metadata": {},
   "outputs": [],
   "source": [
    "# Remove warnings\n",
    "import warnings\n",
    "warnings.filterwarnings('ignore')"
   ]
  },
  {
   "cell_type": "code",
   "execution_count": 3,
   "metadata": {
    "slideshow": {
     "slide_type": "subslide"
    }
   },
   "outputs": [],
   "source": [
    "# Import everything\n",
    "import pandas as pd\n",
    "import numpy as np\n",
    "import seaborn as sns\n",
    "import statsmodels.api as sm\n",
    "\n",
    "from numpy.linalg import inv\n",
    "from statsmodels.iolib.summary2 import summary_col\n",
    "from sklearn.model_selection import train_test_split\n",
    "from sklearn.linear_model import LinearRegression, Lasso, Ridge\n",
    "from sklearn.tree import DecisionTreeRegressor\n",
    "from sklearn.ensemble import RandomForestRegressor, GradientBoostingRegressor\n",
    "from sklearn.preprocessing import PolynomialFeatures, StandardScaler"
   ]
  },
  {
   "cell_type": "code",
   "execution_count": 4,
   "metadata": {
    "slideshow": {
     "slide_type": "subslide"
    }
   },
   "outputs": [],
   "source": [
    "# Import matplotlib for graphs\n",
    "import matplotlib.pyplot as plt\n",
    "from mpl_toolkits.mplot3d import axes3d\n",
    "\n",
    "# Set global parameters\n",
    "%matplotlib inline\n",
    "plt.style.use('seaborn-white')\n",
    "plt.rcParams['lines.linewidth'] = 3\n",
    "plt.rcParams['figure.figsize'] = (10,6)\n",
    "plt.rcParams['figure.titlesize'] = 20\n",
    "plt.rcParams['axes.titlesize'] = 18\n",
    "plt.rcParams['axes.labelsize'] = 14\n",
    "plt.rcParams['legend.fontsize'] = 14"
   ]
  },
  {
   "cell_type": "markdown",
   "metadata": {
    "slideshow": {
     "slide_type": "slide"
    }
   },
   "source": [
    "## 1 Frisch-Waugh theorem"
   ]
  },
  {
   "cell_type": "markdown",
   "metadata": {
    "slideshow": {
     "slide_type": "slide"
    }
   },
   "source": [
    "Consider the data $D = \\{ x_i, y_i, z_i \\}_{i=1}^n$ with DGP:\n",
    "\n",
    "$$\n",
    "y_i = x_i' \\alpha_0+ z_i' \\beta_0 + \\varepsilon_i\n",
    "$$\n",
    ". The Frisch-Waugh-Lowell theorem is telling us that there are multiple ways to estimate a single regression coefficient. It shows that the following estimators of $\\alpha$ are numerically equivalent:\n",
    "\n",
    "- OLS: $\\hat{\\alpha}$ (estimates of $\\alpha$) from regressing $y$ on $x, z$\n",
    "    - the OLS estimator obtained by regressing $y$ on $x$ and $z$\n",
    "- Partialling out (or residualization): $\\tilde{\\alpha}$ from regressing $y$ on $\\tilde{x}$\n",
    "    - the OLS estimator obtained by regressing $y$ on $\\tilde{x}$, where $\\tilde{x}$ is the residual from the regression of $x$ on $z$\n",
    "- \"Double\" partialling out: $\\bar{\\alpha}$ from regressing $\\tilde{y}$ on $\\tilde{x}$\n",
    "     - OLS estimator obtained by regressing $\\tilde{y}$ on $\\tilde{x}$, where  $\\tilde{y}$ is the residual from the regression of $y$ on $z$\n",
    "     \n",
    "where the operation of passing to $y, x$ to $\\tilde{y}, \\tilde{x}$ is called *projection  out $z$*, e.g. $\\tilde{x}$ are the residuals from regressing $x$ on $z$."
   ]
  },
  {
   "cell_type": "markdown",
   "metadata": {
    "slideshow": {
     "slide_type": "slide"
    }
   },
   "source": [
    "In reality, we have done the following:\n",
    " 1. regress $x$ on $z$\n",
    " 2. compute $\\hat x$: estimates \n",
    " 3. compute the residuals $\\tilde x = x - \\hat x$"
   ]
  },
  {
   "cell_type": "markdown",
   "metadata": {},
   "source": [
    "Why do we care about the FWT? Well, the DDML and PDS applied it to have consistent and unbiased estimates. "
   ]
  },
  {
   "cell_type": "markdown",
   "metadata": {
    "slideshow": {
     "slide_type": "slide"
    }
   },
   "source": [
    "## 1.2 Omitted Variable Bias"
   ]
  },
  {
   "cell_type": "markdown",
   "metadata": {
    "slideshow": {
     "slide_type": "slide"
    }
   },
   "source": [
    "Consider two separate statistical models. Assume the following **long regression** of interest:\n",
    "\n",
    "$$\n",
    "y_i = x_i' \\alpha_0+ z_i' \\beta_0 + \\varepsilon_i\n",
    "$$\n",
    "\n",
    "Define the corresponding **short regression** as\n",
    "\n",
    "$$\n",
    "y_i = x_i' \\alpha_0 + v_i \\quad \\text{ with } \\quad x_i = z_i' \\gamma_0 + u_i\n",
    "$$"
   ]
  },
  {
   "cell_type": "markdown",
   "metadata": {
    "slideshow": {
     "slide_type": "slide"
    }
   },
   "source": [
    "#### OVB Theorem\n",
    "\n",
    "Suppose that the DGP for the long regression corresponds to $\\alpha_0$, $\\beta_0$. Suppose further that $\\mathbb E[x_i] = 0$, $\\mathbb E[z_i] = 0$, $\\mathbb E[\\varepsilon_i |x_i,z_i] = 0$. Then, unless $\\beta_0 = 0$ or $z_i$ is orthogonal to $x_i$, the (sole) stochastic regressor $x_i$ is correlated with the error term in the short regression which implies that the OLS estimator of the short regression is inconsistent for $\\alpha_0$ due to the omitted variable bias. In particular, one can show that the plim of the OLS estimator of $\\hat{\\alpha}_{SHORT}$ from the short regression is\n",
    "\n",
    "$$\n",
    "\\hat{\\alpha}_{SHORT} \\overset{p}{\\to} \\frac{Cov(y_i, x_i)}{Var(x_i)} = \\alpha_0 + \\beta_0 \\frac{Cov(z_i, x_i)}{Var(x_i)}\n",
    "$$"
   ]
  },
  {
   "cell_type": "markdown",
   "metadata": {
    "slideshow": {
     "slide_type": "slide"
    }
   },
   "source": [
    "## 1.3 Pre-Test Bias"
   ]
  },
  {
   "cell_type": "markdown",
   "metadata": {
    "slideshow": {
     "slide_type": "slide"
    }
   },
   "source": [
    "Consider data $D= (y_i, x_i, z_i)_{i=1}^n$, where the true model is:\n",
    "\n",
    "$$\n",
    "\\begin{aligned}\n",
    "& y_i = x_i' \\alpha_0  + z_i' \\beta_0 + \\varepsilon_i \\\\\n",
    "& x_i = z_i' \\gamma_0 + u_i\n",
    "\\end{aligned}\n",
    "$$\n",
    "\n",
    "Where $x_i$ is the variable of interest (we want to make inference on $\\alpha_0$) and $z_i$ is a high dimensional set of control variables. "
   ]
  },
  {
   "cell_type": "markdown",
   "metadata": {
    "slideshow": {
     "slide_type": "slide"
    }
   },
   "source": [
    "From now on, we will work under the following assumptions:\n",
    "\n",
    "- $\\dim(x_i)=1$ for all $n$\n",
    "- $\\beta_0$ uniformely bounded in $n$\n",
    "- Strict exogeneity: $\\mathbb E[\\varepsilon_i | x_i, z_i] = 0$ and $\\mathbb E[u_i | z_i] = 0$\n",
    "- $\\beta_0$ and $\\gamma_0$ have dimension (and hence value) that depend on $n$"
   ]
  },
  {
   "cell_type": "markdown",
   "metadata": {
    "slideshow": {
     "slide_type": "slide"
    }
   },
   "source": [
    "Pre-Testing procedure:\n",
    "\n",
    "1. Regress $y_i$ on $x_i$ and $z_i$\n",
    "2. For each $j = 1, ..., p = \\dim(z_i)$ calculate a test statistic $t_j$\n",
    "3. Let $\\hat{T} = \\{ j: |t_j| > C > 0 \\}$ for some constant $C$ (set of statistically significant coefficients).\n",
    "4. Re-run the new \"model\" using $(x_i, z_{\\hat{T},i})$ (i.e. using the selected covariates with statistically significant coefficients).\n",
    "5. Perform statistical inference (i.e. confidence intervals and hypothesis tests) as if no model selection had been done.\n",
    "\n",
    "Pre-testing leads to incorrect inference. Why? Because of test errors in the first stage."
   ]
  },
  {
   "cell_type": "code",
   "execution_count": 8,
   "metadata": {},
   "outputs": [],
   "source": [
    "def generate_data(a, b, c, n):\n",
    "\n",
    "    # Generate data\n",
    "    z = np.random.normal(0,1,n).reshape(-1,1)\n",
    "    u = np.random.normal(0,1,n).reshape(-1,1)\n",
    "    x = c*z + u\n",
    "    e = np.random.normal(0,1,n).reshape(-1,1)\n",
    "    y = a*x + b*z + e\n",
    "    \n",
    "    return x, y, z"
   ]
  },
  {
   "cell_type": "code",
   "execution_count": 16,
   "metadata": {},
   "outputs": [
    {
     "name": "stdout",
     "output_type": "stream",
     "text": [
      "alpha OLS: 0.9298 (true=1)\n"
     ]
    }
   ],
   "source": [
    "# Generate random data and estimate alpha by ols \n",
    "n = 1000\n",
    "a = 1\n",
    "b = -.3\n",
    "c = 3\n",
    "x, y, z = generate_data(a, b, c, n)\n",
    "\n",
    "# Estimate alpha by OLS\n",
    "ols_coeff = inv(x.T @ x) @ x.T @ y\n",
    "alpha_short = ols_coeff[0][0]\n",
    "\n",
    "print('alpha OLS: %.4f (true=%1.0f)' % (alpha_short, a))"
   ]
  },
  {
   "cell_type": "code",
   "execution_count": 9,
   "metadata": {
    "slideshow": {
     "slide_type": "subslide"
    }
   },
   "outputs": [],
   "source": [
    "# T-test\n",
    "def t_test(y, x, k):\n",
    "    beta_hat = inv(x.T @ x) @ x.T @ y\n",
    "    residuals = y - x @ beta_hat\n",
    "    sigma2_hat = np.var(residuals)\n",
    "    beta_std = np.sqrt(np.diag(inv(x.T @ x)) * sigma2_hat )\n",
    "    return beta_hat[k,0]/beta_std[k]"
   ]
  },
  {
   "cell_type": "markdown",
   "metadata": {
    "slideshow": {
     "slide_type": "slide"
    }
   },
   "source": [
    "First of all the t-test for $H_0: \\beta_0 = 0$:\n",
    "\n",
    "$$\n",
    "t = \\frac{\\hat \\beta_k}{\\hat \\sigma_{\\beta_k}}\n",
    "$$\n",
    "\n",
    "where the standard deviation of the ols coefficient is given by\n",
    "\n",
    "$$\n",
    "\\hat \\sigma_{\\beta_k} = \\sqrt{ \\hat \\sigma^2 \\cdot (X'X)^{-1}_{[k,k]} }\n",
    "$$\n",
    "\n",
    "where we estimate the variance of the error term with the variance of the residuals\n",
    "\n",
    "$$\n",
    "\\hat \\sigma^2 = Var \\big( y - \\hat y \\big) = Var \\big( y - X (X'X)^{-1}X'y \\big)\n",
    "$$"
   ]
  },
  {
   "cell_type": "code",
   "execution_count": 10,
   "metadata": {
    "slideshow": {
     "slide_type": "subslide"
    }
   },
   "outputs": [],
   "source": [
    "# Pre-testing\n",
    "def pre_testing(a, b, c, n, simulations=1000):\n",
    "    np.random.seed(1)\n",
    "    \n",
    "    # Init\n",
    "    alpha = {'Long': np.zeros((simulations,1)),\n",
    "            'Short': np.zeros((simulations,1)),\n",
    "            'Pre-test': np.zeros((simulations,1))}\n",
    "\n",
    "    # Loop over simulations\n",
    "    for i in range(simulations):\n",
    "        \n",
    "        # Generate data\n",
    "        x, y, z = generate_data(a, b, c, n)\n",
    "        xz = np.concatenate([x,z], axis=1)\n",
    "        \n",
    "        # Compute coefficients\n",
    "        alpha['Long'][i] = (inv(xz.T @ xz) @ xz.T @ y)[0][0]\n",
    "        alpha['Short'][i] = inv(x.T @ x) @ x.T @ y\n",
    "        \n",
    "        # Compute significance of z on y\n",
    "        t = t_test(y, xz, 1)\n",
    "        \n",
    "        # Select specification based on test\n",
    "        if np.abs(t)>1.96:\n",
    "            alpha['Pre-test'][i] = alpha['Long'][i]\n",
    "        else:\n",
    "            alpha['Pre-test'][i] = alpha['Short'][i]\n",
    "    \n",
    "    return alpha"
   ]
  },
  {
   "cell_type": "markdown",
   "metadata": {
    "slideshow": {
     "slide_type": "slide"
    }
   },
   "source": [
    "Let's compare the different estimates."
   ]
  },
  {
   "cell_type": "code",
   "execution_count": 18,
   "metadata": {
    "slideshow": {
     "slide_type": "fragment"
    }
   },
   "outputs": [
    {
     "name": "stdout",
     "output_type": "stream",
     "text": [
      "Mean alpha Long = 0.9994\n",
      "Mean alpha Short = 0.9095\n",
      "Mean alpha Pre-test = 0.9925\n"
     ]
    }
   ],
   "source": [
    "# Get pre_test alpha\n",
    "alpha = pre_testing(a, b, c, n)\n",
    "\n",
    "for key, value in alpha.items():\n",
    "    print('Mean alpha %s = %.4f' % (key, np.mean(value)))"
   ]
  },
  {
   "cell_type": "markdown",
   "metadata": {
    "slideshow": {
     "slide_type": "slide"
    }
   },
   "source": [
    "The pre-testing coefficient is very close to the true coefficient.\n",
    "\n",
    "However, the main effect of pre-testing is on inference. With pre-testing, the distribution of the estimator is not gaussian anymore. "
   ]
  },
  {
   "cell_type": "code",
   "execution_count": 21,
   "metadata": {
    "slideshow": {
     "slide_type": "subslide"
    }
   },
   "outputs": [],
   "source": [
    "def plot_alpha(alpha, a):\n",
    "    \n",
    "    fig = plt.figure(figsize=(17,6))\n",
    "\n",
    "    # Plot distributions\n",
    "    x_max = np.max([np.max(np.abs(x-a)) for x in alpha.values()])\n",
    "\n",
    "    # All axes\n",
    "    for i, key in enumerate(alpha.keys()):\n",
    "        \n",
    "        # Reshape exisiting subplots\n",
    "        k = len(fig.axes)\n",
    "        for i in range(k):\n",
    "            fig.axes[i].change_geometry(1, k+1, i+1)\n",
    "            \n",
    "        # Add new plot\n",
    "        ax = fig.add_subplot(1, k+1, k+1)\n",
    "        ax.hist(alpha[key], bins=30)\n",
    "        ax.set_title(key)\n",
    "        ax.set_xlim([a-x_max, a+x_max])\n",
    "        ax.axvline(a, c='r', ls='--')\n",
    "        legend_text = [r'$\\alpha_0=%.0f$' % a, r'$\\hat \\alpha=%.4f$' % np.mean(alpha[key])]\n",
    "        ax.legend(legend_text, prop={'size': 10})"
   ]
  },
  {
   "cell_type": "markdown",
   "metadata": {
    "slideshow": {
     "slide_type": "slide"
    }
   },
   "source": [
    "Let's compare the long, short and pre-test estimators."
   ]
  },
  {
   "cell_type": "code",
   "execution_count": 22,
   "metadata": {
    "slideshow": {
     "slide_type": "fragment"
    }
   },
   "outputs": [
    {
     "data": {
      "image/png": "[encoded data removed]",
      "text/plain": [
       "<Figure size 1224x432 with 3 Axes>"
      ]
     },
     "metadata": {},
     "output_type": "display_data"
    }
   ],
   "source": [
    "# Plot\n",
    "plot_alpha(alpha, a)"
   ]
  },
  {
   "cell_type": "markdown",
   "metadata": {
    "slideshow": {
     "slide_type": "slide"
    }
   },
   "source": [
    "As we can see, the main problem of pre-testing is inference.\n",
    "\n",
    "Because of the testing procedure, the distribution of the estimator is a combination of tho different distributions: the one resulting from the long regression and the one resulting from the short regression. **Pre-testing is not a problem in 3 cases**:\n",
    "\n",
    " - when $\\beta_0$ is very large: in this case the test always rejects the null hypothesis $H_0 : \\beta_0=0$ and we always run the correct specification, i.e. the long regression\n",
    " \n",
    " - when $\\beta_0$ is very small: in this case the test has very little power. However, as we saw from the Omitted Variable Bias formula, the bias is small.\n",
    " \n",
    " - when $\\gamma_0$ is very small: also in this case the test has very little power. However, as we saw from the Omitted Variable Bias formula, the bias is small."
   ]
  },
  {
   "cell_type": "markdown",
   "metadata": {
    "slideshow": {
     "slide_type": "slide"
    }
   },
   "source": [
    "Let's compare the pre-test estimates for different values of the true parameter $\\beta$."
   ]
  },
  {
   "cell_type": "markdown",
   "metadata": {
    "slideshow": {
     "slide_type": "slide"
    }
   },
   "source": [
    "### Pre-Testing and Machine Learning"
   ]
  },
  {
   "cell_type": "markdown",
   "metadata": {
    "slideshow": {
     "slide_type": "fragment"
    }
   },
   "source": [
    "How are machine learning and pre-testing related? The best example is Lasso. Suppose you have a dataset with many variables. This means that you have very few degrees of freedom and your OLS estimates are going to be very imprecise. At the extreme, you have more variables than observations so that your OLS coefficient is undefined since you cannot invert the design matrix $X'X$.\n",
    "\n",
    "In this case, you might want to do variable selection. One way of doing variable selection is pre-testing. Another way is Lasso. A third alternative is to use machine learning methods that do not suffer this curse of dimensionality.\n",
    "\n",
    "The purpose and outcome of pre-testing and Lasso are the same:\n",
    "\n",
    " - you **have too many variables**\n",
    " - you **exclude some of them from the regression / set their coefficients to zero**\n",
    " \n",
    "As a consequence, also the problems are the same, i.e. pre-test bias."
   ]
  },
  {
   "cell_type": "markdown",
   "metadata": {
    "slideshow": {
     "slide_type": "slide"
    }
   },
   "source": [
    "## 4 Post-Double Selection"
   ]
  },
  {
   "cell_type": "markdown",
   "metadata": {
    "slideshow": {
     "slide_type": "slide"
    }
   },
   "source": [
    "Consider again data $D= (y_i, x_i, z_i)_{i=1}^n$, where the true model is:\n",
    "\n",
    "$$\n",
    "\\begin{aligned}\n",
    "& y_i = x_i' \\alpha_0  + z_i' \\beta_0 + \\varepsilon_i \\\\\n",
    "& x_i = z_i' \\gamma_0 + u_i\n",
    "\\end{aligned}\n",
    "$$\n",
    "\n",
    " A good pathway towards motivating procedures which guard against pretest bias is a discussion of classical partitioned regression."
   ]
  },
  {
   "cell_type": "markdown",
   "metadata": {
    "slideshow": {
     "slide_type": "slide"
    }
   },
   "source": [
    "Consider a regression $y_i$ on $x_i$ and $z_i$. $x_i$ is the 1-dimensional variable of interest, $z_i$ is a high-dimensional set of control variables. We have the following procedure:\n",
    "\n",
    "1. **First Stage** selection: regress $x_i$ on $z_i$. Select the statistically significant variables in the set $S_{FS} \\subseteq z_i$\n",
    "2. **Reduced Form** selection: lasso $y_i$ on $z_i$. Select the statistically significant variables in the set $S_{RF} \\subseteq z_i$\n",
    "3. Regress $y_i$ on $x_i$ and $S_{FS} \\cup S_{RF}$"
   ]
  },
  {
   "cell_type": "markdown",
   "metadata": {
    "slideshow": {
     "slide_type": "slide"
    }
   },
   "source": [
    "**Theorem**:\n",
    "Let $\\{P^n\\}$ be a sequence of data-generating processes for $D_n = (y_i, x_i, z_i)^n_{i=1} \\in (\\mathbb R \\times \\mathbb R \\times \\mathbb R^p) ^n$ where $p$ depends on $n$. For each $n$, the data are iid with $yi =  x_i'\\alpha_0^{(n)} + z_i' \\beta_0^{(n)} + \\varepsilon_i$ and $x_i = z_i' \\gamma_0^{(n)} + u_i$ where $\\mathbb E[\\varepsilon_i | x_i,z_i] = 0$ and $\\mathbb E[u_i|z_i] = 0$. The sparsity of the vectors  $\\beta_0^{(n)}$, $\\gamma_0^{(n)}$ is controlled by $|| \\beta_0^{(n)} ||_0 \\leq s$ with $s^2 (\\log p)^2/n \\to 0$. Suppose that additional regularity conditions on the model selection procedures and moments of the random variables $y_i$ , $x_i$ , $z_i$ as documented in Belloni et al. (2014). Then the confidence intervals, CI, from the post double selection procedure are uniformly valid. That is, for any confidence level $\\xi \\in (0, 1)$\n",
    "$$\n",
    "\t\t\\Pr(\\alpha_0 \\in CI) \\to 1- \\xi\n",
    "$$"
   ]
  },
  {
   "cell_type": "markdown",
   "metadata": {
    "slideshow": {
     "slide_type": "slide"
    }
   },
   "source": [
    "In order to have valid confidence intervals you want their bias to be negligibly. Since\n",
    "$$\n",
    "  CI = \\left[ \\hat{\\alpha} \\pm \\frac{1.96 \\cdot \\hat{\\sigma}}{\\sqrt{n}} \\right]\n",
    "$$\n",
    "\n",
    "If the bias is $o \\left( \\frac{1}{\\sqrt{n}} \\right)$ then there is no problem since it is asymptotically negligible w.r.t. the magnitude of the confidence interval. If however the the bias is $O \\left( \\frac{1}{\\sqrt{n}} \\right)$ then it has the same magnitude of the confidence interval and it does not asymptotically vanish. "
   ]
  },
  {
   "cell_type": "markdown",
   "metadata": {
    "slideshow": {
     "slide_type": "slide"
    }
   },
   "source": [
    "The idea of the proof is to use partitioned regression. An alternative way to think about the argument is: bound the omitted variables bias. Omitted variable bias comes from the product of 2 quantities related to the omitted variable:\n",
    "\n",
    "1. Its partial correlation with the outcome, and\n",
    "2. Its partial correlation with the variable of interest.\n",
    "\n",
    "If both those partial correlations are $O( \\sqrt{\\log p/n})$, then the omitted variables bias is $(s \\times O( \\sqrt{\\log p/n})^2 = o \\left( \\frac{1}{\\sqrt{n}} \\right)$, provided $s^2 (\\log p)^2/n \\to 0$. Relative to the $ \\frac{1}{\\sqrt{n}} $ convergence rate, the omitted variables bias is negligible. "
   ]
  },
  {
   "cell_type": "markdown",
   "metadata": {
    "slideshow": {
     "slide_type": "slide"
    }
   },
   "source": [
    "In our omitted variable bias case, we want $| \\beta_0 \\gamma_0 | = o \\left( \\frac{1}{\\sqrt{n}} \\right)$.  Post-double selection guarantees that \n",
    "\n",
    "- *Reduced form* selection (pre-testing): any \"missing\" variable has $|\\beta_{0j}| \\leq \\frac{c}{\\sqrt{n}}$\n",
    "- *First stage* selection (additional): any \"missing\" variable has $|\\gamma_{0j}| \\leq \\frac{c}{\\sqrt{n}}$\n",
    "\n",
    "\n",
    "As a consequence, as long as the number of omitted variables is finite, the omitted variable bias is \n",
    "$$\n",
    "\tOVB(\\alpha) = |\\beta_{0j}| \\cdot|\\gamma_{0j}| \\leq \\frac{c}{\\sqrt{n}} \\cdot \\frac{c}{\\sqrt{n}} = \\frac{c^2}{n} = o \\left(\\frac{1}{\\sqrt{n}}\\right)\n",
    "$$"
   ]
  },
  {
   "cell_type": "code",
   "execution_count": 22,
   "metadata": {
    "slideshow": {
     "slide_type": "subslide"
    }
   },
   "outputs": [],
   "source": [
    "# Pre-testing code\n",
    "def post_double_selection(a, b, c, n, simulations=1000):\n",
    "    np.random.seed(1)\n",
    "    \n",
    "    # Init\n",
    "    alpha = {'Long': np.zeros((simulations,1)),\n",
    "            'Short': np.zeros((simulations,1)),\n",
    "            'Pre-test': np.zeros((simulations,1)),\n",
    "            'Post-double': np.zeros((simulations,1))}\n",
    "\n",
    "    # Loop over simulations\n",
    "    for i in range(simulations):\n",
    "        \n",
    "        # Generate data\n",
    "        x, y, z = generate_data(a, b, c, n)\n",
    "        \n",
    "        # Compute coefficients\n",
    "        xz = np.concatenate([x,z], axis=1)\n",
    "        alpha['Long'][i] = (inv(xz.T @ xz) @ xz.T @ y)[0][0]\n",
    "        alpha['Short'][i] = inv(x.T @ x) @ x.T @ y\n",
    "        \n",
    "        # Compute significance of z on y (beta hat)\n",
    "        t1 = t_test(y, xz, 1)\n",
    "        \n",
    "        # Compute significance of z on x (gamma hat)\n",
    "        t2 = t_test(x, z, 0)\n",
    "        \n",
    "        # Select specification based on first test\n",
    "        if np.abs(t1)>1.96:\n",
    "            alpha['Pre-test'][i] = alpha['Long'][i]\n",
    "        else:\n",
    "            alpha['Pre-test'][i] = alpha['Short'][i]\n",
    "            \n",
    "        # Select specification based on both tests\n",
    "        if np.abs(t1)>1.96 or np.abs(t2)>1.96:\n",
    "            alpha['Post-double'][i] = alpha['Long'][i]\n",
    "        else:\n",
    "            alpha['Post-double'][i] = alpha['Short'][i]\n",
    "    \n",
    "    return alpha"
   ]
  },
  {
   "cell_type": "markdown",
   "metadata": {
    "slideshow": {
     "slide_type": "slide"
    }
   },
   "source": [
    "Let's now repeat the same exercise as above, but with also post-double selection "
   ]
  },
  {
   "cell_type": "code",
   "execution_count": 23,
   "metadata": {
    "slideshow": {
     "slide_type": "fragment"
    }
   },
   "outputs": [
    {
     "name": "stdout",
     "output_type": "stream",
     "text": [
      "Mean alpha Long = 0.9994\n",
      "Mean alpha Short = 0.9095\n",
      "Mean alpha Pre-test = 0.9925\n",
      "Mean alpha Post-double = 0.9994\n"
     ]
    }
   ],
   "source": [
    "# Get pre_test alpha\n",
    "alpha = post_double_selection(a, b, c, n)\n",
    "\n",
    "for key, value in alpha.items():\n",
    "    print('Mean alpha %s = %.4f' % (key, np.mean(value)))"
   ]
  },
  {
   "cell_type": "code",
   "execution_count": 24,
   "metadata": {
    "slideshow": {
     "slide_type": "slide"
    }
   },
   "outputs": [
    {
     "data": {
      "image/png": "[encoded data removed]",
      "text/plain": [
       "<Figure size 1224x432 with 4 Axes>"
      ]
     },
     "metadata": {},
     "output_type": "display_data"
    }
   ],
   "source": [
    "# Plot\n",
    "plot_alpha(alpha, a)"
   ]
  },
  {
   "cell_type": "markdown",
   "metadata": {
    "slideshow": {
     "slide_type": "slide"
    }
   },
   "source": [
    "As we can see, post-double selection has solved the pre-testing problem. Does it work for any magnitude of $\\beta$ (relative to the sample size)?\n",
    "\n",
    "We first have a look at the case in which the sample size is fixed and $\\beta_0$ changes."
   ]
  },
  {
   "cell_type": "code",
   "execution_count": 25,
   "metadata": {
    "slideshow": {
     "slide_type": "fragment"
    }
   },
   "outputs": [
    {
     "name": "stdout",
     "output_type": "stream",
     "text": [
      "Mean alpha with beta=-0.03: 0.9994\n",
      "Mean alpha with beta=-0.09: 0.9994\n",
      "Mean alpha with beta=-0.30: 0.9994\n",
      "Mean alpha with beta=-0.90: 0.9994\n"
     ]
    }
   ],
   "source": [
    "# Case 1: different betas and same sample size\n",
    "b_sequence = b*np.array([0.1,0.3,1,3])\n",
    "alpha = {}\n",
    "\n",
    "# Get sequence\n",
    "for k, b_ in enumerate(b_sequence):\n",
    "    label = 'beta = %.2f' % b_\n",
    "    alpha[label] = post_double_selection(a, b_, c, n)['Post-double']\n",
    "    print('Mean alpha with beta=%.2f: %.4f' % (b_, np.mean(alpha[label])))"
   ]
  },
  {
   "cell_type": "code",
   "execution_count": 26,
   "metadata": {
    "slideshow": {
     "slide_type": "slide"
    }
   },
   "outputs": [
    {
     "data": {
      "image/png": "[encoded data removed]",
      "text/plain": [
       "<Figure size 1224x432 with 4 Axes>"
      ]
     },
     "metadata": {},
     "output_type": "display_data"
    }
   ],
   "source": [
    "# Plot\n",
    "plot_alpha(alpha, a)"
   ]
  },
  {
   "cell_type": "markdown",
   "metadata": {},
   "source": [
    "Post-double selection always selects the correct specification, the long regression, even when $\\beta$ is very small."
   ]
  },
  {
   "cell_type": "markdown",
   "metadata": {
    "slideshow": {
     "slide_type": "slide"
    }
   },
   "source": [
    "Now we check the same but for fixed $\\beta_0$ and different sample sizes."
   ]
  },
  {
   "cell_type": "code",
   "execution_count": 27,
   "metadata": {
    "slideshow": {
     "slide_type": "fragment"
    }
   },
   "outputs": [
    {
     "name": "stdout",
     "output_type": "stream",
     "text": [
      "Mean alpha with n=100: 0.9964\n",
      "Mean alpha with n=300: 0.9985\n",
      "Mean alpha with n=1000: 0.9994\n",
      "Mean alpha with n=3000: 0.9990\n"
     ]
    }
   ],
   "source": [
    "# Case 2: same beta and different sample sizes\n",
    "n_sequence = [100,300,1000,3000]\n",
    "alpha = {}\n",
    "\n",
    "# Get sequence\n",
    "for k, n_ in enumerate(n_sequence):\n",
    "    label = 'N = %.0f' % n_\n",
    "    alpha[label] = post_double_selection(a, b, c, n_)['Post-double']\n",
    "    print('Mean alpha with n=%.0f: %.4f' % (n_, np.mean(alpha[label])))"
   ]
  },
  {
   "cell_type": "code",
   "execution_count": 28,
   "metadata": {
    "slideshow": {
     "slide_type": "slide"
    }
   },
   "outputs": [
    {
     "data": {
      "image/png": "[encoded data removed]",
      "text/plain": [
       "<Figure size 1224x432 with 4 Axes>"
      ]
     },
     "metadata": {},
     "output_type": "display_data"
    }
   ],
   "source": [
    "# Plot\n",
    "plot_alpha(alpha, a)"
   ]
  },
  {
   "cell_type": "markdown",
   "metadata": {},
   "source": [
    "Post-double selection always selects the correct specification, the long regression, even when the sample size is very small."
   ]
  },
  {
   "cell_type": "markdown",
   "metadata": {
    "slideshow": {
     "slide_type": "slide"
    }
   },
   "source": [
    "Last, we check the case of $\\beta_0$ proportional to $\\frac{1}{\\sqrt{n}}$."
   ]
  },
  {
   "cell_type": "code",
   "execution_count": 29,
   "metadata": {
    "slideshow": {
     "slide_type": "fragment"
    }
   },
   "outputs": [
    {
     "name": "stdout",
     "output_type": "stream",
     "text": [
      "Mean alpha with n=100: 0.9964\n",
      "Mean alpha with n=300: 0.9985\n",
      "Mean alpha with n=1000: 0.9994\n",
      "Mean alpha with n=3000: 0.9990\n"
     ]
    }
   ],
   "source": [
    "# Case 3: beta proportional to 1/sqrt(n) and different sample sizes\n",
    "beta =  b * 30 / np.sqrt(n_sequence)\n",
    "\n",
    "# Get sequence\n",
    "alpha = {}\n",
    "for k, n_ in enumerate(n_sequence):\n",
    "    label = 'N = %.0f' % n_\n",
    "    alpha[label] = post_double_selection(a, beta[k], c, n_)['Post-double']\n",
    "    print('Mean alpha with n=%.0f: %.4f' % (n_, np.mean(alpha[label])))"
   ]
  },
  {
   "cell_type": "code",
   "execution_count": 30,
   "metadata": {
    "slideshow": {
     "slide_type": "slide"
    }
   },
   "outputs": [
    {
     "data": {
      "image/png": "[encoded data removed]",
      "text/plain": [
       "<Figure size 1224x432 with 4 Axes>"
      ]
     },
     "metadata": {},
     "output_type": "display_data"
    }
   ],
   "source": [
    "# Plot\n",
    "plot_alpha(alpha, a)"
   ]
  },
  {
   "cell_type": "markdown",
   "metadata": {},
   "source": [
    "Once again post-double selection always selects the correct specification, the long regression."
   ]
  },
  {
   "cell_type": "markdown",
   "metadata": {
    "slideshow": {
     "slide_type": "slide"
    }
   },
   "source": [
    "### Post-double Selection and Machine Learning"
   ]
  },
  {
   "cell_type": "markdown",
   "metadata": {
    "slideshow": {
     "slide_type": "fragment"
    }
   },
   "source": [
    "As we have seen at the end of the previous section, Lasso can be used to perform variable selection in high dimensional settings. Therefore, post-double selection solves the pre-test bias problem in those settings. The post-double selection procedure with Lasso is:\n",
    "\n",
    "1. **First Stage** selection: lasso $x_i$ on $z_i$. Let the selected variables be collected in the set $S_{FS} \\subseteq z_i$\n",
    "2. **Reduced Form** selection: lasso $y_i$ on $z_i$. Let the selected variables be collected in the set $S_{RF} \\subseteq z_i$\n",
    "3. Regress $y_i$ on $x_i$ and $S_{FS} \\cup S_{RF}$"
   ]
  },
  {
   "cell_type": "markdown",
   "metadata": {
    "slideshow": {
     "slide_type": "slide"
    }
   },
   "source": [
    "## 5 Double/debiased Machine Learning"
   ]
  },
  {
   "cell_type": "markdown",
   "metadata": {},
   "source": [
    "This section is based on [Chernozhukov, V., Chetverikov, D., Demirer, M., Duflo, E., Hansen, C., Newey, W., & Robins, J. (2018). \"*Double/debiased machine learning for treatment and structural parameters*\"](https://onlinelibrary.wiley.com/doi/abs/10.1111/ectj.12097).\n",
    "\n",
    "The objectives are threefold: \n",
    "   1. Build a general framework to estimate causal effects using ML\n",
    "   2. Have confidence intervals for those estimates\n",
    "   3. Have an estimator with good convergence and efficient properties\n",
    "\n",
    "It comes from two body of litterature: \n",
    " 1. ML which relies on non parametric or semi parametric methods\n",
    " 2. Theoretical work about non parametric and semi parametric estimation methods\n",
    "The DML is connexion between them."
   ]
  },
  {
   "cell_type": "markdown",
   "metadata": {
    "slideshow": {
     "slide_type": "slide"
    }
   },
   "source": [
    "Consider the following partially linear model\n",
    "\n",
    "$$\n",
    "y = \\beta_0 D + g_0(X) + u \\\\\n",
    "D = m_0(X) + v\n",
    "$$\n",
    "\n",
    "where $y$ is the outcome variable, $D$ is the treatment to interest and $X$ is a potentially high-dimensional set of controls. The dependency in D is modeled through $m_0(X)$ (i.e., effect of $X$ on $D$) and modeled through $g_0(X)$ in $y$."
   ]
  },
  {
   "cell_type": "markdown",
   "metadata": {},
   "source": [
    "The objective is to get a root n-consistent estimator and the confidence intervals of $\\beta_0$ in presence of the nuisance parameter $\\mu_0 = (g_0 ; m_0)$. \n",
    "\n",
    "The next natural question is why do we need to use Machine Learning? \n",
    " 1. The power of ML for modellign function and/or expecation\n",
    " 2. ML models are better at predicting than traditional statistical methods when dealing with high-dimensional data\n",
    " 3. ML does not impose strong assumption on the functional forms of the nuisance parameters but learn these from the data"
   ]
  },
  {
   "cell_type": "markdown",
   "metadata": {
    "slideshow": {
     "slide_type": "slide"
    }
   },
   "source": [
    "#### Naive approach\n",
    "\n",
    "A naive approach to estimation of $\\beta_0$ using ML methods would be, for example, to construct a sophisticated ML estimator $\\beta_0 D + g_0(X)$ for learning the regression function $\\beta_0 D$ + $g_0(X)$.\n",
    "\n",
    "1. Split the sample in two: main sample and auxiliary sample\n",
    "2. Use the auxiliary sample to estimate $\\hat g_0(X)$\n",
    "3. Use the main sample to compute the orthogonalized component of $Y$ on $X$: $\\hat u = \\left(Y_{i}-\\hat{g}_{0}\\left(X_{i}\\right)\\right)$ \n",
    "3. Use the main sample to estimate the residualized OLS estimator\n",
    "\n",
    "$$\n",
    "\\hat{\\beta}_{0}=\\left(\\frac{1}{n} \\sum_{i \\in I} D_{i}^{2}\\right)^{-1} \\frac{1}{n} \\sum_{i \\in I} D_{i} \\hat u_i\n",
    "$$\n",
    "\n",
    "This estimator is not the best because of the slow rate of convergence, i.e. slower than $\\sqrt(n)$\n",
    "\n",
    "This estimator is going to be biased (with respect to a normal ditribtuion) because $g_0(X) \\neq E[y | x]$. Then, we can't get a good estimate of $g_0(X)$ by regression $y$ on $X$ **BUT** we can have good prediction of $y$ given $X$ and $D$.\n",
    "\n",
    "The bias comes from two sources:\n",
    "1. Regularization (we are doign variable selection): solve it using different means of orthogonalization \n",
    "2. Overfitting: employ cross-fitting methods"
   ]
  },
  {
   "cell_type": "markdown",
   "metadata": {
    "slideshow": {
     "slide_type": "slide"
    }
   },
   "source": [
    "#### Orthogonalization\n",
    "Remeber the FWL theorem we have seen? It is now time to rely on it.\n",
    "Now consider a second construction that employs an orthogonalized formulation obtained by directly partialling out the effect of $X$ from $D$ to obtain the orthogonalized regressor $v = D − m_0(X)$.\n",
    "\n",
    "1. Split the sample in two: main (test) sample and auxiliary (train) sample\n",
    "2. Use the auxiliary sample to estimate $\\hat g_0(X)$ from\n",
    "    \n",
    "    $$\n",
    "    y = \\beta_0 D + g_0(X) + u \\\\\n",
    "    $$\n",
    "\n",
    "\n",
    "3. Use the auxiliary sample to estimate $\\hat m_0(X)$ from\n",
    "\n",
    "    $$\n",
    "    D = m_0(X) + v\n",
    "    $$\n",
    "\n",
    "\n",
    "4. Use the main sample to compute the orthogonalized component (residuals) of $D$ on $X$ as\n",
    "\n",
    "    $$\n",
    "    \\hat v = D - \\hat m_0(X)\n",
    "    $$\n",
    "    \n",
    "    \n",
    "5. Use the main sample to estimate the double-residualized OLS estimator as\n",
    "\n",
    "    $$\n",
    "    \\hat{\\beta}_{0}=\\left(\\frac{1}{n} \\sum_{i \\in I} \\hat v_i D_{i} \\right)^{-1} \\frac{1}{n} \\sum_{i \\in I} \\hat v_i \\left( Y - \\hat g_0(X) \\right)\n",
    "    $$\n",
    "\n",
    "To summarize, we have predicted $y$ based on $X$ using machine learning (2); predicted $D$ based on $X$ using machine learning (3); then done a linear regression of the residual from $X$ on the predicted value obtained from 2 to have our OLS estimator. \n",
    "\n",
    "\n",
    "\n",
    "The estimator is unbiased but still has a lower rate of convergence because of sample splitting. The problem is solved by inverting the split sample, re-estimating the coefficient and averaging the two estimates. Note that this procedure is valid since the two estimates are independent by the sample splitting procedure."
   ]
  },
  {
   "cell_type": "markdown",
   "metadata": {
    "slideshow": {
     "slide_type": "slide"
    }
   },
   "source": [
    "### Application to AJR02"
   ]
  },
  {
   "cell_type": "markdown",
   "metadata": {
    "slideshow": {
     "slide_type": "fragment"
    }
   },
   "source": [
    "In this section we are going to replicate 6.3 of the \"*Double/debiased machine learning*\" paper based on [Acemoglu, Johnson, Robinson (2002), \"*The Colonial Origins of Comparative Development*\"](https://economics.mit.edu/files/4123).\n",
    "\n",
    "We first load the dataset"
   ]
  },
  {
   "cell_type": "code",
   "execution_count": 23,
   "metadata": {
    "slideshow": {
     "slide_type": "-"
    }
   },
   "outputs": [],
   "source": [
    "# Load Acemoglu Johnson Robinson Dataset\n",
    "df = pd.read_csv('AJR02.csv',index_col=0)"
   ]
  },
  {
   "cell_type": "code",
   "execution_count": 24,
   "metadata": {
    "slideshow": {
     "slide_type": "subslide"
    }
   },
   "outputs": [
    {
     "data": {
      "text/html": [
       "<div>\n",
       "<style scoped>\n",
       "    .dataframe tbody tr th:only-of-type {\n",
       "        vertical-align: middle;\n",
       "    }\n",
       "\n",
       "    .dataframe tbody tr th {\n",
       "        vertical-align: top;\n",
       "    }\n",
       "\n",
       "    .dataframe thead th {\n",
       "        text-align: right;\n",
       "    }\n",
       "</style>\n",
       "<table border=\"1\" class=\"dataframe\">\n",
       "  <thead>\n",
       "    <tr style=\"text-align: right;\">\n",
       "      <th></th>\n",
       "      <th>GDP</th>\n",
       "      <th>Exprop</th>\n",
       "      <th>Mort</th>\n",
       "      <th>Latitude</th>\n",
       "      <th>Neo</th>\n",
       "      <th>Africa</th>\n",
       "      <th>Asia</th>\n",
       "      <th>Namer</th>\n",
       "      <th>Samer</th>\n",
       "      <th>logMort</th>\n",
       "      <th>Latitude2</th>\n",
       "    </tr>\n",
       "  </thead>\n",
       "  <tbody>\n",
       "    <tr>\n",
       "      <th>1</th>\n",
       "      <td>8.39</td>\n",
       "      <td>6.50</td>\n",
       "      <td>78.20</td>\n",
       "      <td>0.3111</td>\n",
       "      <td>0</td>\n",
       "      <td>1</td>\n",
       "      <td>0</td>\n",
       "      <td>0</td>\n",
       "      <td>0</td>\n",
       "      <td>4.359270</td>\n",
       "      <td>0.096783</td>\n",
       "    </tr>\n",
       "    <tr>\n",
       "      <th>2</th>\n",
       "      <td>7.77</td>\n",
       "      <td>5.36</td>\n",
       "      <td>280.00</td>\n",
       "      <td>0.1367</td>\n",
       "      <td>0</td>\n",
       "      <td>1</td>\n",
       "      <td>0</td>\n",
       "      <td>0</td>\n",
       "      <td>0</td>\n",
       "      <td>5.634790</td>\n",
       "      <td>0.018687</td>\n",
       "    </tr>\n",
       "    <tr>\n",
       "      <th>3</th>\n",
       "      <td>9.13</td>\n",
       "      <td>6.39</td>\n",
       "      <td>68.90</td>\n",
       "      <td>0.3778</td>\n",
       "      <td>0</td>\n",
       "      <td>0</td>\n",
       "      <td>0</td>\n",
       "      <td>0</td>\n",
       "      <td>1</td>\n",
       "      <td>4.232656</td>\n",
       "      <td>0.142733</td>\n",
       "    </tr>\n",
       "    <tr>\n",
       "      <th>4</th>\n",
       "      <td>9.90</td>\n",
       "      <td>9.32</td>\n",
       "      <td>8.55</td>\n",
       "      <td>0.3000</td>\n",
       "      <td>1</td>\n",
       "      <td>0</td>\n",
       "      <td>0</td>\n",
       "      <td>0</td>\n",
       "      <td>0</td>\n",
       "      <td>2.145931</td>\n",
       "      <td>0.090000</td>\n",
       "    </tr>\n",
       "    <tr>\n",
       "      <th>5</th>\n",
       "      <td>9.29</td>\n",
       "      <td>7.50</td>\n",
       "      <td>85.00</td>\n",
       "      <td>0.2683</td>\n",
       "      <td>0</td>\n",
       "      <td>0</td>\n",
       "      <td>0</td>\n",
       "      <td>1</td>\n",
       "      <td>0</td>\n",
       "      <td>4.442651</td>\n",
       "      <td>0.071985</td>\n",
       "    </tr>\n",
       "  </tbody>\n",
       "</table>\n",
       "</div>"
      ],
      "text/plain": [
       "    GDP  Exprop    Mort  Latitude  Neo  Africa  Asia  Namer  Samer   logMort  \\\n",
       "1  8.39    6.50   78.20    0.3111    0       1     0      0      0  4.359270   \n",
       "2  7.77    5.36  280.00    0.1367    0       1     0      0      0  5.634790   \n",
       "3  9.13    6.39   68.90    0.3778    0       0     0      0      1  4.232656   \n",
       "4  9.90    9.32    8.55    0.3000    1       0     0      0      0  2.145931   \n",
       "5  9.29    7.50   85.00    0.2683    0       0     0      1      0  4.442651   \n",
       "\n",
       "   Latitude2  \n",
       "1   0.096783  \n",
       "2   0.018687  \n",
       "3   0.142733  \n",
       "4   0.090000  \n",
       "5   0.071985  "
      ]
     },
     "execution_count": 24,
     "metadata": {},
     "output_type": "execute_result"
    }
   ],
   "source": [
    "df.head()"
   ]
  },
  {
   "cell_type": "code",
   "execution_count": 25,
   "metadata": {
    "slideshow": {
     "slide_type": "subslide"
    }
   },
   "outputs": [
    {
     "name": "stdout",
     "output_type": "stream",
     "text": [
      "<class 'pandas.core.frame.DataFrame'>\n",
      "Int64Index: 64 entries, 1 to 64\n",
      "Data columns (total 11 columns):\n",
      " #   Column     Non-Null Count  Dtype  \n",
      "---  ------     --------------  -----  \n",
      " 0   GDP        64 non-null     float64\n",
      " 1   Exprop     64 non-null     float64\n",
      " 2   Mort       64 non-null     float64\n",
      " 3   Latitude   64 non-null     float64\n",
      " 4   Neo        64 non-null     int64  \n",
      " 5   Africa     64 non-null     int64  \n",
      " 6   Asia       64 non-null     int64  \n",
      " 7   Namer      64 non-null     int64  \n",
      " 8   Samer      64 non-null     int64  \n",
      " 9   logMort    64 non-null     float64\n",
      " 10  Latitude2  64 non-null     float64\n",
      "dtypes: float64(6), int64(5)\n",
      "memory usage: 6.0 KB\n"
     ]
    }
   ],
   "source": [
    "df.info()"
   ]
  },
  {
   "cell_type": "markdown",
   "metadata": {
    "slideshow": {
     "slide_type": "slide"
    }
   },
   "source": [
    "In their paper, AJR note that their IV strategy will be invalidated if other factors are also highly persistent and related to the development of institutions within a country and to the country’s GDP. A leading candidate for such a factor, as they discuss, is geography. AJR address this by assuming that the confounding effect of geography is adequately captured by a linear term in distance from the equator and a set of continent dummy variables. \n",
    "\n",
    "They inclue their results in table 2."
   ]
  },
  {
   "cell_type": "code",
   "execution_count": 26,
   "metadata": {
    "slideshow": {
     "slide_type": "subslide"
    }
   },
   "outputs": [],
   "source": [
    "# Add constant term to dataset\n",
    "df['const'] = 1\n",
    "\n",
    "# Create lists of variables to be used in each regression\n",
    "X1 = df[['const', 'Exprop']]\n",
    "X2 = df[['const', 'Exprop', 'Latitude', 'Latitude2']]\n",
    "X3 = df[['const', 'Exprop', 'Latitude', 'Latitude2', 'Asia', 'Africa', 'Namer', 'Samer']]\n",
    "y = df['GDP']\n",
    "\n",
    "# Estimate an OLS regression for each set of variables\n",
    "reg1 = sm.OLS(y, X1, missing='drop').fit()\n",
    "reg2 = sm.OLS(y, X2, missing='drop').fit()\n",
    "reg3 = sm.OLS(y, X3, missing='drop').fit()"
   ]
  },
  {
   "cell_type": "markdown",
   "metadata": {
    "slideshow": {
     "slide_type": "slide"
    }
   },
   "source": [
    "Let's replicate Table 2 in AJR."
   ]
  },
  {
   "cell_type": "code",
   "execution_count": 27,
   "metadata": {
    "slideshow": {
     "slide_type": "notes"
    }
   },
   "outputs": [],
   "source": [
    "# Make table 2\n",
    "def make_table_2():\n",
    "\n",
    "    info_dict={'No. observations' : lambda x: f\"{int(x.nobs):d}\"}\n",
    "\n",
    "    results_table = summary_col(results=[reg1,reg2,reg3],\n",
    "                                float_format='%0.2f',\n",
    "                                stars = True,\n",
    "                                model_names=['Model 1','Model 2','Model 3'],\n",
    "                                info_dict=info_dict,\n",
    "                                regressor_order=['const','Exprop','Latitude','Latitude2'])\n",
    "    return results_table"
   ]
  },
  {
   "cell_type": "code",
   "execution_count": 28,
   "metadata": {
    "slideshow": {
     "slide_type": "fragment"
    }
   },
   "outputs": [
    {
     "data": {
      "text/html": [
       "<table class=\"simpletable\">\n",
       "<tr>\n",
       "          <td></td>         <th>Model 1</th> <th>Model 2</th> <th>Model 3</th>\n",
       "</tr>\n",
       "<tr>\n",
       "  <th>const</th>            <td>4.66***</td> <td>4.55***</td> <td>5.95***</td>\n",
       "</tr>\n",
       "<tr>\n",
       "  <th></th>                 <td>(0.41)</td>  <td>(0.45)</td>  <td>(0.68)</td> \n",
       "</tr>\n",
       "<tr>\n",
       "  <th>Exprop</th>           <td>0.52***</td> <td>0.49***</td> <td>0.40***</td>\n",
       "</tr>\n",
       "<tr>\n",
       "  <th></th>                 <td>(0.06)</td>  <td>(0.07)</td>  <td>(0.06)</td> \n",
       "</tr>\n",
       "<tr>\n",
       "  <th>Latitude</th>            <td></td>      <td>2.16</td>    <td>0.42</td>  \n",
       "</tr>\n",
       "<tr>\n",
       "  <th></th>                    <td></td>     <td>(1.68)</td>  <td>(1.47)</td> \n",
       "</tr>\n",
       "<tr>\n",
       "  <th>Latitude2</th>           <td></td>      <td>-2.12</td>   <td>0.44</td>  \n",
       "</tr>\n",
       "<tr>\n",
       "  <th></th>                    <td></td>     <td>(2.86)</td>  <td>(2.48)</td> \n",
       "</tr>\n",
       "<tr>\n",
       "  <th>Africa</th>              <td></td>        <td></td>     <td>-1.06**</td>\n",
       "</tr>\n",
       "<tr>\n",
       "  <th></th>                    <td></td>        <td></td>     <td>(0.41)</td> \n",
       "</tr>\n",
       "<tr>\n",
       "  <th>Asia</th>                <td></td>        <td></td>     <td>-0.74*</td> \n",
       "</tr>\n",
       "<tr>\n",
       "  <th></th>                    <td></td>        <td></td>     <td>(0.42)</td> \n",
       "</tr>\n",
       "<tr>\n",
       "  <th>Namer</th>               <td></td>        <td></td>      <td>-0.17</td> \n",
       "</tr>\n",
       "<tr>\n",
       "  <th></th>                    <td></td>        <td></td>     <td>(0.40)</td> \n",
       "</tr>\n",
       "<tr>\n",
       "  <th>Samer</th>               <td></td>        <td></td>      <td>-0.12</td> \n",
       "</tr>\n",
       "<tr>\n",
       "  <th></th>                    <td></td>        <td></td>     <td>(0.42)</td> \n",
       "</tr>\n",
       "<tr>\n",
       "  <th>R-squared</th>         <td>0.54</td>    <td>0.56</td>    <td>0.71</td>  \n",
       "</tr>\n",
       "<tr>\n",
       "  <th>R-squared Adj.</th>    <td>0.53</td>    <td>0.54</td>    <td>0.67</td>  \n",
       "</tr>\n",
       "<tr>\n",
       "  <th>No. observations</th>   <td>64</td>      <td>64</td>      <td>64</td>   \n",
       "</tr>\n",
       "</table><br/>\n",
       "Standard errors in parentheses.<br/>\n",
       "* p<.1, ** p<.05, ***p<.01"
      ],
      "text/latex": [
       "\\begin{table}\n",
       "\\caption{}\n",
       "\\label{}\n",
       "\\begin{center}\n",
       "\\begin{tabular}{llll}\n",
       "\\hline\n",
       "                 & Model 1 & Model 2 & Model 3  \\\\\n",
       "\\hline\n",
       "const            & 4.66*** & 4.55*** & 5.95***  \\\\\n",
       "                 & (0.41)  & (0.45)  & (0.68)   \\\\\n",
       "Exprop           & 0.52*** & 0.49*** & 0.40***  \\\\\n",
       "                 & (0.06)  & (0.07)  & (0.06)   \\\\\n",
       "Latitude         &         & 2.16    & 0.42     \\\\\n",
       "                 &         & (1.68)  & (1.47)   \\\\\n",
       "Latitude2        &         & -2.12   & 0.44     \\\\\n",
       "                 &         & (2.86)  & (2.48)   \\\\\n",
       "Africa           &         &         & -1.06**  \\\\\n",
       "                 &         &         & (0.41)   \\\\\n",
       "Asia             &         &         & -0.74*   \\\\\n",
       "                 &         &         & (0.42)   \\\\\n",
       "Namer            &         &         & -0.17    \\\\\n",
       "                 &         &         & (0.40)   \\\\\n",
       "Samer            &         &         & -0.12    \\\\\n",
       "                 &         &         & (0.42)   \\\\\n",
       "R-squared        & 0.54    & 0.56    & 0.71     \\\\\n",
       "R-squared Adj.   & 0.53    & 0.54    & 0.67     \\\\\n",
       "No. observations & 64      & 64      & 64       \\\\\n",
       "\\hline\n",
       "\\end{tabular}\n",
       "\\end{center}\n",
       "\\end{table}\n",
       "\\bigskip\n",
       "Standard errors in parentheses. \\newline \n",
       "* p<.1, ** p<.05, ***p<.01"
      ],
      "text/plain": [
       "<class 'statsmodels.iolib.summary2.Summary'>\n",
       "\"\"\"\n",
       "\n",
       "========================================\n",
       "                 Model 1 Model 2 Model 3\n",
       "----------------------------------------\n",
       "const            4.66*** 4.55*** 5.95***\n",
       "                 (0.41)  (0.45)  (0.68) \n",
       "Exprop           0.52*** 0.49*** 0.40***\n",
       "                 (0.06)  (0.07)  (0.06) \n",
       "Latitude                 2.16    0.42   \n",
       "                         (1.68)  (1.47) \n",
       "Latitude2                -2.12   0.44   \n",
       "                         (2.86)  (2.48) \n",
       "Africa                           -1.06**\n",
       "                                 (0.41) \n",
       "Asia                             -0.74* \n",
       "                                 (0.42) \n",
       "Namer                            -0.17  \n",
       "                                 (0.40) \n",
       "Samer                            -0.12  \n",
       "                                 (0.42) \n",
       "R-squared        0.54    0.56    0.71   \n",
       "R-squared Adj.   0.53    0.54    0.67   \n",
       "No. observations 64      64      64     \n",
       "========================================\n",
       "Standard errors in parentheses.\n",
       "* p<.1, ** p<.05, ***p<.01\n",
       "\"\"\""
      ]
     },
     "execution_count": 28,
     "metadata": {},
     "output_type": "execute_result"
    }
   ],
   "source": [
    "table_2 = make_table_2()\n",
    "table_2"
   ]
  },
  {
   "cell_type": "markdown",
   "metadata": {
    "slideshow": {
     "slide_type": "slide"
    }
   },
   "source": [
    "Using DML allows us to relax this assumption and to replace it by a weaker assumption that geography can be sufficiently controlled by an unknown function of distance from the equator and continent dummies, which can be learned by ML methods.\n",
    "\n",
    "In particular, our framework is\n",
    "\n",
    "$$\n",
    "{GDP} = \\beta_0 \\times {Exprop} + g_0({geography}) + u \\\\\n",
    "{Exprop} = m_0({geography}) + u\n",
    "$$"
   ]
  },
  {
   "cell_type": "markdown",
   "metadata": {
    "slideshow": {
     "slide_type": "slide"
    }
   },
   "source": [
    "So that the double/debiased machine learning procedure is\n",
    "\n",
    "1. Split the sample in two: main sample and auxiliary sample\n",
    "2. Use the auxiliary sample to estimate $\\hat g_0({geography})$ from\n",
    "\n",
    "    $$\n",
    "    {GDP} = \\beta_0 \\times {Exprop} + g_0({geography}) + u\n",
    "    $$\n",
    "\n",
    "\n",
    "3. Use the auxiliary sample to estimate $\\hat m_0({geography})$ from\n",
    "\n",
    "    $$\n",
    "    {Exprop} = m_0({geography}) + v\n",
    "    $$\n",
    "\n",
    "\n",
    "4. Use the main sample to compute the orthogonalized component of ${Exprop}$ on ${geography}$ as\n",
    "\n",
    "    $$\n",
    "    \\hat v = {Exprop} - \\hat m_0({geography})\n",
    "    $$\n",
    "\n",
    "\n",
    "5. Use the main sample to estimate the double-residualized OLS estimator as\n",
    "\n",
    "    $$\n",
    "    \\hat{\\beta}_{0}=\\left(\\frac{1}{n} \\sum_{i \\in I} \\hat v_i \\times {Exprop}_{i} \\right)^{-1} \\frac{1}{n} \\sum_{i \\in I} \\hat v_i \\times \\left( {GDP} - \\hat g_0({geography}) \\right)\n",
    "    $$"
   ]
  },
  {
   "cell_type": "markdown",
   "metadata": {
    "slideshow": {
     "slide_type": "slide"
    }
   },
   "source": [
    "Since we employ an **intrumental variable** strategy, we replace $m_0({geography})$ with $m_0({geography},{logMort})$ in the first stage."
   ]
  },
  {
   "cell_type": "code",
   "execution_count": 29,
   "metadata": {
    "slideshow": {
     "slide_type": "fragment"
    }
   },
   "outputs": [],
   "source": [
    "# Generate variables\n",
    "D = df['Exprop'].values.reshape(-1,1)\n",
    "X = df[['const', 'Latitude', 'Latitude2', 'Asia', 'Africa', 'Namer', 'Samer']].values\n",
    "y = df['GDP'].values.reshape(-1,1)\n",
    "Z = df[['const', 'Latitude', 'Latitude2', 'Asia', 'Africa', 'Namer', 'Samer','logMort']].values"
   ]
  },
  {
   "cell_type": "code",
   "execution_count": 30,
   "metadata": {
    "slideshow": {
     "slide_type": "subslide"
    }
   },
   "outputs": [],
   "source": [
    "def estimate_beta(algorithm, alg_name, D, X, y, Z, sample):\n",
    "\n",
    "    # Split sample\n",
    "    D_main, D_aux = (D[sample==1], D[sample==0])\n",
    "    X_main, X_aux = (X[sample==1], X[sample==0])\n",
    "    y_main, y_aux = (y[sample==1], y[sample==0])\n",
    "    Z_main, Z_aux = (Z[sample==1], Z[sample==0])\n",
    "\n",
    "    # Residualize y on D\n",
    "    b_hat = inv(D_aux.T @ D_aux) @ D_aux.T @ y_aux\n",
    "    y_resid_aux = y_aux - D_aux @ b_hat\n",
    "    \n",
    "    # Estimate g0\n",
    "    alg_fitted = algorithm.fit(X=X_aux, y=y_resid_aux.ravel())\n",
    "    g0 = alg_fitted.predict(X_main).reshape(-1,1)\n",
    "\n",
    "    # Compute v_hat\n",
    "    u_hat = y_main - g0\n",
    "\n",
    "    # Estimate m0\n",
    "    alg_fitted = algorithm.fit(X=Z_aux, y=D_aux.ravel())\n",
    "    m0 = algorithm.predict(Z_main).reshape(-1,1)\n",
    "    \n",
    "    # Compute u_hat\n",
    "    v_hat = D_main - m0\n",
    "\n",
    "    # Estimate beta\n",
    "    beta = inv(v_hat.T @ D_main) @ v_hat.T @ u_hat\n",
    "        \n",
    "    return beta "
   ]
  },
  {
   "cell_type": "code",
   "execution_count": 31,
   "metadata": {
    "slideshow": {
     "slide_type": "subslide"
    }
   },
   "outputs": [],
   "source": [
    "def ddml(algorithm, alg_name, D, X, y, Z, p=0.5, verbose=False):\n",
    "    \n",
    "    # Expand X if Lasso or Ridge\n",
    "    if alg_name in ['Lasso   ','Ridge   ']:\n",
    "        X = PolynomialFeatures(degree=2).fit_transform(X)\n",
    "\n",
    "    # Generate split (fixed proportions)\n",
    "    split = np.array([i in train_test_split(range(len(D)), test_size=p)[0] for i in range(len(D))])\n",
    "    \n",
    "    # Compute beta\n",
    "    beta = [estimate_beta(algorithm, alg_name, D, X, y, Z, split==k) for k in range(2)]\n",
    "    beta = np.mean(beta)\n",
    "     \n",
    "    # Print and return\n",
    "    if verbose:\n",
    "        print('%s : %.4f' % (alg_name, beta))\n",
    "    return beta"
   ]
  },
  {
   "cell_type": "code",
   "execution_count": 32,
   "metadata": {
    "slideshow": {
     "slide_type": "subslide"
    }
   },
   "outputs": [],
   "source": [
    "# Generate sample split\n",
    "p = 0.5\n",
    "split = np.random.binomial(1, p, len(D))"
   ]
  },
  {
   "cell_type": "markdown",
   "metadata": {
    "slideshow": {
     "slide_type": "slide"
    }
   },
   "source": [
    "We inspect different algorithms. In particular, we consider:\n",
    "\n",
    "1. Lasso Regression\n",
    "2. Ridge Regression\n",
    "3. Regression Trees\n",
    "4. Random Forest\n",
    "5. Boosted Forests"
   ]
  },
  {
   "cell_type": "code",
   "execution_count": 33,
   "metadata": {
    "slideshow": {
     "slide_type": "fragment"
    }
   },
   "outputs": [],
   "source": [
    "# List all algorithms\n",
    "algorithms = {'Ridge   ': Ridge(alpha=.1),\n",
    "              'Lasso   ': Lasso(alpha=.01),\n",
    "              'Tree    ': DecisionTreeRegressor(),\n",
    "              'Forest  ': RandomForestRegressor(n_estimators=50),\n",
    "              'Boosting': GradientBoostingRegressor(n_estimators=50)}"
   ]
  },
  {
   "cell_type": "markdown",
   "metadata": {
    "slideshow": {
     "slide_type": "slide"
    }
   },
   "source": [
    "Let's compare the results."
   ]
  },
  {
   "cell_type": "code",
   "execution_count": 34,
   "metadata": {
    "slideshow": {
     "slide_type": "fragment"
    }
   },
   "outputs": [
    {
     "name": "stdout",
     "output_type": "stream",
     "text": [
      "Ridge    : 0.4116\n",
      "Lasso    : 1.3573\n",
      "Tree     : -0.5506\n",
      "Forest   : -0.3967\n",
      "Boosting : 1.9950\n"
     ]
    }
   ],
   "source": [
    "# Loop over algorithms\n",
    "for alg_name, algorithm in algorithms.items():\n",
    "    ddml(algorithm, alg_name, D, X, y, Z, verbose=True)"
   ]
  },
  {
   "cell_type": "markdown",
   "metadata": {},
   "source": [
    "The results are extremely volatile. "
   ]
  },
  {
   "cell_type": "code",
   "execution_count": 35,
   "metadata": {
    "slideshow": {
     "slide_type": "notes"
    }
   },
   "outputs": [],
   "source": [
    "# Repeat K times\n",
    "def estimate_beta_median(algorithms, D, X, y, Z, K):\n",
    "    \n",
    "    # Loop over algorithms\n",
    "    for alg_name, algorithm in algorithms.items():\n",
    "        betas = []\n",
    "            \n",
    "        # Iterate n times\n",
    "        for k in range(K):\n",
    "            beta = ddml(algorithm, alg_name, D, X, y, Z)\n",
    "            betas = np.append(betas, beta)\n",
    "    \n",
    "        print('%s : %.4f' % (alg_name, np.median(betas)))"
   ]
  },
  {
   "cell_type": "markdown",
   "metadata": {
    "slideshow": {
     "slide_type": "slide"
    }
   },
   "source": [
    "Let's try using the median to have a more stable estimator."
   ]
  },
  {
   "cell_type": "code",
   "execution_count": 36,
   "metadata": {
    "slideshow": {
     "slide_type": "fragment"
    }
   },
   "outputs": [
    {
     "name": "stdout",
     "output_type": "stream",
     "text": [
      "Ridge    : 0.6670\n",
      "Lasso    : 1.2511\n",
      "Tree     : 0.9605\n",
      "Forest   : 1.2607\n",
      "Boosting : 0.9253\n"
     ]
    }
   ],
   "source": [
    "np.random.seed(123)\n",
    "\n",
    "# Repeat 100 times and take median\n",
    "estimate_beta_median(algorithms, D, X, y, Z, 100)"
   ]
  },
  {
   "cell_type": "markdown",
   "metadata": {},
   "source": [
    "The results differ slightly from the ones in the paper, but they are at least closer."
   ]
  }
 ],
 "metadata": {
  "celltoolbar": "Slideshow",
  "kernelspec": {
   "display_name": "Python 3 (ipykernel)",
   "language": "python",
   "name": "python3"
  },
  "language_info": {
   "codemirror_mode": {
    "name": "ipython",
    "version": 3
   },
   "file_extension": ".py",
   "mimetype": "text/x-python",
   "name": "python",
   "nbconvert_exporter": "python",
   "pygments_lexer": "ipython3",
   "version": "3.10.4"
  }
 },
 "nbformat": 4,
 "nbformat_minor": 4
}
