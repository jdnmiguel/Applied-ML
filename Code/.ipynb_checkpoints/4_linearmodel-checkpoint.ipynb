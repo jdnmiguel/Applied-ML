{
 "cells": [
  {
   "cell_type": "markdown",
   "id": "3479aab9",
   "metadata": {},
   "source": [
    "# Lab: Linear Models and Regularization Methods\n",
    "In this lab we implement many of the techniques discussed in this chapter.\n",
    "We import some of our libraries at this top\n",
    "level. \n",
    "\n",
    "This chapter follows closely chapter 6 of James et al. (2023) book."
   ]
  },
  {
   "cell_type": "code",
   "execution_count": 13,
   "id": "11f32a45",
   "metadata": {},
   "outputs": [],
   "source": [
    "# Remove warnings\n",
    "import warnings\n",
    "warnings.filterwarnings('ignore')"
   ]
  },
  {
   "cell_type": "code",
   "execution_count": 14,
   "id": "a121caba",
   "metadata": {
    "tags": []
   },
   "outputs": [],
   "source": [
    "import numpy as np\n",
    "import pandas as pd\n",
    "from matplotlib.pyplot import subplots\n",
    "from statsmodels.api import OLS\n",
    "import sklearn.model_selection as skm\n",
    "import sklearn.linear_model as skl\n",
    "from sklearn.preprocessing import StandardScaler\n",
    "from ISLP import load_data\n",
    "from ISLP.models import ModelSpec as MS\n",
    "from functools import partial\n"
   ]
  },
  {
   "cell_type": "markdown",
   "id": "b846a10e",
   "metadata": {},
   "source": [
    "We again collect the new imports\n",
    "needed for this lab."
   ]
  },
  {
   "cell_type": "code",
   "execution_count": 15,
   "id": "91b5adfb",
   "metadata": {
    "lines_to_next_cell": 0,
    "tags": []
   },
   "outputs": [
    {
     "name": "stdout",
     "output_type": "stream",
     "text": [
      "Requirement already satisfied: l0bnb in c:\\users\\jdnmiguel\\dropbox\\class\\envpygis\\lib\\site-packages (1.0.0)\n",
      "Requirement already satisfied: numpy>=1.18.1 in c:\\users\\jdnmiguel\\dropbox\\class\\envpygis\\lib\\site-packages (from l0bnb) (1.24.4)\n",
      "Requirement already satisfied: scipy>=1.4.1 in c:\\users\\jdnmiguel\\dropbox\\class\\envpygis\\lib\\site-packages (from l0bnb) (1.11.1)\n",
      "Requirement already satisfied: numba>=0.53.1 in c:\\users\\jdnmiguel\\dropbox\\class\\envpygis\\lib\\site-packages (from l0bnb) (0.57.1)\n",
      "Requirement already satisfied: llvmlite<0.41,>=0.40.0dev0 in c:\\users\\jdnmiguel\\dropbox\\class\\envpygis\\lib\\site-packages (from numba>=0.53.1->l0bnb) (0.40.1)\n"
     ]
    }
   ],
   "source": [
    "from sklearn.pipeline import Pipeline\n",
    "from sklearn.decomposition import PCA\n",
    "from sklearn.cross_decomposition import PLSRegression\n",
    "from ISLP.models import \\\n",
    "     (Stepwise,\n",
    "      sklearn_selected,\n",
    "      sklearn_selection_path)\n",
    "!pip install l0bnb\n",
    "from l0bnb import fit_path\n"
   ]
  },
  {
   "cell_type": "markdown",
   "id": "d363de72",
   "metadata": {},
   "source": [
    "We have installed the package `l0bnb` on the fly. Note the escaped `!pip install` --- this is run as a separate system command. \n",
    "\n",
    "When we talk about big data, we do not only talk about larger sample size ($n$), but also about a larger number of dependant variables ($p$). However, with OLS, we are limited by the identification constraint that $p<n$. In addition, we would like to have $p$ way more smaller than $n$ for inference and prediction accuracy.\n",
    "\n",
    "\n",
    "This lab presents methods to use a least squares fit in a setting in which the number of dependent variables,$p$, is large with respect to the sample size, $n$. \n",
    "\n",
    "\n",
    "\n",
    "## Subset Selection Methods\n",
    "Here we implement methods that reduce the number of dependent variables $p$ in a model by restricting the model to a subset that we believed related tp $y$.\n",
    "\n",
    "### Forward Selection\n",
    " \n",
    "Forward stepwise selection begins with a model containing no predictors, and then adds predictors to the model, one-at-a-time, until all of the predictors are in the model. In particular, at each step the variable that gives the greatest additional improvement to the fit is added to the model. \n",
    "  \n",
    " \n",
    "We will  apply the forward-selection approach to the  `Hitters` \n",
    "data.  We wish to predict a baseball player’s `Salary` on the\n",
    "basis of various statistics associated with performance in the\n",
    "previous year.\n",
    "\n",
    "First of all, we note that the `Salary` variable is missing for\n",
    "some of the players.  The `np.isnan()`  function can be used to\n",
    "identify the missing observations. It returns an array\n",
    "of the same shape as the input vector, with a `True` for any elements that\n",
    "are missing, and a `False` for non-missing elements.  The\n",
    "`sum()`  method can then be used to count all of the\n",
    "missing elements."
   ]
  },
  {
   "cell_type": "code",
   "execution_count": 16,
   "id": "01b6e940",
   "metadata": {
    "tags": []
   },
   "outputs": [
    {
     "data": {
      "text/plain": [
       "59"
      ]
     },
     "execution_count": 16,
     "metadata": {},
     "output_type": "execute_result"
    }
   ],
   "source": [
    "Hitters = load_data('Hitters')\n",
    "np.isnan(Hitters['Salary']).sum()\n"
   ]
  },
  {
   "cell_type": "code",
   "execution_count": 17,
   "id": "337d2256-2803-4bbe-8353-b063b669e6c4",
   "metadata": {},
   "outputs": [
    {
     "data": {
      "text/plain": [
       "(322, 20)"
      ]
     },
     "execution_count": 17,
     "metadata": {},
     "output_type": "execute_result"
    }
   ],
   "source": [
    "Hitters.shape"
   ]
  },
  {
   "cell_type": "markdown",
   "id": "409d79c0",
   "metadata": {},
   "source": [
    " We see that `Salary` is missing for 59 players. The\n",
    "`dropna()`  method of data frames removes all of the rows that have missing\n",
    "values in any variable (by default --- see  `Hitters.dropna?`).\n",
    "Note: we are dropping the missing, but it is not always the best option. For instance in case of differential attrition."
   ]
  },
  {
   "cell_type": "code",
   "execution_count": 18,
   "id": "3472ea4b",
   "metadata": {
    "lines_to_next_cell": 2,
    "tags": []
   },
   "outputs": [
    {
     "data": {
      "text/plain": [
       "(263, 20)"
      ]
     },
     "execution_count": 18,
     "metadata": {},
     "output_type": "execute_result"
    }
   ],
   "source": [
    "Hitters = Hitters.dropna();\n",
    "Hitters.shape\n"
   ]
  },
  {
   "cell_type": "markdown",
   "id": "b3a1b082",
   "metadata": {},
   "source": [
    "We first choose the best model using forward selection based on $C_p =\\dfrac{1}{n}*(RSS +  2d\\hat{\\sigma}^2)$ (see 6.2 in ISL). This score\n",
    "is not built in as a metric to `sklearn`. We therefore define a function to compute it ourselves, and use\n",
    "it as a scorer. By default, `sklearn` tries to maximize a score, hence\n",
    "  our scoring function  computes the negative $C_p$ statistic."
   ]
  },
  {
   "cell_type": "code",
   "execution_count": 19,
   "id": "4090cab5",
   "metadata": {
    "lines_to_next_cell": 0,
    "tags": []
   },
   "outputs": [],
   "source": [
    "def nCp(sigma2, estimator, X, Y):\n",
    "    \"Negative Cp statistic\"\n",
    "    n, p = X.shape\n",
    "    Yhat = estimator.predict(X)\n",
    "    RSS = np.sum((Y - Yhat)**2)\n",
    "    return -(RSS + 2 * p * sigma2) / n \n"
   ]
  },
  {
   "cell_type": "markdown",
   "id": "c37b9aed",
   "metadata": {},
   "source": [
    "We need to estimate the residual variance $\\sigma^2$, which is the first argument in our scoring function above.\n",
    "We will fit the biggest model, using all the variables, and estimate $\\sigma^2$ based on its MSE."
   ]
  },
  {
   "cell_type": "code",
   "execution_count": 20,
   "id": "2b85c1d6",
   "metadata": {
    "tags": []
   },
   "outputs": [],
   "source": [
    "design = MS(Hitters.columns.drop('Salary')).fit(Hitters)\n",
    "Y = np.array(Hitters['Salary'])\n",
    "X = design.transform(Hitters)\n",
    "sigma2 = OLS(Y,X).fit().scale\n"
   ]
  },
  {
   "cell_type": "markdown",
   "id": "e8b97efd",
   "metadata": {},
   "source": [
    "The function `sklearn_selected()` expects a scorer with just three arguments --- the last three in the definition of `nCp()` above. The first\n",
    "argument which specify the model will not change, and we would like to freeze them. The function` partial()` from the `partial() functools` module does precisely this: it takes a function as an argument, and freezes some of its arguments, starting from the left. We use it to freeze the first  argument with our estimate of $\\sigma^2$."
   ]
  },
  {
   "cell_type": "code",
   "execution_count": 21,
   "id": "7c6f93c0",
   "metadata": {
    "lines_to_next_cell": 0,
    "tags": []
   },
   "outputs": [],
   "source": [
    "neg_Cp = partial(nCp, sigma2)\n"
   ]
  },
  {
   "cell_type": "markdown",
   "id": "392e5247",
   "metadata": {},
   "source": [
    "We can now use `neg_Cp()` as a scorer for model selection.\n"
   ]
  },
  {
   "cell_type": "markdown",
   "id": "47461c19",
   "metadata": {},
   "source": [
    "Along with a score we need to specify the search strategy. This is done through the object\n",
    "`Stepwise()`  in the `ISLP.models` package. The method `Stepwise.first_peak()`\n",
    "runs forward stepwise until any further additions to the model do not result\n",
    "in an improvement in the evaluation score. Similarly, the method `Stepwise.fixed_steps()`\n",
    "runs a fixed number of steps of stepwise search."
   ]
  },
  {
   "cell_type": "code",
   "execution_count": 22,
   "id": "4b0d8d44",
   "metadata": {
    "tags": []
   },
   "outputs": [],
   "source": [
    "strategy = Stepwise.first_peak(design,\n",
    "                               direction='forward',\n",
    "                               max_terms=len(design.terms))\n"
   ]
  },
  {
   "cell_type": "markdown",
   "id": "0f8a2102",
   "metadata": {},
   "source": [
    "We now fit a linear regression model with `Salary` as outcome using forward\n",
    "selection. To do so, we use the function `sklearn_selected()`  from the `ISLP.models` package. This takes\n",
    "a model from `statsmodels` along with a search strategy and selects a model with its\n",
    "`fit` method. Without specifying a `scoring` argument, the score defaults to MSE, and so all 19 variables will be\n",
    "selected."
   ]
  },
  {
   "cell_type": "code",
   "execution_count": 23,
   "id": "6d3c1d1f",
   "metadata": {
    "tags": []
   },
   "outputs": [
    {
     "data": {
      "text/plain": [
       "('Assists',\n",
       " 'AtBat',\n",
       " 'CAtBat',\n",
       " 'CHits',\n",
       " 'CHmRun',\n",
       " 'CRBI',\n",
       " 'CRuns',\n",
       " 'CWalks',\n",
       " 'Division',\n",
       " 'Errors',\n",
       " 'Hits',\n",
       " 'HmRun',\n",
       " 'League',\n",
       " 'NewLeague',\n",
       " 'PutOuts',\n",
       " 'RBI',\n",
       " 'Runs',\n",
       " 'Walks',\n",
       " 'Years')"
      ]
     },
     "execution_count": 23,
     "metadata": {},
     "output_type": "execute_result"
    }
   ],
   "source": [
    "hitters_MSE = sklearn_selected(OLS,\n",
    "                               strategy)\n",
    "hitters_MSE.fit(Hitters, Y)\n",
    "hitters_MSE.selected_state_\n"
   ]
  },
  {
   "cell_type": "markdown",
   "id": "cf1ad8eb",
   "metadata": {},
   "source": [
    "Using `neg_Cp` results in a smaller model, as expected, with just 10 variables selected."
   ]
  },
  {
   "cell_type": "code",
   "execution_count": 24,
   "id": "5644971d",
   "metadata": {
    "tags": []
   },
   "outputs": [
    {
     "data": {
      "text/plain": [
       "('Assists',\n",
       " 'AtBat',\n",
       " 'CAtBat',\n",
       " 'CRBI',\n",
       " 'CRuns',\n",
       " 'CWalks',\n",
       " 'Division',\n",
       " 'Hits',\n",
       " 'PutOuts',\n",
       " 'Walks')"
      ]
     },
     "execution_count": 24,
     "metadata": {},
     "output_type": "execute_result"
    }
   ],
   "source": [
    "hitters_Cp = sklearn_selected(OLS,\n",
    "                               strategy,\n",
    "                               scoring=neg_Cp)\n",
    "hitters_Cp.fit(Hitters, Y)\n",
    "hitters_Cp.selected_state_\n"
   ]
  },
  {
   "cell_type": "markdown",
   "id": "1db8634e",
   "metadata": {},
   "source": [
    "### Choosing Among Models Using the Validation Set Approach and Cross-Validation\n",
    " \n",
    "As an  alternative to using $C_p$, we might try cross-validation to select a model in forward selection. For this, we need a\n",
    "method that stores the full path of models found in forward selection, and allows predictions for each of these. This can be done with the `sklearn_selection_path()` \n",
    "estimator from `ISLP.models`. The function `cross_val_predict()` from `ISLP.models`\n",
    "computes the cross-validated predictions for each of the models\n",
    "along the path, which we can use to evaluate the cross-validated MSE\n",
    "along the path."
   ]
  },
  {
   "cell_type": "markdown",
   "id": "08bdcec5",
   "metadata": {},
   "source": [
    "Here we define a strategy that fits the full forward selection path.\n",
    "While there are various parameter choices for `sklearn_selection_path()`,\n",
    "we use the defaults here, which selects the model at each step based on the biggest reduction  in RSS."
   ]
  },
  {
   "cell_type": "code",
   "execution_count": 25,
   "id": "23f47f58",
   "metadata": {
    "tags": []
   },
   "outputs": [],
   "source": [
    "strategy = Stepwise.fixed_steps(design,\n",
    "                                len(design.terms),\n",
    "                                direction='forward')\n",
    "full_path = sklearn_selection_path(OLS, strategy)\n"
   ]
  },
  {
   "cell_type": "markdown",
   "id": "63e94493",
   "metadata": {},
   "source": [
    "We now fit the full forward-selection path on the `Hitters` data and compute the fitted values."
   ]
  },
  {
   "cell_type": "code",
   "execution_count": 26,
   "id": "e8e0a90d",
   "metadata": {
    "lines_to_next_cell": 2,
    "tags": []
   },
   "outputs": [
    {
     "data": {
      "text/plain": [
       "(263, 20)"
      ]
     },
     "execution_count": 26,
     "metadata": {},
     "output_type": "execute_result"
    }
   ],
   "source": [
    "full_path.fit(Hitters, Y)\n",
    "Yhat_in = full_path.predict(Hitters)\n",
    "Yhat_in.shape\n"
   ]
  },
  {
   "cell_type": "markdown",
   "id": "36008ae0",
   "metadata": {},
   "source": [
    "This gives us an array of fitted values --- 20 steps in all, including the fitted mean for the null model --- which we can use to evaluate\n",
    "in-sample MSE. As expected, the in-sample MSE improves each step we take,\n",
    "indicating we must use either the validation or cross-validation\n",
    "approach to select the number of steps. We fix the y-axis to range from\n",
    "50,000 to 250,000 to compare to the cross-validation and validation\n",
    "set MSE below, as well as other methods such as ridge regression, lasso and\n",
    "principal components regression."
   ]
  },
  {
   "cell_type": "code",
   "execution_count": 27,
   "id": "4e44d7ad",
   "metadata": {
    "lines_to_next_cell": 0,
    "tags": []
   },
   "outputs": [
    {
     "data": {
      "image/png": "[encoded data removed]",
      "text/plain": [
       "<Figure size 576x576 with 1 Axes>"
      ]
     },
     "metadata": {
      "needs_background": "light"
     },
     "output_type": "display_data"
    }
   ],
   "source": [
    "mse_fig, ax = subplots(figsize=(8,8))\n",
    "insample_mse = ((Yhat_in - Y[:,None])**2).mean(0)\n",
    "n_steps = insample_mse.shape[0]\n",
    "ax.plot(np.arange(n_steps),\n",
    "        insample_mse,\n",
    "        'k', # color black\n",
    "        label='In-sample')\n",
    "ax.set_ylabel('MSE',\n",
    "              fontsize=20)\n",
    "ax.set_xlabel('# steps of forward stepwise',\n",
    "              fontsize=20)\n",
    "ax.set_xticks(np.arange(n_steps)[::2])\n",
    "ax.legend()\n",
    "ax.set_ylim([50000,250000]);\n"
   ]
  },
  {
   "cell_type": "markdown",
   "id": "f0113aa5",
   "metadata": {},
   "source": [
    "Notice the expression `None` in `Y[:,None]` above.\n",
    "This adds an axis (dimension) to the one-dimensional array `Y`,\n",
    "which allows it to be recycled when subtracted from the two-dimensional `Yhat_in`."
   ]
  },
  {
   "cell_type": "markdown",
   "id": "e3daf6ac",
   "metadata": {},
   "source": [
    "We are now ready to use cross-validation to estimate test error along\n",
    "the model path. We must use *only the training observations* to perform all aspects of model-fitting --- including\n",
    "variable selection.  Therefore, the determination of which model of a\n",
    "given size is best must be made using **only the training observations** in each training fold. This point is subtle but important.  If the full data\n",
    "set is used to select the best subset at each step, then the validation set errors and cross-validation errors that we obtain will not be\n",
    "accurate estimates of the test error.\n",
    "\n",
    "We now compute the cross-validated predicted values using 5-fold cross-validation."
   ]
  },
  {
   "cell_type": "code",
   "execution_count": 28,
   "id": "c8b63bdf",
   "metadata": {
    "lines_to_next_cell": 0,
    "tags": []
   },
   "outputs": [
    {
     "data": {
      "text/plain": [
       "(263, 20)"
      ]
     },
     "execution_count": 28,
     "metadata": {},
     "output_type": "execute_result"
    }
   ],
   "source": [
    "K = 5\n",
    "kfold = skm.KFold(K,\n",
    "                  random_state=0,\n",
    "                  shuffle=True)\n",
    "Yhat_cv = skm.cross_val_predict(full_path,\n",
    "                                Hitters,\n",
    "                                Y,\n",
    "                                cv=kfold)\n",
    "Yhat_cv.shape\n"
   ]
  },
  {
   "cell_type": "markdown",
   "id": "734ebc1a",
   "metadata": {},
   "source": [
    "`skm.cross_val_predict()`\n",
    "The prediction matrix `Yhat_cv` is the same shape as `Yhat_in`; the difference is that the predictions in each row, corresponding to a particular sample index, were made from models fit on a training fold that did not include that row.\n",
    "\n",
    "At each model along the path, we compute the MSE in each of the cross-validation folds.\n",
    "These we will average to get the  mean MSE, and can also use the individual values to compute a crude estimate of the standard error of the mean. *The estimate is crude because the five error estimates  are based on overlapping training sets, and hence are not independent.*\n",
    "Hence we must know the test indices for each cross-validation\n",
    "split. This can be found by using the `split()` method of `kfold`. Because\n",
    "we  fixed the random state above, whenever we split any array with the same\n",
    "number of rows as $Y$ we recover the same training and test indices, though we simply\n",
    "ignore the training indices below."
   ]
  },
  {
   "cell_type": "code",
   "execution_count": 29,
   "id": "c2a5b743",
   "metadata": {
    "tags": []
   },
   "outputs": [
    {
     "data": {
      "text/plain": [
       "(20, 5)"
      ]
     },
     "execution_count": 29,
     "metadata": {},
     "output_type": "execute_result"
    }
   ],
   "source": [
    "cv_mse = []\n",
    "for train_idx, test_idx in kfold.split(Y):\n",
    "    errors = (Yhat_cv[test_idx] - Y[test_idx,None])**2\n",
    "    cv_mse.append(errors.mean(0)) # column means\n",
    "cv_mse = np.array(cv_mse).T\n",
    "cv_mse.shape\n"
   ]
  },
  {
   "cell_type": "markdown",
   "id": "eeace224",
   "metadata": {},
   "source": [
    "We now add the cross-validation error estimates to our MSE plot.\n",
    "We include the mean error across the five folds, and the estimate of the standard error of the mean. "
   ]
  },
  {
   "cell_type": "code",
   "execution_count": 30,
   "id": "678b6284",
   "metadata": {
    "tags": []
   },
   "outputs": [
    {
     "data": {
      "image/png": "[encoded data removed]",
      "text/plain": [
       "<Figure size 576x576 with 1 Axes>"
      ]
     },
     "execution_count": 30,
     "metadata": {},
     "output_type": "execute_result"
    }
   ],
   "source": [
    "ax.errorbar(np.arange(n_steps), \n",
    "            cv_mse.mean(1),\n",
    "            cv_mse.std(1) / np.sqrt(K),\n",
    "            label='Cross-validated',\n",
    "            c='r') # color red\n",
    "ax.set_ylim([50000,250000])\n",
    "ax.legend()\n",
    "mse_fig\n"
   ]
  },
  {
   "cell_type": "markdown",
   "id": "5e27d9a1",
   "metadata": {},
   "source": [
    "To repeat the above using the validation set approach, we simply change our\n",
    "`cv` argument to a validation set: one random split of the data into a test and training. We choose a test size\n",
    "of 20%, similar to the size of each test set in 5-fold cross-validation.`skm.ShuffleSplit()`"
   ]
  },
  {
   "cell_type": "code",
   "execution_count": 31,
   "id": "f55f5449",
   "metadata": {
    "lines_to_next_cell": 0,
    "tags": []
   },
   "outputs": [],
   "source": [
    "validation = skm.ShuffleSplit(n_splits=1, \n",
    "                              test_size=0.2,\n",
    "                              random_state=0)\n",
    "for train_idx, test_idx in validation.split(Y):\n",
    "    full_path.fit(Hitters.iloc[train_idx],\n",
    "                  Y[train_idx])\n",
    "    Yhat_val = full_path.predict(Hitters.iloc[test_idx])\n",
    "    errors = (Yhat_val - Y[test_idx,None])**2\n",
    "    validation_mse = errors.mean(0)\n"
   ]
  },
  {
   "cell_type": "markdown",
   "id": "b778cde1",
   "metadata": {},
   "source": [
    " As for the in-sample MSE case, the validation set approach does not provide standard errors."
   ]
  },
  {
   "cell_type": "code",
   "execution_count": 32,
   "id": "791c91cf",
   "metadata": {
    "lines_to_next_cell": 2,
    "tags": []
   },
   "outputs": [
    {
     "data": {
      "image/png": "[encoded data removed]",
      "text/plain": [
       "<Figure size 576x576 with 1 Axes>"
      ]
     },
     "execution_count": 32,
     "metadata": {},
     "output_type": "execute_result"
    }
   ],
   "source": [
    "ax.plot(np.arange(n_steps), \n",
    "        validation_mse,\n",
    "        'b--', # color blue, broken line\n",
    "        label='Validation')\n",
    "ax.set_xticks(np.arange(n_steps)[::2])\n",
    "ax.set_ylim([50000,250000])\n",
    "ax.legend()\n",
    "mse_fig\n"
   ]
  },
  {
   "cell_type": "markdown",
   "id": "13144579",
   "metadata": {},
   "source": [
    "### Best Subset Selection\n",
    "Forward stepwise is a *greedy* selection procedure; at each step it augments the current set by including one additional variable.  We now apply best subset selection  to the  `Hitters` \n",
    "data, which for every subset size, searches for the best set of predictors.  \n",
    "\n",
    "We will use a package called `l0bnb` to perform\n",
    "best subset selection.\n",
    "Instead of constraining the subset to be a given size,\n",
    "this package produces a path of solutions using the subset size as a\n",
    "penalty rather than a constraint. Although the distinction is subtle, the difference comes when we cross-validate. \n"
   ]
  },
  {
   "cell_type": "code",
   "execution_count": 33,
   "id": "2c796192",
   "metadata": {
    "lines_to_next_cell": 0,
    "tags": []
   },
   "outputs": [],
   "source": [
    "D = design.fit_transform(Hitters)\n",
    "D = D.drop('intercept', axis=1)\n",
    "X = np.asarray(D)\n"
   ]
  },
  {
   "cell_type": "markdown",
   "id": "95a3f639",
   "metadata": {},
   "source": [
    "Here we excluded the first column corresponding to the intercept, as\n",
    "`l0bnb` will fit the intercept separately. We can find a path using the `fit_path()` function."
   ]
  },
  {
   "cell_type": "code",
   "execution_count": 34,
   "id": "abb9e7ac",
   "metadata": {
    "tags": []
   },
   "outputs": [
    {
     "name": "stdout",
     "output_type": "stream",
     "text": [
      "Preprocessing Data.\n",
      "BnB Started.\n",
      "Iteration: 1. Number of non-zeros:  1\n",
      "Iteration: 2. Number of non-zeros:  2\n",
      "Iteration: 3. Number of non-zeros:  2\n",
      "Iteration: 4. Number of non-zeros:  2\n",
      "Iteration: 5. Number of non-zeros:  3\n",
      "Iteration: 6. Number of non-zeros:  3\n",
      "Iteration: 7. Number of non-zeros:  4\n",
      "Iteration: 8. Number of non-zeros:  9\n",
      "Iteration: 9. Number of non-zeros:  9\n",
      "Iteration: 10. Number of non-zeros:  9\n",
      "Iteration: 11. Number of non-zeros:  9\n",
      "Iteration: 12. Number of non-zeros:  9\n",
      "Iteration: 13. Number of non-zeros:  9\n",
      "Iteration: 14. Number of non-zeros:  9\n",
      "Iteration: 15. Number of non-zeros:  9\n",
      "Iteration: 16. Number of non-zeros:  9\n",
      "Iteration: 17. Number of non-zeros:  9\n",
      "Iteration: 18. Number of non-zeros:  17\n",
      "Iteration: 19. Number of non-zeros:  19\n"
     ]
    }
   ],
   "source": [
    "path = fit_path(X, \n",
    "                Y,\n",
    "                max_nonzeros=X.shape[1])\n"
   ]
  },
  {
   "cell_type": "markdown",
   "id": "6c577e2a",
   "metadata": {},
   "source": [
    "The function `fit_path()` returns a list whose values include the fitted coefficients as `B`, an intercept as `B0`, as well as a few other attributes related to the particular path algorithm used. Such details are beyond the scope of this book."
   ]
  },
  {
   "cell_type": "code",
   "execution_count": 35,
   "id": "70f1c6c2",
   "metadata": {
    "lines_to_next_cell": 0,
    "tags": []
   },
   "outputs": [
    {
     "data": {
      "text/plain": [
       "{'B': array([0.        , 3.25484367, 0.        , 0.        , 0.        ,\n",
       "        0.        , 0.        , 0.        , 0.        , 0.        ,\n",
       "        0.        , 0.67775265, 0.        , 0.        , 0.        ,\n",
       "        0.        , 0.        , 0.        , 0.        ]),\n",
       " 'B0': -38.98216739555505,\n",
       " 'lambda_0': 0.011416248027450187,\n",
       " 'M': 0.5829861733382012,\n",
       " 'Time_exceeded': False}"
      ]
     },
     "execution_count": 35,
     "metadata": {},
     "output_type": "execute_result"
    }
   ],
   "source": [
    "path[3]\n"
   ]
  },
  {
   "cell_type": "markdown",
   "id": "1882702b",
   "metadata": {},
   "source": [
    "In the example above, we see that at the fourth step in the path, we have two nonzero coefficients in `'B'`, corresponding to the value $0.0114$ for the penalty parameter `lambda_0`.\n",
    "We could make predictions using this sequence of fits on a validation set as a function of `lambda_0`, or with more work using cross-validation."
   ]
  },
  {
   "cell_type": "markdown",
   "id": "2e2a9e92-ab9d-47db-ba16-28440e0b0365",
   "metadata": {},
   "source": [
    "## Shrinkage methods\n",
    "\n",
    "Model selection methods constrained the number of varaibles *before* running a linear regression. Shrinkage methods try to do both simultaneously. In particular they penalize high values of the parameters in the objective functiosn resulting in shrunken coefficients.\n",
    "\n",
    "We will use the `sklearn.linear_model` package (for which\n",
    "we use `skl` as shorthand below)\n",
    "to fit ridge and  lasso regularized linear models on the `Hitters` data.\n",
    "We start with the model matrix `X` (without an intercept) that we computed in the previous section on best subset regression.\n",
    "\n",
    "### Ridge Regression\n",
    "\n",
    "Recall that the Ridge Regression objective function is: \n",
    "$$ \\hat{\\beta}^{R}= arg min_{\\beta} \\sum_{i=1}^{n}(y_{i} - \\beta_{0} - \\sum_{j=1}^{p} \\beta_{j}x_{ij})^2 + \\lambda \\sum_{j=1}^p \\beta^{2}_{j}  = RSS + \\lambda \\sum_{j=1}^p \\beta^{2}_{j} $$\n",
    "with $\\lambda>0$ is a tuning parameter regulating the penalties applied on large parameter.\n",
    "\n",
    "\n",
    "We will use the function `skl.ElasticNet()` to fit both  ridge and the lasso.\n",
    "To fit a *path* of ridge regressions models, we use\n",
    "`skl.ElasticNet.path()`, which can fit both ridge and lasso, as well as a hybrid mixture;  ridge regression\n",
    "corresponds to `l1_ratio=0`.\n",
    "It is good practice to standardize the columns of `X` in these applications, why? The main reason is that if variables are measured in different units, those with higher values could be perceived as having higher contributions to the model while it is not the case. Since `skl.ElasticNet()` **does not normalization**, we have to take care of that ourselves.\n",
    "\n",
    "Since we standardize first, in order to find coefficient\n",
    "estimates on the original scale, we must *unstandardize*\n",
    "the coefficient estimates. The parameter $\\lambda$ in $RSS + \\lambda \\sum^{p}_{j=1}\\beta^{2}_{j}$ (Ridge 6.5) and $RSS + \\lambda \\sum^{p}_{j=1}| \\beta_{j}| $ (Lasso 6.7) is called `alphas` in `sklearn`. In order to\n",
    "be consistent with the rest of this chapter, we use `lambdas`\n",
    "rather than `alphas` in what follows. "
   ]
  },
  {
   "cell_type": "code",
   "execution_count": 36,
   "id": "9f1fc533",
   "metadata": {
    "lines_to_next_cell": 0,
    "tags": []
   },
   "outputs": [
    {
     "data": {
      "text/plain": [
       "(19, 100)"
      ]
     },
     "execution_count": 36,
     "metadata": {},
     "output_type": "execute_result"
    }
   ],
   "source": [
    "#Standardize in the first 3 rows\n",
    "Xs = X - X.mean(0)[None,:]\n",
    "X_scale = X.std(0)\n",
    "Xs = Xs / X_scale[None,:]\n",
    "#Compute the lambdas\n",
    "lambdas = 10**np.linspace(8, -2, 100) / Y.std()\n",
    "#Apply ridge regression\n",
    "soln_array = skl.ElasticNet.path(Xs,\n",
    "                                 Y,\n",
    "                                 l1_ratio=0.,\n",
    "                                 alphas=lambdas)[1]\n",
    "soln_array.shape\n"
   ]
  },
  {
   "cell_type": "markdown",
   "id": "cefe307b",
   "metadata": {},
   "source": [
    "Here we extract the array of coefficients corresponding to the solutions along the regularization path.\n",
    "\n",
    "By default the `skl.ElasticNet.path` method fits a path along\n",
    "an automatically selected range of $\\lambda$ values, except for the case when\n",
    "`l1_ratio=0`, which results in ridge regression (as is the case here). {The reason is rather technical; for all models except ridge, we can find the smallest value of $\\lambda$ for which all coefficients are zero. For ridge this value is $\\infty$.}  \n",
    "\n",
    "So here we have chosen to implement the function over a grid of values ranging\n",
    "from $\\lambda=10^{8}$ to $\\lambda=10^{-2}$ scaled by the standard\n",
    "deviation of $y$, essentially covering the full range of scenarios\n",
    "from the null model containing only the intercept, to the least\n",
    "squares fit.\n",
    "\n",
    "Associated with each value of $\\lambda$ is a vector of ridge\n",
    "regression coefficients,   that can be accessed by\n",
    "a column of `soln_array`. In this case, `soln_array` is a $19 \\times 100$ matrix, with\n",
    "19 rows (one for each predictor) and 100\n",
    "columns (one for each value of $\\lambda$).\n",
    "\n",
    "We transpose this matrix and turn it into a data frame to facilitate viewing and plotting."
   ]
  },
  {
   "cell_type": "code",
   "execution_count": 38,
   "id": "642287d1",
   "metadata": {
    "tags": []
   },
   "outputs": [
    {
     "data": {
      "text/html": [
       "<div>\n",
       "<style scoped>\n",
       "    .dataframe tbody tr th:only-of-type {\n",
       "        vertical-align: middle;\n",
       "    }\n",
       "\n",
       "    .dataframe tbody tr th {\n",
       "        vertical-align: top;\n",
       "    }\n",
       "\n",
       "    .dataframe thead th {\n",
       "        text-align: right;\n",
       "    }\n",
       "</style>\n",
       "<table border=\"1\" class=\"dataframe\">\n",
       "  <thead>\n",
       "    <tr style=\"text-align: right;\">\n",
       "      <th></th>\n",
       "      <th>AtBat</th>\n",
       "      <th>Hits</th>\n",
       "      <th>HmRun</th>\n",
       "      <th>Runs</th>\n",
       "      <th>RBI</th>\n",
       "      <th>Walks</th>\n",
       "      <th>Years</th>\n",
       "      <th>CAtBat</th>\n",
       "      <th>CHits</th>\n",
       "      <th>CHmRun</th>\n",
       "      <th>CRuns</th>\n",
       "      <th>CRBI</th>\n",
       "      <th>CWalks</th>\n",
       "      <th>League[N]</th>\n",
       "      <th>Division[W]</th>\n",
       "      <th>PutOuts</th>\n",
       "      <th>Assists</th>\n",
       "      <th>Errors</th>\n",
       "      <th>NewLeague[N]</th>\n",
       "    </tr>\n",
       "    <tr>\n",
       "      <th>negative log(lambda)</th>\n",
       "      <th></th>\n",
       "      <th></th>\n",
       "      <th></th>\n",
       "      <th></th>\n",
       "      <th></th>\n",
       "      <th></th>\n",
       "      <th></th>\n",
       "      <th></th>\n",
       "      <th></th>\n",
       "      <th></th>\n",
       "      <th></th>\n",
       "      <th></th>\n",
       "      <th></th>\n",
       "      <th></th>\n",
       "      <th></th>\n",
       "      <th></th>\n",
       "      <th></th>\n",
       "      <th></th>\n",
       "      <th></th>\n",
       "    </tr>\n",
       "  </thead>\n",
       "  <tbody>\n",
       "    <tr>\n",
       "      <th>-12.310855</th>\n",
       "      <td>0.000800</td>\n",
       "      <td>0.000889</td>\n",
       "      <td>0.000695</td>\n",
       "      <td>0.000851</td>\n",
       "      <td>0.000911</td>\n",
       "      <td>0.000900</td>\n",
       "      <td>0.000812</td>\n",
       "      <td>0.001067</td>\n",
       "      <td>0.001113</td>\n",
       "      <td>0.001064</td>\n",
       "      <td>0.001141</td>\n",
       "      <td>0.001149</td>\n",
       "      <td>0.000993</td>\n",
       "      <td>-0.000029</td>\n",
       "      <td>-0.000390</td>\n",
       "      <td>0.000609</td>\n",
       "      <td>0.000052</td>\n",
       "      <td>-0.000011</td>\n",
       "      <td>-0.000006</td>\n",
       "    </tr>\n",
       "    <tr>\n",
       "      <th>-12.078271</th>\n",
       "      <td>0.001010</td>\n",
       "      <td>0.001122</td>\n",
       "      <td>0.000878</td>\n",
       "      <td>0.001074</td>\n",
       "      <td>0.001150</td>\n",
       "      <td>0.001135</td>\n",
       "      <td>0.001025</td>\n",
       "      <td>0.001346</td>\n",
       "      <td>0.001404</td>\n",
       "      <td>0.001343</td>\n",
       "      <td>0.001439</td>\n",
       "      <td>0.001450</td>\n",
       "      <td>0.001253</td>\n",
       "      <td>-0.000037</td>\n",
       "      <td>-0.000492</td>\n",
       "      <td>0.000769</td>\n",
       "      <td>0.000065</td>\n",
       "      <td>-0.000014</td>\n",
       "      <td>-0.000007</td>\n",
       "    </tr>\n",
       "    <tr>\n",
       "      <th>-11.845686</th>\n",
       "      <td>0.001274</td>\n",
       "      <td>0.001416</td>\n",
       "      <td>0.001107</td>\n",
       "      <td>0.001355</td>\n",
       "      <td>0.001451</td>\n",
       "      <td>0.001433</td>\n",
       "      <td>0.001293</td>\n",
       "      <td>0.001698</td>\n",
       "      <td>0.001772</td>\n",
       "      <td>0.001694</td>\n",
       "      <td>0.001816</td>\n",
       "      <td>0.001830</td>\n",
       "      <td>0.001581</td>\n",
       "      <td>-0.000046</td>\n",
       "      <td>-0.000621</td>\n",
       "      <td>0.000970</td>\n",
       "      <td>0.000082</td>\n",
       "      <td>-0.000017</td>\n",
       "      <td>-0.000009</td>\n",
       "    </tr>\n",
       "    <tr>\n",
       "      <th>-11.613102</th>\n",
       "      <td>0.001608</td>\n",
       "      <td>0.001787</td>\n",
       "      <td>0.001397</td>\n",
       "      <td>0.001710</td>\n",
       "      <td>0.001831</td>\n",
       "      <td>0.001808</td>\n",
       "      <td>0.001632</td>\n",
       "      <td>0.002143</td>\n",
       "      <td>0.002236</td>\n",
       "      <td>0.002138</td>\n",
       "      <td>0.002292</td>\n",
       "      <td>0.002309</td>\n",
       "      <td>0.001995</td>\n",
       "      <td>-0.000058</td>\n",
       "      <td>-0.000784</td>\n",
       "      <td>0.001224</td>\n",
       "      <td>0.000104</td>\n",
       "      <td>-0.000022</td>\n",
       "      <td>-0.000012</td>\n",
       "    </tr>\n",
       "    <tr>\n",
       "      <th>-11.380518</th>\n",
       "      <td>0.002029</td>\n",
       "      <td>0.002255</td>\n",
       "      <td>0.001763</td>\n",
       "      <td>0.002158</td>\n",
       "      <td>0.002310</td>\n",
       "      <td>0.002281</td>\n",
       "      <td>0.002059</td>\n",
       "      <td>0.002704</td>\n",
       "      <td>0.002821</td>\n",
       "      <td>0.002698</td>\n",
       "      <td>0.002892</td>\n",
       "      <td>0.002914</td>\n",
       "      <td>0.002517</td>\n",
       "      <td>-0.000073</td>\n",
       "      <td>-0.000990</td>\n",
       "      <td>0.001544</td>\n",
       "      <td>0.000131</td>\n",
       "      <td>-0.000028</td>\n",
       "      <td>-0.000015</td>\n",
       "    </tr>\n",
       "    <tr>\n",
       "      <th>...</th>\n",
       "      <td>...</td>\n",
       "      <td>...</td>\n",
       "      <td>...</td>\n",
       "      <td>...</td>\n",
       "      <td>...</td>\n",
       "      <td>...</td>\n",
       "      <td>...</td>\n",
       "      <td>...</td>\n",
       "      <td>...</td>\n",
       "      <td>...</td>\n",
       "      <td>...</td>\n",
       "      <td>...</td>\n",
       "      <td>...</td>\n",
       "      <td>...</td>\n",
       "      <td>...</td>\n",
       "      <td>...</td>\n",
       "      <td>...</td>\n",
       "      <td>...</td>\n",
       "      <td>...</td>\n",
       "    </tr>\n",
       "    <tr>\n",
       "      <th>9.784658</th>\n",
       "      <td>-290.823989</td>\n",
       "      <td>336.929968</td>\n",
       "      <td>37.322686</td>\n",
       "      <td>-59.748520</td>\n",
       "      <td>-26.507086</td>\n",
       "      <td>134.855915</td>\n",
       "      <td>-17.216195</td>\n",
       "      <td>-387.775826</td>\n",
       "      <td>89.573601</td>\n",
       "      <td>-12.273926</td>\n",
       "      <td>476.079273</td>\n",
       "      <td>257.271255</td>\n",
       "      <td>-213.124780</td>\n",
       "      <td>31.258215</td>\n",
       "      <td>-58.457857</td>\n",
       "      <td>78.761266</td>\n",
       "      <td>53.622113</td>\n",
       "      <td>-22.208456</td>\n",
       "      <td>-12.402891</td>\n",
       "    </tr>\n",
       "    <tr>\n",
       "      <th>10.017243</th>\n",
       "      <td>-290.879272</td>\n",
       "      <td>337.113713</td>\n",
       "      <td>37.431373</td>\n",
       "      <td>-59.916820</td>\n",
       "      <td>-26.606957</td>\n",
       "      <td>134.900549</td>\n",
       "      <td>-17.108041</td>\n",
       "      <td>-388.458404</td>\n",
       "      <td>89.000707</td>\n",
       "      <td>-12.661459</td>\n",
       "      <td>477.031349</td>\n",
       "      <td>257.966790</td>\n",
       "      <td>-213.280891</td>\n",
       "      <td>31.256434</td>\n",
       "      <td>-58.448850</td>\n",
       "      <td>78.761240</td>\n",
       "      <td>53.645147</td>\n",
       "      <td>-22.198802</td>\n",
       "      <td>-12.391969</td>\n",
       "    </tr>\n",
       "    <tr>\n",
       "      <th>10.249827</th>\n",
       "      <td>-290.923382</td>\n",
       "      <td>337.260446</td>\n",
       "      <td>37.518064</td>\n",
       "      <td>-60.051166</td>\n",
       "      <td>-26.686604</td>\n",
       "      <td>134.936136</td>\n",
       "      <td>-17.022194</td>\n",
       "      <td>-388.997470</td>\n",
       "      <td>88.537380</td>\n",
       "      <td>-12.971603</td>\n",
       "      <td>477.791860</td>\n",
       "      <td>258.523025</td>\n",
       "      <td>-213.405740</td>\n",
       "      <td>31.254958</td>\n",
       "      <td>-58.441682</td>\n",
       "      <td>78.761230</td>\n",
       "      <td>53.663357</td>\n",
       "      <td>-22.191071</td>\n",
       "      <td>-12.383205</td>\n",
       "    </tr>\n",
       "    <tr>\n",
       "      <th>10.482412</th>\n",
       "      <td>-290.958537</td>\n",
       "      <td>337.377455</td>\n",
       "      <td>37.587122</td>\n",
       "      <td>-60.158256</td>\n",
       "      <td>-26.750044</td>\n",
       "      <td>134.964477</td>\n",
       "      <td>-16.954081</td>\n",
       "      <td>-389.423414</td>\n",
       "      <td>88.164178</td>\n",
       "      <td>-13.219329</td>\n",
       "      <td>478.398404</td>\n",
       "      <td>258.967059</td>\n",
       "      <td>-213.505412</td>\n",
       "      <td>31.253747</td>\n",
       "      <td>-58.435983</td>\n",
       "      <td>78.761230</td>\n",
       "      <td>53.677759</td>\n",
       "      <td>-22.184893</td>\n",
       "      <td>-12.376191</td>\n",
       "    </tr>\n",
       "    <tr>\n",
       "      <th>10.714996</th>\n",
       "      <td>-290.986528</td>\n",
       "      <td>337.470648</td>\n",
       "      <td>37.642077</td>\n",
       "      <td>-60.243522</td>\n",
       "      <td>-26.800522</td>\n",
       "      <td>134.987027</td>\n",
       "      <td>-16.900054</td>\n",
       "      <td>-389.760135</td>\n",
       "      <td>87.864551</td>\n",
       "      <td>-13.416889</td>\n",
       "      <td>478.881540</td>\n",
       "      <td>259.321007</td>\n",
       "      <td>-213.584869</td>\n",
       "      <td>31.252760</td>\n",
       "      <td>-58.431454</td>\n",
       "      <td>78.761235</td>\n",
       "      <td>53.689152</td>\n",
       "      <td>-22.179964</td>\n",
       "      <td>-12.370587</td>\n",
       "    </tr>\n",
       "  </tbody>\n",
       "</table>\n",
       "<p>100 rows × 19 columns</p>\n",
       "</div>"
      ],
      "text/plain": [
       "                           AtBat        Hits      HmRun       Runs        RBI  \\\n",
       "negative log(lambda)                                                            \n",
       "-12.310855              0.000800    0.000889   0.000695   0.000851   0.000911   \n",
       "-12.078271              0.001010    0.001122   0.000878   0.001074   0.001150   \n",
       "-11.845686              0.001274    0.001416   0.001107   0.001355   0.001451   \n",
       "-11.613102              0.001608    0.001787   0.001397   0.001710   0.001831   \n",
       "-11.380518              0.002029    0.002255   0.001763   0.002158   0.002310   \n",
       "...                          ...         ...        ...        ...        ...   \n",
       " 9.784658            -290.823989  336.929968  37.322686 -59.748520 -26.507086   \n",
       " 10.017243           -290.879272  337.113713  37.431373 -59.916820 -26.606957   \n",
       " 10.249827           -290.923382  337.260446  37.518064 -60.051166 -26.686604   \n",
       " 10.482412           -290.958537  337.377455  37.587122 -60.158256 -26.750044   \n",
       " 10.714996           -290.986528  337.470648  37.642077 -60.243522 -26.800522   \n",
       "\n",
       "                           Walks      Years      CAtBat      CHits     CHmRun  \\\n",
       "negative log(lambda)                                                            \n",
       "-12.310855              0.000900   0.000812    0.001067   0.001113   0.001064   \n",
       "-12.078271              0.001135   0.001025    0.001346   0.001404   0.001343   \n",
       "-11.845686              0.001433   0.001293    0.001698   0.001772   0.001694   \n",
       "-11.613102              0.001808   0.001632    0.002143   0.002236   0.002138   \n",
       "-11.380518              0.002281   0.002059    0.002704   0.002821   0.002698   \n",
       "...                          ...        ...         ...        ...        ...   \n",
       " 9.784658             134.855915 -17.216195 -387.775826  89.573601 -12.273926   \n",
       " 10.017243            134.900549 -17.108041 -388.458404  89.000707 -12.661459   \n",
       " 10.249827            134.936136 -17.022194 -388.997470  88.537380 -12.971603   \n",
       " 10.482412            134.964477 -16.954081 -389.423414  88.164178 -13.219329   \n",
       " 10.714996            134.987027 -16.900054 -389.760135  87.864551 -13.416889   \n",
       "\n",
       "                           CRuns        CRBI      CWalks  League[N]  \\\n",
       "negative log(lambda)                                                  \n",
       "-12.310855              0.001141    0.001149    0.000993  -0.000029   \n",
       "-12.078271              0.001439    0.001450    0.001253  -0.000037   \n",
       "-11.845686              0.001816    0.001830    0.001581  -0.000046   \n",
       "-11.613102              0.002292    0.002309    0.001995  -0.000058   \n",
       "-11.380518              0.002892    0.002914    0.002517  -0.000073   \n",
       "...                          ...         ...         ...        ...   \n",
       " 9.784658             476.079273  257.271255 -213.124780  31.258215   \n",
       " 10.017243            477.031349  257.966790 -213.280891  31.256434   \n",
       " 10.249827            477.791860  258.523025 -213.405740  31.254958   \n",
       " 10.482412            478.398404  258.967059 -213.505412  31.253747   \n",
       " 10.714996            478.881540  259.321007 -213.584869  31.252760   \n",
       "\n",
       "                      Division[W]    PutOuts    Assists     Errors  \\\n",
       "negative log(lambda)                                                 \n",
       "-12.310855              -0.000390   0.000609   0.000052  -0.000011   \n",
       "-12.078271              -0.000492   0.000769   0.000065  -0.000014   \n",
       "-11.845686              -0.000621   0.000970   0.000082  -0.000017   \n",
       "-11.613102              -0.000784   0.001224   0.000104  -0.000022   \n",
       "-11.380518              -0.000990   0.001544   0.000131  -0.000028   \n",
       "...                           ...        ...        ...        ...   \n",
       " 9.784658              -58.457857  78.761266  53.622113 -22.208456   \n",
       " 10.017243             -58.448850  78.761240  53.645147 -22.198802   \n",
       " 10.249827             -58.441682  78.761230  53.663357 -22.191071   \n",
       " 10.482412             -58.435983  78.761230  53.677759 -22.184893   \n",
       " 10.714996             -58.431454  78.761235  53.689152 -22.179964   \n",
       "\n",
       "                      NewLeague[N]  \n",
       "negative log(lambda)                \n",
       "-12.310855               -0.000006  \n",
       "-12.078271               -0.000007  \n",
       "-11.845686               -0.000009  \n",
       "-11.613102               -0.000012  \n",
       "-11.380518               -0.000015  \n",
       "...                            ...  \n",
       " 9.784658               -12.402891  \n",
       " 10.017243              -12.391969  \n",
       " 10.249827              -12.383205  \n",
       " 10.482412              -12.376191  \n",
       " 10.714996              -12.370587  \n",
       "\n",
       "[100 rows x 19 columns]"
      ]
     },
     "execution_count": 38,
     "metadata": {},
     "output_type": "execute_result"
    }
   ],
   "source": [
    "soln_path = pd.DataFrame(soln_array.T,\n",
    "                         columns=D.columns,\n",
    "                         index=-np.log(lambdas))\n",
    "soln_path.index.name = 'negative log(lambda)'\n",
    "soln_path\n"
   ]
  },
  {
   "cell_type": "markdown",
   "id": "8e2a5cd7",
   "metadata": {},
   "source": [
    "We plot the paths to get a sense of how the coefficients vary with $\\lambda$.\n",
    "To control the location of the legend we first set `legend` to `False` in the\n",
    "plot method, adding it afterward with the `legend()` method of `ax`."
   ]
  },
  {
   "cell_type": "code",
   "execution_count": 39,
   "id": "734c1a05",
   "metadata": {
    "lines_to_next_cell": 0,
    "tags": []
   },
   "outputs": [
    {
     "data": {
      "image/png": "[encoded data removed]",
      "text/plain": [
       "<Figure size 576x576 with 1 Axes>"
      ]
     },
     "metadata": {
      "needs_background": "light"
     },
     "output_type": "display_data"
    }
   ],
   "source": [
    "path_fig, ax = subplots(figsize=(8,8))\n",
    "soln_path.plot(ax=ax, legend=False)\n",
    "ax.set_xlabel('$-\\log(\\lambda)$', fontsize=20)\n",
    "ax.set_ylabel('Standardized coefficients', fontsize=10)\n",
    "ax.legend(loc='upper left');\n"
   ]
  },
  {
   "cell_type": "markdown",
   "id": "75cfe676",
   "metadata": {},
   "source": [
    "(We have used `latex` formatting in the horizontal label, in order to format the Greek $\\lambda$ appropriately.) \n",
    "We expect the coefficient estimates to be much smaller, in terms of\n",
    "$\\ell_2$ norm, when a large value of $\\lambda$ is used, as compared to\n",
    "when a small value of $\\lambda$ is used. (Recall that the  $\\ell_2$ norm is the square root of the sum of squared coefficient values.) We display  the coefficients at the $40$th step,\n",
    "where $\\lambda$ is 25.535."
   ]
  },
  {
   "cell_type": "code",
   "execution_count": 40,
   "id": "5a55b76b",
   "metadata": {
    "tags": []
   },
   "outputs": [
    {
     "data": {
      "text/plain": [
       "(25.53538897200662,\n",
       " AtBat           5.433750\n",
       " Hits            6.223582\n",
       " HmRun           4.585498\n",
       " Runs            5.880855\n",
       " RBI             6.195921\n",
       " Walks           6.277975\n",
       " Years           5.299767\n",
       " CAtBat          7.147501\n",
       " CHits           7.539495\n",
       " CHmRun          7.182344\n",
       " CRuns           7.728649\n",
       " CRBI            7.790702\n",
       " CWalks          6.592901\n",
       " League[N]       0.042445\n",
       " Division[W]    -3.107159\n",
       " PutOuts         4.605263\n",
       " Assists         0.378371\n",
       " Errors         -0.135196\n",
       " NewLeague[N]    0.150323\n",
       " Name: -3.240065292879872, dtype: float64)"
      ]
     },
     "execution_count": 40,
     "metadata": {},
     "output_type": "execute_result"
    }
   ],
   "source": [
    "beta_hat = soln_path.loc[soln_path.index[39]]\n",
    "lambdas[39], beta_hat\n"
   ]
  },
  {
   "cell_type": "markdown",
   "id": "a8f4071c",
   "metadata": {},
   "source": [
    "Let’s compute the $\\ell_2$ norm of the standardized coefficients."
   ]
  },
  {
   "cell_type": "code",
   "execution_count": 43,
   "id": "cdbee899",
   "metadata": {
    "tags": []
   },
   "outputs": [
    {
     "data": {
      "text/plain": [
       "160.42371017725813"
      ]
     },
     "execution_count": 43,
     "metadata": {},
     "output_type": "execute_result"
    }
   ],
   "source": [
    "np.linalg.norm(beta_hat)\n"
   ]
  },
  {
   "cell_type": "markdown",
   "id": "2511270d",
   "metadata": {},
   "source": [
    "In contrast, here is the $\\ell_2$ norm when $\\lambda$ is 2.44e-01.\n",
    "Note the much larger $\\ell_2$ norm of the\n",
    "coefficients associated with this smaller value of $\\lambda$."
   ]
  },
  {
   "cell_type": "code",
   "execution_count": 44,
   "id": "23fe1cb5",
   "metadata": {
    "lines_to_next_cell": 0,
    "tags": []
   },
   "outputs": [
    {
     "data": {
      "text/plain": [
       "(0.24374766133488554, 160.42371017725813)"
      ]
     },
     "execution_count": 44,
     "metadata": {},
     "output_type": "execute_result"
    }
   ],
   "source": [
    "beta_hat = soln_path.loc[soln_path.index[59]]\n",
    "lambdas[59], np.linalg.norm(beta_hat)\n"
   ]
  },
  {
   "cell_type": "markdown",
   "id": "c610fcf7",
   "metadata": {},
   "source": [
    "Above we normalized `X` upfront, and fit the ridge model using `Xs`.\n",
    "The `Pipeline()`  object\n",
    "in `sklearn` provides a clear way to separate feature\n",
    "normalization from the fitting of the ridge model itself."
   ]
  },
  {
   "cell_type": "code",
   "execution_count": 45,
   "id": "fa46c4d0",
   "metadata": {
    "tags": []
   },
   "outputs": [
    {
     "data": {
      "text/html": [
       "<style>#sk-container-id-1 {color: black;background-color: white;}#sk-container-id-1 pre{padding: 0;}#sk-container-id-1 div.sk-toggleable {background-color: white;}#sk-container-id-1 label.sk-toggleable__label {cursor: pointer;display: block;width: 100%;margin-bottom: 0;padding: 0.3em;box-sizing: border-box;text-align: center;}#sk-container-id-1 label.sk-toggleable__label-arrow:before {content: \"▸\";float: left;margin-right: 0.25em;color: #696969;}#sk-container-id-1 label.sk-toggleable__label-arrow:hover:before {color: black;}#sk-container-id-1 div.sk-estimator:hover label.sk-toggleable__label-arrow:before {color: black;}#sk-container-id-1 div.sk-toggleable__content {max-height: 0;max-width: 0;overflow: hidden;text-align: left;background-color: #f0f8ff;}#sk-container-id-1 div.sk-toggleable__content pre {margin: 0.2em;color: black;border-radius: 0.25em;background-color: #f0f8ff;}#sk-container-id-1 input.sk-toggleable__control:checked~div.sk-toggleable__content {max-height: 200px;max-width: 100%;overflow: auto;}#sk-container-id-1 input.sk-toggleable__control:checked~label.sk-toggleable__label-arrow:before {content: \"▾\";}#sk-container-id-1 div.sk-estimator input.sk-toggleable__control:checked~label.sk-toggleable__label {background-color: #d4ebff;}#sk-container-id-1 div.sk-label input.sk-toggleable__control:checked~label.sk-toggleable__label {background-color: #d4ebff;}#sk-container-id-1 input.sk-hidden--visually {border: 0;clip: rect(1px 1px 1px 1px);clip: rect(1px, 1px, 1px, 1px);height: 1px;margin: -1px;overflow: hidden;padding: 0;position: absolute;width: 1px;}#sk-container-id-1 div.sk-estimator {font-family: monospace;background-color: #f0f8ff;border: 1px dotted black;border-radius: 0.25em;box-sizing: border-box;margin-bottom: 0.5em;}#sk-container-id-1 div.sk-estimator:hover {background-color: #d4ebff;}#sk-container-id-1 div.sk-parallel-item::after {content: \"\";width: 100%;border-bottom: 1px solid gray;flex-grow: 1;}#sk-container-id-1 div.sk-label:hover label.sk-toggleable__label {background-color: #d4ebff;}#sk-container-id-1 div.sk-serial::before {content: \"\";position: absolute;border-left: 1px solid gray;box-sizing: border-box;top: 0;bottom: 0;left: 50%;z-index: 0;}#sk-container-id-1 div.sk-serial {display: flex;flex-direction: column;align-items: center;background-color: white;padding-right: 0.2em;padding-left: 0.2em;position: relative;}#sk-container-id-1 div.sk-item {position: relative;z-index: 1;}#sk-container-id-1 div.sk-parallel {display: flex;align-items: stretch;justify-content: center;background-color: white;position: relative;}#sk-container-id-1 div.sk-item::before, #sk-container-id-1 div.sk-parallel-item::before {content: \"\";position: absolute;border-left: 1px solid gray;box-sizing: border-box;top: 0;bottom: 0;left: 50%;z-index: -1;}#sk-container-id-1 div.sk-parallel-item {display: flex;flex-direction: column;z-index: 1;position: relative;background-color: white;}#sk-container-id-1 div.sk-parallel-item:first-child::after {align-self: flex-end;width: 50%;}#sk-container-id-1 div.sk-parallel-item:last-child::after {align-self: flex-start;width: 50%;}#sk-container-id-1 div.sk-parallel-item:only-child::after {width: 0;}#sk-container-id-1 div.sk-dashed-wrapped {border: 1px dashed gray;margin: 0 0.4em 0.5em 0.4em;box-sizing: border-box;padding-bottom: 0.4em;background-color: white;}#sk-container-id-1 div.sk-label label {font-family: monospace;font-weight: bold;display: inline-block;line-height: 1.2em;}#sk-container-id-1 div.sk-label-container {text-align: center;}#sk-container-id-1 div.sk-container {/* jupyter's `normalize.less` sets `[hidden] { display: none; }` but bootstrap.min.css set `[hidden] { display: none !important; }` so we also need the `!important` here to be able to override the default hidden behavior on the sphinx rendered scikit-learn.org. See: https://github.com/scikit-learn/scikit-learn/issues/21755 */display: inline-block !important;position: relative;}#sk-container-id-1 div.sk-text-repr-fallback {display: none;}</style><div id=\"sk-container-id-1\" class=\"sk-top-container\"><div class=\"sk-text-repr-fallback\"><pre>Pipeline(steps=[(&#x27;scaler&#x27;, StandardScaler()),\n",
       "                (&#x27;ridge&#x27;, ElasticNet(alpha=0.24374766133488554, l1_ratio=0))])</pre><b>In a Jupyter environment, please rerun this cell to show the HTML representation or trust the notebook. <br />On GitHub, the HTML representation is unable to render, please try loading this page with nbviewer.org.</b></div><div class=\"sk-container\" hidden><div class=\"sk-item sk-dashed-wrapped\"><div class=\"sk-label-container\"><div class=\"sk-label sk-toggleable\"><input class=\"sk-toggleable__control sk-hidden--visually\" id=\"sk-estimator-id-1\" type=\"checkbox\" ><label for=\"sk-estimator-id-1\" class=\"sk-toggleable__label sk-toggleable__label-arrow\">Pipeline</label><div class=\"sk-toggleable__content\"><pre>Pipeline(steps=[(&#x27;scaler&#x27;, StandardScaler()),\n",
       "                (&#x27;ridge&#x27;, ElasticNet(alpha=0.24374766133488554, l1_ratio=0))])</pre></div></div></div><div class=\"sk-serial\"><div class=\"sk-item\"><div class=\"sk-estimator sk-toggleable\"><input class=\"sk-toggleable__control sk-hidden--visually\" id=\"sk-estimator-id-2\" type=\"checkbox\" ><label for=\"sk-estimator-id-2\" class=\"sk-toggleable__label sk-toggleable__label-arrow\">StandardScaler</label><div class=\"sk-toggleable__content\"><pre>StandardScaler()</pre></div></div></div><div class=\"sk-item\"><div class=\"sk-estimator sk-toggleable\"><input class=\"sk-toggleable__control sk-hidden--visually\" id=\"sk-estimator-id-3\" type=\"checkbox\" ><label for=\"sk-estimator-id-3\" class=\"sk-toggleable__label sk-toggleable__label-arrow\">ElasticNet</label><div class=\"sk-toggleable__content\"><pre>ElasticNet(alpha=0.24374766133488554, l1_ratio=0)</pre></div></div></div></div></div></div></div>"
      ],
      "text/plain": [
       "Pipeline(steps=[('scaler', StandardScaler()),\n",
       "                ('ridge', ElasticNet(alpha=0.24374766133488554, l1_ratio=0))])"
      ]
     },
     "execution_count": 45,
     "metadata": {},
     "output_type": "execute_result"
    }
   ],
   "source": [
    "ridge = skl.ElasticNet(alpha=lambdas[59], l1_ratio=0)\n",
    "scaler = StandardScaler(with_mean=True,  with_std=True)\n",
    "pipe = Pipeline(steps=[('scaler', scaler), ('ridge', ridge)])\n",
    "pipe.fit(X, Y)\n"
   ]
  },
  {
   "cell_type": "markdown",
   "id": "a5607efa",
   "metadata": {},
   "source": [
    "We show that it gives the same $\\ell_2$ norm as in our previous fit on the standardized data."
   ]
  },
  {
   "cell_type": "code",
   "execution_count": 46,
   "id": "8e775d4c",
   "metadata": {
    "lines_to_next_cell": 0,
    "tags": []
   },
   "outputs": [
    {
     "data": {
      "text/plain": [
       "160.4237101772592"
      ]
     },
     "execution_count": 46,
     "metadata": {},
     "output_type": "execute_result"
    }
   ],
   "source": [
    "np.linalg.norm(ridge.coef_)\n"
   ]
  },
  {
   "cell_type": "markdown",
   "id": "06771f4e",
   "metadata": {
    "tags": []
   },
   "source": [
    " Notice that the operation `pipe.fit(X, Y)` above has changed the `ridge` object, and in particular has added attributes such as `coef_` that were not there before. \n",
    "### Estimating Test Error of Ridge Regression\n",
    "Choosing an *a priori* value of $\\lambda$ for ridge regression is\n",
    "difficult if not impossible. We will want to use the validation method\n",
    "or cross-validation to select the tuning parameter.\n",
    "\n",
    "We fix the random state of the splitter\n",
    "so that the results obtained will be reproducible."
   ]
  },
  {
   "cell_type": "code",
   "execution_count": 47,
   "id": "531f7c0e",
   "metadata": {
    "tags": []
   },
   "outputs": [
    {
     "data": {
      "text/plain": [
       "array([147613.45831137])"
      ]
     },
     "execution_count": 47,
     "metadata": {},
     "output_type": "execute_result"
    }
   ],
   "source": [
    "validation = skm.ShuffleSplit(n_splits=1,\n",
    "                              test_size=0.5,\n",
    "                              random_state=17092023)\n",
    "ridge.alpha = 0.01\n",
    "results = skm.cross_validate(ridge,\n",
    "                             X,\n",
    "                             Y,\n",
    "                             scoring='neg_mean_squared_error',\n",
    "                             cv=validation)\n",
    "-results['test_score']\n"
   ]
  },
  {
   "cell_type": "markdown",
   "id": "951f3189",
   "metadata": {},
   "source": [
    "The test MSE is 1.47e+05.  Note\n",
    "that if we had instead simply fit a model with just an intercept, we\n",
    "would have predicted each test observation using the mean of the\n",
    "training observations. We can get the same result by fitting a ridge regression model\n",
    "with a *very* large value of $\\lambda$. Note that `1e10`\n",
    "means $10^{10}$."
   ]
  },
  {
   "cell_type": "code",
   "execution_count": 48,
   "id": "9d6abcd6",
   "metadata": {
    "lines_to_next_cell": 0,
    "tags": []
   },
   "outputs": [
    {
     "data": {
      "text/plain": [
       "array([203351.3961087])"
      ]
     },
     "execution_count": 48,
     "metadata": {},
     "output_type": "execute_result"
    }
   ],
   "source": [
    "ridge.alpha = 1e10\n",
    "results = skm.cross_validate(ridge,\n",
    "                             X,\n",
    "                             Y,\n",
    "                             scoring='neg_mean_squared_error',\n",
    "                             cv=validation)\n",
    "-results['test_score']\n"
   ]
  },
  {
   "cell_type": "markdown",
   "id": "60702c2d",
   "metadata": {},
   "source": [
    "Obviously choosing $\\lambda=0.01$ is arbitrary,  so we will  use cross-validation or the validation-set\n",
    "approach to choose the tuning parameter $\\lambda$.\n",
    "The object `GridSearchCV()`  allows exhaustive\n",
    "grid search to choose such a parameter.\n",
    "\n",
    "We first use the validation set method\n",
    "to choose $\\lambda$."
   ]
  },
  {
   "cell_type": "code",
   "execution_count": 49,
   "id": "4009c7c9",
   "metadata": {
    "tags": []
   },
   "outputs": [
    {
     "data": {
      "text/html": [
       "<style>#sk-container-id-2 {color: black;background-color: white;}#sk-container-id-2 pre{padding: 0;}#sk-container-id-2 div.sk-toggleable {background-color: white;}#sk-container-id-2 label.sk-toggleable__label {cursor: pointer;display: block;width: 100%;margin-bottom: 0;padding: 0.3em;box-sizing: border-box;text-align: center;}#sk-container-id-2 label.sk-toggleable__label-arrow:before {content: \"▸\";float: left;margin-right: 0.25em;color: #696969;}#sk-container-id-2 label.sk-toggleable__label-arrow:hover:before {color: black;}#sk-container-id-2 div.sk-estimator:hover label.sk-toggleable__label-arrow:before {color: black;}#sk-container-id-2 div.sk-toggleable__content {max-height: 0;max-width: 0;overflow: hidden;text-align: left;background-color: #f0f8ff;}#sk-container-id-2 div.sk-toggleable__content pre {margin: 0.2em;color: black;border-radius: 0.25em;background-color: #f0f8ff;}#sk-container-id-2 input.sk-toggleable__control:checked~div.sk-toggleable__content {max-height: 200px;max-width: 100%;overflow: auto;}#sk-container-id-2 input.sk-toggleable__control:checked~label.sk-toggleable__label-arrow:before {content: \"▾\";}#sk-container-id-2 div.sk-estimator input.sk-toggleable__control:checked~label.sk-toggleable__label {background-color: #d4ebff;}#sk-container-id-2 div.sk-label input.sk-toggleable__control:checked~label.sk-toggleable__label {background-color: #d4ebff;}#sk-container-id-2 input.sk-hidden--visually {border: 0;clip: rect(1px 1px 1px 1px);clip: rect(1px, 1px, 1px, 1px);height: 1px;margin: -1px;overflow: hidden;padding: 0;position: absolute;width: 1px;}#sk-container-id-2 div.sk-estimator {font-family: monospace;background-color: #f0f8ff;border: 1px dotted black;border-radius: 0.25em;box-sizing: border-box;margin-bottom: 0.5em;}#sk-container-id-2 div.sk-estimator:hover {background-color: #d4ebff;}#sk-container-id-2 div.sk-parallel-item::after {content: \"\";width: 100%;border-bottom: 1px solid gray;flex-grow: 1;}#sk-container-id-2 div.sk-label:hover label.sk-toggleable__label {background-color: #d4ebff;}#sk-container-id-2 div.sk-serial::before {content: \"\";position: absolute;border-left: 1px solid gray;box-sizing: border-box;top: 0;bottom: 0;left: 50%;z-index: 0;}#sk-container-id-2 div.sk-serial {display: flex;flex-direction: column;align-items: center;background-color: white;padding-right: 0.2em;padding-left: 0.2em;position: relative;}#sk-container-id-2 div.sk-item {position: relative;z-index: 1;}#sk-container-id-2 div.sk-parallel {display: flex;align-items: stretch;justify-content: center;background-color: white;position: relative;}#sk-container-id-2 div.sk-item::before, #sk-container-id-2 div.sk-parallel-item::before {content: \"\";position: absolute;border-left: 1px solid gray;box-sizing: border-box;top: 0;bottom: 0;left: 50%;z-index: -1;}#sk-container-id-2 div.sk-parallel-item {display: flex;flex-direction: column;z-index: 1;position: relative;background-color: white;}#sk-container-id-2 div.sk-parallel-item:first-child::after {align-self: flex-end;width: 50%;}#sk-container-id-2 div.sk-parallel-item:last-child::after {align-self: flex-start;width: 50%;}#sk-container-id-2 div.sk-parallel-item:only-child::after {width: 0;}#sk-container-id-2 div.sk-dashed-wrapped {border: 1px dashed gray;margin: 0 0.4em 0.5em 0.4em;box-sizing: border-box;padding-bottom: 0.4em;background-color: white;}#sk-container-id-2 div.sk-label label {font-family: monospace;font-weight: bold;display: inline-block;line-height: 1.2em;}#sk-container-id-2 div.sk-label-container {text-align: center;}#sk-container-id-2 div.sk-container {/* jupyter's `normalize.less` sets `[hidden] { display: none; }` but bootstrap.min.css set `[hidden] { display: none !important; }` so we also need the `!important` here to be able to override the default hidden behavior on the sphinx rendered scikit-learn.org. See: https://github.com/scikit-learn/scikit-learn/issues/21755 */display: inline-block !important;position: relative;}#sk-container-id-2 div.sk-text-repr-fallback {display: none;}</style><div id=\"sk-container-id-2\" class=\"sk-top-container\"><div class=\"sk-text-repr-fallback\"><pre>Pipeline(steps=[(&#x27;scaler&#x27;, StandardScaler()),\n",
       "                (&#x27;ridge&#x27;, ElasticNet(alpha=1.241684227628628, l1_ratio=0))])</pre><b>In a Jupyter environment, please rerun this cell to show the HTML representation or trust the notebook. <br />On GitHub, the HTML representation is unable to render, please try loading this page with nbviewer.org.</b></div><div class=\"sk-container\" hidden><div class=\"sk-item sk-dashed-wrapped\"><div class=\"sk-label-container\"><div class=\"sk-label sk-toggleable\"><input class=\"sk-toggleable__control sk-hidden--visually\" id=\"sk-estimator-id-4\" type=\"checkbox\" ><label for=\"sk-estimator-id-4\" class=\"sk-toggleable__label sk-toggleable__label-arrow\">Pipeline</label><div class=\"sk-toggleable__content\"><pre>Pipeline(steps=[(&#x27;scaler&#x27;, StandardScaler()),\n",
       "                (&#x27;ridge&#x27;, ElasticNet(alpha=1.241684227628628, l1_ratio=0))])</pre></div></div></div><div class=\"sk-serial\"><div class=\"sk-item\"><div class=\"sk-estimator sk-toggleable\"><input class=\"sk-toggleable__control sk-hidden--visually\" id=\"sk-estimator-id-5\" type=\"checkbox\" ><label for=\"sk-estimator-id-5\" class=\"sk-toggleable__label sk-toggleable__label-arrow\">StandardScaler</label><div class=\"sk-toggleable__content\"><pre>StandardScaler()</pre></div></div></div><div class=\"sk-item\"><div class=\"sk-estimator sk-toggleable\"><input class=\"sk-toggleable__control sk-hidden--visually\" id=\"sk-estimator-id-6\" type=\"checkbox\" ><label for=\"sk-estimator-id-6\" class=\"sk-toggleable__label sk-toggleable__label-arrow\">ElasticNet</label><div class=\"sk-toggleable__content\"><pre>ElasticNet(alpha=1.241684227628628, l1_ratio=0)</pre></div></div></div></div></div></div></div>"
      ],
      "text/plain": [
       "Pipeline(steps=[('scaler', StandardScaler()),\n",
       "                ('ridge', ElasticNet(alpha=1.241684227628628, l1_ratio=0))])"
      ]
     },
     "execution_count": 49,
     "metadata": {},
     "output_type": "execute_result"
    }
   ],
   "source": [
    "param_grid = {'ridge__alpha': lambdas}\n",
    "grid = skm.GridSearchCV(pipe,\n",
    "                        param_grid,\n",
    "                        cv=validation,\n",
    "                        scoring='neg_mean_squared_error')\n",
    "grid.fit(X, Y)\n",
    "grid.best_params_['ridge__alpha']\n",
    "grid.best_estimator_\n"
   ]
  },
  {
   "cell_type": "markdown",
   "id": "8e22f625",
   "metadata": {},
   "source": [
    "Alternatively, we can use 5-fold cross-validation."
   ]
  },
  {
   "cell_type": "code",
   "execution_count": 50,
   "id": "1fd51cd6",
   "metadata": {
    "lines_to_next_cell": 0,
    "tags": []
   },
   "outputs": [
    {
     "data": {
      "text/html": [
       "<style>#sk-container-id-3 {color: black;background-color: white;}#sk-container-id-3 pre{padding: 0;}#sk-container-id-3 div.sk-toggleable {background-color: white;}#sk-container-id-3 label.sk-toggleable__label {cursor: pointer;display: block;width: 100%;margin-bottom: 0;padding: 0.3em;box-sizing: border-box;text-align: center;}#sk-container-id-3 label.sk-toggleable__label-arrow:before {content: \"▸\";float: left;margin-right: 0.25em;color: #696969;}#sk-container-id-3 label.sk-toggleable__label-arrow:hover:before {color: black;}#sk-container-id-3 div.sk-estimator:hover label.sk-toggleable__label-arrow:before {color: black;}#sk-container-id-3 div.sk-toggleable__content {max-height: 0;max-width: 0;overflow: hidden;text-align: left;background-color: #f0f8ff;}#sk-container-id-3 div.sk-toggleable__content pre {margin: 0.2em;color: black;border-radius: 0.25em;background-color: #f0f8ff;}#sk-container-id-3 input.sk-toggleable__control:checked~div.sk-toggleable__content {max-height: 200px;max-width: 100%;overflow: auto;}#sk-container-id-3 input.sk-toggleable__control:checked~label.sk-toggleable__label-arrow:before {content: \"▾\";}#sk-container-id-3 div.sk-estimator input.sk-toggleable__control:checked~label.sk-toggleable__label {background-color: #d4ebff;}#sk-container-id-3 div.sk-label input.sk-toggleable__control:checked~label.sk-toggleable__label {background-color: #d4ebff;}#sk-container-id-3 input.sk-hidden--visually {border: 0;clip: rect(1px 1px 1px 1px);clip: rect(1px, 1px, 1px, 1px);height: 1px;margin: -1px;overflow: hidden;padding: 0;position: absolute;width: 1px;}#sk-container-id-3 div.sk-estimator {font-family: monospace;background-color: #f0f8ff;border: 1px dotted black;border-radius: 0.25em;box-sizing: border-box;margin-bottom: 0.5em;}#sk-container-id-3 div.sk-estimator:hover {background-color: #d4ebff;}#sk-container-id-3 div.sk-parallel-item::after {content: \"\";width: 100%;border-bottom: 1px solid gray;flex-grow: 1;}#sk-container-id-3 div.sk-label:hover label.sk-toggleable__label {background-color: #d4ebff;}#sk-container-id-3 div.sk-serial::before {content: \"\";position: absolute;border-left: 1px solid gray;box-sizing: border-box;top: 0;bottom: 0;left: 50%;z-index: 0;}#sk-container-id-3 div.sk-serial {display: flex;flex-direction: column;align-items: center;background-color: white;padding-right: 0.2em;padding-left: 0.2em;position: relative;}#sk-container-id-3 div.sk-item {position: relative;z-index: 1;}#sk-container-id-3 div.sk-parallel {display: flex;align-items: stretch;justify-content: center;background-color: white;position: relative;}#sk-container-id-3 div.sk-item::before, #sk-container-id-3 div.sk-parallel-item::before {content: \"\";position: absolute;border-left: 1px solid gray;box-sizing: border-box;top: 0;bottom: 0;left: 50%;z-index: -1;}#sk-container-id-3 div.sk-parallel-item {display: flex;flex-direction: column;z-index: 1;position: relative;background-color: white;}#sk-container-id-3 div.sk-parallel-item:first-child::after {align-self: flex-end;width: 50%;}#sk-container-id-3 div.sk-parallel-item:last-child::after {align-self: flex-start;width: 50%;}#sk-container-id-3 div.sk-parallel-item:only-child::after {width: 0;}#sk-container-id-3 div.sk-dashed-wrapped {border: 1px dashed gray;margin: 0 0.4em 0.5em 0.4em;box-sizing: border-box;padding-bottom: 0.4em;background-color: white;}#sk-container-id-3 div.sk-label label {font-family: monospace;font-weight: bold;display: inline-block;line-height: 1.2em;}#sk-container-id-3 div.sk-label-container {text-align: center;}#sk-container-id-3 div.sk-container {/* jupyter's `normalize.less` sets `[hidden] { display: none; }` but bootstrap.min.css set `[hidden] { display: none !important; }` so we also need the `!important` here to be able to override the default hidden behavior on the sphinx rendered scikit-learn.org. See: https://github.com/scikit-learn/scikit-learn/issues/21755 */display: inline-block !important;position: relative;}#sk-container-id-3 div.sk-text-repr-fallback {display: none;}</style><div id=\"sk-container-id-3\" class=\"sk-top-container\"><div class=\"sk-text-repr-fallback\"><pre>Pipeline(steps=[(&#x27;scaler&#x27;, StandardScaler()),\n",
       "                (&#x27;ridge&#x27;, ElasticNet(alpha=0.01185247763144249, l1_ratio=0))])</pre><b>In a Jupyter environment, please rerun this cell to show the HTML representation or trust the notebook. <br />On GitHub, the HTML representation is unable to render, please try loading this page with nbviewer.org.</b></div><div class=\"sk-container\" hidden><div class=\"sk-item sk-dashed-wrapped\"><div class=\"sk-label-container\"><div class=\"sk-label sk-toggleable\"><input class=\"sk-toggleable__control sk-hidden--visually\" id=\"sk-estimator-id-7\" type=\"checkbox\" ><label for=\"sk-estimator-id-7\" class=\"sk-toggleable__label sk-toggleable__label-arrow\">Pipeline</label><div class=\"sk-toggleable__content\"><pre>Pipeline(steps=[(&#x27;scaler&#x27;, StandardScaler()),\n",
       "                (&#x27;ridge&#x27;, ElasticNet(alpha=0.01185247763144249, l1_ratio=0))])</pre></div></div></div><div class=\"sk-serial\"><div class=\"sk-item\"><div class=\"sk-estimator sk-toggleable\"><input class=\"sk-toggleable__control sk-hidden--visually\" id=\"sk-estimator-id-8\" type=\"checkbox\" ><label for=\"sk-estimator-id-8\" class=\"sk-toggleable__label sk-toggleable__label-arrow\">StandardScaler</label><div class=\"sk-toggleable__content\"><pre>StandardScaler()</pre></div></div></div><div class=\"sk-item\"><div class=\"sk-estimator sk-toggleable\"><input class=\"sk-toggleable__control sk-hidden--visually\" id=\"sk-estimator-id-9\" type=\"checkbox\" ><label for=\"sk-estimator-id-9\" class=\"sk-toggleable__label sk-toggleable__label-arrow\">ElasticNet</label><div class=\"sk-toggleable__content\"><pre>ElasticNet(alpha=0.01185247763144249, l1_ratio=0)</pre></div></div></div></div></div></div></div>"
      ],
      "text/plain": [
       "Pipeline(steps=[('scaler', StandardScaler()),\n",
       "                ('ridge', ElasticNet(alpha=0.01185247763144249, l1_ratio=0))])"
      ]
     },
     "execution_count": 50,
     "metadata": {},
     "output_type": "execute_result"
    }
   ],
   "source": [
    "grid = skm.GridSearchCV(pipe, \n",
    "                        param_grid,\n",
    "                        cv=kfold,\n",
    "                        scoring='neg_mean_squared_error')\n",
    "grid.fit(X, Y)\n",
    "grid.best_params_['ridge__alpha']\n",
    "grid.best_estimator_\n"
   ]
  },
  {
   "cell_type": "markdown",
   "id": "245526c5",
   "metadata": {},
   "source": [
    "We now plot the cross-validated MSE as a function of $-\\log(\\lambda)$, which has shrinkage decreasing from left\n",
    "to right."
   ]
  },
  {
   "cell_type": "code",
   "execution_count": 51,
   "id": "1679fd6a",
   "metadata": {
    "tags": []
   },
   "outputs": [
    {
     "data": {
      "image/png": "[encoded data removed]",
      "text/plain": [
       "<Figure size 576x576 with 1 Axes>"
      ]
     },
     "metadata": {
      "needs_background": "light"
     },
     "output_type": "display_data"
    }
   ],
   "source": [
    "ridge_fig, ax = subplots(figsize=(8,8))\n",
    "ax.errorbar(-np.log(lambdas),\n",
    "            -grid.cv_results_['mean_test_score'],\n",
    "            yerr=grid.cv_results_['std_test_score'] / np.sqrt(K))\n",
    "ax.set_ylim([50000,250000])\n",
    "ax.set_xlabel('$-\\log(\\lambda)$', fontsize=20)\n",
    "ax.set_ylabel('Cross-validated MSE', fontsize=20);\n"
   ]
  },
  {
   "cell_type": "markdown",
   "id": "36cc5ca2",
   "metadata": {},
   "source": [
    "One can cross-validate different metrics to choose a parameter. The default\n",
    "metric for `skl.ElasticNet()` is test $R^2$.\n",
    "Let’s compare $R^2$ to MSE for cross-validation here."
   ]
  },
  {
   "cell_type": "code",
   "execution_count": 52,
   "id": "f59557ed",
   "metadata": {
    "tags": []
   },
   "outputs": [
    {
     "data": {
      "text/html": [
       "<style>#sk-container-id-4 {color: black;background-color: white;}#sk-container-id-4 pre{padding: 0;}#sk-container-id-4 div.sk-toggleable {background-color: white;}#sk-container-id-4 label.sk-toggleable__label {cursor: pointer;display: block;width: 100%;margin-bottom: 0;padding: 0.3em;box-sizing: border-box;text-align: center;}#sk-container-id-4 label.sk-toggleable__label-arrow:before {content: \"▸\";float: left;margin-right: 0.25em;color: #696969;}#sk-container-id-4 label.sk-toggleable__label-arrow:hover:before {color: black;}#sk-container-id-4 div.sk-estimator:hover label.sk-toggleable__label-arrow:before {color: black;}#sk-container-id-4 div.sk-toggleable__content {max-height: 0;max-width: 0;overflow: hidden;text-align: left;background-color: #f0f8ff;}#sk-container-id-4 div.sk-toggleable__content pre {margin: 0.2em;color: black;border-radius: 0.25em;background-color: #f0f8ff;}#sk-container-id-4 input.sk-toggleable__control:checked~div.sk-toggleable__content {max-height: 200px;max-width: 100%;overflow: auto;}#sk-container-id-4 input.sk-toggleable__control:checked~label.sk-toggleable__label-arrow:before {content: \"▾\";}#sk-container-id-4 div.sk-estimator input.sk-toggleable__control:checked~label.sk-toggleable__label {background-color: #d4ebff;}#sk-container-id-4 div.sk-label input.sk-toggleable__control:checked~label.sk-toggleable__label {background-color: #d4ebff;}#sk-container-id-4 input.sk-hidden--visually {border: 0;clip: rect(1px 1px 1px 1px);clip: rect(1px, 1px, 1px, 1px);height: 1px;margin: -1px;overflow: hidden;padding: 0;position: absolute;width: 1px;}#sk-container-id-4 div.sk-estimator {font-family: monospace;background-color: #f0f8ff;border: 1px dotted black;border-radius: 0.25em;box-sizing: border-box;margin-bottom: 0.5em;}#sk-container-id-4 div.sk-estimator:hover {background-color: #d4ebff;}#sk-container-id-4 div.sk-parallel-item::after {content: \"\";width: 100%;border-bottom: 1px solid gray;flex-grow: 1;}#sk-container-id-4 div.sk-label:hover label.sk-toggleable__label {background-color: #d4ebff;}#sk-container-id-4 div.sk-serial::before {content: \"\";position: absolute;border-left: 1px solid gray;box-sizing: border-box;top: 0;bottom: 0;left: 50%;z-index: 0;}#sk-container-id-4 div.sk-serial {display: flex;flex-direction: column;align-items: center;background-color: white;padding-right: 0.2em;padding-left: 0.2em;position: relative;}#sk-container-id-4 div.sk-item {position: relative;z-index: 1;}#sk-container-id-4 div.sk-parallel {display: flex;align-items: stretch;justify-content: center;background-color: white;position: relative;}#sk-container-id-4 div.sk-item::before, #sk-container-id-4 div.sk-parallel-item::before {content: \"\";position: absolute;border-left: 1px solid gray;box-sizing: border-box;top: 0;bottom: 0;left: 50%;z-index: -1;}#sk-container-id-4 div.sk-parallel-item {display: flex;flex-direction: column;z-index: 1;position: relative;background-color: white;}#sk-container-id-4 div.sk-parallel-item:first-child::after {align-self: flex-end;width: 50%;}#sk-container-id-4 div.sk-parallel-item:last-child::after {align-self: flex-start;width: 50%;}#sk-container-id-4 div.sk-parallel-item:only-child::after {width: 0;}#sk-container-id-4 div.sk-dashed-wrapped {border: 1px dashed gray;margin: 0 0.4em 0.5em 0.4em;box-sizing: border-box;padding-bottom: 0.4em;background-color: white;}#sk-container-id-4 div.sk-label label {font-family: monospace;font-weight: bold;display: inline-block;line-height: 1.2em;}#sk-container-id-4 div.sk-label-container {text-align: center;}#sk-container-id-4 div.sk-container {/* jupyter's `normalize.less` sets `[hidden] { display: none; }` but bootstrap.min.css set `[hidden] { display: none !important; }` so we also need the `!important` here to be able to override the default hidden behavior on the sphinx rendered scikit-learn.org. See: https://github.com/scikit-learn/scikit-learn/issues/21755 */display: inline-block !important;position: relative;}#sk-container-id-4 div.sk-text-repr-fallback {display: none;}</style><div id=\"sk-container-id-4\" class=\"sk-top-container\"><div class=\"sk-text-repr-fallback\"><pre>GridSearchCV(cv=KFold(n_splits=5, random_state=0, shuffle=True),\n",
       "             estimator=Pipeline(steps=[(&#x27;scaler&#x27;, StandardScaler()),\n",
       "                                       (&#x27;ridge&#x27;,\n",
       "                                        ElasticNet(alpha=10000000000.0,\n",
       "                                                   l1_ratio=0))]),\n",
       "             param_grid={&#x27;ridge__alpha&#x27;: array([2.22093791e+05, 1.76005531e+05, 1.39481373e+05, 1.10536603e+05,\n",
       "       8.75983676e+04, 6.94202082e+04, 5.50143278e+04, 4.35979140e+04,\n",
       "       3.45506012e+04, 2.73807606...\n",
       "       4.67486141e-03, 3.70474772e-03, 2.93594921e-03, 2.32668954e-03,\n",
       "       1.84386167e-03, 1.46122884e-03, 1.15799887e-03, 9.17694298e-04,\n",
       "       7.27257037e-04, 5.76338765e-04, 4.56738615e-04, 3.61957541e-04,\n",
       "       2.86845161e-04, 2.27319885e-04, 1.80147121e-04, 1.42763513e-04,\n",
       "       1.13137642e-04, 8.96596467e-05, 7.10537367e-05, 5.63088712e-05,\n",
       "       4.46238174e-05, 3.53636122e-05, 2.80250579e-05, 2.22093791e-05])})</pre><b>In a Jupyter environment, please rerun this cell to show the HTML representation or trust the notebook. <br />On GitHub, the HTML representation is unable to render, please try loading this page with nbviewer.org.</b></div><div class=\"sk-container\" hidden><div class=\"sk-item sk-dashed-wrapped\"><div class=\"sk-label-container\"><div class=\"sk-label sk-toggleable\"><input class=\"sk-toggleable__control sk-hidden--visually\" id=\"sk-estimator-id-10\" type=\"checkbox\" ><label for=\"sk-estimator-id-10\" class=\"sk-toggleable__label sk-toggleable__label-arrow\">GridSearchCV</label><div class=\"sk-toggleable__content\"><pre>GridSearchCV(cv=KFold(n_splits=5, random_state=0, shuffle=True),\n",
       "             estimator=Pipeline(steps=[(&#x27;scaler&#x27;, StandardScaler()),\n",
       "                                       (&#x27;ridge&#x27;,\n",
       "                                        ElasticNet(alpha=10000000000.0,\n",
       "                                                   l1_ratio=0))]),\n",
       "             param_grid={&#x27;ridge__alpha&#x27;: array([2.22093791e+05, 1.76005531e+05, 1.39481373e+05, 1.10536603e+05,\n",
       "       8.75983676e+04, 6.94202082e+04, 5.50143278e+04, 4.35979140e+04,\n",
       "       3.45506012e+04, 2.73807606...\n",
       "       4.67486141e-03, 3.70474772e-03, 2.93594921e-03, 2.32668954e-03,\n",
       "       1.84386167e-03, 1.46122884e-03, 1.15799887e-03, 9.17694298e-04,\n",
       "       7.27257037e-04, 5.76338765e-04, 4.56738615e-04, 3.61957541e-04,\n",
       "       2.86845161e-04, 2.27319885e-04, 1.80147121e-04, 1.42763513e-04,\n",
       "       1.13137642e-04, 8.96596467e-05, 7.10537367e-05, 5.63088712e-05,\n",
       "       4.46238174e-05, 3.53636122e-05, 2.80250579e-05, 2.22093791e-05])})</pre></div></div></div><div class=\"sk-parallel\"><div class=\"sk-parallel-item\"><div class=\"sk-item\"><div class=\"sk-label-container\"><div class=\"sk-label sk-toggleable\"><input class=\"sk-toggleable__control sk-hidden--visually\" id=\"sk-estimator-id-11\" type=\"checkbox\" ><label for=\"sk-estimator-id-11\" class=\"sk-toggleable__label sk-toggleable__label-arrow\">estimator: Pipeline</label><div class=\"sk-toggleable__content\"><pre>Pipeline(steps=[(&#x27;scaler&#x27;, StandardScaler()),\n",
       "                (&#x27;ridge&#x27;, ElasticNet(alpha=10000000000.0, l1_ratio=0))])</pre></div></div></div><div class=\"sk-serial\"><div class=\"sk-item\"><div class=\"sk-serial\"><div class=\"sk-item\"><div class=\"sk-estimator sk-toggleable\"><input class=\"sk-toggleable__control sk-hidden--visually\" id=\"sk-estimator-id-12\" type=\"checkbox\" ><label for=\"sk-estimator-id-12\" class=\"sk-toggleable__label sk-toggleable__label-arrow\">StandardScaler</label><div class=\"sk-toggleable__content\"><pre>StandardScaler()</pre></div></div></div><div class=\"sk-item\"><div class=\"sk-estimator sk-toggleable\"><input class=\"sk-toggleable__control sk-hidden--visually\" id=\"sk-estimator-id-13\" type=\"checkbox\" ><label for=\"sk-estimator-id-13\" class=\"sk-toggleable__label sk-toggleable__label-arrow\">ElasticNet</label><div class=\"sk-toggleable__content\"><pre>ElasticNet(alpha=10000000000.0, l1_ratio=0)</pre></div></div></div></div></div></div></div></div></div></div></div></div>"
      ],
      "text/plain": [
       "GridSearchCV(cv=KFold(n_splits=5, random_state=0, shuffle=True),\n",
       "             estimator=Pipeline(steps=[('scaler', StandardScaler()),\n",
       "                                       ('ridge',\n",
       "                                        ElasticNet(alpha=10000000000.0,\n",
       "                                                   l1_ratio=0))]),\n",
       "             param_grid={'ridge__alpha': array([2.22093791e+05, 1.76005531e+05, 1.39481373e+05, 1.10536603e+05,\n",
       "       8.75983676e+04, 6.94202082e+04, 5.50143278e+04, 4.35979140e+04,\n",
       "       3.45506012e+04, 2.73807606...\n",
       "       4.67486141e-03, 3.70474772e-03, 2.93594921e-03, 2.32668954e-03,\n",
       "       1.84386167e-03, 1.46122884e-03, 1.15799887e-03, 9.17694298e-04,\n",
       "       7.27257037e-04, 5.76338765e-04, 4.56738615e-04, 3.61957541e-04,\n",
       "       2.86845161e-04, 2.27319885e-04, 1.80147121e-04, 1.42763513e-04,\n",
       "       1.13137642e-04, 8.96596467e-05, 7.10537367e-05, 5.63088712e-05,\n",
       "       4.46238174e-05, 3.53636122e-05, 2.80250579e-05, 2.22093791e-05])})"
      ]
     },
     "execution_count": 52,
     "metadata": {},
     "output_type": "execute_result"
    }
   ],
   "source": [
    "grid_r2 = skm.GridSearchCV(pipe, \n",
    "                           param_grid,\n",
    "                           cv=kfold)\n",
    "grid_r2.fit(X, Y)\n"
   ]
  },
  {
   "cell_type": "markdown",
   "id": "5ac19760",
   "metadata": {},
   "source": [
    "Finally, let’s plot the results for cross-validated $R^2$."
   ]
  },
  {
   "cell_type": "code",
   "execution_count": 53,
   "id": "12d94ae6",
   "metadata": {
    "lines_to_next_cell": 2,
    "tags": []
   },
   "outputs": [
    {
     "data": {
      "image/png": "[encoded data removed]",
      "text/plain": [
       "<Figure size 576x576 with 1 Axes>"
      ]
     },
     "metadata": {
      "needs_background": "light"
     },
     "output_type": "display_data"
    }
   ],
   "source": [
    "r2_fig, ax = subplots(figsize=(8,8))\n",
    "ax.errorbar(-np.log(lambdas),\n",
    "            grid_r2.cv_results_['mean_test_score'],\n",
    "            yerr=grid_r2.cv_results_['std_test_score'] / np.sqrt(K))\n",
    "ax.set_xlabel('$-\\log(\\lambda)$', fontsize=20)\n",
    "ax.set_ylabel('Cross-validated $R^2$', fontsize=20);\n"
   ]
  },
  {
   "cell_type": "markdown",
   "id": "f9eda9aa",
   "metadata": {
    "tags": []
   },
   "source": [
    "### Fast Cross-Validation for Solution Paths\n",
    "The ridge, lasso, and elastic net can be efficiently fit along a sequence of $\\lambda$ values, creating what is known as a *solution path* or *regularization path*. Hence there is specialized code to fit\n",
    "such paths, and to choose a suitable value of $\\lambda$ using cross-validation. \n",
    "\n",
    "Even with identical splits the results will not agree *exactly* with our `grid`\n",
    "above because the standardization of each feature  in `grid` is carried out on each fold,\n",
    "while in `pipeCV` below it is carried out only once.\n",
    "Nevertheless, the results are similar as the normalization\n",
    "is relatively stable across folds."
   ]
  },
  {
   "cell_type": "code",
   "execution_count": 54,
   "id": "b1fd1281",
   "metadata": {
    "tags": []
   },
   "outputs": [
    {
     "data": {
      "text/html": [
       "<style>#sk-container-id-5 {color: black;background-color: white;}#sk-container-id-5 pre{padding: 0;}#sk-container-id-5 div.sk-toggleable {background-color: white;}#sk-container-id-5 label.sk-toggleable__label {cursor: pointer;display: block;width: 100%;margin-bottom: 0;padding: 0.3em;box-sizing: border-box;text-align: center;}#sk-container-id-5 label.sk-toggleable__label-arrow:before {content: \"▸\";float: left;margin-right: 0.25em;color: #696969;}#sk-container-id-5 label.sk-toggleable__label-arrow:hover:before {color: black;}#sk-container-id-5 div.sk-estimator:hover label.sk-toggleable__label-arrow:before {color: black;}#sk-container-id-5 div.sk-toggleable__content {max-height: 0;max-width: 0;overflow: hidden;text-align: left;background-color: #f0f8ff;}#sk-container-id-5 div.sk-toggleable__content pre {margin: 0.2em;color: black;border-radius: 0.25em;background-color: #f0f8ff;}#sk-container-id-5 input.sk-toggleable__control:checked~div.sk-toggleable__content {max-height: 200px;max-width: 100%;overflow: auto;}#sk-container-id-5 input.sk-toggleable__control:checked~label.sk-toggleable__label-arrow:before {content: \"▾\";}#sk-container-id-5 div.sk-estimator input.sk-toggleable__control:checked~label.sk-toggleable__label {background-color: #d4ebff;}#sk-container-id-5 div.sk-label input.sk-toggleable__control:checked~label.sk-toggleable__label {background-color: #d4ebff;}#sk-container-id-5 input.sk-hidden--visually {border: 0;clip: rect(1px 1px 1px 1px);clip: rect(1px, 1px, 1px, 1px);height: 1px;margin: -1px;overflow: hidden;padding: 0;position: absolute;width: 1px;}#sk-container-id-5 div.sk-estimator {font-family: monospace;background-color: #f0f8ff;border: 1px dotted black;border-radius: 0.25em;box-sizing: border-box;margin-bottom: 0.5em;}#sk-container-id-5 div.sk-estimator:hover {background-color: #d4ebff;}#sk-container-id-5 div.sk-parallel-item::after {content: \"\";width: 100%;border-bottom: 1px solid gray;flex-grow: 1;}#sk-container-id-5 div.sk-label:hover label.sk-toggleable__label {background-color: #d4ebff;}#sk-container-id-5 div.sk-serial::before {content: \"\";position: absolute;border-left: 1px solid gray;box-sizing: border-box;top: 0;bottom: 0;left: 50%;z-index: 0;}#sk-container-id-5 div.sk-serial {display: flex;flex-direction: column;align-items: center;background-color: white;padding-right: 0.2em;padding-left: 0.2em;position: relative;}#sk-container-id-5 div.sk-item {position: relative;z-index: 1;}#sk-container-id-5 div.sk-parallel {display: flex;align-items: stretch;justify-content: center;background-color: white;position: relative;}#sk-container-id-5 div.sk-item::before, #sk-container-id-5 div.sk-parallel-item::before {content: \"\";position: absolute;border-left: 1px solid gray;box-sizing: border-box;top: 0;bottom: 0;left: 50%;z-index: -1;}#sk-container-id-5 div.sk-parallel-item {display: flex;flex-direction: column;z-index: 1;position: relative;background-color: white;}#sk-container-id-5 div.sk-parallel-item:first-child::after {align-self: flex-end;width: 50%;}#sk-container-id-5 div.sk-parallel-item:last-child::after {align-self: flex-start;width: 50%;}#sk-container-id-5 div.sk-parallel-item:only-child::after {width: 0;}#sk-container-id-5 div.sk-dashed-wrapped {border: 1px dashed gray;margin: 0 0.4em 0.5em 0.4em;box-sizing: border-box;padding-bottom: 0.4em;background-color: white;}#sk-container-id-5 div.sk-label label {font-family: monospace;font-weight: bold;display: inline-block;line-height: 1.2em;}#sk-container-id-5 div.sk-label-container {text-align: center;}#sk-container-id-5 div.sk-container {/* jupyter's `normalize.less` sets `[hidden] { display: none; }` but bootstrap.min.css set `[hidden] { display: none !important; }` so we also need the `!important` here to be able to override the default hidden behavior on the sphinx rendered scikit-learn.org. See: https://github.com/scikit-learn/scikit-learn/issues/21755 */display: inline-block !important;position: relative;}#sk-container-id-5 div.sk-text-repr-fallback {display: none;}</style><div id=\"sk-container-id-5\" class=\"sk-top-container\"><div class=\"sk-text-repr-fallback\"><pre>Pipeline(steps=[(&#x27;scaler&#x27;, StandardScaler()),\n",
       "                (&#x27;ridge&#x27;,\n",
       "                 ElasticNetCV(alphas=array([2.22093791e+05, 1.76005531e+05, 1.39481373e+05, 1.10536603e+05,\n",
       "       8.75983676e+04, 6.94202082e+04, 5.50143278e+04, 4.35979140e+04,\n",
       "       3.45506012e+04, 2.73807606e+04, 2.16987845e+04, 1.71959156e+04,\n",
       "       1.36274691e+04, 1.07995362e+04, 8.55844774e+03, 6.78242347e+03,\n",
       "       5.37495461e+03, 4.25955961e+03,...\n",
       "       1.84386167e-03, 1.46122884e-03, 1.15799887e-03, 9.17694298e-04,\n",
       "       7.27257037e-04, 5.76338765e-04, 4.56738615e-04, 3.61957541e-04,\n",
       "       2.86845161e-04, 2.27319885e-04, 1.80147121e-04, 1.42763513e-04,\n",
       "       1.13137642e-04, 8.96596467e-05, 7.10537367e-05, 5.63088712e-05,\n",
       "       4.46238174e-05, 3.53636122e-05, 2.80250579e-05, 2.22093791e-05]),\n",
       "                              cv=KFold(n_splits=5, random_state=0, shuffle=True),\n",
       "                              l1_ratio=0))])</pre><b>In a Jupyter environment, please rerun this cell to show the HTML representation or trust the notebook. <br />On GitHub, the HTML representation is unable to render, please try loading this page with nbviewer.org.</b></div><div class=\"sk-container\" hidden><div class=\"sk-item sk-dashed-wrapped\"><div class=\"sk-label-container\"><div class=\"sk-label sk-toggleable\"><input class=\"sk-toggleable__control sk-hidden--visually\" id=\"sk-estimator-id-14\" type=\"checkbox\" ><label for=\"sk-estimator-id-14\" class=\"sk-toggleable__label sk-toggleable__label-arrow\">Pipeline</label><div class=\"sk-toggleable__content\"><pre>Pipeline(steps=[(&#x27;scaler&#x27;, StandardScaler()),\n",
       "                (&#x27;ridge&#x27;,\n",
       "                 ElasticNetCV(alphas=array([2.22093791e+05, 1.76005531e+05, 1.39481373e+05, 1.10536603e+05,\n",
       "       8.75983676e+04, 6.94202082e+04, 5.50143278e+04, 4.35979140e+04,\n",
       "       3.45506012e+04, 2.73807606e+04, 2.16987845e+04, 1.71959156e+04,\n",
       "       1.36274691e+04, 1.07995362e+04, 8.55844774e+03, 6.78242347e+03,\n",
       "       5.37495461e+03, 4.25955961e+03,...\n",
       "       1.84386167e-03, 1.46122884e-03, 1.15799887e-03, 9.17694298e-04,\n",
       "       7.27257037e-04, 5.76338765e-04, 4.56738615e-04, 3.61957541e-04,\n",
       "       2.86845161e-04, 2.27319885e-04, 1.80147121e-04, 1.42763513e-04,\n",
       "       1.13137642e-04, 8.96596467e-05, 7.10537367e-05, 5.63088712e-05,\n",
       "       4.46238174e-05, 3.53636122e-05, 2.80250579e-05, 2.22093791e-05]),\n",
       "                              cv=KFold(n_splits=5, random_state=0, shuffle=True),\n",
       "                              l1_ratio=0))])</pre></div></div></div><div class=\"sk-serial\"><div class=\"sk-item\"><div class=\"sk-estimator sk-toggleable\"><input class=\"sk-toggleable__control sk-hidden--visually\" id=\"sk-estimator-id-15\" type=\"checkbox\" ><label for=\"sk-estimator-id-15\" class=\"sk-toggleable__label sk-toggleable__label-arrow\">StandardScaler</label><div class=\"sk-toggleable__content\"><pre>StandardScaler()</pre></div></div></div><div class=\"sk-item\"><div class=\"sk-estimator sk-toggleable\"><input class=\"sk-toggleable__control sk-hidden--visually\" id=\"sk-estimator-id-16\" type=\"checkbox\" ><label for=\"sk-estimator-id-16\" class=\"sk-toggleable__label sk-toggleable__label-arrow\">ElasticNetCV</label><div class=\"sk-toggleable__content\"><pre>ElasticNetCV(alphas=array([2.22093791e+05, 1.76005531e+05, 1.39481373e+05, 1.10536603e+05,\n",
       "       8.75983676e+04, 6.94202082e+04, 5.50143278e+04, 4.35979140e+04,\n",
       "       3.45506012e+04, 2.73807606e+04, 2.16987845e+04, 1.71959156e+04,\n",
       "       1.36274691e+04, 1.07995362e+04, 8.55844774e+03, 6.78242347e+03,\n",
       "       5.37495461e+03, 4.25955961e+03, 3.37562814e+03, 2.67512757e+03,\n",
       "       2.11999285e+03, 1.680058...\n",
       "       1.84386167e-03, 1.46122884e-03, 1.15799887e-03, 9.17694298e-04,\n",
       "       7.27257037e-04, 5.76338765e-04, 4.56738615e-04, 3.61957541e-04,\n",
       "       2.86845161e-04, 2.27319885e-04, 1.80147121e-04, 1.42763513e-04,\n",
       "       1.13137642e-04, 8.96596467e-05, 7.10537367e-05, 5.63088712e-05,\n",
       "       4.46238174e-05, 3.53636122e-05, 2.80250579e-05, 2.22093791e-05]),\n",
       "             cv=KFold(n_splits=5, random_state=0, shuffle=True), l1_ratio=0)</pre></div></div></div></div></div></div></div>"
      ],
      "text/plain": [
       "Pipeline(steps=[('scaler', StandardScaler()),\n",
       "                ('ridge',\n",
       "                 ElasticNetCV(alphas=array([2.22093791e+05, 1.76005531e+05, 1.39481373e+05, 1.10536603e+05,\n",
       "       8.75983676e+04, 6.94202082e+04, 5.50143278e+04, 4.35979140e+04,\n",
       "       3.45506012e+04, 2.73807606e+04, 2.16987845e+04, 1.71959156e+04,\n",
       "       1.36274691e+04, 1.07995362e+04, 8.55844774e+03, 6.78242347e+03,\n",
       "       5.37495461e+03, 4.25955961e+03,...\n",
       "       1.84386167e-03, 1.46122884e-03, 1.15799887e-03, 9.17694298e-04,\n",
       "       7.27257037e-04, 5.76338765e-04, 4.56738615e-04, 3.61957541e-04,\n",
       "       2.86845161e-04, 2.27319885e-04, 1.80147121e-04, 1.42763513e-04,\n",
       "       1.13137642e-04, 8.96596467e-05, 7.10537367e-05, 5.63088712e-05,\n",
       "       4.46238174e-05, 3.53636122e-05, 2.80250579e-05, 2.22093791e-05]),\n",
       "                              cv=KFold(n_splits=5, random_state=0, shuffle=True),\n",
       "                              l1_ratio=0))])"
      ]
     },
     "execution_count": 54,
     "metadata": {},
     "output_type": "execute_result"
    }
   ],
   "source": [
    "ridgeCV = skl.ElasticNetCV(alphas=lambdas, \n",
    "                           l1_ratio=0,\n",
    "                           cv=kfold)\n",
    "pipeCV = Pipeline(steps=[('scaler', scaler),\n",
    "                         ('ridge', ridgeCV)])\n",
    "pipeCV.fit(X, Y)\n"
   ]
  },
  {
   "cell_type": "markdown",
   "id": "da8395bb",
   "metadata": {},
   "source": [
    "Let’s produce a plot again of the cross-validation error to see that\n",
    "it is similar to using `skm.GridSearchCV`."
   ]
  },
  {
   "cell_type": "code",
   "execution_count": 55,
   "id": "5cf09512",
   "metadata": {
    "tags": []
   },
   "outputs": [
    {
     "data": {
      "image/png": "[encoded data removed]",
      "text/plain": [
       "<Figure size 576x576 with 1 Axes>"
      ]
     },
     "metadata": {
      "needs_background": "light"
     },
     "output_type": "display_data"
    }
   ],
   "source": [
    "tuned_ridge = pipeCV.named_steps['ridge']\n",
    "ridgeCV_fig, ax = subplots(figsize=(8,8))\n",
    "ax.errorbar(-np.log(lambdas),\n",
    "            tuned_ridge.mse_path_.mean(1),\n",
    "            yerr=tuned_ridge.mse_path_.std(1) / np.sqrt(K))\n",
    "ax.axvline(-np.log(tuned_ridge.alpha_), c='k', ls='--')\n",
    "ax.set_ylim([50000,250000])\n",
    "ax.set_xlabel('$-\\log(\\lambda)$', fontsize=20)\n",
    "ax.set_ylabel('Cross-validated MSE', fontsize=20);\n"
   ]
  },
  {
   "cell_type": "markdown",
   "id": "6f5eb495",
   "metadata": {},
   "source": [
    "We see that the value of $\\lambda$ that results in the\n",
    "smallest cross-validation error is 1.115e-02, available\n",
    "as the value `tuned_ridge.alpha_`. What is the test MSE\n",
    "associated with this value of $\\lambda$?"
   ]
  },
  {
   "cell_type": "code",
   "execution_count": 56,
   "id": "a8d6770f",
   "metadata": {
    "tags": []
   },
   "outputs": [
    {
     "data": {
      "text/plain": [
       "115526.70630987766"
      ]
     },
     "execution_count": 56,
     "metadata": {},
     "output_type": "execute_result"
    }
   ],
   "source": [
    "np.min(tuned_ridge.mse_path_.mean(1))\n"
   ]
  },
  {
   "cell_type": "markdown",
   "id": "4da37400",
   "metadata": {},
   "source": [
    "This represents a further improvement over the test MSE that we got\n",
    "using $\\lambda=4$.  Finally, `tuned_ridge.coef_`\n",
    "has the coefficients fit on the entire data set\n",
    "at this value of  $\\lambda$."
   ]
  },
  {
   "cell_type": "code",
   "execution_count": 57,
   "id": "852b1e39",
   "metadata": {
    "lines_to_next_cell": 0,
    "tags": []
   },
   "outputs": [
    {
     "data": {
      "text/plain": [
       "array([-222.80877051,  238.77246614,    3.21103754,   -2.93050845,\n",
       "          3.64888723,  108.90953869,  -50.81896152, -105.15731984,\n",
       "        122.00714801,   57.1859509 ,  210.35170348,  118.05683748,\n",
       "       -150.21959435,   30.36634231,  -61.62459095,   77.73832472,\n",
       "         40.07350744,  -25.02151514,  -13.68429544])"
      ]
     },
     "execution_count": 57,
     "metadata": {},
     "output_type": "execute_result"
    }
   ],
   "source": [
    "tuned_ridge.coef_\n"
   ]
  },
  {
   "cell_type": "markdown",
   "id": "93ea5623",
   "metadata": {},
   "source": [
    "As expected, none of the coefficients are zero—ridge regression does\n",
    "not perform variable selection!"
   ]
  },
  {
   "cell_type": "markdown",
   "id": "3e01383a",
   "metadata": {
    "tags": []
   },
   "source": [
    "### Evaluating Test Error of Cross-Validated Ridge\n",
    "Choosing $\\lambda$ using cross-validation provides a single regression\n",
    "estimator, similar to fitting a linear regression model. It is therefore reasonable to estimate what its test error is. \n",
    "\n",
    "We run into a problem here in that cross-validation will have\n",
    "*touched* all of its data in choosing $\\lambda$, hence we have no\n",
    "further data to estimate test error.\n",
    "\n",
    "A compromise is to do an initial\n",
    "split of the data into two disjoint sets: a training set and a test set.\n",
    "We then fit a cross-validation\n",
    "tuned ridge regression on the training set, and evaluate its performance on the test set.\n",
    "\n",
    "We might call this cross-validation nested\n",
    "within the validation set approach. A priori there is no reason to use\n",
    "half of the data for each of the two sets in validation. Below, we use\n",
    "75% for training and 25% for test, with the estimator being ridge\n",
    "regression tuned using 5-fold cross-validation.  This can be achieved\n",
    "in code as follows:"
   ]
  },
  {
   "cell_type": "code",
   "execution_count": 58,
   "id": "81f6259f",
   "metadata": {
    "tags": []
   },
   "outputs": [],
   "source": [
    "outer_valid = skm.ShuffleSplit(n_splits=1, \n",
    "                               test_size=0.25,\n",
    "                               random_state=1)\n",
    "inner_cv = skm.KFold(n_splits=5,\n",
    "                     shuffle=True,\n",
    "                     random_state=2)\n",
    "ridgeCV = skl.ElasticNetCV(alphas=lambdas,\n",
    "                           l1_ratio=0,\n",
    "                           cv=inner_cv)\n",
    "pipeCV = Pipeline(steps=[('scaler', scaler),\n",
    "                         ('ridge', ridgeCV)]);\n"
   ]
  },
  {
   "cell_type": "code",
   "execution_count": 59,
   "id": "e44495e5",
   "metadata": {
    "lines_to_next_cell": 0,
    "tags": []
   },
   "outputs": [
    {
     "data": {
      "text/plain": [
       "array([132393.84003227])"
      ]
     },
     "execution_count": 59,
     "metadata": {},
     "output_type": "execute_result"
    }
   ],
   "source": [
    "results = skm.cross_validate(pipeCV, \n",
    "                             X,\n",
    "                             Y,\n",
    "                             cv=outer_valid,\n",
    "                             scoring='neg_mean_squared_error')\n",
    "-results['test_score']\n"
   ]
  },
  {
   "cell_type": "markdown",
   "id": "9fed598e",
   "metadata": {},
   "source": [
    "    "
   ]
  },
  {
   "cell_type": "markdown",
   "id": "9ecaca1a",
   "metadata": {},
   "source": [
    "### The Lasso\n",
    "\n",
    "Lasso coefficients minimize the following objective function: \n",
    "\n",
    "   $$ \\beta_{L}= arg min_{\\beta} \\sum_{i=1}^{n}(y_{i} - \\beta_{0} - \\sum_{j=1}^{p} \\beta_{j}x_{ij})^2 + \\lambda \\sum_{j=1}^p |\\beta_{j}| $$\n",
    "\n",
    "A consequence of this objective function is that Lasso is much more likely to shrink coefficients to exactly zero, performing variable selection. \n",
    "\n",
    "\n",
    "\n",
    "We saw that ridge regression with a wise choice of $\\lambda$ can\n",
    "outperform least squares as well as the null model on the\n",
    " `Hitters`  data set. We now ask whether the lasso can yield\n",
    "either a more accurate or a more interpretable model than ridge\n",
    "regression. In order to fit a lasso model, we once again use the\n",
    "`ElasticNetCV()`  function; however, this time we use the argument\n",
    "`l1_ratio=1`. Other than that change, we proceed just as we did in\n",
    "fitting a ridge model."
   ]
  },
  {
   "cell_type": "code",
   "execution_count": 60,
   "id": "aae18029",
   "metadata": {
    "lines_to_next_cell": 2,
    "tags": []
   },
   "outputs": [
    {
     "data": {
      "text/plain": [
       "3.1472370031649866"
      ]
     },
     "execution_count": 60,
     "metadata": {},
     "output_type": "execute_result"
    }
   ],
   "source": [
    "lassoCV = skl.ElasticNetCV(n_alphas=100, \n",
    "                           l1_ratio=1,\n",
    "                           cv=kfold)\n",
    "pipeCV = Pipeline(steps=[('scaler', scaler),\n",
    "                         ('lasso', lassoCV)])\n",
    "pipeCV.fit(X, Y)\n",
    "tuned_lasso = pipeCV.named_steps['lasso']\n",
    "tuned_lasso.alpha_\n"
   ]
  },
  {
   "cell_type": "code",
   "execution_count": 61,
   "id": "b6d9dd06",
   "metadata": {
    "lines_to_next_cell": 0,
    "tags": []
   },
   "outputs": [],
   "source": [
    "lambdas, soln_array = skl.Lasso.path(Xs, \n",
    "                                    Y,\n",
    "                                    l1_ratio=1,\n",
    "                                    n_alphas=100)[:2]\n",
    "soln_path = pd.DataFrame(soln_array.T,\n",
    "                         columns=D.columns,\n",
    "                         index=-np.log(lambdas))\n"
   ]
  },
  {
   "cell_type": "markdown",
   "id": "52817006",
   "metadata": {},
   "source": [
    "We can see from the coefficient plot of the standardized coefficients that depending on the choice of\n",
    "tuning parameter, some of the coefficients will be exactly equal to\n",
    "zero."
   ]
  },
  {
   "cell_type": "code",
   "execution_count": 62,
   "id": "6e5f9a74",
   "metadata": {
    "lines_to_next_cell": 0,
    "tags": []
   },
   "outputs": [
    {
     "data": {
      "image/png": "[encoded data removed]",
      "text/plain": [
       "<Figure size 576x576 with 1 Axes>"
      ]
     },
     "metadata": {
      "needs_background": "light"
     },
     "output_type": "display_data"
    }
   ],
   "source": [
    "path_fig, ax = subplots(figsize=(8,8))\n",
    "soln_path.plot(ax=ax, legend=False)\n",
    "ax.legend(loc='upper left')\n",
    "ax.set_xlabel('$-\\log(\\lambda)$', fontsize=20)\n",
    "ax.set_ylabel('Standardized coefficiients', fontsize=20);\n"
   ]
  },
  {
   "cell_type": "markdown",
   "id": "2e1e6626",
   "metadata": {},
   "source": [
    "The smallest cross-validated error is lower than the test set MSE of the null model\n",
    "and of least squares, and very similar to the test MSE of 115526.71 of ridge\n",
    "regression  with $\\lambda$ chosen by cross-validation."
   ]
  },
  {
   "cell_type": "code",
   "execution_count": 63,
   "id": "9b57296a",
   "metadata": {
    "tags": []
   },
   "outputs": [
    {
     "data": {
      "text/plain": [
       "114690.73118253693"
      ]
     },
     "execution_count": 63,
     "metadata": {},
     "output_type": "execute_result"
    }
   ],
   "source": [
    "np.min(tuned_lasso.mse_path_.mean(1))\n"
   ]
  },
  {
   "cell_type": "markdown",
   "id": "5f35282c",
   "metadata": {},
   "source": [
    "Let’s again produce a plot of the cross-validation error.\n"
   ]
  },
  {
   "cell_type": "code",
   "execution_count": 64,
   "id": "b1b1a84a",
   "metadata": {
    "tags": []
   },
   "outputs": [
    {
     "data": {
      "image/png": "[encoded data removed]",
      "text/plain": [
       "<Figure size 576x576 with 1 Axes>"
      ]
     },
     "metadata": {
      "needs_background": "light"
     },
     "output_type": "display_data"
    }
   ],
   "source": [
    "lassoCV_fig, ax = subplots(figsize=(8,8))\n",
    "ax.errorbar(-np.log(tuned_lasso.alphas_),\n",
    "            tuned_lasso.mse_path_.mean(1),\n",
    "            yerr=tuned_lasso.mse_path_.std(1) / np.sqrt(K))\n",
    "ax.axvline(-np.log(tuned_lasso.alpha_), c='k', ls='--')\n",
    "ax.set_ylim([50000,250000])\n",
    "ax.set_xlabel('$-\\log(\\lambda)$', fontsize=20)\n",
    "ax.set_ylabel('Cross-validated MSE', fontsize=20);"
   ]
  },
  {
   "cell_type": "markdown",
   "id": "7250e5c0",
   "metadata": {},
   "source": [
    "However, the lasso has a substantial advantage over ridge regression\n",
    "in that the resulting coefficient estimates are **sparse**. Here we see\n",
    "that 6 of the 19 coefficient estimates are exactly zero. So the lasso\n",
    "model with $\\lambda$ chosen by cross-validation contains only 13\n",
    "variables."
   ]
  },
  {
   "cell_type": "code",
   "execution_count": 65,
   "id": "44246aee",
   "metadata": {
    "tags": []
   },
   "outputs": [
    {
     "data": {
      "text/plain": [
       "array([-210.01008773,  243.4550306 ,    0.        ,    0.        ,\n",
       "          0.        ,   97.69397357,  -41.52283116,   -0.        ,\n",
       "          0.        ,   39.62298193,  205.75273856,  124.55456561,\n",
       "       -126.29986768,   15.70262427,  -59.50157967,   75.24590036,\n",
       "         21.62698014,  -12.04423675,   -0.        ])"
      ]
     },
     "execution_count": 65,
     "metadata": {},
     "output_type": "execute_result"
    }
   ],
   "source": [
    "tuned_lasso.coef_\n"
   ]
  },
  {
   "cell_type": "markdown",
   "id": "bc08d038",
   "metadata": {},
   "source": [
    "As in ridge regression, we could evaluate the test error\n",
    "of cross-validated lasso by first splitting into\n",
    "test and training sets and internally running\n",
    "cross-validation on the training set. I leave\n",
    "this as an exercise."
   ]
  }
 ],
 "metadata": {
  "jupytext": {
   "cell_metadata_filter": "-all",
   "formats": "ipynb,Rmd",
   "main_language": "python"
  },
  "kernelspec": {
   "display_name": "Python 3 (ipykernel)",
   "language": "python",
   "name": "python3"
  },
  "language_info": {
   "codemirror_mode": {
    "name": "ipython",
    "version": 3
   },
   "file_extension": ".py",
   "mimetype": "text/x-python",
   "name": "python",
   "nbconvert_exporter": "python",
   "pygments_lexer": "ipython3",
   "version": "3.10.4"
  }
 },
 "nbformat": 4,
 "nbformat_minor": 5
}
