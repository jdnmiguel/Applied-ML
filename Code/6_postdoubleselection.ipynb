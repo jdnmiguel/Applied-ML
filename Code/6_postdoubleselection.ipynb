{
 "cells": [
  {
   "cell_type": "markdown",
   "metadata": {
    "slideshow": {
     "slide_type": "slide"
    }
   },
   "source": [
    "# Lab: Post-Double Selection"
   ]
  },
  {
   "cell_type": "markdown",
   "metadata": {},
   "source": [
    "Rely heavily on https://matteocourthoud.github.io/course/ml-econ/09_postdoubleselection/"
   ]
  },
  {
   "cell_type": "markdown",
   "metadata": {},
   "source": [
    "Before starting we have to install seaborn, to do so open you miniconda prompt and write `pip install seaborn`"
   ]
  },
  {
   "cell_type": "code",
   "execution_count": 184,
   "metadata": {},
   "outputs": [],
   "source": [
    "# Remove warnings\n",
    "import warnings\n",
    "warnings.filterwarnings('ignore')"
   ]
  },
  {
   "cell_type": "code",
   "execution_count": 185,
   "metadata": {
    "slideshow": {
     "slide_type": "subslide"
    }
   },
   "outputs": [],
   "source": [
    "# Import everything\n",
    "import pandas as pd\n",
    "import numpy as np\n",
    "import seaborn as sns\n",
    "import statsmodels.api as sm\n",
    "\n",
    "from numpy.linalg import inv\n",
    "from statsmodels.iolib.summary2 import summary_col\n",
    "from sklearn.model_selection import train_test_split\n",
    "from sklearn.linear_model import LinearRegression, Lasso, Ridge\n",
    "from sklearn.tree import DecisionTreeRegressor\n",
    "from sklearn.ensemble import RandomForestRegressor, GradientBoostingRegressor\n",
    "from sklearn.preprocessing import PolynomialFeatures, StandardScaler"
   ]
  },
  {
   "cell_type": "code",
   "execution_count": 186,
   "metadata": {
    "slideshow": {
     "slide_type": "subslide"
    }
   },
   "outputs": [],
   "source": [
    "# Import matplotlib for graphs\n",
    "import matplotlib.pyplot as plt\n",
    "from mpl_toolkits.mplot3d import axes3d\n",
    "\n",
    "# Set global parameters\n",
    "%matplotlib inline\n",
    "plt.style.use('seaborn-white')\n",
    "plt.rcParams['lines.linewidth'] = 3\n",
    "plt.rcParams['figure.figsize'] = (10,6)\n",
    "plt.rcParams['figure.titlesize'] = 20\n",
    "plt.rcParams['axes.titlesize'] = 18\n",
    "plt.rcParams['axes.labelsize'] = 14\n",
    "plt.rcParams['legend.fontsize'] = 14"
   ]
  },
  {
   "cell_type": "markdown",
   "metadata": {
    "slideshow": {
     "slide_type": "slide"
    }
   },
   "source": [
    "## 1 Frisch-Waugh theorem"
   ]
  },
  {
   "cell_type": "markdown",
   "metadata": {
    "slideshow": {
     "slide_type": "slide"
    }
   },
   "source": [
    "Consider the data $D = \\{ x_i, y_i, z_i \\}_{i=1}^n$ with DGP:\n",
    "\n",
    "$$\n",
    "y_i = x_i' \\alpha_0+ z_i' \\beta_0 + \\varepsilon_i\n",
    "$$\n",
    ". The Frisch-Waugh-Lowell theorem is telling us that there are multiple ways to estimate a single regression coefficient. It shows that the following estimators of $\\alpha$ are numerically equivalent:\n",
    "\n",
    "- OLS: $\\hat{\\alpha}$ (estimates of $\\alpha$) from regressing $y$ on $x, z$\n",
    "    - the OLS estimator obtained by regressing $y$ on $x$ and $z$\n",
    "- Partialling out (or residualization): $\\tilde{\\alpha}$ from regressing $y$ on $\\tilde{x}$\n",
    "    - the OLS estimator obtained by regressing $y$ on $\\tilde{x}$, where $\\tilde{x}$ is the residual from the regression of $x$ on $z$\n",
    "- \"Double\" partialling out: $\\bar{\\alpha}$ from regressing $\\tilde{y}$ on $\\tilde{x}$\n",
    "     - OLS estimator obtained by regressing $\\tilde{y}$ on $\\tilde{x}$, where  $\\tilde{y}$ is the residual from the regression of $y$ on $z$\n",
    "     \n",
    "where the operation of passing to $y, x$ to $\\tilde{y}, \\tilde{x}$ is called *projection  out $z$*, e.g. $\\tilde{x}$ are the residuals from regressing $x$ on $z$."
   ]
  },
  {
   "cell_type": "markdown",
   "metadata": {
    "slideshow": {
     "slide_type": "slide"
    }
   },
   "source": [
    "In reality, we have done the following:\n",
    " 1. regress $x$ on $z$\n",
    " 2. compute $\\hat x$: estimates \n",
    " 3. compute the residuals $\\tilde x = x - \\hat x$\n",
    " \n",
    " \n",
    " Why do we care about the FWT? Well, the DDML and PDS applied it to have consistent and unbiased estimates. "
   ]
  },
  {
   "cell_type": "markdown",
   "metadata": {
    "slideshow": {
     "slide_type": "slide"
    }
   },
   "source": [
    "## 2 Omitted Variable Bias"
   ]
  },
  {
   "cell_type": "markdown",
   "metadata": {
    "slideshow": {
     "slide_type": "slide"
    }
   },
   "source": [
    "Consider two separate statistical models. Assume the following **long regression** of interest:\n",
    "\n",
    "$$\n",
    "y_i = x_i' \\alpha_0+ z_i' \\beta_0 + \\varepsilon_i\n",
    "$$\n",
    "\n",
    "Define the corresponding **short regression** as\n",
    "\n",
    "$$\n",
    "y_i = x_i' \\alpha_0 + v_i \\quad \\text{ with } \\quad x_i = z_i' \\gamma_0 + u_i\n",
    "$$"
   ]
  },
  {
   "cell_type": "markdown",
   "metadata": {
    "slideshow": {
     "slide_type": "slide"
    }
   },
   "source": [
    "#### OVB Theorem\n",
    "\n",
    "Suppose that the DGP for the long regression corresponds to $\\alpha_0$, $\\beta_0$. Suppose further that $\\mathbb E[x_i] = 0$, $\\mathbb E[z_i] = 0$, $\\mathbb E[\\varepsilon_i |x_i,z_i] = 0$. Then, unless $\\beta_0 = 0$ or $z_i$ is orthogonal to $x_i$, the (sole) stochastic regressor $x_i$ is correlated with the error term in the short regression which implies that the OLS estimator of the short regression is inconsistent for $\\alpha_0$ due to the omitted variable bias. In particular, one can show that the plim of the OLS estimator of $\\hat{\\alpha}_{SHORT}$ from the short regression is\n",
    "\n",
    "$$\n",
    "\\hat{\\alpha}_{SHORT} \\overset{p}{\\to} \\frac{Cov(y_i, x_i)}{Var(x_i)} = \\alpha_0 + \\beta_0 \\frac{Cov(z_i, x_i)}{Var(x_i)}\n",
    "$$"
   ]
  },
  {
   "cell_type": "markdown",
   "metadata": {
    "slideshow": {
     "slide_type": "slide"
    }
   },
   "source": [
    "## 3 Pre-Test Bias"
   ]
  },
  {
   "cell_type": "markdown",
   "metadata": {
    "slideshow": {
     "slide_type": "slide"
    }
   },
   "source": [
    "Consider data $D= (y_i, x_i, z_i)_{i=1}^n$, where the true model is:\n",
    "\n",
    "$$\n",
    "\\begin{aligned}\n",
    "& y_i = x_i' \\alpha_0  + z_i' \\beta_0 + \\varepsilon_i \\\\\n",
    "& x_i = z_i' \\gamma_0 + u_i\n",
    "\\end{aligned}\n",
    "$$\n",
    "\n",
    "Where $x_i$ is the variable of interest (we want to make inference on $\\alpha_0$) and $z_i$ is a high dimensional set of control variables. "
   ]
  },
  {
   "cell_type": "markdown",
   "metadata": {
    "slideshow": {
     "slide_type": "slide"
    }
   },
   "source": [
    "From now on, we will work under the following assumptions:\n",
    "\n",
    "- $\\dim(x_i)=1$ for all $n$\n",
    "- $\\beta_0$ uniformely bounded in $n$\n",
    "- Strict exogeneity: $\\mathbb E[\\varepsilon_i | x_i, z_i] = 0$ and $\\mathbb E[u_i | z_i] = 0$\n",
    "- $\\beta_0$ and $\\gamma_0$ have dimension (and hence value) that depend on $n$"
   ]
  },
  {
   "cell_type": "markdown",
   "metadata": {
    "slideshow": {
     "slide_type": "slide"
    }
   },
   "source": [
    "Pre-Testing procedure:\n",
    "\n",
    "1. Regress $y_i$ on $x_i$ and $z_i$\n",
    "2. For each $j = 1, ..., p = \\dim(z_i)$ calculate a test statistic $t_j$\n",
    "3. Let $\\hat{T} = \\{ j: |t_j| > C > 0 \\}$ for some constant $C$ (set of statistically significant coefficients).\n",
    "4. Re-run the new \"model\" using $(x_i, z_{\\hat{T},i})$ (i.e. using the selected covariates with statistically significant coefficients).\n",
    "5. Perform statistical inference (i.e. confidence intervals and hypothesis tests) as if no model selection had been done.\n",
    "\n",
    "Pre-testing leads to incorrect inference. Why? Because of test errors in the first stage."
   ]
  },
  {
   "cell_type": "code",
   "execution_count": 47,
   "metadata": {},
   "outputs": [],
   "source": [
    "np.random.seed(1)\n",
    "\n",
    "# Init\n",
    "n = 1000\n",
    "a = 1\n",
    "b = -.3\n",
    "# Generate data\n",
    "x = np.random.uniform(0,1,n).reshape(-1,1)\n",
    "z = np.random.uniform(0,1,n).reshape(-1,1)\n",
    "e = np.random.normal(0,1,n).reshape(-1,1)\n",
    "y = a*x + b*z + e"
   ]
  },
  {
   "cell_type": "code",
   "execution_count": 48,
   "metadata": {
    "slideshow": {
     "slide_type": "subslide"
    }
   },
   "outputs": [],
   "source": [
    "# T-test\n",
    "def t_test(y, x, k):\n",
    "    beta_hat = inv(x.T @ x) @ x.T @ y\n",
    "    residuals = y - x @ beta_hat\n",
    "    sigma2_hat = np.var(residuals)\n",
    "    beta_std = np.sqrt(np.diag(inv(x.T @ x)) * sigma2_hat )\n",
    "    return beta_hat[k,0]/beta_std[k]"
   ]
  },
  {
   "cell_type": "markdown",
   "metadata": {
    "slideshow": {
     "slide_type": "slide"
    }
   },
   "source": [
    "First of all the t-test for $H_0: \\beta_0 = 0$:\n",
    "\n",
    "$$\n",
    "t = \\frac{\\hat \\beta_k}{\\hat \\sigma_{\\beta_k}}\n",
    "$$\n",
    "\n",
    "where the standard deviation of the ols coefficient is given by\n",
    "\n",
    "$$\n",
    "\\hat \\sigma_{\\beta_k} = \\sqrt{ \\hat \\sigma^2 \\cdot (X'X)^{-1}_{[k,k]} }\n",
    "$$\n",
    "\n",
    "where we estimate the variance of the error term with the variance of the residuals\n",
    "\n",
    "$$\n",
    "\\hat \\sigma^2 = Var \\big( y - \\hat y \\big) = Var \\big( y - X (X'X)^{-1}X'y \\big)\n",
    "$$"
   ]
  },
  {
   "cell_type": "code",
   "execution_count": 49,
   "metadata": {
    "slideshow": {
     "slide_type": "subslide"
    }
   },
   "outputs": [],
   "source": [
    "# Pre-testing\n",
    "def pre_testing(a, b, c, n, simulations=1000):\n",
    "    np.random.seed(1)\n",
    "    \n",
    "    # Init\n",
    "    alpha = {'Long': np.zeros((simulations,1)),\n",
    "            'Short': np.zeros((simulations,1)),\n",
    "            'Pre-test': np.zeros((simulations,1))}\n",
    "\n",
    "    # Loop over simulations\n",
    "    for i in range(simulations):\n",
    "        \n",
    "        # Generate data\n",
    "        x, y, z = generate_data(a, b, c, n)\n",
    "        xz = np.concatenate([x,z], axis=1)\n",
    "        \n",
    "        # Compute coefficients\n",
    "        alpha['Long'][i] = (inv(xz.T @ xz) @ xz.T @ y)[0][0]\n",
    "        alpha['Short'][i] = inv(x.T @ x) @ x.T @ y\n",
    "        \n",
    "        # Compute significance of z on y\n",
    "        t = t_test(y, xz, 1)\n",
    "        \n",
    "        # Select specification based on test\n",
    "        if np.abs(t)>1.96:\n",
    "            alpha['Pre-test'][i] = alpha['Long'][i]\n",
    "        else:\n",
    "            alpha['Pre-test'][i] = alpha['Short'][i]\n",
    "    \n",
    "    return alpha"
   ]
  },
  {
   "cell_type": "markdown",
   "metadata": {
    "slideshow": {
     "slide_type": "slide"
    }
   },
   "source": [
    "Let's compare the different estimates."
   ]
  },
  {
   "cell_type": "code",
   "execution_count": 50,
   "metadata": {
    "slideshow": {
     "slide_type": "fragment"
    }
   },
   "outputs": [
    {
     "name": "stdout",
     "output_type": "stream",
     "text": [
      "Mean alpha Long = 0.9994\n",
      "Mean alpha Short = 0.9095\n",
      "Mean alpha Pre-test = 0.9925\n"
     ]
    }
   ],
   "source": [
    "# Get pre_test alpha\n",
    "alpha = pre_testing(a, b, c, n)\n",
    "\n",
    "for key, value in alpha.items():\n",
    "    print('Mean alpha %s = %.4f' % (key, np.mean(value)))"
   ]
  },
  {
   "cell_type": "markdown",
   "metadata": {
    "slideshow": {
     "slide_type": "slide"
    }
   },
   "source": [
    "The pre-testing coefficient is very close to the true coefficient.\n",
    "\n",
    "However, the main effect of pre-testing is on inference. With pre-testing, the distribution of the estimator is not gaussian anymore. "
   ]
  },
  {
   "cell_type": "code",
   "execution_count": 51,
   "metadata": {
    "slideshow": {
     "slide_type": "subslide"
    }
   },
   "outputs": [],
   "source": [
    "def plot_alpha(alpha, a):\n",
    "    \n",
    "    fig = plt.figure(figsize=(17,6))\n",
    "\n",
    "    # Plot distributions\n",
    "    x_max = np.max([np.max(np.abs(x-a)) for x in alpha.values()])\n",
    "\n",
    "    # All axes\n",
    "    for i, key in enumerate(alpha.keys()):\n",
    "        \n",
    "        # Reshape exisiting subplots\n",
    "        k = len(fig.axes)\n",
    "        for i in range(k):\n",
    "            fig.axes[i].change_geometry(1, k+1, i+1)\n",
    "            \n",
    "        # Add new plot\n",
    "        ax = fig.add_subplot(1, k+1, k+1)\n",
    "        ax.hist(alpha[key], bins=30)\n",
    "        ax.set_title(key)\n",
    "        ax.set_xlim([a-x_max, a+x_max])\n",
    "        ax.axvline(a, c='r', ls='--')\n",
    "        legend_text = [r'$\\alpha_0=%.0f$' % a, r'$\\hat \\alpha=%.4f$' % np.mean(alpha[key])]\n",
    "        ax.legend(legend_text, prop={'size': 10})"
   ]
  },
  {
   "cell_type": "markdown",
   "metadata": {
    "slideshow": {
     "slide_type": "slide"
    }
   },
   "source": [
    "Let's compare the long, short and pre-test estimators."
   ]
  },
  {
   "cell_type": "code",
   "execution_count": 57,
   "metadata": {
    "slideshow": {
     "slide_type": "fragment"
    }
   },
   "outputs": [
    {
     "data": {
      "image/png": "[encoded data removed]",
      "text/plain": [
       "<Figure size 1224x432 with 4 Axes>"
      ]
     },
     "metadata": {},
     "output_type": "display_data"
    }
   ],
   "source": [
    "# Plot\n",
    "plot_alpha(alpha, a)"
   ]
  },
  {
   "cell_type": "markdown",
   "metadata": {
    "slideshow": {
     "slide_type": "slide"
    }
   },
   "source": [
    "As we can see, the main problem of pre-testing is inference.\n",
    "\n",
    "Because of the testing procedure, the distribution of the estimator is a combination of two different distributions: the one resulting from the long regression and the one resulting from the short regression. \n",
    "\n",
    "**Pre-testing is not a problem in 3 cases**:\n",
    "\n",
    " - when $\\beta_0$ is very large: in this case the test always rejects the null hypothesis $H_0 : \\beta_0=0$ and we always run the correct specification, i.e. the long regression\n",
    " \n",
    " - when $\\beta_0$ is very small: in this case the test has very little power. However, as we saw from the Omitted Variable Bias formula, the bias is small.\n",
    " \n",
    " - when $\\gamma_0$ is very small: also in this case the test has very little power. However, as we saw from the Omitted Variable Bias formula, the bias is small."
   ]
  },
  {
   "cell_type": "markdown",
   "metadata": {
    "slideshow": {
     "slide_type": "slide"
    }
   },
   "source": [
    "### Pre-Testing and Machine Learning"
   ]
  },
  {
   "cell_type": "markdown",
   "metadata": {
    "slideshow": {
     "slide_type": "fragment"
    }
   },
   "source": [
    "How are machine learning and pre-testing related? The best example is Lasso. Suppose you have a dataset with many variables. This means that you have very few degrees of freedom and your OLS estimates are going to be very imprecise. At the extreme, you have more variables than observations so that your OLS coefficient is undefined since you cannot invert the design matrix $X'X$.\n",
    "\n",
    "In this case, you might want to do variable selection. One way of doing variable selection is pre-testing. Another way is Lasso. A third alternative is to use machine learning methods that do not suffer this curse of dimensionality.\n",
    "\n",
    "The purpose and outcome of pre-testing and Lasso are the same:\n",
    "\n",
    " - you **have too many variables**\n",
    " - you **exclude some of them from the regression / set their coefficients to zero**\n",
    " \n",
    "As a consequence, also the problems are the same, i.e. pre-test bias."
   ]
  },
  {
   "cell_type": "markdown",
   "metadata": {
    "slideshow": {
     "slide_type": "slide"
    }
   },
   "source": [
    "## 4 Post-Double Selection"
   ]
  },
  {
   "cell_type": "markdown",
   "metadata": {
    "slideshow": {
     "slide_type": "slide"
    }
   },
   "source": [
    "Consider again data $D= (y_i, x_i, z_i)_{i=1}^n$, where the true model is:\n",
    "\n",
    "$$\n",
    "\\begin{aligned}\n",
    "& y_i = x_i' \\alpha_0  + z_i' \\beta_0 + \\varepsilon_i \\\\\n",
    "& x_i = z_i' \\gamma_0 + u_i\n",
    "\\end{aligned}\n",
    "$$\n",
    "\n",
    " A good pathway towards motivating procedures which guard against pretest bias is a discussion of classical partitioned regression."
   ]
  },
  {
   "cell_type": "markdown",
   "metadata": {
    "slideshow": {
     "slide_type": "slide"
    }
   },
   "source": [
    "Consider a regression $y_i$ on $x_i$ and $z_i$. $x_i$ is the 1-dimensional variable of interest, $z_i$ is a high-dimensional set of control variables. We have the following procedure:\n",
    "\n",
    "1. **First Stage** selection: regress $x_i$ on $z_i$. Select the statistically significant variables in the set $S_{FS} \\subseteq z_i$\n",
    "2. **Reduced Form** selection: lasso $y_i$ on $z_i$. Select the statistically significant variables in the set $S_{RF} \\subseteq z_i$\n",
    "3. Regress $y_i$ on $x_i$ and $S_{FS} \\cup S_{RF}$"
   ]
  },
  {
   "cell_type": "markdown",
   "metadata": {
    "slideshow": {
     "slide_type": "slide"
    }
   },
   "source": [
    "**Theorem**:\n",
    "Let $\\{P^n\\}$ be a sequence of data-generating processes for $D_n = (y_i, x_i, z_i)^n_{i=1} \\in (\\mathbb R \\times \\mathbb R \\times \\mathbb R^p) ^n$ where $p$ depends on $n$. For each $n$, the data are iid with $yi =  x_i'\\alpha_0^{(n)} + z_i' \\beta_0^{(n)} + \\varepsilon_i$ and $x_i = z_i' \\gamma_0^{(n)} + u_i$ where $\\mathbb E[\\varepsilon_i | x_i,z_i] = 0$ and $\\mathbb E[u_i|z_i] = 0$. The sparsity of the vectors  $\\beta_0^{(n)}$, $\\gamma_0^{(n)}$ is controlled by $|| \\beta_0^{(n)} ||_0 \\leq s$ with $s^2 (\\log p)^2/n \\to 0$. Suppose that additional regularity conditions on the model selection procedures and moments of the random variables $y_i$ , $x_i$ , $z_i$ as documented in Belloni et al. (2014). Then the confidence intervals, CI, from the post double selection procedure are uniformly valid. That is, for any confidence level $\\xi \\in (0, 1)$\n",
    "$$\n",
    "\t\t\\Pr(\\alpha_0 \\in CI) \\to 1- \\xi\n",
    "$$"
   ]
  },
  {
   "cell_type": "markdown",
   "metadata": {
    "slideshow": {
     "slide_type": "slide"
    }
   },
   "source": [
    "In order to have valid confidence intervals you want their bias to be negligibly. Since\n",
    "$$\n",
    "  CI = \\left[ \\hat{\\alpha} \\pm \\frac{1.96 \\cdot \\hat{\\sigma}}{\\sqrt{n}} \\right]\n",
    "$$\n",
    "\n",
    "If the bias is $o \\left( \\frac{1}{\\sqrt{n}} \\right)$ then there is no problem since it is asymptotically negligible w.r.t. the magnitude of the confidence interval. If however the the bias is $O \\left( \\frac{1}{\\sqrt{n}} \\right)$ then it has the same magnitude of the confidence interval and it does not asymptotically vanish. "
   ]
  },
  {
   "cell_type": "markdown",
   "metadata": {
    "slideshow": {
     "slide_type": "slide"
    }
   },
   "source": [
    "The idea of the proof is to use partitioned regression. An alternative way to think about the argument is: bound the omitted variables bias. Omitted variable bias comes from the product of 2 quantities related to the omitted variable:\n",
    "\n",
    "1. Its partial correlation with the outcome, and\n",
    "2. Its partial correlation with the variable of interest.\n",
    "\n",
    "If both those partial correlations are $O( \\sqrt{\\log p/n})$, then the omitted variables bias is $(s \\times O( \\sqrt{\\log p/n})^2 = o \\left( \\frac{1}{\\sqrt{n}} \\right)$, provided $s^2 (\\log p)^2/n \\to 0$. Relative to the $ \\frac{1}{\\sqrt{n}} $ convergence rate, the omitted variables bias is negligible. "
   ]
  },
  {
   "cell_type": "markdown",
   "metadata": {
    "slideshow": {
     "slide_type": "slide"
    }
   },
   "source": [
    "In our omitted variable bias case, we want $| \\beta_0 \\gamma_0 | = o \\left( \\frac{1}{\\sqrt{n}} \\right)$.  Post-double selection guarantees that \n",
    "\n",
    "- *Reduced form* selection (pre-testing): any \"missing\" variable has $|\\beta_{0j}| \\leq \\frac{c}{\\sqrt{n}}$\n",
    "- *First stage* selection (additional): any \"missing\" variable has $|\\gamma_{0j}| \\leq \\frac{c}{\\sqrt{n}}$\n",
    "\n",
    "\n",
    "As a consequence, as long as the number of omitted variables is finite, the omitted variable bias is \n",
    "$$\n",
    "\tOVB(\\alpha) = |\\beta_{0j}| \\cdot|\\gamma_{0j}| \\leq \\frac{c}{\\sqrt{n}} \\cdot \\frac{c}{\\sqrt{n}} = \\frac{c^2}{n} = o \\left(\\frac{1}{\\sqrt{n}}\\right)\n",
    "$$"
   ]
  },
  {
   "cell_type": "code",
   "execution_count": 58,
   "metadata": {
    "slideshow": {
     "slide_type": "subslide"
    }
   },
   "outputs": [],
   "source": [
    "# Pre-testing code\n",
    "def post_double_selection(a, b, c, n, simulations=1000):\n",
    "    np.random.seed(1)\n",
    "    \n",
    "    # Init\n",
    "    alpha = {'Long': np.zeros((simulations,1)),\n",
    "            'Short': np.zeros((simulations,1)),\n",
    "            'Pre-test': np.zeros((simulations,1)),\n",
    "            'Post-double': np.zeros((simulations,1))}\n",
    "\n",
    "    # Loop over simulations\n",
    "    for i in range(simulations):\n",
    "        \n",
    "        # Generate data\n",
    "        x, y, z = generate_data(a, b, c, n)\n",
    "        \n",
    "        # Compute coefficients\n",
    "        xz = np.concatenate([x,z], axis=1)\n",
    "        alpha['Long'][i] = (inv(xz.T @ xz) @ xz.T @ y)[0][0]\n",
    "        alpha['Short'][i] = inv(x.T @ x) @ x.T @ y\n",
    "        \n",
    "        # Compute significance of z on y (beta hat)\n",
    "        t1 = t_test(y, xz, 1)\n",
    "        \n",
    "        # Compute significance of z on x (gamma hat)\n",
    "        t2 = t_test(x, z, 0)\n",
    "        \n",
    "        # Select specification based on first test\n",
    "        if np.abs(t1)>1.96:\n",
    "            alpha['Pre-test'][i] = alpha['Long'][i]\n",
    "        else:\n",
    "            alpha['Pre-test'][i] = alpha['Short'][i]\n",
    "            \n",
    "        # Select specification based on both tests\n",
    "        if np.abs(t1)>1.96 or np.abs(t2)>1.96:\n",
    "            alpha['Post-double'][i] = alpha['Long'][i]\n",
    "        else:\n",
    "            alpha['Post-double'][i] = alpha['Short'][i]\n",
    "    \n",
    "    return alpha"
   ]
  },
  {
   "cell_type": "markdown",
   "metadata": {
    "slideshow": {
     "slide_type": "slide"
    }
   },
   "source": [
    "Let's now repeat the same exercise as above, but with also post-double selection "
   ]
  },
  {
   "cell_type": "code",
   "execution_count": 59,
   "metadata": {
    "slideshow": {
     "slide_type": "fragment"
    }
   },
   "outputs": [
    {
     "name": "stdout",
     "output_type": "stream",
     "text": [
      "Mean alpha Long = 0.9994\n",
      "Mean alpha Short = 0.9095\n",
      "Mean alpha Pre-test = 0.9925\n",
      "Mean alpha Post-double = 0.9994\n"
     ]
    }
   ],
   "source": [
    "# Get pre_test alpha\n",
    "alpha = post_double_selection(a, b, c, n)\n",
    "\n",
    "for key, value in alpha.items():\n",
    "    print('Mean alpha %s = %.4f' % (key, np.mean(value)))"
   ]
  },
  {
   "cell_type": "code",
   "execution_count": 56,
   "metadata": {
    "slideshow": {
     "slide_type": "slide"
    }
   },
   "outputs": [
    {
     "data": {
      "image/png": "[encoded data removed]",
      "text/plain": [
       "<Figure size 1224x432 with 4 Axes>"
      ]
     },
     "metadata": {},
     "output_type": "display_data"
    }
   ],
   "source": [
    "# Plot\n",
    "plot_alpha(alpha, a)"
   ]
  },
  {
   "cell_type": "markdown",
   "metadata": {
    "slideshow": {
     "slide_type": "slide"
    }
   },
   "source": [
    "As we can see, post-double selection has solved the pre-testing problem. Does it work for any magnitude of $\\beta$ (relative to the sample size)?\n",
    "\n",
    "We first have a look at the case in which the sample size is fixed and $\\beta_0$ changes."
   ]
  },
  {
   "cell_type": "code",
   "execution_count": 60,
   "metadata": {
    "slideshow": {
     "slide_type": "fragment"
    }
   },
   "outputs": [
    {
     "name": "stdout",
     "output_type": "stream",
     "text": [
      "Mean alpha with beta=-0.03: 0.9994\n",
      "Mean alpha with beta=-0.09: 0.9994\n",
      "Mean alpha with beta=-0.30: 0.9994\n",
      "Mean alpha with beta=-0.90: 0.9994\n"
     ]
    }
   ],
   "source": [
    "# Case 1: different betas and same sample size\n",
    "b_sequence = b*np.array([0.1,0.3,1,3])\n",
    "alpha = {}\n",
    "\n",
    "# Get sequence\n",
    "for k, b_ in enumerate(b_sequence):\n",
    "    label = 'beta = %.2f' % b_\n",
    "    alpha[label] = post_double_selection(a, b_, c, n)['Post-double']\n",
    "    print('Mean alpha with beta=%.2f: %.4f' % (b_, np.mean(alpha[label])))"
   ]
  },
  {
   "cell_type": "code",
   "execution_count": 26,
   "metadata": {
    "slideshow": {
     "slide_type": "slide"
    }
   },
   "outputs": [
    {
     "data": {
      "image/png": "[encoded data removed]",
      "text/plain": [
       "<Figure size 1224x432 with 4 Axes>"
      ]
     },
     "metadata": {},
     "output_type": "display_data"
    }
   ],
   "source": [
    "# Plot\n",
    "plot_alpha(alpha, a)"
   ]
  },
  {
   "cell_type": "markdown",
   "metadata": {},
   "source": [
    "Post-double selection always selects the correct specification, the long regression, even when $\\beta$ is very small."
   ]
  },
  {
   "cell_type": "markdown",
   "metadata": {
    "slideshow": {
     "slide_type": "slide"
    }
   },
   "source": [
    "Now we check the same but for fixed $\\beta_0$ and different sample sizes."
   ]
  },
  {
   "cell_type": "code",
   "execution_count": 61,
   "metadata": {
    "slideshow": {
     "slide_type": "fragment"
    }
   },
   "outputs": [
    {
     "name": "stdout",
     "output_type": "stream",
     "text": [
      "Mean alpha with n=100: 0.9964\n",
      "Mean alpha with n=300: 0.9985\n",
      "Mean alpha with n=1000: 0.9994\n",
      "Mean alpha with n=3000: 0.9990\n"
     ]
    }
   ],
   "source": [
    "# Case 2: same beta and different sample sizes\n",
    "n_sequence = [100,300,1000,3000]\n",
    "alpha = {}\n",
    "\n",
    "# Get sequence\n",
    "for k, n_ in enumerate(n_sequence):\n",
    "    label = 'N = %.0f' % n_\n",
    "    alpha[label] = post_double_selection(a, b, c, n_)['Post-double']\n",
    "    print('Mean alpha with n=%.0f: %.4f' % (n_, np.mean(alpha[label])))"
   ]
  },
  {
   "cell_type": "code",
   "execution_count": 28,
   "metadata": {
    "slideshow": {
     "slide_type": "slide"
    }
   },
   "outputs": [
    {
     "data": {
      "image/png": "[encoded data removed]",
      "text/plain": [
       "<Figure size 1224x432 with 4 Axes>"
      ]
     },
     "metadata": {},
     "output_type": "display_data"
    }
   ],
   "source": [
    "# Plot\n",
    "plot_alpha(alpha, a)"
   ]
  },
  {
   "cell_type": "markdown",
   "metadata": {},
   "source": [
    "Post-double selection always selects the correct specification, the long regression, even when the sample size is very small."
   ]
  },
  {
   "cell_type": "markdown",
   "metadata": {
    "slideshow": {
     "slide_type": "slide"
    }
   },
   "source": [
    "Last, we check the case of $\\beta_0$ proportional to $\\frac{1}{\\sqrt{n}}$."
   ]
  },
  {
   "cell_type": "code",
   "execution_count": 62,
   "metadata": {
    "slideshow": {
     "slide_type": "fragment"
    }
   },
   "outputs": [
    {
     "name": "stdout",
     "output_type": "stream",
     "text": [
      "Mean alpha with n=100: 0.9964\n",
      "Mean alpha with n=300: 0.9985\n",
      "Mean alpha with n=1000: 0.9994\n",
      "Mean alpha with n=3000: 0.9990\n"
     ]
    }
   ],
   "source": [
    "# Case 3: beta proportional to 1/sqrt(n) and different sample sizes\n",
    "beta =  b * 30 / np.sqrt(n_sequence)\n",
    "\n",
    "# Get sequence\n",
    "alpha = {}\n",
    "for k, n_ in enumerate(n_sequence):\n",
    "    label = 'N = %.0f' % n_\n",
    "    alpha[label] = post_double_selection(a, beta[k], c, n_)['Post-double']\n",
    "    print('Mean alpha with n=%.0f: %.4f' % (n_, np.mean(alpha[label])))"
   ]
  },
  {
   "cell_type": "code",
   "execution_count": 30,
   "metadata": {
    "slideshow": {
     "slide_type": "slide"
    }
   },
   "outputs": [
    {
     "data": {
      "image/png": "[encoded data removed]",
      "text/plain": [
       "<Figure size 1224x432 with 4 Axes>"
      ]
     },
     "metadata": {},
     "output_type": "display_data"
    }
   ],
   "source": [
    "# Plot\n",
    "plot_alpha(alpha, a)"
   ]
  },
  {
   "cell_type": "markdown",
   "metadata": {},
   "source": [
    "Once again post-double selection always selects the correct specification, the long regression."
   ]
  },
  {
   "cell_type": "markdown",
   "metadata": {
    "slideshow": {
     "slide_type": "slide"
    }
   },
   "source": [
    "### Post-double Selection and Machine Learning"
   ]
  },
  {
   "cell_type": "markdown",
   "metadata": {
    "slideshow": {
     "slide_type": "fragment"
    }
   },
   "source": [
    "As we have seen at the end of the previous section, Lasso can be used to perform variable selection in high dimensional settings. Therefore, post-double selection solves the pre-test bias problem in those settings. The post-double selection procedure with Lasso is:\n",
    "\n",
    "1. **First Stage** selection: lasso $x_i$ on $z_i$. Let the selected variables be collected in the set $S_{FS} \\subseteq z_i$\n",
    "2. **Reduced Form** selection: lasso $y_i$ on $z_i$. Let the selected variables be collected in the set $S_{RF} \\subseteq z_i$\n",
    "3. Regress $y_i$ on $x_i$ and $S_{FS} \\cup S_{RF}$"
   ]
  },
  {
   "cell_type": "markdown",
   "metadata": {
    "slideshow": {
     "slide_type": "slide"
    }
   },
   "source": [
    "## 5 Double/debiased Machine Learning"
   ]
  },
  {
   "cell_type": "markdown",
   "metadata": {},
   "source": [
    "This section is based on [Chernozhukov, V., Chetverikov, D., Demirer, M., Duflo, E., Hansen, C., Newey, W., & Robins, J. (2018). \"*Double/debiased machine learning for treatment and structural parameters*\"](https://onlinelibrary.wiley.com/doi/abs/10.1111/ectj.12097).\n",
    "\n",
    "The objectives are threefold: \n",
    "   1. Build a general framework to estimate causal effects using ML\n",
    "   2. Have confidence intervals for those estimates\n",
    "   3. Have an estimator with good convergence and efficient properties\n",
    "\n",
    "It comes from two body of litterature: \n",
    " 1. ML which relies on non parametric or semi parametric methods\n",
    " 2. Theoretical work about non parametric and semi parametric estimation methods\n",
    "The DML is connexion between them."
   ]
  },
  {
   "cell_type": "markdown",
   "metadata": {
    "slideshow": {
     "slide_type": "slide"
    }
   },
   "source": [
    "Consider the following partially linear model\n",
    "\n",
    "$$\n",
    "y = \\beta_0 D + g_0(X) + u \\\\\n",
    "D = m_0(X) + v\n",
    "$$\n",
    "\n",
    "where $y$ is the outcome variable, $D$ is the treatment to interest and $X$ is a potentially high-dimensional set of controls. The dependency in D is modeled through $m_0(X)$ (i.e., effect of $X$ on $D$) and modeled through $g_0(X)$ in $y$."
   ]
  },
  {
   "cell_type": "markdown",
   "metadata": {},
   "source": [
    "The objective is to get a root n-consistent estimator and the confidence intervals of $\\beta_0$ in presence of the nuisance parameter $\\mu_0 = (g_0 ; m_0)$. \n",
    "\n",
    "The next natural question is why do we need to use Machine Learning? \n",
    " 1. The power of ML for modellign function and/or expecation\n",
    " 2. ML models are better at predicting than traditional statistical methods when dealing with high-dimensional data\n",
    " 3. ML does not impose strong assumption on the functional forms of the nuisance parameters but learn these from the data"
   ]
  },
  {
   "cell_type": "markdown",
   "metadata": {
    "slideshow": {
     "slide_type": "slide"
    }
   },
   "source": [
    "#### Naive approach\n",
    "\n",
    "A naive approach to estimation of $\\beta_0$ using ML methods would be, for example, to construct a sophisticated ML estimator $\\beta_0 D + g_0(X)$ for learning the regression function $\\beta_0 D$ + $g_0(X)$.\n",
    "\n",
    "1. Split the sample in two: main sample and auxiliary sample\n",
    "2. Use the auxiliary sample to estimate $\\hat g_0(X)$\n",
    "3. Use the main sample to compute the orthogonalized component of $Y$ on $X$: $\\hat u = \\left(Y_{i}-\\hat{g}_{0}\\left(X_{i}\\right)\\right)$ \n",
    "3. Use the main sample to estimate the residualized OLS estimator\n",
    "\n",
    "$$\n",
    "\\hat{\\beta}_{0}=\\left(\\frac{1}{n} \\sum_{i \\in I} D_{i}^{2}\\right)^{-1} \\frac{1}{n} \\sum_{i \\in I} D_{i} \\hat u_i\n",
    "$$\n",
    "\n",
    "This estimator is not the best because of the slow rate of convergence, i.e. slower than $\\sqrt(n)$\n",
    "\n",
    "This estimator is going to be biased (with respect to a normal ditribtuion) because $g_0(X) \\neq E[y | x]$. Then, we can't get a good estimate of $g_0(X)$ by regression $y$ on $X$ **BUT** we can have good prediction of $y$ given $X$ and $D$.\n",
    "\n",
    "The bias comes from two sources:\n",
    "1. Regularization (we are doign variable selection): solve it using different means of orthogonalization \n",
    "2. Overfitting: employ cross-fitting methods"
   ]
  },
  {
   "cell_type": "markdown",
   "metadata": {
    "slideshow": {
     "slide_type": "slide"
    }
   },
   "source": [
    "#### Orthogonalization\n",
    "Remeber the FWL theorem we have seen? It is now time to rely on it.\n",
    "Now consider a second construction that employs an orthogonalized formulation obtained by directly partialling out the effect of $X$ from $D$ to obtain the orthogonalized regressor $v = D − m_0(X)$.\n",
    "\n",
    "1. Split the sample in two: main (test) sample and auxiliary (train) sample\n",
    "2. Use the auxiliary sample to estimate $\\hat g_0(X)$ from\n",
    "    \n",
    "    $$\n",
    "    y = \\beta_0 D + g_0(X) + u \\\\\n",
    "    $$\n",
    "\n",
    "\n",
    "3. Use the auxiliary sample to estimate $\\hat m_0(X)$ from\n",
    "\n",
    "    $$\n",
    "    D = m_0(X) + v\n",
    "    $$\n",
    "\n",
    "\n",
    "4. Use the main sample to compute the orthogonalized component (residuals) of $D$ on $X$ as\n",
    "\n",
    "    $$\n",
    "    \\hat v = D - \\hat m_0(X)\n",
    "    $$\n",
    "    \n",
    "    \n",
    "5. Use the main sample to estimate the double-residualized OLS estimator as\n",
    "\n",
    "    $$\n",
    "    \\hat{\\beta}_{0}=\\left(\\frac{1}{n} \\sum_{i \\in I} \\hat v_i D_{i} \\right)^{-1} \\frac{1}{n} \\sum_{i \\in I} \\hat v_i \\left( Y - \\hat g_0(X) \\right)\n",
    "    $$\n",
    "\n",
    "To summarize, we have predicted $y$ based on $X$ using machine learning (2); predicted $D$ based on $X$ using machine learning (3); then done a linear regression of the residual from $X$ on the predicted value obtained from 2 to have our OLS estimator. \n",
    "\n",
    "\n",
    "\n",
    "The estimator is unbiased but still has a lower rate of convergence because of sample splitting. The problem is solved by inverting the split sample, re-estimating the coefficient and averaging the two estimates. Note that this procedure is valid since the two estimates are independent by the sample splitting procedure."
   ]
  },
  {
   "cell_type": "markdown",
   "metadata": {},
   "source": [
    "## 6 ML fits into Causal Inference"
   ]
  },
  {
   "cell_type": "markdown",
   "metadata": {},
   "source": [
    "The traditional Gold Standard for causal inference is multiple regression:\n",
    "$$\n",
    "Y_i = \\delta D_i + X_i'\\beta+\\varepsilon_i,\n",
    "$$\n",
    "where $D_i$ is the \"treatment\" or causal variable whose effects we are interested in, and $X_i$ is a vector of controls, $D_i$ is as good as randomly assigned.\n"
   ]
  },
  {
   "cell_type": "markdown",
   "metadata": {},
   "source": [
    "> *example:* Suppose we are interested in the magnitude of racial discrimination in the labor market. Can look at the difference in earnings between two workers who are identical in productivity, but differ in their race. Then $D_i$ would be a dummy for being a Black worker. $Y_i$ would be wages, and $X_i$ would be characteristics that capture determinants of productivity."
   ]
  },
  {
   "cell_type": "markdown",
   "metadata": {},
   "source": [
    "Can we see this regression as a prediction exercice? For instance, predicting predicting $Y_{i}$ given $D_{i}$ and $X_{i}$.\n",
    "\n",
    "**Absolutely Not**: we want to estimate a coefficient on $D_{i}$. But we can still use ML to estimate $\\delta$."
   ]
  },
  {
   "cell_type": "markdown",
   "metadata": {},
   "source": [
    "An equivalent way to estimate $% \\delta $ is the following three-step procedure:\n",
    "\n",
    "1.   Regress $Y_{i}$ on $X_{i}$ and compute the residuals, $\\tilde{Y}%\n",
    "_{i}=Y_{i}-\\hat{Y}_{i}^{OLS}$, where $\\hat{Y}_{i}^{OLS}=X_{i}^{\\prime\n",
    "}\\left( X^{\\prime }X\\right) ^{-1}X^{\\prime }Y$\n",
    "2.   Regress $D_{i}$ on $X_{i}$ and compute the residuals, $\\tilde{D}%\n",
    "_{i}=D_{i}-\\hat{D}_{i}^{OLS}$, where $\\hat{D}_{i}^{OLS}=X_{i}^{\\prime\n",
    "}\\left( X^{\\prime }X\\right) ^{-1}X^{\\prime }D$\n",
    "\n",
    "3. Regress $\\tilde{Y}_{i}$ on $\\tilde{D}_{i}$.\n",
    "\n",
    "This follows closely the FWL theorem (see section 1.)"
   ]
  },
  {
   "cell_type": "markdown",
   "metadata": {},
   "source": [
    "Step 1 and 2 are prediction exercises, we can replace OLS with machine learning:"
   ]
  },
  {
   "cell_type": "markdown",
   "metadata": {},
   "source": [
    "1.   Predict $Y_{i}$ based on $X_{i}$ using ML and compute the residuals, $\\tilde{Y}%\n",
    "_{i}=Y_{i}-\\hat{Y}_{i}^{ML}$, where $\\hat{Y}_{i}^{ML}$ is the prediction from an ML algorithm\n",
    "2.   Predict $D_{i}$ based on $X_{i}$ using ML and compute the residuals, $\\tilde{D}%\n",
    "_{i}=D_{i}-\\hat{D}_{i}^{ML}$, where $\\hat{D}_{i}^{ML}$ is the prediction from an ML algorithm\n",
    "\n",
    "3. Regress $\\tilde{Y}_{i}$ on $\\tilde{D}_{i}$."
   ]
  },
  {
   "cell_type": "markdown",
   "metadata": {
    "slideshow": {
     "slide_type": "slide"
    }
   },
   "source": [
    "### Application to AJR02"
   ]
  },
  {
   "cell_type": "code",
   "execution_count": 323,
   "metadata": {},
   "outputs": [],
   "source": [
    "import pandas as pd\n",
    "import numpy as np\n",
    "from sklearn import linear_model\n",
    "from sklearn.model_selection import KFold\n",
    "from ISLP.models import (ModelSpec as MS,\n",
    "                         summarize,\n",
    "                         poly)"
   ]
  },
  {
   "cell_type": "markdown",
   "metadata": {
    "slideshow": {
     "slide_type": "fragment"
    }
   },
   "source": [
    "In this section we are going to replicate 6.3 of the \"*Double/debiased machine learning*\" paper based on [Acemoglu, Johnson, Robinson (2002), \"*The Colonial Origins of Comparative Development*\"](https://economics.mit.edu/sites/default/files/publications/colonial-origins-of-comparative-development.pdf)."
   ]
  },
  {
   "cell_type": "markdown",
   "metadata": {
    "slideshow": {
     "slide_type": "slide"
    }
   },
   "source": [
    "In their paper, AJR note that their IV strategy will be invalidated if other factors are also highly persistent and related to the development of institutions within a country and to the country’s GDP. A leading candidate for such a factor, as they discuss, is geography. AJR address this by assuming that the confounding effect of geography is adequately captured by a linear term in distance from the equator and a set of continent dummy variables. \n",
    "\n",
    "They include their results in table 2."
   ]
  },
  {
   "cell_type": "markdown",
   "metadata": {
    "slideshow": {
     "slide_type": "slide"
    }
   },
   "source": [
    "The objective will be to replicate columns 2, 5, and 6 of Table 2 in AJR."
   ]
  },
  {
   "cell_type": "markdown",
   "metadata": {},
   "source": [
    "**Read in data and have a look at it. Data are called AJR02**"
   ]
  },
  {
   "cell_type": "markdown",
   "metadata": {},
   "source": [
    "Try yourself first"
   ]
  },
  {
   "cell_type": "code",
   "execution_count": null,
   "metadata": {},
   "outputs": [],
   "source": []
  },
  {
   "cell_type": "markdown",
   "metadata": {},
   "source": [
    "**Solution**"
   ]
  },
  {
   "cell_type": "code",
   "execution_count": 301,
   "metadata": {},
   "outputs": [
    {
     "data": {
      "text/plain": [
       "Index(['GDP', 'Exprop', 'Mort', 'Latitude', 'Neo', 'Africa', 'Asia', 'Namer',\n",
       "       'Samer', 'logMort', 'Latitude2'],\n",
       "      dtype='object')"
      ]
     },
     "execution_count": 301,
     "metadata": {},
     "output_type": "execute_result"
    }
   ],
   "source": [
    "# Load  Dataset\n",
    "df = pd.read_csv('AJR02.csv',index_col=0)\n",
    "df.columns"
   ]
  },
  {
   "cell_type": "code",
   "execution_count": 302,
   "metadata": {},
   "outputs": [
    {
     "data": {
      "text/html": [
       "<div>\n",
       "<style scoped>\n",
       "    .dataframe tbody tr th:only-of-type {\n",
       "        vertical-align: middle;\n",
       "    }\n",
       "\n",
       "    .dataframe tbody tr th {\n",
       "        vertical-align: top;\n",
       "    }\n",
       "\n",
       "    .dataframe thead th {\n",
       "        text-align: right;\n",
       "    }\n",
       "</style>\n",
       "<table border=\"1\" class=\"dataframe\">\n",
       "  <thead>\n",
       "    <tr style=\"text-align: right;\">\n",
       "      <th></th>\n",
       "      <th>GDP</th>\n",
       "      <th>Exprop</th>\n",
       "      <th>Mort</th>\n",
       "      <th>Latitude</th>\n",
       "      <th>Neo</th>\n",
       "      <th>Africa</th>\n",
       "      <th>Asia</th>\n",
       "      <th>Namer</th>\n",
       "      <th>Samer</th>\n",
       "      <th>logMort</th>\n",
       "      <th>Latitude2</th>\n",
       "    </tr>\n",
       "  </thead>\n",
       "  <tbody>\n",
       "    <tr>\n",
       "      <th>count</th>\n",
       "      <td>64.000000</td>\n",
       "      <td>64.000000</td>\n",
       "      <td>64.000000</td>\n",
       "      <td>64.000000</td>\n",
       "      <td>64.000000</td>\n",
       "      <td>64.000000</td>\n",
       "      <td>64.000000</td>\n",
       "      <td>64.000000</td>\n",
       "      <td>64.000000</td>\n",
       "      <td>64.000000</td>\n",
       "      <td>64.000000</td>\n",
       "    </tr>\n",
       "    <tr>\n",
       "      <th>mean</th>\n",
       "      <td>8.062500</td>\n",
       "      <td>6.516094</td>\n",
       "      <td>245.911094</td>\n",
       "      <td>0.190483</td>\n",
       "      <td>0.062500</td>\n",
       "      <td>0.421875</td>\n",
       "      <td>0.140625</td>\n",
       "      <td>0.218750</td>\n",
       "      <td>0.171875</td>\n",
       "      <td>4.646749</td>\n",
       "      <td>0.057002</td>\n",
       "    </tr>\n",
       "    <tr>\n",
       "      <th>std</th>\n",
       "      <td>1.043701</td>\n",
       "      <td>1.468841</td>\n",
       "      <td>472.623943</td>\n",
       "      <td>0.145075</td>\n",
       "      <td>0.243975</td>\n",
       "      <td>0.497763</td>\n",
       "      <td>0.350382</td>\n",
       "      <td>0.416667</td>\n",
       "      <td>0.380254</td>\n",
       "      <td>1.252543</td>\n",
       "      <td>0.086039</td>\n",
       "    </tr>\n",
       "    <tr>\n",
       "      <th>min</th>\n",
       "      <td>6.110000</td>\n",
       "      <td>3.500000</td>\n",
       "      <td>8.550000</td>\n",
       "      <td>0.000000</td>\n",
       "      <td>0.000000</td>\n",
       "      <td>0.000000</td>\n",
       "      <td>0.000000</td>\n",
       "      <td>0.000000</td>\n",
       "      <td>0.000000</td>\n",
       "      <td>2.145931</td>\n",
       "      <td>0.000000</td>\n",
       "    </tr>\n",
       "    <tr>\n",
       "      <th>25%</th>\n",
       "      <td>7.302500</td>\n",
       "      <td>5.617500</td>\n",
       "      <td>68.900000</td>\n",
       "      <td>0.088900</td>\n",
       "      <td>0.000000</td>\n",
       "      <td>0.000000</td>\n",
       "      <td>0.000000</td>\n",
       "      <td>0.000000</td>\n",
       "      <td>0.000000</td>\n",
       "      <td>4.232656</td>\n",
       "      <td>0.007903</td>\n",
       "    </tr>\n",
       "    <tr>\n",
       "      <th>50%</th>\n",
       "      <td>7.950000</td>\n",
       "      <td>6.475000</td>\n",
       "      <td>78.150000</td>\n",
       "      <td>0.161150</td>\n",
       "      <td>0.000000</td>\n",
       "      <td>0.000000</td>\n",
       "      <td>0.000000</td>\n",
       "      <td>0.000000</td>\n",
       "      <td>0.000000</td>\n",
       "      <td>4.358630</td>\n",
       "      <td>0.026000</td>\n",
       "    </tr>\n",
       "    <tr>\n",
       "      <th>75%</th>\n",
       "      <td>8.852500</td>\n",
       "      <td>7.352500</td>\n",
       "      <td>240.000000</td>\n",
       "      <td>0.267100</td>\n",
       "      <td>0.000000</td>\n",
       "      <td>1.000000</td>\n",
       "      <td>0.000000</td>\n",
       "      <td>0.000000</td>\n",
       "      <td>0.000000</td>\n",
       "      <td>5.480639</td>\n",
       "      <td>0.071343</td>\n",
       "    </tr>\n",
       "    <tr>\n",
       "      <th>max</th>\n",
       "      <td>10.220000</td>\n",
       "      <td>10.000000</td>\n",
       "      <td>2940.000000</td>\n",
       "      <td>0.666700</td>\n",
       "      <td>1.000000</td>\n",
       "      <td>1.000000</td>\n",
       "      <td>1.000000</td>\n",
       "      <td>1.000000</td>\n",
       "      <td>1.000000</td>\n",
       "      <td>7.986165</td>\n",
       "      <td>0.444489</td>\n",
       "    </tr>\n",
       "  </tbody>\n",
       "</table>\n",
       "</div>"
      ],
      "text/plain": [
       "             GDP     Exprop         Mort   Latitude        Neo     Africa  \\\n",
       "count  64.000000  64.000000    64.000000  64.000000  64.000000  64.000000   \n",
       "mean    8.062500   6.516094   245.911094   0.190483   0.062500   0.421875   \n",
       "std     1.043701   1.468841   472.623943   0.145075   0.243975   0.497763   \n",
       "min     6.110000   3.500000     8.550000   0.000000   0.000000   0.000000   \n",
       "25%     7.302500   5.617500    68.900000   0.088900   0.000000   0.000000   \n",
       "50%     7.950000   6.475000    78.150000   0.161150   0.000000   0.000000   \n",
       "75%     8.852500   7.352500   240.000000   0.267100   0.000000   1.000000   \n",
       "max    10.220000  10.000000  2940.000000   0.666700   1.000000   1.000000   \n",
       "\n",
       "            Asia      Namer      Samer    logMort  Latitude2  \n",
       "count  64.000000  64.000000  64.000000  64.000000  64.000000  \n",
       "mean    0.140625   0.218750   0.171875   4.646749   0.057002  \n",
       "std     0.350382   0.416667   0.380254   1.252543   0.086039  \n",
       "min     0.000000   0.000000   0.000000   2.145931   0.000000  \n",
       "25%     0.000000   0.000000   0.000000   4.232656   0.007903  \n",
       "50%     0.000000   0.000000   0.000000   4.358630   0.026000  \n",
       "75%     0.000000   0.000000   0.000000   5.480639   0.071343  \n",
       "max     1.000000   1.000000   1.000000   7.986165   0.444489  "
      ]
     },
     "execution_count": 302,
     "metadata": {},
     "output_type": "execute_result"
    }
   ],
   "source": [
    "df.describe()"
   ]
  },
  {
   "cell_type": "markdown",
   "metadata": {},
   "source": [
    "#### Define outcome and regressor of interest\n",
    "y = GDP ; d = Exprop\n",
    "Try it yourself"
   ]
  },
  {
   "cell_type": "code",
   "execution_count": null,
   "metadata": {},
   "outputs": [],
   "source": []
  },
  {
   "cell_type": "markdown",
   "metadata": {},
   "source": [
    "**Cheat**"
   ]
  },
  {
   "cell_type": "code",
   "execution_count": 303,
   "metadata": {},
   "outputs": [],
   "source": [
    "y = df['GDP']\n",
    "d =df[['Exprop']]"
   ]
  },
  {
   "cell_type": "markdown",
   "metadata": {},
   "source": [
    "#### Simple regression with no controls\n",
    "regress y on d and print out the coefficient \n",
    "1. Fit a linear regression object\n",
    "2. Print out the results"
   ]
  },
  {
   "cell_type": "code",
   "execution_count": null,
   "metadata": {},
   "outputs": [],
   "source": []
  },
  {
   "cell_type": "markdown",
   "metadata": {},
   "source": [
    "**Cheat**"
   ]
  },
  {
   "cell_type": "code",
   "execution_count": 304,
   "metadata": {},
   "outputs": [
    {
     "name": "stdout",
     "output_type": "stream",
     "text": [
      "Simple regression protection against expropriation effect on gdp : 0.522\n"
     ]
    }
   ],
   "source": [
    "lm=linear_model.LinearRegression().fit(d,y)\n",
    "print(\"Simple regression protection against expropriation effect on gdp : {:.3f}\".format(lm.coef_[0]))"
   ]
  },
  {
   "cell_type": "markdown",
   "metadata": {},
   "source": [
    "Lets do the same but controlling for a few things: latitude, africa and asia dummy"
   ]
  },
  {
   "cell_type": "code",
   "execution_count": 305,
   "metadata": {},
   "outputs": [],
   "source": [
    "#Define a constant and add it to X, a matrix of the d and control\n",
    "\n",
    "# run regressions\n",
    "\n",
    "#print out coefficient \n"
   ]
  },
  {
   "cell_type": "markdown",
   "metadata": {},
   "source": [
    "#### Solution"
   ]
  },
  {
   "cell_type": "code",
   "execution_count": 306,
   "metadata": {},
   "outputs": [
    {
     "name": "stdout",
     "output_type": "stream",
     "text": [
      "Simple regression protection against expropriation effect on gdp: 0.409\n"
     ]
    }
   ],
   "source": [
    "# Create lists of variables to be used in each regression\n",
    "# X includes only control variables\n",
    "df['const'] = 1\n",
    "X = df[['Exprop', 'const', 'Latitude', 'Latitude2', 'Asia', 'Africa']]\n",
    "# run regression\n",
    "lm.fit(X,y)\n",
    "\n",
    "print(\"Simple regression protection against expropriation effect on gdp: {:.3f}\".format(lm.coef_[0]))\n"
   ]
  },
  {
   "cell_type": "code",
   "execution_count": 307,
   "metadata": {},
   "outputs": [],
   "source": [
    "# This is to do columns 2, 5, and 6 in once\n",
    "# Create lists of variables to be used in each regression\n",
    "# Let's add a constant \n",
    "df['const'] = 1\n",
    "d =df[['const','Exprop']]\n",
    "X = df[['const','Exprop','Latitude', 'Latitude2', 'Asia', 'Africa']]\n",
    "X2 = df[['const','Exprop', 'Latitude', 'Latitude2', 'Asia', 'Africa', 'Namer', 'Samer']]\n",
    "y = df['GDP']\n",
    "\n",
    "# Estimate an OLS regression for each set of variables\n",
    "reg1 = sm.OLS(y, d, missing='drop').fit()\n",
    "reg2 = sm.OLS(y, X, missing='drop').fit()\n",
    "reg3 = sm.OLS(y, X2, missing='drop').fit()"
   ]
  },
  {
   "cell_type": "code",
   "execution_count": 308,
   "metadata": {},
   "outputs": [],
   "source": [
    "# Make table 2\n",
    "def make_table_2():\n",
    "\n",
    "    info_dict={'No. observations' : lambda x: f\"{int(x.nobs):d}\"}\n",
    "\n",
    "    results_table = summary_col(results=[reg1,reg2,reg3],\n",
    "                                float_format='%0.2f',\n",
    "                                stars = True,\n",
    "                                model_names=['Model 1','Model 2','Model 3'],\n",
    "                                info_dict=info_dict,\n",
    "                                regressor_order=['const','Exprop','Latitude','Latitude2'])\n",
    "    return results_table"
   ]
  },
  {
   "cell_type": "code",
   "execution_count": 309,
   "metadata": {},
   "outputs": [
    {
     "data": {
      "text/html": [
       "<table class=\"simpletable\">\n",
       "<tr>\n",
       "          <td></td>         <th>Model 1</th>  <th>Model 2</th> <th>Model 3</th>\n",
       "</tr>\n",
       "<tr>\n",
       "  <th>const</th>            <td>4.66***</td>  <td>5.76***</td> <td>5.95***</td>\n",
       "</tr>\n",
       "<tr>\n",
       "  <th></th>                 <td>(0.41)</td>   <td>(0.44)</td>  <td>(0.68)</td> \n",
       "</tr>\n",
       "<tr>\n",
       "  <th>Exprop</th>           <td>0.52***</td>  <td>0.41***</td> <td>0.40***</td>\n",
       "</tr>\n",
       "<tr>\n",
       "  <th></th>                 <td>(0.06)</td>   <td>(0.06)</td>  <td>(0.06)</td> \n",
       "</tr>\n",
       "<tr>\n",
       "  <th>Latitude</th>            <td></td>       <td>0.51</td>    <td>0.42</td>  \n",
       "</tr>\n",
       "<tr>\n",
       "  <th></th>                    <td></td>      <td>(1.42)</td>  <td>(1.47)</td> \n",
       "</tr>\n",
       "<tr>\n",
       "  <th>Latitude2</th>           <td></td>       <td>0.32</td>    <td>0.44</td>  \n",
       "</tr>\n",
       "<tr>\n",
       "  <th></th>                    <td></td>      <td>(2.42)</td>  <td>(2.48)</td> \n",
       "</tr>\n",
       "<tr>\n",
       "  <th>Africa</th>              <td></td>     <td>-0.92***</td> <td>-1.06**</td>\n",
       "</tr>\n",
       "<tr>\n",
       "  <th></th>                    <td></td>      <td>(0.17)</td>  <td>(0.41)</td> \n",
       "</tr>\n",
       "<tr>\n",
       "  <th>Asia</th>                <td></td>      <td>-0.60**</td> <td>-0.74*</td> \n",
       "</tr>\n",
       "<tr>\n",
       "  <th></th>                    <td></td>      <td>(0.23)</td>  <td>(0.42)</td> \n",
       "</tr>\n",
       "<tr>\n",
       "  <th>Namer</th>               <td></td>         <td></td>      <td>-0.17</td> \n",
       "</tr>\n",
       "<tr>\n",
       "  <th></th>                    <td></td>         <td></td>     <td>(0.40)</td> \n",
       "</tr>\n",
       "<tr>\n",
       "  <th>Samer</th>               <td></td>         <td></td>      <td>-0.12</td> \n",
       "</tr>\n",
       "<tr>\n",
       "  <th></th>                    <td></td>         <td></td>     <td>(0.42)</td> \n",
       "</tr>\n",
       "<tr>\n",
       "  <th>R-squared</th>         <td>0.54</td>     <td>0.71</td>    <td>0.71</td>  \n",
       "</tr>\n",
       "<tr>\n",
       "  <th>R-squared Adj.</th>    <td>0.53</td>     <td>0.69</td>    <td>0.67</td>  \n",
       "</tr>\n",
       "<tr>\n",
       "  <th>No. observations</th>   <td>64</td>       <td>64</td>      <td>64</td>   \n",
       "</tr>\n",
       "</table><br/>\n",
       "Standard errors in parentheses.<br/>\n",
       "* p<.1, ** p<.05, ***p<.01"
      ],
      "text/latex": [
       "\\begin{table}\n",
       "\\caption{}\n",
       "\\label{}\n",
       "\\begin{center}\n",
       "\\begin{tabular}{llll}\n",
       "\\hline\n",
       "                 & Model 1 & Model 2  & Model 3  \\\\\n",
       "\\hline\n",
       "const            & 4.66*** & 5.76***  & 5.95***  \\\\\n",
       "                 & (0.41)  & (0.44)   & (0.68)   \\\\\n",
       "Exprop           & 0.52*** & 0.41***  & 0.40***  \\\\\n",
       "                 & (0.06)  & (0.06)   & (0.06)   \\\\\n",
       "Latitude         &         & 0.51     & 0.42     \\\\\n",
       "                 &         & (1.42)   & (1.47)   \\\\\n",
       "Latitude2        &         & 0.32     & 0.44     \\\\\n",
       "                 &         & (2.42)   & (2.48)   \\\\\n",
       "Africa           &         & -0.92*** & -1.06**  \\\\\n",
       "                 &         & (0.17)   & (0.41)   \\\\\n",
       "Asia             &         & -0.60**  & -0.74*   \\\\\n",
       "                 &         & (0.23)   & (0.42)   \\\\\n",
       "Namer            &         &          & -0.17    \\\\\n",
       "                 &         &          & (0.40)   \\\\\n",
       "Samer            &         &          & -0.12    \\\\\n",
       "                 &         &          & (0.42)   \\\\\n",
       "R-squared        & 0.54    & 0.71     & 0.71     \\\\\n",
       "R-squared Adj.   & 0.53    & 0.69     & 0.67     \\\\\n",
       "No. observations & 64      & 64       & 64       \\\\\n",
       "\\hline\n",
       "\\end{tabular}\n",
       "\\end{center}\n",
       "\\end{table}\n",
       "\\bigskip\n",
       "Standard errors in parentheses. \\newline \n",
       "* p<.1, ** p<.05, ***p<.01"
      ],
      "text/plain": [
       "<class 'statsmodels.iolib.summary2.Summary'>\n",
       "\"\"\"\n",
       "\n",
       "=========================================\n",
       "                 Model 1 Model 2  Model 3\n",
       "-----------------------------------------\n",
       "const            4.66*** 5.76***  5.95***\n",
       "                 (0.41)  (0.44)   (0.68) \n",
       "Exprop           0.52*** 0.41***  0.40***\n",
       "                 (0.06)  (0.06)   (0.06) \n",
       "Latitude                 0.51     0.42   \n",
       "                         (1.42)   (1.47) \n",
       "Latitude2                0.32     0.44   \n",
       "                         (2.42)   (2.48) \n",
       "Africa                   -0.92*** -1.06**\n",
       "                         (0.17)   (0.41) \n",
       "Asia                     -0.60**  -0.74* \n",
       "                         (0.23)   (0.42) \n",
       "Namer                             -0.17  \n",
       "                                  (0.40) \n",
       "Samer                             -0.12  \n",
       "                                  (0.42) \n",
       "R-squared        0.54    0.71     0.71   \n",
       "R-squared Adj.   0.53    0.69     0.67   \n",
       "No. observations 64      64       64     \n",
       "=========================================\n",
       "Standard errors in parentheses.\n",
       "* p<.1, ** p<.05, ***p<.01\n",
       "\"\"\""
      ]
     },
     "execution_count": 309,
     "metadata": {},
     "output_type": "execute_result"
    }
   ],
   "source": [
    "table_2 = make_table_2()\n",
    "table_2"
   ]
  },
  {
   "cell_type": "markdown",
   "metadata": {},
   "source": [
    "How does it compare to the simple regression?\n",
    "\n",
    "**But who is to say the controls we included are sufficient? We have a whole list of  potential controls, not to mention that perhaps the controls we did put in enter linearly. This is a job for ML!** "
   ]
  },
  {
   "cell_type": "markdown",
   "metadata": {},
   "source": [
    "Using DML allows us to relax this assumption and to replace it by a weaker assumption that geography can be sufficiently controlled by an unknown function of distance from the equator and continent dummies, which can be learned by ML methods.\n",
    "\n",
    "In particular, our framework is\n",
    "\n",
    "$$\n",
    "{GDP} = \\beta_0 \\times {Exprop} + g_0({geography}) + u \\\\\n",
    "{Exprop} = m_0({geography}) + u\n",
    "$$"
   ]
  },
  {
   "cell_type": "markdown",
   "metadata": {},
   "source": [
    "So that the double/debiased machine learning procedure is\n",
    "\n",
    "1. Split the sample in two: main sample and auxiliary sample\n",
    "2. Use the auxiliary sample to estimate $\\hat g_0({geography})$ from\n",
    "\n",
    "    $$\n",
    "    {GDP} = \\beta_0 \\times {Exprop} + g_0({geography}) + u\n",
    "    $$\n",
    "\n",
    "\n",
    "3. Use the auxiliary sample to estimate $\\hat m_0({geography})$ from\n",
    "\n",
    "    $$\n",
    "    {Exprop} = m_0({geography}) + v\n",
    "    $$\n",
    "\n",
    "\n",
    "4. Use the main sample to compute the orthogonalized component of ${Exprop}$ on ${geography}$ as\n",
    "\n",
    "    $$\n",
    "    \\hat v = {Exprop} - \\hat m_0({geography})\n",
    "    $$\n",
    "\n",
    "\n",
    "5. Use the main sample to estimate the double-residualized OLS estimator as\n",
    "\n",
    "    $$\n",
    "    \\hat{\\beta}_{0}=\\left(\\frac{1}{n} \\sum_{i \\in I} \\hat v_i \\times {Exprop}_{i} \\right)^{-1} \\frac{1}{n} \\sum_{i \\in I} \\hat v_i \\times \\left( {GDP} - \\hat g_0({geography}) \\right)\n",
    "    $$"
   ]
  },
  {
   "cell_type": "markdown",
   "metadata": {},
   "source": [
    "Since we employ an **intrumental variable** strategy, we replace $m_0({geography})$ with $m_0({geography},{logMort})$ in the first stage."
   ]
  },
  {
   "cell_type": "markdown",
   "metadata": {},
   "source": [
    "To prep, let's define a matrix X with all of our potential controls:"
   ]
  },
  {
   "cell_type": "code",
   "execution_count": null,
   "metadata": {},
   "outputs": [],
   "source": []
  },
  {
   "cell_type": "markdown",
   "metadata": {},
   "source": [
    "**Cheat**"
   ]
  },
  {
   "cell_type": "code",
   "execution_count": 310,
   "metadata": {},
   "outputs": [],
   "source": [
    "X = df[['const','Latitude', 'Latitude2', 'Asia', 'Africa', 'Namer', 'Samer', 'logMort']]"
   ]
  },
  {
   "cell_type": "markdown",
   "metadata": {},
   "source": [
    "### POST DOUBLE SELECTION ON LASSO"
   ]
  },
  {
   "cell_type": "markdown",
   "metadata": {},
   "source": [
    "#### 1. Lasso the outcome on X\n",
    "Try it yourself, do not forget to standardize Xs"
   ]
  },
  {
   "cell_type": "code",
   "execution_count": null,
   "metadata": {},
   "outputs": [],
   "source": []
  },
  {
   "cell_type": "markdown",
   "metadata": {},
   "source": [
    "#### Cheat"
   ]
  },
  {
   "cell_type": "code",
   "execution_count": 311,
   "metadata": {},
   "outputs": [],
   "source": [
    "from sklearn.preprocessing import StandardScaler\n",
    "scaler = StandardScaler().fit(X)\n",
    "X = pd.DataFrame(data=scaler.transform(X),columns = X.columns)\n",
    "\n",
    "lassoy = linear_model.LassoCV(max_iter=1000).fit(X, y)"
   ]
  },
  {
   "cell_type": "markdown",
   "metadata": {},
   "source": [
    "#### 2. Lasso the treatment on X\n",
    "Try it yourself. "
   ]
  },
  {
   "cell_type": "code",
   "execution_count": null,
   "metadata": {},
   "outputs": [],
   "source": []
  },
  {
   "cell_type": "code",
   "execution_count": 313,
   "metadata": {},
   "outputs": [],
   "source": [
    "d =df[['Exprop']]\n",
    "lassod = linear_model.LassoCV(max_iter=1000).fit(X, d)"
   ]
  },
  {
   "cell_type": "markdown",
   "metadata": {},
   "source": [
    "#### 3. Form the union of controls\n",
    "Try it yourself. Which controls have been selected?"
   ]
  },
  {
   "cell_type": "code",
   "execution_count": null,
   "metadata": {},
   "outputs": [],
   "source": []
  },
  {
   "cell_type": "code",
   "execution_count": 314,
   "metadata": {},
   "outputs": [
    {
     "data": {
      "text/html": [
       "<div>\n",
       "<style scoped>\n",
       "    .dataframe tbody tr th:only-of-type {\n",
       "        vertical-align: middle;\n",
       "    }\n",
       "\n",
       "    .dataframe tbody tr th {\n",
       "        vertical-align: top;\n",
       "    }\n",
       "\n",
       "    .dataframe thead th {\n",
       "        text-align: right;\n",
       "    }\n",
       "</style>\n",
       "<table border=\"1\" class=\"dataframe\">\n",
       "  <thead>\n",
       "    <tr style=\"text-align: right;\">\n",
       "      <th></th>\n",
       "      <th>Latitude2</th>\n",
       "      <th>Asia</th>\n",
       "      <th>Africa</th>\n",
       "      <th>logMort</th>\n",
       "    </tr>\n",
       "  </thead>\n",
       "  <tbody>\n",
       "    <tr>\n",
       "      <th>0</th>\n",
       "      <td>0.466022</td>\n",
       "      <td>-0.40452</td>\n",
       "      <td>1.170628</td>\n",
       "      <td>-0.231331</td>\n",
       "    </tr>\n",
       "    <tr>\n",
       "      <th>1</th>\n",
       "      <td>-0.448839</td>\n",
       "      <td>-0.40452</td>\n",
       "      <td>1.170628</td>\n",
       "      <td>0.795064</td>\n",
       "    </tr>\n",
       "    <tr>\n",
       "      <th>2</th>\n",
       "      <td>1.004300</td>\n",
       "      <td>-0.40452</td>\n",
       "      <td>-0.854242</td>\n",
       "      <td>-0.333215</td>\n",
       "    </tr>\n",
       "    <tr>\n",
       "      <th>3</th>\n",
       "      <td>0.386560</td>\n",
       "      <td>-0.40452</td>\n",
       "      <td>-0.854242</td>\n",
       "      <td>-2.012376</td>\n",
       "    </tr>\n",
       "    <tr>\n",
       "      <th>4</th>\n",
       "      <td>0.175522</td>\n",
       "      <td>-0.40452</td>\n",
       "      <td>-0.854242</td>\n",
       "      <td>-0.164235</td>\n",
       "    </tr>\n",
       "  </tbody>\n",
       "</table>\n",
       "</div>"
      ],
      "text/plain": [
       "   Latitude2     Asia    Africa   logMort\n",
       "0   0.466022 -0.40452  1.170628 -0.231331\n",
       "1  -0.448839 -0.40452  1.170628  0.795064\n",
       "2   1.004300 -0.40452 -0.854242 -0.333215\n",
       "3   0.386560 -0.40452 -0.854242 -2.012376\n",
       "4   0.175522 -0.40452 -0.854242 -0.164235"
      ]
     },
     "execution_count": 314,
     "metadata": {},
     "output_type": "execute_result"
    }
   ],
   "source": [
    "Xunion=X.iloc[:,(lassod.coef_!=0) + (lassoy.coef_!=0)]\n",
    "Xunion.head()"
   ]
  },
  {
   "cell_type": "markdown",
   "metadata": {},
   "source": [
    "#### Now Concatenate treatment with union of controls and regress y on that and print out estimate"
   ]
  },
  {
   "cell_type": "code",
   "execution_count": null,
   "metadata": {},
   "outputs": [],
   "source": []
  },
  {
   "cell_type": "markdown",
   "metadata": {},
   "source": [
    "**Cheat**"
   ]
  },
  {
   "cell_type": "code",
   "execution_count": 319,
   "metadata": {},
   "outputs": [
    {
     "name": "stdout",
     "output_type": "stream",
     "text": [
      "PDS protection against expropriation effect on gdp: 0.355\n"
     ]
    }
   ],
   "source": [
    "# Make sure to reset the index to avoid duplicate values\n",
    "d = d.reset_index(drop=True)\n",
    "Xunion = Xunion.reset_index(drop=True)\n",
    "y = y.reset_index(drop=True)\n",
    "\n",
    "# Concatenate DataFrames\n",
    "rhs = pd.concat([d, Xunion], axis=1)\n",
    "fullreg=linear_model.LinearRegression().fit(rhs,y)\n",
    "print(\"PDS protection against expropriation effect on gdp: {:.3f}\".format(fullreg.coef_[0]))"
   ]
  },
  {
   "cell_type": "markdown",
   "metadata": {},
   "source": [
    "### DOUBLE DEBIASED MACHINE LEARNING"
   ]
  },
  {
   "cell_type": "markdown",
   "metadata": {},
   "source": [
    "First let's do it without sample splitting"
   ]
  },
  {
   "cell_type": "markdown",
   "metadata": {},
   "source": [
    "#### Step 1: Ridge outcome on Xs, get residuals"
   ]
  },
  {
   "cell_type": "code",
   "execution_count": null,
   "metadata": {},
   "outputs": [],
   "source": []
  },
  {
   "cell_type": "markdown",
   "metadata": {},
   "source": [
    "**Cheat**"
   ]
  },
  {
   "cell_type": "code",
   "execution_count": 320,
   "metadata": {},
   "outputs": [],
   "source": [
    "ridgey = linear_model.RidgeCV().fit(X, y)\n",
    "yresid=y-ridgey.predict(X)"
   ]
  },
  {
   "cell_type": "markdown",
   "metadata": {},
   "source": [
    "#### Step 2: Ridge treatment on Xs, get residuals\n"
   ]
  },
  {
   "cell_type": "code",
   "execution_count": null,
   "metadata": {},
   "outputs": [],
   "source": []
  },
  {
   "cell_type": "markdown",
   "metadata": {},
   "source": [
    "**Cheat**"
   ]
  },
  {
   "cell_type": "code",
   "execution_count": 321,
   "metadata": {},
   "outputs": [],
   "source": [
    "ridged = linear_model.RidgeCV().fit(X, d)\n",
    "dresid=d-ridged.predict(X)"
   ]
  },
  {
   "cell_type": "markdown",
   "metadata": {},
   "source": [
    "####  Step 3: Regress y resids on d resids and print out estimate"
   ]
  },
  {
   "cell_type": "code",
   "execution_count": null,
   "metadata": {},
   "outputs": [],
   "source": []
  },
  {
   "cell_type": "markdown",
   "metadata": {},
   "source": [
    "**Cheat**"
   ]
  },
  {
   "cell_type": "code",
   "execution_count": 328,
   "metadata": {},
   "outputs": [
    {
     "name": "stdout",
     "output_type": "stream",
     "text": [
      "DML regression protection against expropriation effect on gdp 0.365\n"
     ]
    }
   ],
   "source": [
    "#Quick and easy way\n",
    "dmlreg=linear_model.LinearRegression().fit(dresid,yresid)\n",
    "print(\"DML regression protection against expropriation effect on gdp {:.3f}\".format(dmlreg.coef_[0]))"
   ]
  },
  {
   "cell_type": "code",
   "execution_count": 332,
   "metadata": {},
   "outputs": [
    {
     "name": "stdout",
     "output_type": "stream",
     "text": [
      "                            OLS Regression Results                            \n",
      "==============================================================================\n",
      "Dep. Variable:                    GDP   R-squared:                       0.405\n",
      "Model:                            OLS   Adj. R-squared:                  0.395\n",
      "Method:                 Least Squares   F-statistic:                     42.17\n",
      "Date:                Sat, 25 Nov 2023   Prob (F-statistic):           1.61e-08\n",
      "Time:                        10:48:27   Log-Likelihood:                -49.238\n",
      "No. Observations:                  64   AIC:                             102.5\n",
      "Df Residuals:                      62   BIC:                             106.8\n",
      "Df Model:                           1                                         \n",
      "Covariance Type:            nonrobust                                         \n",
      "==============================================================================\n",
      "                 coef    std err          t      P>|t|      [0.025      0.975]\n",
      "------------------------------------------------------------------------------\n",
      "const       1.804e-16      0.066   2.72e-15      1.000      -0.133       0.133\n",
      "Exprop         0.3646      0.056      6.494      0.000       0.252       0.477\n",
      "==============================================================================\n",
      "Omnibus:                        9.750   Durbin-Watson:                   2.431\n",
      "Prob(Omnibus):                  0.008   Jarque-Bera (JB):               10.663\n",
      "Skew:                          -0.688   Prob(JB):                      0.00484\n",
      "Kurtosis:                       4.450   Cond. No.                         1.18\n",
      "==============================================================================\n",
      "\n",
      "Notes:\n",
      "[1] Standard Errors assume that the covariance matrix of the errors is correctly specified.\n"
     ]
    }
   ],
   "source": [
    "# Add a constant to the independent variables for statsmodels\n",
    "dresid = sm.add_constant(dresid)\n",
    "\n",
    "# Fit the linear regression model using statsmodels\n",
    "dmlreg = sm.OLS(yresid, dresid).fit()\n",
    "\n",
    "# Print the summary table\n",
    "print(dmlreg.summary())"
   ]
  },
  {
   "cell_type": "markdown",
   "metadata": {},
   "source": [
    "### The real one with sample splitting"
   ]
  },
  {
   "cell_type": "code",
   "execution_count": 333,
   "metadata": {},
   "outputs": [
    {
     "name": "stdout",
     "output_type": "stream",
     "text": [
      "DML regression protection against expropriation effect on gdp: 0.406\n"
     ]
    }
   ],
   "source": [
    "# create our sample splitting \"object\"\n",
    "kf = KFold(n_splits=5,shuffle=True,random_state=42)\n",
    "\n",
    "# apply the splits to our Xs\n",
    "kf.get_n_splits(X)\n",
    "\n",
    "# initialize columns for residuals\n",
    "yresid = y*0\n",
    "dresid = d*0\n",
    "\n",
    "# Now loop through each fold\n",
    "for train_index, test_index in kf.split(X):\n",
    "  X_train, X_test = X.iloc[train_index,:], X.iloc[test_index,:]\n",
    "  y_train, y_test = y.iloc[train_index], y.iloc[test_index]\n",
    "  d_train, d_test = d.iloc[train_index,:], d.iloc[test_index,:]\n",
    "\n",
    "  # Do DML thing\n",
    "  # Ridge y on training folds:\n",
    "  ridgey.fit(X_train, y_train)\n",
    "\n",
    "  # but get residuals in test set\n",
    "  yresid.iloc[test_index]=y_test-ridgey.predict(X_test)\n",
    "\n",
    "  #Ridge d on training folds\n",
    "  ridged.fit(X_train, d_train)\n",
    "  #but get residuals in test set\n",
    "  dresid.iloc[test_index,:]=d_test-ridged.predict(X_test)\n",
    "\n",
    "\n",
    "# Regress resids\n",
    "dmlreg=linear_model.LinearRegression().fit(dresid,yresid)\n",
    "\n",
    "print(\"DML regression protection against expropriation effect on gdp: {:.3f}\".format(dmlreg.coef_[0]))"
   ]
  },
  {
   "cell_type": "markdown",
   "metadata": {},
   "source": [
    "Is it significant? no idea. Let's include standard errors to have an idea"
   ]
  },
  {
   "cell_type": "code",
   "execution_count": 334,
   "metadata": {},
   "outputs": [
    {
     "name": "stdout",
     "output_type": "stream",
     "text": [
      "                            OLS Regression Results                            \n",
      "==============================================================================\n",
      "Dep. Variable:                    GDP   R-squared:                       0.482\n",
      "Model:                            OLS   Adj. R-squared:                  0.474\n",
      "Method:                 Least Squares   F-statistic:                     50.55\n",
      "Date:                Sat, 25 Nov 2023   Prob (F-statistic):           1.39e-09\n",
      "Time:                        10:48:44   Log-Likelihood:                -55.783\n",
      "No. Observations:                  64   AIC:                             115.6\n",
      "Df Residuals:                      62   BIC:                             119.9\n",
      "Df Model:                           1                                         \n",
      "Covariance Type:                  HC3                                         \n",
      "==============================================================================\n",
      "                 coef    std err          z      P>|z|      [0.025      0.975]\n",
      "------------------------------------------------------------------------------\n",
      "const         -0.0143      0.075     -0.190      0.849      -0.162       0.133\n",
      "Exprop         0.4056      0.057      7.110      0.000       0.294       0.517\n",
      "==============================================================================\n",
      "Omnibus:                        7.208   Durbin-Watson:                   2.381\n",
      "Prob(Omnibus):                  0.027   Jarque-Bera (JB):                6.884\n",
      "Skew:                          -0.581   Prob(JB):                       0.0320\n",
      "Kurtosis:                       4.109   Cond. No.                         1.38\n",
      "==============================================================================\n",
      "\n",
      "Notes:\n",
      "[1] Standard Errors are heteroscedasticity robust (HC3)\n"
     ]
    }
   ],
   "source": [
    "import statsmodels.api as sm\n",
    "rhs = sm.add_constant(dresid)\n",
    "model = sm.OLS(yresid, rhs)\n",
    "results = model.fit(cov_type='HC3')\n",
    "print(results.summary())"
   ]
  },
  {
   "cell_type": "markdown",
   "metadata": {},
   "source": [
    "### Try again but using random forest"
   ]
  },
  {
   "cell_type": "code",
   "execution_count": null,
   "metadata": {},
   "outputs": [],
   "source": []
  },
  {
   "cell_type": "markdown",
   "metadata": {},
   "source": [
    "### CHEAT"
   ]
  },
  {
   "cell_type": "code",
   "execution_count": 335,
   "metadata": {},
   "outputs": [
    {
     "name": "stdout",
     "output_type": "stream",
     "text": [
      "DML regression protection against expropriation effect on gdp: 0.360\n",
      "                            OLS Regression Results                            \n",
      "==============================================================================\n",
      "Dep. Variable:                    GDP   R-squared:                       0.457\n",
      "Model:                            OLS   Adj. R-squared:                  0.448\n",
      "Method:                 Least Squares   F-statistic:                     40.02\n",
      "Date:                Sat, 25 Nov 2023   Prob (F-statistic):           3.11e-08\n",
      "Time:                        10:48:50   Log-Likelihood:                -51.612\n",
      "No. Observations:                  64   AIC:                             107.2\n",
      "Df Residuals:                      62   BIC:                             111.5\n",
      "Df Model:                           1                                         \n",
      "Covariance Type:                  HC3                                         \n",
      "==============================================================================\n",
      "                 coef    std err          z      P>|z|      [0.025      0.975]\n",
      "------------------------------------------------------------------------------\n",
      "const         -0.1043      0.070     -1.481      0.139      -0.242       0.034\n",
      "Exprop         0.3602      0.057      6.326      0.000       0.249       0.472\n",
      "==============================================================================\n",
      "Omnibus:                        4.374   Durbin-Watson:                   2.721\n",
      "Prob(Omnibus):                  0.112   Jarque-Bera (JB):                3.510\n",
      "Skew:                          -0.542   Prob(JB):                        0.173\n",
      "Kurtosis:                       3.373   Cond. No.                         1.39\n",
      "==============================================================================\n",
      "\n",
      "Notes:\n",
      "[1] Standard Errors are heteroscedasticity robust (HC3)\n"
     ]
    }
   ],
   "source": [
    "# import random forest\n",
    "from sklearn.ensemble import RandomForestRegressor\n",
    "# instantiate random forest objects\n",
    "rfy=RandomForestRegressor(n_estimators=100)\n",
    "rfd = rfy\n",
    "\n",
    "# create our sample splitting \"object\"\n",
    "kf = KFold(n_splits=5,shuffle=True,random_state=42)\n",
    "\n",
    "# apply the splits to our Xs\n",
    "kf.get_n_splits(X)\n",
    "\n",
    "\n",
    "# initialize columns for residuals\n",
    "yresidrf = y*0\n",
    "dresidrf = d*0\n",
    "\n",
    "# Now loop through each fold\n",
    "for train_index, test_index in kf.split(X):\n",
    "  X_train, X_test = X.iloc[train_index,:], X.iloc[test_index,:]\n",
    "  y_train, y_test = y.iloc[train_index], y.iloc[test_index]\n",
    "  d_train, d_test = d.iloc[train_index,:], d.iloc[test_index,:]\n",
    "\n",
    "  # Do DML thing\n",
    "  # Ridge y on training folds:\n",
    "  rfy.fit(X_train, y_train)\n",
    "\n",
    "  # but get residuals in test set\n",
    "  yresidrf.iloc[test_index]=y_test-rfy.predict(X_test)\n",
    "\n",
    "  #Ridge d on training folds\n",
    "  rfd.fit(X_train, d_train)\n",
    "  #but get residuals in test set\n",
    "  dresidrf.iloc[test_index,:]=d_test-rfd.predict(X_test).reshape(-1,1)\n",
    "\n",
    "\n",
    "# Regress resids\n",
    "dmlreg=linear_model.LinearRegression().fit(dresidrf,yresidrf)\n",
    "\n",
    "print(\"DML regression protection against expropriation effect on gdp: {:.3f}\".format(dmlreg.coef_[0]))\n",
    "rhs = sm.add_constant(dresidrf)\n",
    "model = sm.OLS(yresidrf, rhs)\n",
    "results = model.fit(cov_type='HC3')\n",
    "print(results.summary())"
   ]
  },
  {
   "cell_type": "markdown",
   "metadata": {},
   "source": [
    "How does it look like compared to AJR paper? "
   ]
  },
  {
   "cell_type": "markdown",
   "metadata": {},
   "source": [
    "## Bonus \n",
    "Assignment: do the same methods as above using the National Longitudinal Surveys (NLSY) data.\n",
    "NLSY97 consists of a nationally representative sample of 8,984 men and women born during the years 1980 through 1984 and living in the United States at the time of the initial survey in 1997. It contains extensive information on respondents’ labor market behavior and educational experiences.\n",
    "\n",
    "I am asking you to estimate the income race gap. The outcome is the log wage in 2016 (`lnw_2016`) and the *treatment* is a dummy eqals 1 if the individual is black (`black`). \n",
    "\n",
    "The dataset is in the code folder and its name is `nlsy97.csv`."
   ]
  },
  {
   "cell_type": "markdown",
   "metadata": {},
   "source": [
    "This is at least what I am expecting: \n",
    "1. Describe the data: number of observations, meaningful summary statistics (tables or graphics)\n",
    "2. Simple regression without control variables\n",
    "3. Post double selection Lasso\n",
    "4. Double-Debiased Machine learning with sample splitting and with two differents algorithms.\n",
    "5. Comments the magnitude/sign of the different coefficients obtained."
   ]
  }
 ],
 "metadata": {
  "celltoolbar": "Raw Cell Format",
  "kernelspec": {
   "display_name": "Python 3 (ipykernel)",
   "language": "python",
   "name": "python3"
  },
  "language_info": {
   "codemirror_mode": {
    "name": "ipython",
    "version": 3
   },
   "file_extension": ".py",
   "mimetype": "text/x-python",
   "name": "python",
   "nbconvert_exporter": "python",
   "pygments_lexer": "ipython3",
   "version": "3.10.4"
  }
 },
 "nbformat": 4,
 "nbformat_minor": 4
}
