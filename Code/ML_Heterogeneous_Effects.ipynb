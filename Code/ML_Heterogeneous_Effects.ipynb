{
 "cells": [
  {
   "cell_type": "markdown",
   "metadata": {
    "id": "QSPS7wJ8rRlT"
   },
   "source": [
    "# Causal Effects via Regression\n"
   ]
  },
  {
   "cell_type": "markdown",
   "metadata": {
    "id": "4YNwBN15z9sP"
   },
   "source": [
    "\n",
    "What is the effect of going to a fancy college on later-life earnings? We'll use data on about 1,000 American men in the NLSY born 1980-1984 who finished college, and look at the effect of going to a private college ($D_i$) on earnings ($Y_i$) in 2015-2019 (when they were about 30-39 years old). We will be estimating an equation like this:\n",
    "\n",
    "$$\n",
    "Y_i = \\delta D_i + X_i'\\beta+\\varepsilon_i,\n",
    "$$\n",
    "\n",
    "where $X_i$ is a vector of controls, conditional on which we are willing to assume $D_i$ is as good as randomly assigned.\n",
    "\n",
    "What kinds of variables should we include in $X_i$?\n"
   ]
  },
  {
   "cell_type": "code",
   "execution_count": 3,
   "metadata": {
    "id": "zxjvdQ6MrwDH"
   },
   "outputs": [],
   "source": [
    "# import useful packages\n",
    "import pandas as pd  # for loading and managing datasets\n",
    "import statsmodels.api as sm  # for running regressions and getting standard errors"
   ]
  },
  {
   "cell_type": "code",
   "execution_count": 8,
   "metadata": {
    "id": "WJ4U1cDKr55N"
   },
   "outputs": [
    {
     "data": {
      "text/html": [
       "<div>\n",
       "<style scoped>\n",
       "    .dataframe tbody tr th:only-of-type {\n",
       "        vertical-align: middle;\n",
       "    }\n",
       "\n",
       "    .dataframe tbody tr th {\n",
       "        vertical-align: top;\n",
       "    }\n",
       "\n",
       "    .dataframe thead th {\n",
       "        text-align: right;\n",
       "    }\n",
       "</style>\n",
       "<table border=\"1\" class=\"dataframe\">\n",
       "  <thead>\n",
       "    <tr style=\"text-align: right;\">\n",
       "      <th></th>\n",
       "      <th>asvab</th>\n",
       "      <th>annualearnings</th>\n",
       "      <th>privatecollege</th>\n",
       "      <th>dadcollege</th>\n",
       "      <th>momcollege</th>\n",
       "    </tr>\n",
       "  </thead>\n",
       "  <tbody>\n",
       "    <tr>\n",
       "      <th>0</th>\n",
       "      <td>44451</td>\n",
       "      <td>20000.000</td>\n",
       "      <td>0</td>\n",
       "      <td>0</td>\n",
       "      <td>0</td>\n",
       "    </tr>\n",
       "    <tr>\n",
       "      <th>1</th>\n",
       "      <td>62806</td>\n",
       "      <td>85000.000</td>\n",
       "      <td>1</td>\n",
       "      <td>0</td>\n",
       "      <td>0</td>\n",
       "    </tr>\n",
       "    <tr>\n",
       "      <th>2</th>\n",
       "      <td>59270</td>\n",
       "      <td>50000.000</td>\n",
       "      <td>0</td>\n",
       "      <td>0</td>\n",
       "      <td>0</td>\n",
       "    </tr>\n",
       "    <tr>\n",
       "      <th>3</th>\n",
       "      <td>45900</td>\n",
       "      <td>12960.000</td>\n",
       "      <td>1</td>\n",
       "      <td>0</td>\n",
       "      <td>0</td>\n",
       "    </tr>\n",
       "    <tr>\n",
       "      <th>4</th>\n",
       "      <td>44217</td>\n",
       "      <td>NaN</td>\n",
       "      <td>0</td>\n",
       "      <td>0</td>\n",
       "      <td>0</td>\n",
       "    </tr>\n",
       "    <tr>\n",
       "      <th>...</th>\n",
       "      <td>...</td>\n",
       "      <td>...</td>\n",
       "      <td>...</td>\n",
       "      <td>...</td>\n",
       "      <td>...</td>\n",
       "    </tr>\n",
       "    <tr>\n",
       "      <th>1163</th>\n",
       "      <td>15283</td>\n",
       "      <td>25500.000</td>\n",
       "      <td>0</td>\n",
       "      <td>0</td>\n",
       "      <td>0</td>\n",
       "    </tr>\n",
       "    <tr>\n",
       "      <th>1164</th>\n",
       "      <td>28236</td>\n",
       "      <td>40000.000</td>\n",
       "      <td>0</td>\n",
       "      <td>0</td>\n",
       "      <td>0</td>\n",
       "    </tr>\n",
       "    <tr>\n",
       "      <th>1165</th>\n",
       "      <td>71393</td>\n",
       "      <td>135000.000</td>\n",
       "      <td>0</td>\n",
       "      <td>0</td>\n",
       "      <td>0</td>\n",
       "    </tr>\n",
       "    <tr>\n",
       "      <th>1166</th>\n",
       "      <td>27785</td>\n",
       "      <td>31666.666</td>\n",
       "      <td>0</td>\n",
       "      <td>1</td>\n",
       "      <td>0</td>\n",
       "    </tr>\n",
       "    <tr>\n",
       "      <th>1167</th>\n",
       "      <td>61580</td>\n",
       "      <td>44000.000</td>\n",
       "      <td>0</td>\n",
       "      <td>0</td>\n",
       "      <td>1</td>\n",
       "    </tr>\n",
       "  </tbody>\n",
       "</table>\n",
       "<p>1168 rows × 5 columns</p>\n",
       "</div>"
      ],
      "text/plain": [
       "      asvab  annualearnings  privatecollege  dadcollege  momcollege\n",
       "0     44451       20000.000               0           0           0\n",
       "1     62806       85000.000               1           0           0\n",
       "2     59270       50000.000               0           0           0\n",
       "3     45900       12960.000               1           0           0\n",
       "4     44217             NaN               0           0           0\n",
       "...     ...             ...             ...         ...         ...\n",
       "1163  15283       25500.000               0           0           0\n",
       "1164  28236       40000.000               0           0           0\n",
       "1165  71393      135000.000               0           0           0\n",
       "1166  27785       31666.666               0           1           0\n",
       "1167  61580       44000.000               0           0           1\n",
       "\n",
       "[1168 rows x 5 columns]"
      ]
     },
     "execution_count": 8,
     "metadata": {},
     "output_type": "execute_result"
    }
   ],
   "source": [
    "# load NLSY data\n",
    "nlsy = pd.read_csv(\n",
    "    \"https://github.com/Mixtape-Sessions/Heterogeneous-Effects/raw/main/Labs/data/nlsy97.csv\"\n",
    ")\n",
    "nlsy"
   ]
  },
  {
   "cell_type": "code",
   "execution_count": 9,
   "metadata": {
    "id": "hLz0OfXpsNke"
   },
   "outputs": [
    {
     "data": {
      "text/html": [
       "<div>\n",
       "<style scoped>\n",
       "    .dataframe tbody tr th:only-of-type {\n",
       "        vertical-align: middle;\n",
       "    }\n",
       "\n",
       "    .dataframe tbody tr th {\n",
       "        vertical-align: top;\n",
       "    }\n",
       "\n",
       "    .dataframe thead th {\n",
       "        text-align: right;\n",
       "    }\n",
       "</style>\n",
       "<table border=\"1\" class=\"dataframe\">\n",
       "  <thead>\n",
       "    <tr style=\"text-align: right;\">\n",
       "      <th></th>\n",
       "      <th>asvab</th>\n",
       "      <th>annualearnings</th>\n",
       "      <th>privatecollege</th>\n",
       "      <th>dadcollege</th>\n",
       "      <th>momcollege</th>\n",
       "    </tr>\n",
       "  </thead>\n",
       "  <tbody>\n",
       "    <tr>\n",
       "      <th>0</th>\n",
       "      <td>44451</td>\n",
       "      <td>20000.000</td>\n",
       "      <td>0</td>\n",
       "      <td>0</td>\n",
       "      <td>0</td>\n",
       "    </tr>\n",
       "    <tr>\n",
       "      <th>1</th>\n",
       "      <td>62806</td>\n",
       "      <td>85000.000</td>\n",
       "      <td>1</td>\n",
       "      <td>0</td>\n",
       "      <td>0</td>\n",
       "    </tr>\n",
       "    <tr>\n",
       "      <th>2</th>\n",
       "      <td>59270</td>\n",
       "      <td>50000.000</td>\n",
       "      <td>0</td>\n",
       "      <td>0</td>\n",
       "      <td>0</td>\n",
       "    </tr>\n",
       "    <tr>\n",
       "      <th>3</th>\n",
       "      <td>45900</td>\n",
       "      <td>12960.000</td>\n",
       "      <td>1</td>\n",
       "      <td>0</td>\n",
       "      <td>0</td>\n",
       "    </tr>\n",
       "    <tr>\n",
       "      <th>6</th>\n",
       "      <td>73429</td>\n",
       "      <td>32000.000</td>\n",
       "      <td>1</td>\n",
       "      <td>1</td>\n",
       "      <td>1</td>\n",
       "    </tr>\n",
       "    <tr>\n",
       "      <th>...</th>\n",
       "      <td>...</td>\n",
       "      <td>...</td>\n",
       "      <td>...</td>\n",
       "      <td>...</td>\n",
       "      <td>...</td>\n",
       "    </tr>\n",
       "    <tr>\n",
       "      <th>1163</th>\n",
       "      <td>15283</td>\n",
       "      <td>25500.000</td>\n",
       "      <td>0</td>\n",
       "      <td>0</td>\n",
       "      <td>0</td>\n",
       "    </tr>\n",
       "    <tr>\n",
       "      <th>1164</th>\n",
       "      <td>28236</td>\n",
       "      <td>40000.000</td>\n",
       "      <td>0</td>\n",
       "      <td>0</td>\n",
       "      <td>0</td>\n",
       "    </tr>\n",
       "    <tr>\n",
       "      <th>1165</th>\n",
       "      <td>71393</td>\n",
       "      <td>135000.000</td>\n",
       "      <td>0</td>\n",
       "      <td>0</td>\n",
       "      <td>0</td>\n",
       "    </tr>\n",
       "    <tr>\n",
       "      <th>1166</th>\n",
       "      <td>27785</td>\n",
       "      <td>31666.666</td>\n",
       "      <td>0</td>\n",
       "      <td>1</td>\n",
       "      <td>0</td>\n",
       "    </tr>\n",
       "    <tr>\n",
       "      <th>1167</th>\n",
       "      <td>61580</td>\n",
       "      <td>44000.000</td>\n",
       "      <td>0</td>\n",
       "      <td>0</td>\n",
       "      <td>1</td>\n",
       "    </tr>\n",
       "  </tbody>\n",
       "</table>\n",
       "<p>1031 rows × 5 columns</p>\n",
       "</div>"
      ],
      "text/plain": [
       "      asvab  annualearnings  privatecollege  dadcollege  momcollege\n",
       "0     44451       20000.000               0           0           0\n",
       "1     62806       85000.000               1           0           0\n",
       "2     59270       50000.000               0           0           0\n",
       "3     45900       12960.000               1           0           0\n",
       "6     73429       32000.000               1           1           1\n",
       "...     ...             ...             ...         ...         ...\n",
       "1163  15283       25500.000               0           0           0\n",
       "1164  28236       40000.000               0           0           0\n",
       "1165  71393      135000.000               0           0           0\n",
       "1166  27785       31666.666               0           1           0\n",
       "1167  61580       44000.000               0           0           1\n",
       "\n",
       "[1031 rows x 5 columns]"
      ]
     },
     "execution_count": 9,
     "metadata": {},
     "output_type": "execute_result"
    }
   ],
   "source": [
    "# clean data (drop obs with missing values)\n",
    "nlsy = nlsy.dropna()\n",
    "nlsy"
   ]
  },
  {
   "cell_type": "markdown",
   "metadata": {
    "id": "9EZ8-1rb13qR"
   },
   "source": [
    "Let's start with a simple (uncontrolled) regression.\n"
   ]
  },
  {
   "cell_type": "code",
   "execution_count": 10,
   "metadata": {
    "id": "xmJwZcMpsr3N"
   },
   "outputs": [
    {
     "name": "stdout",
     "output_type": "stream",
     "text": [
      "                            OLS Regression Results                            \n",
      "==============================================================================\n",
      "Dep. Variable:         annualearnings   R-squared:                       0.006\n",
      "Model:                            OLS   Adj. R-squared:                  0.005\n",
      "Method:                 Least Squares   F-statistic:                     5.512\n",
      "Date:                Sat, 02 Dec 2023   Prob (F-statistic):             0.0191\n",
      "Time:                        11:01:37   Log-Likelihood:                -12688.\n",
      "No. Observations:                1031   AIC:                         2.538e+04\n",
      "Df Residuals:                    1029   BIC:                         2.539e+04\n",
      "Df Model:                           1                                         \n",
      "Covariance Type:                  HC3                                         \n",
      "==================================================================================\n",
      "                     coef    std err          z      P>|z|      [0.025      0.975]\n",
      "----------------------------------------------------------------------------------\n",
      "const           7.281e+04   2009.484     36.232      0.000    6.89e+04    7.67e+04\n",
      "privatecollege  8432.5546   3591.597      2.348      0.019    1393.154    1.55e+04\n",
      "==============================================================================\n",
      "Omnibus:                      425.153   Durbin-Watson:                   1.920\n",
      "Prob(Omnibus):                  0.000   Jarque-Bera (JB):             1614.510\n",
      "Skew:                           2.001   Prob(JB):                         0.00\n",
      "Kurtosis:                       7.644   Cond. No.                         2.42\n",
      "==============================================================================\n",
      "\n",
      "Notes:\n",
      "[1] Standard Errors are heteroscedasticity robust (HC3)\n"
     ]
    }
   ],
   "source": [
    "# Simple regression\n",
    "rhs = sm.add_constant(\n",
    "    nlsy[\"privatecollege\"]\n",
    ")  # you have to add the constant yourself with statsmodels!\n",
    "model = sm.OLS(nlsy[\"annualearnings\"], rhs)\n",
    "results = model.fit(cov_type=\"HC3\")  # heteroskedasticity-robust\n",
    "print(results.summary())"
   ]
  },
  {
   "cell_type": "markdown",
   "metadata": {
    "id": "if7mL0Se247R"
   },
   "source": [
    "How to interpret the coefficient on $privatecollege$? As a causal effect?\n"
   ]
  },
  {
   "cell_type": "markdown",
   "metadata": {
    "id": "WxN5CIkd3FIc"
   },
   "source": [
    "Now let's add controls for parent's education and cognitive ability as measured by ASVAB:\n"
   ]
  },
  {
   "cell_type": "code",
   "execution_count": 11,
   "metadata": {
    "id": "1WAfh6LjQpHh"
   },
   "outputs": [
    {
     "name": "stdout",
     "output_type": "stream",
     "text": [
      "                            OLS Regression Results                            \n",
      "==============================================================================\n",
      "Dep. Variable:         annualearnings   R-squared:                       0.054\n",
      "Model:                            OLS   Adj. R-squared:                  0.050\n",
      "Method:                 Least Squares   F-statistic:                     15.97\n",
      "Date:                Sat, 02 Dec 2023   Prob (F-statistic):           1.08e-12\n",
      "Time:                        11:01:39   Log-Likelihood:                -12662.\n",
      "No. Observations:                1031   AIC:                         2.533e+04\n",
      "Df Residuals:                    1026   BIC:                         2.536e+04\n",
      "Df Model:                           4                                         \n",
      "Covariance Type:                  HC3                                         \n",
      "==================================================================================\n",
      "                     coef    std err          z      P>|z|      [0.025      0.975]\n",
      "----------------------------------------------------------------------------------\n",
      "const           4.357e+04   3796.743     11.475      0.000    3.61e+04     5.1e+04\n",
      "privatecollege  3973.3522   3591.922      1.106      0.269   -3066.685     1.1e+04\n",
      "dadcollege      3770.0445   3954.095      0.953      0.340   -3979.839    1.15e+04\n",
      "momcollege      2137.9169   3823.371      0.559      0.576   -5355.753    9631.587\n",
      "asvab              0.4236      0.067      6.362      0.000       0.293       0.554\n",
      "==============================================================================\n",
      "Omnibus:                      414.089   Durbin-Watson:                   1.967\n",
      "Prob(Omnibus):                  0.000   Jarque-Bera (JB):             1568.092\n",
      "Skew:                           1.940   Prob(JB):                         0.00\n",
      "Kurtosis:                       7.631   Cond. No.                     2.03e+05\n",
      "==============================================================================\n",
      "\n",
      "Notes:\n",
      "[1] Standard Errors are heteroscedasticity robust (HC3)\n",
      "[2] The condition number is large, 2.03e+05. This might indicate that there are\n",
      "strong multicollinearity or other numerical problems.\n"
     ]
    }
   ],
   "source": [
    "# Regression with controls\n",
    "rhs = sm.add_constant(nlsy[[\"privatecollege\", \"dadcollege\", \"momcollege\", \"asvab\"]])\n",
    "model = sm.OLS(nlsy[\"annualearnings\"], rhs)\n",
    "results = model.fit(cov_type=\"HC3\")\n",
    "print(results.summary())"
   ]
  },
  {
   "cell_type": "markdown",
   "metadata": {
    "id": "NdPZTZNU3R13"
   },
   "source": [
    "How did the inclusion of controls change the estimate? Why?\n"
   ]
  },
  {
   "cell_type": "markdown",
   "metadata": {
    "id": "O5-ItzrL3W4y"
   },
   "source": [
    "Back to the whiteboard for prediction!\n"
   ]
  },
  {
   "cell_type": "markdown",
   "metadata": {
    "id": "fI9XXfGU3dde"
   },
   "source": [
    "# Prediction Primer\n"
   ]
  },
  {
   "cell_type": "markdown",
   "metadata": {
    "id": "Gg7yvgsZ3pz2"
   },
   "source": [
    "Let's use decision trees to predict which participants of the National JTPA Study were likely to find a job. We will use prior earnings, education, sex, race, and marital status as our prediction features.\n"
   ]
  },
  {
   "cell_type": "code",
   "execution_count": 12,
   "metadata": {
    "id": "X4fQikML3gwD"
   },
   "outputs": [
    {
     "data": {
      "text/html": [
       "<div>\n",
       "<style scoped>\n",
       "    .dataframe tbody tr th:only-of-type {\n",
       "        vertical-align: middle;\n",
       "    }\n",
       "\n",
       "    .dataframe tbody tr th {\n",
       "        vertical-align: top;\n",
       "    }\n",
       "\n",
       "    .dataframe thead th {\n",
       "        text-align: right;\n",
       "    }\n",
       "</style>\n",
       "<table border=\"1\" class=\"dataframe\">\n",
       "  <thead>\n",
       "    <tr style=\"text-align: right;\">\n",
       "      <th></th>\n",
       "      <th>age</th>\n",
       "      <th>enroll</th>\n",
       "      <th>priorearn</th>\n",
       "      <th>educ</th>\n",
       "      <th>female</th>\n",
       "      <th>nonwhite</th>\n",
       "      <th>z</th>\n",
       "      <th>married</th>\n",
       "      <th>foundjob</th>\n",
       "    </tr>\n",
       "  </thead>\n",
       "  <tbody>\n",
       "    <tr>\n",
       "      <th>0</th>\n",
       "      <td>46</td>\n",
       "      <td>1</td>\n",
       "      <td>0</td>\n",
       "      <td>12</td>\n",
       "      <td>1</td>\n",
       "      <td>1</td>\n",
       "      <td>1</td>\n",
       "      <td>0</td>\n",
       "      <td>1</td>\n",
       "    </tr>\n",
       "    <tr>\n",
       "      <th>1</th>\n",
       "      <td>24</td>\n",
       "      <td>1</td>\n",
       "      <td>3591</td>\n",
       "      <td>11</td>\n",
       "      <td>1</td>\n",
       "      <td>0</td>\n",
       "      <td>1</td>\n",
       "      <td>0</td>\n",
       "      <td>1</td>\n",
       "    </tr>\n",
       "    <tr>\n",
       "      <th>2</th>\n",
       "      <td>28</td>\n",
       "      <td>1</td>\n",
       "      <td>6000</td>\n",
       "      <td>9</td>\n",
       "      <td>0</td>\n",
       "      <td>1</td>\n",
       "      <td>1</td>\n",
       "      <td>1</td>\n",
       "      <td>1</td>\n",
       "    </tr>\n",
       "    <tr>\n",
       "      <th>3</th>\n",
       "      <td>23</td>\n",
       "      <td>0</td>\n",
       "      <td>2000</td>\n",
       "      <td>11</td>\n",
       "      <td>0</td>\n",
       "      <td>0</td>\n",
       "      <td>0</td>\n",
       "      <td>1</td>\n",
       "      <td>1</td>\n",
       "    </tr>\n",
       "    <tr>\n",
       "      <th>4</th>\n",
       "      <td>34</td>\n",
       "      <td>0</td>\n",
       "      <td>0</td>\n",
       "      <td>12</td>\n",
       "      <td>1</td>\n",
       "      <td>1</td>\n",
       "      <td>1</td>\n",
       "      <td>1</td>\n",
       "      <td>1</td>\n",
       "    </tr>\n",
       "    <tr>\n",
       "      <th>...</th>\n",
       "      <td>...</td>\n",
       "      <td>...</td>\n",
       "      <td>...</td>\n",
       "      <td>...</td>\n",
       "      <td>...</td>\n",
       "      <td>...</td>\n",
       "      <td>...</td>\n",
       "      <td>...</td>\n",
       "      <td>...</td>\n",
       "    </tr>\n",
       "    <tr>\n",
       "      <th>13848</th>\n",
       "      <td>26</td>\n",
       "      <td>0</td>\n",
       "      <td>0</td>\n",
       "      <td>12</td>\n",
       "      <td>1</td>\n",
       "      <td>1</td>\n",
       "      <td>0</td>\n",
       "      <td>1</td>\n",
       "      <td>0</td>\n",
       "    </tr>\n",
       "    <tr>\n",
       "      <th>13849</th>\n",
       "      <td>52</td>\n",
       "      <td>0</td>\n",
       "      <td>0</td>\n",
       "      <td>10</td>\n",
       "      <td>0</td>\n",
       "      <td>0</td>\n",
       "      <td>1</td>\n",
       "      <td>0</td>\n",
       "      <td>0</td>\n",
       "    </tr>\n",
       "    <tr>\n",
       "      <th>13850</th>\n",
       "      <td>32</td>\n",
       "      <td>0</td>\n",
       "      <td>0</td>\n",
       "      <td>12</td>\n",
       "      <td>1</td>\n",
       "      <td>1</td>\n",
       "      <td>0</td>\n",
       "      <td>0</td>\n",
       "      <td>0</td>\n",
       "    </tr>\n",
       "    <tr>\n",
       "      <th>13851</th>\n",
       "      <td>16</td>\n",
       "      <td>1</td>\n",
       "      <td>0</td>\n",
       "      <td>9</td>\n",
       "      <td>0</td>\n",
       "      <td>1</td>\n",
       "      <td>1</td>\n",
       "      <td>0</td>\n",
       "      <td>0</td>\n",
       "    </tr>\n",
       "    <tr>\n",
       "      <th>13852</th>\n",
       "      <td>36</td>\n",
       "      <td>0</td>\n",
       "      <td>0</td>\n",
       "      <td>12</td>\n",
       "      <td>1</td>\n",
       "      <td>1</td>\n",
       "      <td>1</td>\n",
       "      <td>0</td>\n",
       "      <td>0</td>\n",
       "    </tr>\n",
       "  </tbody>\n",
       "</table>\n",
       "<p>13853 rows × 9 columns</p>\n",
       "</div>"
      ],
      "text/plain": [
       "       age  enroll  priorearn  educ  female  nonwhite  z  married  foundjob\n",
       "0       46       1          0    12       1         1  1        0         1\n",
       "1       24       1       3591    11       1         0  1        0         1\n",
       "2       28       1       6000     9       0         1  1        1         1\n",
       "3       23       0       2000    11       0         0  0        1         1\n",
       "4       34       0          0    12       1         1  1        1         1\n",
       "...    ...     ...        ...   ...     ...       ... ..      ...       ...\n",
       "13848   26       0          0    12       1         1  0        1         0\n",
       "13849   52       0          0    10       0         0  1        0         0\n",
       "13850   32       0          0    12       1         1  0        0         0\n",
       "13851   16       1          0     9       0         1  1        0         0\n",
       "13852   36       0          0    12       1         1  1        0         0\n",
       "\n",
       "[13853 rows x 9 columns]"
      ]
     },
     "execution_count": 12,
     "metadata": {},
     "output_type": "execute_result"
    }
   ],
   "source": [
    "data = pd.read_csv(\n",
    "    \"https://github.com/Mixtape-Sessions/Heterogeneous-Effects/raw/main/Labs/data/jtpahet.csv\"\n",
    ")\n",
    "data"
   ]
  },
  {
   "cell_type": "markdown",
   "metadata": {
    "id": "wkytiOpITN_E"
   },
   "source": [
    "Import some utilities:\n"
   ]
  },
  {
   "cell_type": "code",
   "execution_count": 15,
   "metadata": {
    "id": "4hHtJQ_ROvWp"
   },
   "outputs": [
    {
     "data": {
      "text/plain": [
       "'import numpy as np\\nimport matplotlib.pyplot as plt\\nfrom plot_helpers import cm2, cm3, discrete_scatter\\n\\ndef _call_classifier_chunked(classifier_pred_or_decide, X):\\n    # The chunk_size is used to chunk the large arrays to work with x86\\n    # memory models that are restricted to < 2 GB in memory allocation. The\\n    # chunk_size value used here is based on a measurement with the\\n    # MLPClassifier using the following parameters:\\n    # MLPClassifier(solver=\\'lbfgs\\', random_state=0,\\n    #               hidden_layer_sizes=[1000,1000,1000])\\n    # by reducing the value it is possible to trade in time for memory.\\n    # It is possible to chunk the array as the calculations are independent of\\n    # each other.\\n    # Note: an intermittent version made a distinction between\\n    # 32- and 64 bit architectures avoiding the chunking. Testing revealed\\n    # that even on 64 bit architectures the chunking increases the\\n    # performance by a factor of 3-5, largely due to the avoidance of memory\\n    # swapping.\\n    chunk_size = 10000\\n\\n    # We use a list to collect all result chunks\\n    Y_result_chunks = []\\n\\n    # Call the classifier in chunks.\\n    for x_chunk in np.array_split(X, np.arange(chunk_size, X.shape[0],\\n                                               chunk_size, dtype=np.int32),\\n                                  axis=0):\\n        Y_result_chunks.append(classifier_pred_or_decide(x_chunk))\\n\\n    return np.concatenate(Y_result_chunks)\\n\\n\\ndef plot_2d_classification(classifier, X, fill=False, ax=None, eps=None,\\n                           alpha=1, cm=cm3):\\n    # multiclass\\n    if eps is None:\\n        #eps = X.std() / 2.\\n        eps0 = X[:,0].std() / 2.\\n        eps1 = X[:,1].std() / 2.\\n\\n    if ax is None:\\n        ax = plt.gca()\\n\\n    x_min, x_max = X[:, 0].min() - eps0, X[:, 0].max() + eps0\\n    y_min, y_max = X[:, 1].min() - eps1, X[:, 1].max() + eps1\\n    xx = np.linspace(x_min, x_max, 1000)\\n    yy = np.linspace(y_min, y_max, 1000)\\n\\n    X1, X2 = np.meshgrid(xx, yy)\\n    X_grid = np.c_[X1.ravel(), X2.ravel()]\\n    decision_values = classifier.predict(X_grid)\\n    ax.imshow(decision_values.reshape(X1.shape), extent=(x_min, x_max,\\n                                                         y_min, y_max),\\n              aspect=\\'auto\\', origin=\\'lower\\', alpha=alpha, cmap=cm)\\n    ax.set_xlim(x_min, x_max)\\n    ax.set_ylim(y_min, y_max)\\n    ax.set_xticks(())\\n    ax.set_yticks(())\\n\\n\\ndef plot_2d_scores(classifier, X, ax=None, eps=None, alpha=1, cm=\"viridis\",\\n                   function=None):\\n    # binary with fill\\n    if eps is None:\\n        eps = X.std() / 2.\\n\\n    if ax is None:\\n        ax = plt.gca()\\n\\n    x_min, x_max = X[:, 0].min() - eps, X[:, 0].max() + eps\\n    y_min, y_max = X[:, 1].min() - eps, X[:, 1].max() + eps\\n    xx = np.linspace(x_min, x_max, 100)\\n    yy = np.linspace(y_min, y_max, 100)\\n\\n    X1, X2 = np.meshgrid(xx, yy)\\n    X_grid = np.c_[X1.ravel(), X2.ravel()]\\n    if function is None:\\n        function = getattr(classifier, \"decision_function\",\\n                           getattr(classifier, \"predict_proba\"))\\n    else:\\n        function = getattr(classifier, function)\\n    decision_values = function(X_grid)\\n    if decision_values.ndim > 1 and decision_values.shape[1] > 1:\\n        # predict_proba\\n        decision_values = decision_values[:, 1]\\n    grr = ax.imshow(decision_values.reshape(X1.shape),\\n                    extent=(x_min, x_max, y_min, y_max), aspect=\\'auto\\',\\n                    origin=\\'lower\\', alpha=alpha, cmap=cm)\\n\\n    ax.set_xlim(x_min, x_max)\\n    ax.set_ylim(y_min, y_max)\\n    ax.set_xticks(())\\n    ax.set_yticks(())\\n    return grr\\n\\n\\ndef plot_2d_separator(classifier, X, fill=False, ax=None, eps=None, alpha=1,\\n                      cm=cm2, linewidth=None, threshold=None,\\n                      linestyle=\"solid\"):\\n    # binary?\\n    if eps is None:\\n        #eps = X.std() / 2.\\n        eps0 = X[:,0].std() / 2.\\n        eps1 = X[:,1].std() / 2.\\n\\n\\n    if ax is None:\\n        ax = plt.gca()\\n\\n    x_min, x_max = X[:, 0].min() - eps0, X[:, 0].max() + eps0\\n    y_min, y_max = X[:, 1].min() - eps1, X[:, 1].max() + eps1\\n    xx = np.linspace(x_min, x_max, 1000)\\n    yy = np.linspace(y_min, y_max, 1000)\\n\\n    X1, X2 = np.meshgrid(xx, yy)\\n    X_grid = np.c_[X1.ravel(), X2.ravel()]\\n    if hasattr(classifier, \"decision_function\"):\\n        decision_values = _call_classifier_chunked(classifier.decision_function,\\n                                                   X_grid)\\n        levels = [0] if threshold is None else [threshold]\\n        fill_levels = [decision_values.min()] + levels + [\\n            decision_values.max()]\\n    else:\\n        # no decision_function\\n        decision_values = _call_classifier_chunked(classifier.predict_proba,\\n                                                   X_grid)[:, 1]\\n        levels = [.5] if threshold is None else [threshold]\\n        fill_levels = [0] + levels + [1]\\n    if fill:\\n        ax.contourf(X1, X2, decision_values.reshape(X1.shape),\\n                    levels=fill_levels, alpha=alpha, cmap=cm)\\n    else:\\n        ax.contour(X1, X2, decision_values.reshape(X1.shape), levels=levels,\\n                   colors=\"black\", alpha=alpha, linewidths=linewidth,\\n                   linestyles=linestyle, zorder=5)\\n\\n    ax.set_xlim(x_min, x_max)\\n    ax.set_ylim(y_min, y_max)\\n    #ax.set_xticks(())\\n    #ax.set_yticks(())\\n\\n\\nif __name__ == \\'__main__\\':\\n    from sklearn.datasets import make_blobs\\n    from sklearn.linear_model import LogisticRegression\\n    X, y = make_blobs(centers=2, random_state=42)\\n    clf = LogisticRegression(solver=\\'lbfgs\\').fit(X, y)\\n    plot_2d_separator(clf, X, fill=True)\\n    discrete_scatter(X[:, 0], X[:, 1], y)\\n    plt.show()\\n'"
      ]
     },
     "execution_count": 15,
     "metadata": {},
     "output_type": "execute_result"
    }
   ],
   "source": [
    "import requests\n",
    "\n",
    "url1 = \"https://github.com/Mixtape-Sessions/Heterogeneous-Effects/raw/main/Labs/python/plot_2d_separator.py\"\n",
    "r1 = requests.get(url1)\n",
    "\n",
    "r1.text"
   ]
  },
  {
   "cell_type": "code",
   "execution_count": 39,
   "metadata": {
    "cellView": "form",
    "id": "KORsELfSTMyl"
   },
   "outputs": [],
   "source": [
    "# @title\n",
    "import requests\n",
    "url1 = 'https://github.com/Mixtape-Sessions/Heterogeneous-Effects/raw/main/Labs/python/plot_2d_separator.py'\n",
    "url2 = 'https://github.com/Mixtape-Sessions/Heterogeneous-Effects/raw/main/Labs/python/plot_interactive_tree.py'\n",
    "url3 = 'https://github.com/Mixtape-Sessions/Heterogeneous-Effects/raw/main/Labs/python/plot_helpers.py'\n",
    "url4 = 'https://github.com/Mixtape-Sessions/Heterogeneous-Effects/raw/main/Labs/python/tools.py'\n",
    "r1 = requests.get(url1)\n",
    "r2 = requests.get(url2)\n",
    "r3 = requests.get(url3)\n",
    "r4 = requests.get(url4)\n",
    "\n",
    "# make sure your filename is the same as how you want to import\n",
    "with open('plot_2d_separator.py', 'w') as f1:\n",
    "    f1.write(r1.text)\n",
    "\n",
    "with open('plot_interactive_tree.py', 'w') as f2:\n",
    "    f2.write(r2.text)\n",
    "\n",
    "with open('plot_helpers.py', 'w') as f3:\n",
    "    f3.write(r3.text)\n",
    "\n",
    "with open('tools.py', 'w') as f4:\n",
    "    f4.write(r4.text)\n",
    "\n",
    "# now we can import\n",
    "import plot_helpers\n",
    "import tools\n",
    "import plot_2d_separator\n",
    "import plot_interactive_tree"
   ]
  },
  {
   "cell_type": "code",
   "execution_count": 40,
   "metadata": {
    "id": "wcgiIKnqIUt2"
   },
   "outputs": [],
   "source": [
    "from sklearn.tree import DecisionTreeClassifier\n",
    "from sklearn.tree import DecisionTreeRegressor\n",
    "from sklearn.ensemble import RandomForestClassifier\n",
    "from sklearn.ensemble import RandomForestRegressor\n",
    "from sklearn.model_selection import train_test_split\n",
    "import matplotlib.pyplot as plt\n",
    "\n",
    "plt.style.use(\"seaborn-whitegrid\")\n",
    "from sklearn.tree import plot_tree"
   ]
  },
  {
   "cell_type": "markdown",
   "metadata": {
    "id": "-nxwcyI0mILm"
   },
   "source": [
    "We'll first grow a tree using just two features (education and prior earnings) so we can visualize it easily. Let's visualize the feature space: triangles are individuals who found a job, circles are those who didn't.\n"
   ]
  },
  {
   "cell_type": "code",
   "execution_count": 41,
   "metadata": {
    "id": "TPZ6jMTLmWsg"
   },
   "outputs": [
    {
     "data": {
      "image/png": "[encoded data removed]",
      "text/plain": [
       "<Figure size 432x288 with 1 Axes>"
      ]
     },
     "metadata": {},
     "output_type": "display_data"
    }
   ],
   "source": [
    "plot_helpers.discrete_scatter(\n",
    "    data.loc[:, \"educ\"].values,\n",
    "    data.loc[:, \"priorearn\"].values,\n",
    "    data.loc[:, \"foundjob\"].values,\n",
    ")\n",
    "plt.show()"
   ]
  },
  {
   "cell_type": "code",
   "execution_count": 42,
   "metadata": {
    "id": "sf24rdVLJZmr"
   },
   "outputs": [
    {
     "data": {
      "text/plain": [
       "<AxesSubplot:>"
      ]
     },
     "execution_count": 42,
     "metadata": {},
     "output_type": "execute_result"
    },
    {
     "data": {
      "image/png": "[encoded data removed]",
      "text/plain": [
       "<Figure size 864x576 with 1 Axes>"
      ]
     },
     "metadata": {},
     "output_type": "display_data"
    }
   ],
   "source": [
    "tree = DecisionTreeRegressor(max_depth=3).fit(\n",
    "    data.loc[:, [\"educ\", \"priorearn\"]].values, data.loc[:, \"foundjob\"].values\n",
    ")\n",
    "fig1, ax = plt.subplots(1, 1, figsize=(12, 8))\n",
    "plot_interactive_tree.plot_tree_partition(\n",
    "    data.loc[:, [\"educ\", \"priorearn\"]].values,\n",
    "    data.loc[:, \"foundjob\"].values,\n",
    "    tree,\n",
    "    ax=ax,\n",
    ")\n"
   ]
  },
  {
   "cell_type": "code",
   "execution_count": 43,
   "metadata": {
    "id": "BtATm789RIKv"
   },
   "outputs": [
    {
     "data": {
      "image/png": "[encoded data removed]",
      "text/plain": [
       "<Figure size 432x288 with 1 Axes>"
      ]
     },
     "metadata": {},
     "output_type": "display_data"
    }
   ],
   "source": [
    "plot_tree(\n",
    "    tree,\n",
    "    feature_names=[\"education\", \"Prior earnings\"],\n",
    "    class_names=[\"No job\", \"Found job\"],\n",
    "    impurity=False,\n",
    "    filled=True,\n",
    ")\n",
    "plt.show()"
   ]
  },
  {
   "cell_type": "markdown",
   "metadata": {
    "id": "SQmZtyYDnC4V"
   },
   "source": [
    "Now let's do a random forest:\n"
   ]
  },
  {
   "cell_type": "code",
   "execution_count": 44,
   "metadata": {
    "id": "0OnAO2PnR3Me"
   },
   "outputs": [
    {
     "data": {
      "image/png": "[encoded data removed]",
      "text/plain": [
       "<Figure size 1440x720 with 6 Axes>"
      ]
     },
     "metadata": {},
     "output_type": "display_data"
    }
   ],
   "source": [
    "forest = RandomForestClassifier(n_estimators=5, random_state=2).fit(\n",
    "    data.loc[:, [\"educ\", \"priorearn\"]].values, data.loc[:, \"foundjob\"].values\n",
    ")\n",
    "\n",
    "fig, axes = plt.subplots(2, 3, figsize=(20, 10))\n",
    "for i, (ax, tree) in enumerate(zip(axes.ravel(), forest.estimators_)):\n",
    "    ax.set_title(\"Tree {}\".format(i))\n",
    "    plot_interactive_tree.plot_tree_partition(\n",
    "        data.loc[:, [\"educ\", \"priorearn\"]].values,\n",
    "        data.loc[:, \"foundjob\"].values,\n",
    "        tree,\n",
    "        ax=ax,\n",
    "    )\n",
    "\n",
    "plot_2d_separator.plot_2d_separator(\n",
    "    forest,\n",
    "    data.loc[:, [\"educ\", \"priorearn\"]].values,\n",
    "    fill=True,\n",
    "    ax=axes[-1, -1],\n",
    "    alpha=0.4,\n",
    ")\n",
    "axes[-1, -1].set_title(\"Random Forest\")\n",
    "plot_helpers.discrete_scatter(\n",
    "    data.loc[:, \"educ\"].values,\n",
    "    data.loc[:, \"priorearn\"].values,\n",
    "    data.loc[:, \"foundjob\"].values,\n",
    ")\n",
    "plt.show()"
   ]
  },
  {
   "cell_type": "markdown",
   "metadata": {
    "id": "JExKzaLpgQOm"
   },
   "source": [
    "We only used two prediction features (prior earnings and education) for visualization. To get the best predictions, we should use all of our features. And to evaluate the quality of the prediction, we should hold out a test set.\n"
   ]
  },
  {
   "cell_type": "code",
   "execution_count": 45,
   "metadata": {
    "id": "plFtKVkUgn50"
   },
   "outputs": [],
   "source": [
    "# Define a matrix of features:\n",
    "X = data[[\"age\", \"priorearn\", \"educ\", \"female\", \"nonwhite\", \"married\"]]\n",
    "# hold out a test test:\n",
    "X_train, X_test, y_train, y_test = train_test_split(\n",
    "    X, data[\"foundjob\"], random_state=42\n",
    ")"
   ]
  },
  {
   "cell_type": "markdown",
   "metadata": {
    "id": "LR1TkSjfhH-Y"
   },
   "source": [
    "Try on your own: grow a forest with 500 trees using the training set, and evaluate the prediction accuracy on the test set. Hint: you can evaluate the prediction accuracy by doing `forest.score(X_test,y_test)`.\n"
   ]
  },
  {
   "cell_type": "code",
   "execution_count": null,
   "metadata": {
    "id": "ocK-BWY8k5Wf"
   },
   "outputs": [],
   "source": []
  },
  {
   "cell_type": "markdown",
   "metadata": {
    "id": "eU_aIhS7k-SQ"
   },
   "source": [
    "##Cheat\n"
   ]
  },
  {
   "cell_type": "code",
   "execution_count": 23,
   "metadata": {
    "id": "Ovk5JDEWk5uk"
   },
   "outputs": [
    {
     "data": {
      "text/plain": [
       "0.8201501154734411"
      ]
     },
     "execution_count": 23,
     "metadata": {},
     "output_type": "execute_result"
    }
   ],
   "source": [
    "forest = RandomForestClassifier(n_estimators=500, random_state=2).fit(X_train, y_train)\n",
    "forest.score(X_test, y_test)"
   ]
  },
  {
   "cell_type": "markdown",
   "metadata": {
    "id": "alI0KS2fZhI_"
   },
   "source": [
    "So much for predicting _outcomes_. We want to predict causal effects. Back to the whiteboard!\n"
   ]
  },
  {
   "cell_type": "markdown",
   "metadata": {
    "id": "a_J_iK_BmyTB"
   },
   "source": [
    "# Using Machine Learning to Predict Heterogeneous Treatment Effects\n"
   ]
  },
  {
   "cell_type": "markdown",
   "metadata": {
    "id": "G9WBzU6Xn8Ux"
   },
   "source": [
    "## Key Challenge: Algorithms tailored for predicting outcomes can do poorly when predicting treatment effects\n"
   ]
  },
  {
   "cell_type": "markdown",
   "metadata": {
    "id": "hwTTUnLrowli"
   },
   "source": [
    "### Factors that strongly predict outcomes may not strongly predict treatment effects\n"
   ]
  },
  {
   "cell_type": "markdown",
   "metadata": {
    "id": "THdqEG_Lo4wu"
   },
   "source": [
    "$Y_i$: spending on a Lexus\n",
    "\n",
    "$D_i$: seeing an online ad for a Lexus\n",
    "\n",
    "$\\ln Y_i=\\beta_0+\\beta_1 age_i +\\beta_2 male_i + \\beta_3 D_i+\\beta_4 D_i \\times male_i +\\varepsilon_i$\n",
    "\n",
    "How do outcomes vary by age? (A lot if $\\beta_1$ is big)\n",
    "\n",
    "How do treatment effects vary by age? (not at all!)\n",
    "\n",
    "What do treatment effects vary by? (gender!)\n"
   ]
  },
  {
   "cell_type": "markdown",
   "metadata": {
    "id": "cx8mK_rg2cyj"
   },
   "source": [
    "Let's simulate some data to show what happens when we try to use algorithm tailored to predicting outcomes for predicting treatment effects.\n"
   ]
  },
  {
   "cell_type": "code",
   "execution_count": 13,
   "metadata": {
    "id": "WsBtHlR33VrH"
   },
   "outputs": [],
   "source": [
    "import numpy as np\n",
    "from sklearn import tree"
   ]
  },
  {
   "cell_type": "code",
   "execution_count": 46,
   "metadata": {
    "id": "tdDI1IwMqp5l"
   },
   "outputs": [
    {
     "name": "stderr",
     "output_type": "stream",
     "text": [
      "Pandas doesn't allow columns to be created via a new attribute name - see https://pandas.pydata.org/pandas-docs/stable/indexing.html#attribute-access\n"
     ]
    }
   ],
   "source": [
    "# define parameters\n",
    "n = 1000  # sample size\n",
    "p = 0.5  # probability of seeing the ad\n",
    "beta0 = 0\n",
    "beta1 = 0.2  # effect of age\n",
    "beta2 = (\n",
    "    -0.025\n",
    ")  # difference in average spending between males and females who don't see the ad ()\n",
    "beta3 = 0  # effect of treatment among females\n",
    "beta4 = 0.05  # differential effect of treatment among males compared to females\n",
    "sigeps = 0.02  # residual variance of outcome\n",
    "\n",
    "# generate some fake data\n",
    "age = np.random.randint(low=18, high=61, size=(n, 1))\n",
    "male = np.random.randint(low=0, high=2, size=(n, 1))\n",
    "d = np.random.rand(n, 1) > (1 - p)\n",
    "epsilon = sigeps * np.random.randn(n, 1)\n",
    "lny = beta0 + beta1 * age + beta2 * male + beta3 * d + beta4 * d * male + epsilon\n",
    "\n",
    "# assemble as dataframe\n",
    "fakedata = pd.DataFrame(\n",
    "    np.concatenate((lny, d, age, male), axis=1), columns=[\"lny\", \"d\", \"age\", \"male\"]\n",
    ")\n",
    "fakedata.feature_names = [\"age\", \"male\"]\n",
    "x0 = fakedata.loc[d == 0, [\"age\", \"male\"]]\n",
    "x1 = fakedata.loc[d == 1, [\"age\", \"male\"]]\n",
    "y0 = fakedata.loc[d == 0, [\"lny\"]]\n",
    "y1 = fakedata.loc[d == 1, [\"lny\"]]"
   ]
  },
  {
   "cell_type": "markdown",
   "metadata": {
    "id": "Fd1uLAZk3vfG"
   },
   "source": [
    "Try on your own: fit two trees (call them `tree0` and `tree1`), each with `max_depth=2` to predict the outcome separately in the untreated ($D_i=0$) and treated ($D_i=1$) samples, using `x0` and `x1`, respectively.\n"
   ]
  },
  {
   "cell_type": "code",
   "execution_count": 47,
   "metadata": {
    "id": "LshTzl_54vSF"
   },
   "outputs": [],
   "source": [
    "# fit trees"
   ]
  },
  {
   "cell_type": "code",
   "execution_count": 48,
   "metadata": {
    "id": "nCdDGq0s4_z6"
   },
   "outputs": [],
   "source": [
    "# display trees"
   ]
  },
  {
   "cell_type": "markdown",
   "metadata": {
    "id": "M8kmDmNp5B0m"
   },
   "source": [
    "### Cheat\n"
   ]
  },
  {
   "cell_type": "code",
   "execution_count": 49,
   "metadata": {
    "id": "a1nnDYQn4xXN"
   },
   "outputs": [],
   "source": [
    "# fit trees\n",
    "tree1 = DecisionTreeRegressor(max_depth=2).fit(x1, y1)\n",
    "tree0 = DecisionTreeRegressor(max_depth=2).fit(x0, y0)"
   ]
  },
  {
   "cell_type": "code",
   "execution_count": 50,
   "metadata": {
    "id": "cQJoFuHh5IhF"
   },
   "outputs": [
    {
     "name": "stdout",
     "output_type": "stream",
     "text": [
      "Treated tree:\n"
     ]
    },
    {
     "data": {
      "image/png": "[encoded data removed]",
      "text/plain": [
       "<Figure size 432x288 with 1 Axes>"
      ]
     },
     "metadata": {},
     "output_type": "display_data"
    }
   ],
   "source": [
    "# display trees\n",
    "print(\"Treated tree:\")\n",
    "plot_tree(tree1, filled=True, feature_names=fakedata.feature_names)\n",
    "plt.show()"
   ]
  },
  {
   "cell_type": "code",
   "execution_count": 51,
   "metadata": {
    "id": "6c-DI__o5NpF"
   },
   "outputs": [
    {
     "name": "stdout",
     "output_type": "stream",
     "text": [
      "Untreated tree:\n"
     ]
    },
    {
     "data": {
      "image/png": "[encoded data removed]",
      "text/plain": [
       "<Figure size 432x288 with 1 Axes>"
      ]
     },
     "metadata": {},
     "output_type": "display_data"
    }
   ],
   "source": [
    "print(\"Untreated tree:\")\n",
    "plot_tree(tree0, filled=True, feature_names=fakedata.feature_names)\n",
    "plt.show()"
   ]
  },
  {
   "cell_type": "markdown",
   "metadata": {
    "id": "oVX__Pvu7EWU"
   },
   "source": [
    "Which variable(s) did the trees key in on? Why? Would these trees be useful for predicting treatment effects? Why or why not?\n",
    "\n",
    "How do we fix the problem?\n"
   ]
  },
  {
   "cell_type": "markdown",
   "metadata": {
    "id": "_ImW8AlReB-f"
   },
   "source": [
    "## Random Causal Forest: Simulated Example\n"
   ]
  },
  {
   "cell_type": "code",
   "execution_count": 1,
   "metadata": {
    "id": "hCJz8T_m2qfZ"
   },
   "outputs": [
    {
     "name": "stdout",
     "output_type": "stream",
     "text": [
      "Note: you may need to restart the kernel to use updated packages.\n"
     ]
    },
    {
     "name": "stderr",
     "output_type": "stream",
     "text": [
      "La syntaxe de la commande n'est pas correcte.\n"
     ]
    }
   ],
   "source": [
    "# Install econml\n"
   ]
  },
  {
   "cell_type": "code",
   "execution_count": 52,
   "metadata": {
    "id": "WJmkYkVaOvW3"
   },
   "outputs": [],
   "source": [
    "from econml.dml import CausalForestDML as CausalForest"
   ]
  },
  {
   "cell_type": "code",
   "execution_count": 53,
   "metadata": {
    "id": "5OCVpZR7tA-V"
   },
   "outputs": [
    {
     "name": "stderr",
     "output_type": "stream",
     "text": [
      "`sparse` was renamed to `sparse_output` in version 1.2 and will be removed in 1.4. `sparse_output` is ignored unless you leave `sparse` to its default value.\n"
     ]
    }
   ],
   "source": [
    "# NOTE: If you are getting `np.int` error, do the following:\n",
    "# pip install --force-reinstall numpy==1.23.5\n",
    "# There is a fix for the new numpy version, but it's not released yet:\n",
    "# https://github.com/py-why/EconML/commit/0be16255f10853fc9fe0774cb5649e051dc55dff\n",
    "\n",
    "# Instantiate the Causal Forest\n",
    "estimator = CausalForest(n_estimators=500, discrete_treatment=True, criterion=\"het\")\n",
    "\n",
    "# Grow the forest\n",
    "estimator.fit(\n",
    "    fakedata[\"lny\"], fakedata[\"d\"], X=fakedata[[\"age\", \"male\"]]  # outcome  # treatment\n",
    ")  # prediction features\n",
    "\n",
    "# Predict effects for each observation based on its characteristics:\n",
    "effects = estimator.effect(fakedata[[\"age\", \"male\"]])"
   ]
  },
  {
   "cell_type": "markdown",
   "metadata": {
    "id": "MFtL_AJG9CAA"
   },
   "source": [
    "Let's see how well it did at estimating effects among men and women:\n"
   ]
  },
  {
   "cell_type": "code",
   "execution_count": 54,
   "metadata": {
    "id": "mqoiopLL4v8J"
   },
   "outputs": [
    {
     "data": {
      "text/plain": [
       "0.04625555697484175"
      ]
     },
     "execution_count": 54,
     "metadata": {},
     "output_type": "execute_result"
    }
   ],
   "source": [
    "malefx = effects[fakedata[\"male\"].values == 1]\n",
    "malefx.mean()"
   ]
  },
  {
   "cell_type": "code",
   "execution_count": 55,
   "metadata": {
    "id": "Uai_wDHf428w"
   },
   "outputs": [
    {
     "data": {
      "text/plain": [
       "0.001573055518916351"
      ]
     },
     "execution_count": 55,
     "metadata": {},
     "output_type": "execute_result"
    }
   ],
   "source": [
    "femalefx = effects[fakedata[\"male\"].values == 0]\n",
    "femalefx.mean()"
   ]
  },
  {
   "cell_type": "markdown",
   "metadata": {
    "id": "ctplR0SR9sBE"
   },
   "source": [
    "How did our causal forest do at getting effects right for men and women? Let's see how it does on the age profile:\n"
   ]
  },
  {
   "cell_type": "code",
   "execution_count": 56,
   "metadata": {
    "id": "MPDiUMH17KDN"
   },
   "outputs": [
    {
     "data": {
      "text/plain": [
       "Text(0, 0.5, 'treatment effect')"
      ]
     },
     "execution_count": 56,
     "metadata": {},
     "output_type": "execute_result"
    },
    {
     "data": {
      "image/png": "[encoded data removed]",
      "text/plain": [
       "<Figure size 432x288 with 1 Axes>"
      ]
     },
     "metadata": {},
     "output_type": "display_data"
    }
   ],
   "source": [
    "fig = plt.figure()\n",
    "ax = plt.axes()\n",
    "maleage = fakedata[\"age\"].iloc[fakedata[\"male\"].values == 1]\n",
    "femaleage = fakedata[\"age\"].iloc[fakedata[\"male\"].values == 0]\n",
    "\n",
    "ax.scatter(maleage, malefx, label=\"males\")\n",
    "ax.scatter(femaleage, femalefx, label=\"females\")\n",
    "ax.legend()\n",
    "plt.title(\"Estimated Treatment effects\")\n",
    "plt.xlabel(\"age\")\n",
    "plt.ylabel(\"treatment effect\")"
   ]
  },
  {
   "cell_type": "markdown",
   "metadata": {
    "id": "YY6X9FMo9nzN"
   },
   "source": [
    "A little noisy on the age profile (which should be flat) but does get the difference between men and women!\n"
   ]
  },
  {
   "cell_type": "markdown",
   "metadata": {
    "id": "m1Qj_chk_RxA"
   },
   "source": [
    "## Random Causal Forest: Predict the effects of job training\n"
   ]
  },
  {
   "cell_type": "markdown",
   "metadata": {
    "id": "0Gu4yXtj_p1_"
   },
   "source": [
    "We are ready to apply machine learning to predict causal effects in a real-life setting: how do the effects of job training vary by an individual's characteristics? We will use data from the National Job Training Partnership study, a large-scale randomized evaluation of a publicly subsidized job training program for disadvantaged youth and young adults. Why would we care how the effects of a subsidized job training program vary by a person's characteristics?\n"
   ]
  },
  {
   "cell_type": "markdown",
   "metadata": {
    "id": "Z_9P5WPQA-LD"
   },
   "source": [
    "We will use the JTPA evaluation dataset, which contains observations on about 14,000 individuals, some of whom were randomized to participate in job training ($z_i = 1$) and others who were not ($z_i = 0$).\n",
    "\n",
    "To do on your own:\n",
    "\n",
    "- load the dataset from the url `https://github.com/Mixtape-Sessions/Heterogeneous-Effects/raw/main/Labs/data/jtpahet.csv`\n",
    "- define the outcome vector (call it `y`) to be the column labeled `foundjob`\n",
    "- define the randomized assignment indicator (call it `z`) to be the column labeled `z`\n",
    "- define the feature vector (call it `x`) to be all columns except `foundjob`, `z`, and `enroll`.\n"
   ]
  },
  {
   "cell_type": "code",
   "execution_count": 57,
   "metadata": {
    "id": "ZxlaYZBvBL_K"
   },
   "outputs": [],
   "source": [
    "# load the data\n",
    "\n",
    "# define the variables"
   ]
  },
  {
   "cell_type": "markdown",
   "metadata": {
    "id": "pRi_NHFHBMbT"
   },
   "source": [
    "### Cheat\n"
   ]
  },
  {
   "cell_type": "code",
   "execution_count": 58,
   "metadata": {
    "id": "uA8jeMVrYyNM"
   },
   "outputs": [
    {
     "data": {
      "text/html": [
       "<div>\n",
       "<style scoped>\n",
       "    .dataframe tbody tr th:only-of-type {\n",
       "        vertical-align: middle;\n",
       "    }\n",
       "\n",
       "    .dataframe tbody tr th {\n",
       "        vertical-align: top;\n",
       "    }\n",
       "\n",
       "    .dataframe thead th {\n",
       "        text-align: right;\n",
       "    }\n",
       "</style>\n",
       "<table border=\"1\" class=\"dataframe\">\n",
       "  <thead>\n",
       "    <tr style=\"text-align: right;\">\n",
       "      <th></th>\n",
       "      <th>age</th>\n",
       "      <th>enroll</th>\n",
       "      <th>priorearn</th>\n",
       "      <th>educ</th>\n",
       "      <th>female</th>\n",
       "      <th>nonwhite</th>\n",
       "      <th>z</th>\n",
       "      <th>married</th>\n",
       "      <th>foundjob</th>\n",
       "    </tr>\n",
       "  </thead>\n",
       "  <tbody>\n",
       "    <tr>\n",
       "      <th>0</th>\n",
       "      <td>46</td>\n",
       "      <td>1</td>\n",
       "      <td>0</td>\n",
       "      <td>12</td>\n",
       "      <td>1</td>\n",
       "      <td>1</td>\n",
       "      <td>1</td>\n",
       "      <td>0</td>\n",
       "      <td>1</td>\n",
       "    </tr>\n",
       "    <tr>\n",
       "      <th>1</th>\n",
       "      <td>24</td>\n",
       "      <td>1</td>\n",
       "      <td>3591</td>\n",
       "      <td>11</td>\n",
       "      <td>1</td>\n",
       "      <td>0</td>\n",
       "      <td>1</td>\n",
       "      <td>0</td>\n",
       "      <td>1</td>\n",
       "    </tr>\n",
       "    <tr>\n",
       "      <th>2</th>\n",
       "      <td>28</td>\n",
       "      <td>1</td>\n",
       "      <td>6000</td>\n",
       "      <td>9</td>\n",
       "      <td>0</td>\n",
       "      <td>1</td>\n",
       "      <td>1</td>\n",
       "      <td>1</td>\n",
       "      <td>1</td>\n",
       "    </tr>\n",
       "    <tr>\n",
       "      <th>3</th>\n",
       "      <td>23</td>\n",
       "      <td>0</td>\n",
       "      <td>2000</td>\n",
       "      <td>11</td>\n",
       "      <td>0</td>\n",
       "      <td>0</td>\n",
       "      <td>0</td>\n",
       "      <td>1</td>\n",
       "      <td>1</td>\n",
       "    </tr>\n",
       "    <tr>\n",
       "      <th>4</th>\n",
       "      <td>34</td>\n",
       "      <td>0</td>\n",
       "      <td>0</td>\n",
       "      <td>12</td>\n",
       "      <td>1</td>\n",
       "      <td>1</td>\n",
       "      <td>1</td>\n",
       "      <td>1</td>\n",
       "      <td>1</td>\n",
       "    </tr>\n",
       "    <tr>\n",
       "      <th>...</th>\n",
       "      <td>...</td>\n",
       "      <td>...</td>\n",
       "      <td>...</td>\n",
       "      <td>...</td>\n",
       "      <td>...</td>\n",
       "      <td>...</td>\n",
       "      <td>...</td>\n",
       "      <td>...</td>\n",
       "      <td>...</td>\n",
       "    </tr>\n",
       "    <tr>\n",
       "      <th>13848</th>\n",
       "      <td>26</td>\n",
       "      <td>0</td>\n",
       "      <td>0</td>\n",
       "      <td>12</td>\n",
       "      <td>1</td>\n",
       "      <td>1</td>\n",
       "      <td>0</td>\n",
       "      <td>1</td>\n",
       "      <td>0</td>\n",
       "    </tr>\n",
       "    <tr>\n",
       "      <th>13849</th>\n",
       "      <td>52</td>\n",
       "      <td>0</td>\n",
       "      <td>0</td>\n",
       "      <td>10</td>\n",
       "      <td>0</td>\n",
       "      <td>0</td>\n",
       "      <td>1</td>\n",
       "      <td>0</td>\n",
       "      <td>0</td>\n",
       "    </tr>\n",
       "    <tr>\n",
       "      <th>13850</th>\n",
       "      <td>32</td>\n",
       "      <td>0</td>\n",
       "      <td>0</td>\n",
       "      <td>12</td>\n",
       "      <td>1</td>\n",
       "      <td>1</td>\n",
       "      <td>0</td>\n",
       "      <td>0</td>\n",
       "      <td>0</td>\n",
       "    </tr>\n",
       "    <tr>\n",
       "      <th>13851</th>\n",
       "      <td>16</td>\n",
       "      <td>1</td>\n",
       "      <td>0</td>\n",
       "      <td>9</td>\n",
       "      <td>0</td>\n",
       "      <td>1</td>\n",
       "      <td>1</td>\n",
       "      <td>0</td>\n",
       "      <td>0</td>\n",
       "    </tr>\n",
       "    <tr>\n",
       "      <th>13852</th>\n",
       "      <td>36</td>\n",
       "      <td>0</td>\n",
       "      <td>0</td>\n",
       "      <td>12</td>\n",
       "      <td>1</td>\n",
       "      <td>1</td>\n",
       "      <td>1</td>\n",
       "      <td>0</td>\n",
       "      <td>0</td>\n",
       "    </tr>\n",
       "  </tbody>\n",
       "</table>\n",
       "<p>13853 rows × 9 columns</p>\n",
       "</div>"
      ],
      "text/plain": [
       "       age  enroll  priorearn  educ  female  nonwhite  z  married  foundjob\n",
       "0       46       1          0    12       1         1  1        0         1\n",
       "1       24       1       3591    11       1         0  1        0         1\n",
       "2       28       1       6000     9       0         1  1        1         1\n",
       "3       23       0       2000    11       0         0  0        1         1\n",
       "4       34       0          0    12       1         1  1        1         1\n",
       "...    ...     ...        ...   ...     ...       ... ..      ...       ...\n",
       "13848   26       0          0    12       1         1  0        1         0\n",
       "13849   52       0          0    10       0         0  1        0         0\n",
       "13850   32       0          0    12       1         1  0        0         0\n",
       "13851   16       1          0     9       0         1  1        0         0\n",
       "13852   36       0          0    12       1         1  1        0         0\n",
       "\n",
       "[13853 rows x 9 columns]"
      ]
     },
     "execution_count": 58,
     "metadata": {},
     "output_type": "execute_result"
    }
   ],
   "source": [
    "data = pd.read_csv(\n",
    "    \"https://github.com/Mixtape-Sessions/Heterogeneous-Effects/raw/main/Labs/data/jtpahet.csv\"\n",
    ")\n",
    "data"
   ]
  },
  {
   "cell_type": "code",
   "execution_count": 59,
   "metadata": {
    "id": "4lvqN0FkmYZc"
   },
   "outputs": [
    {
     "data": {
      "text/html": [
       "<div>\n",
       "<style scoped>\n",
       "    .dataframe tbody tr th:only-of-type {\n",
       "        vertical-align: middle;\n",
       "    }\n",
       "\n",
       "    .dataframe tbody tr th {\n",
       "        vertical-align: top;\n",
       "    }\n",
       "\n",
       "    .dataframe thead th {\n",
       "        text-align: right;\n",
       "    }\n",
       "</style>\n",
       "<table border=\"1\" class=\"dataframe\">\n",
       "  <thead>\n",
       "    <tr style=\"text-align: right;\">\n",
       "      <th></th>\n",
       "      <th>age</th>\n",
       "      <th>priorearn</th>\n",
       "      <th>educ</th>\n",
       "      <th>female</th>\n",
       "      <th>nonwhite</th>\n",
       "      <th>married</th>\n",
       "    </tr>\n",
       "  </thead>\n",
       "  <tbody>\n",
       "    <tr>\n",
       "      <th>0</th>\n",
       "      <td>46</td>\n",
       "      <td>0</td>\n",
       "      <td>12</td>\n",
       "      <td>1</td>\n",
       "      <td>1</td>\n",
       "      <td>0</td>\n",
       "    </tr>\n",
       "    <tr>\n",
       "      <th>1</th>\n",
       "      <td>24</td>\n",
       "      <td>3591</td>\n",
       "      <td>11</td>\n",
       "      <td>1</td>\n",
       "      <td>0</td>\n",
       "      <td>0</td>\n",
       "    </tr>\n",
       "    <tr>\n",
       "      <th>2</th>\n",
       "      <td>28</td>\n",
       "      <td>6000</td>\n",
       "      <td>9</td>\n",
       "      <td>0</td>\n",
       "      <td>1</td>\n",
       "      <td>1</td>\n",
       "    </tr>\n",
       "    <tr>\n",
       "      <th>3</th>\n",
       "      <td>23</td>\n",
       "      <td>2000</td>\n",
       "      <td>11</td>\n",
       "      <td>0</td>\n",
       "      <td>0</td>\n",
       "      <td>1</td>\n",
       "    </tr>\n",
       "    <tr>\n",
       "      <th>4</th>\n",
       "      <td>34</td>\n",
       "      <td>0</td>\n",
       "      <td>12</td>\n",
       "      <td>1</td>\n",
       "      <td>1</td>\n",
       "      <td>1</td>\n",
       "    </tr>\n",
       "    <tr>\n",
       "      <th>...</th>\n",
       "      <td>...</td>\n",
       "      <td>...</td>\n",
       "      <td>...</td>\n",
       "      <td>...</td>\n",
       "      <td>...</td>\n",
       "      <td>...</td>\n",
       "    </tr>\n",
       "    <tr>\n",
       "      <th>13848</th>\n",
       "      <td>26</td>\n",
       "      <td>0</td>\n",
       "      <td>12</td>\n",
       "      <td>1</td>\n",
       "      <td>1</td>\n",
       "      <td>1</td>\n",
       "    </tr>\n",
       "    <tr>\n",
       "      <th>13849</th>\n",
       "      <td>52</td>\n",
       "      <td>0</td>\n",
       "      <td>10</td>\n",
       "      <td>0</td>\n",
       "      <td>0</td>\n",
       "      <td>0</td>\n",
       "    </tr>\n",
       "    <tr>\n",
       "      <th>13850</th>\n",
       "      <td>32</td>\n",
       "      <td>0</td>\n",
       "      <td>12</td>\n",
       "      <td>1</td>\n",
       "      <td>1</td>\n",
       "      <td>0</td>\n",
       "    </tr>\n",
       "    <tr>\n",
       "      <th>13851</th>\n",
       "      <td>16</td>\n",
       "      <td>0</td>\n",
       "      <td>9</td>\n",
       "      <td>0</td>\n",
       "      <td>1</td>\n",
       "      <td>0</td>\n",
       "    </tr>\n",
       "    <tr>\n",
       "      <th>13852</th>\n",
       "      <td>36</td>\n",
       "      <td>0</td>\n",
       "      <td>12</td>\n",
       "      <td>1</td>\n",
       "      <td>1</td>\n",
       "      <td>0</td>\n",
       "    </tr>\n",
       "  </tbody>\n",
       "</table>\n",
       "<p>13853 rows × 6 columns</p>\n",
       "</div>"
      ],
      "text/plain": [
       "       age  priorearn  educ  female  nonwhite  married\n",
       "0       46          0    12       1         1        0\n",
       "1       24       3591    11       1         0        0\n",
       "2       28       6000     9       0         1        1\n",
       "3       23       2000    11       0         0        1\n",
       "4       34          0    12       1         1        1\n",
       "...    ...        ...   ...     ...       ...      ...\n",
       "13848   26          0    12       1         1        1\n",
       "13849   52          0    10       0         0        0\n",
       "13850   32          0    12       1         1        0\n",
       "13851   16          0     9       0         1        0\n",
       "13852   36          0    12       1         1        0\n",
       "\n",
       "[13853 rows x 6 columns]"
      ]
     },
     "execution_count": 59,
     "metadata": {},
     "output_type": "execute_result"
    }
   ],
   "source": [
    "y = data[\"foundjob\"]\n",
    "z = data[\"z\"]\n",
    "x = data.drop([\"foundjob\", \"z\", \"enroll\"], axis=1)\n",
    "x"
   ]
  },
  {
   "cell_type": "markdown",
   "metadata": {
    "id": "mrQYHqKWtp-a"
   },
   "source": [
    "### Regression to get average effect\n"
   ]
  },
  {
   "cell_type": "markdown",
   "metadata": {
    "id": "TUD92j-Y3nRE"
   },
   "source": [
    "On your own: run a linear regression of the outcome on the random assignment indicator, `z`. Since this was a randomized experiment, we don't need controls!\n"
   ]
  },
  {
   "cell_type": "code",
   "execution_count": null,
   "metadata": {
    "id": "0jqgYqcx3yEB"
   },
   "outputs": [],
   "source": []
  },
  {
   "cell_type": "markdown",
   "metadata": {
    "id": "Hy2j0806315i"
   },
   "source": [
    "### Cheat:\n"
   ]
  },
  {
   "cell_type": "code",
   "execution_count": 60,
   "metadata": {
    "id": "lOC7Ev8t34Dq"
   },
   "outputs": [
    {
     "name": "stdout",
     "output_type": "stream",
     "text": [
      "                            OLS Regression Results                            \n",
      "==============================================================================\n",
      "Dep. Variable:               foundjob   R-squared:                       0.001\n",
      "Model:                            OLS   Adj. R-squared:                  0.001\n",
      "Method:                 Least Squares   F-statistic:                     7.691\n",
      "Date:                Sun, 03 Dec 2023   Prob (F-statistic):            0.00556\n",
      "Time:                        10:01:06   Log-Likelihood:                -5663.4\n",
      "No. Observations:               13853   AIC:                         1.133e+04\n",
      "Df Residuals:                   13851   BIC:                         1.135e+04\n",
      "Df Model:                           1                                         \n",
      "Covariance Type:                  HC3                                         \n",
      "==============================================================================\n",
      "                 coef    std err          z      P>|z|      [0.025      0.975]\n",
      "------------------------------------------------------------------------------\n",
      "const          0.8297      0.006    146.446      0.000       0.819       0.841\n",
      "z              0.0187      0.007      2.773      0.006       0.005       0.032\n",
      "==============================================================================\n",
      "Omnibus:                     4275.341   Durbin-Watson:                   0.002\n",
      "Prob(Omnibus):                  0.000   Jarque-Bera (JB):             9507.895\n",
      "Skew:                          -1.879   Prob(JB):                         0.00\n",
      "Kurtosis:                       4.534   Cond. No.                         3.31\n",
      "==============================================================================\n",
      "\n",
      "Notes:\n",
      "[1] Standard Errors are heteroscedasticity robust (HC3)\n"
     ]
    }
   ],
   "source": [
    "rhs = sm.add_constant(\n",
    "    data[\"z\"]\n",
    ")  # you have to add the constant yourself with statsmodels!\n",
    "model = sm.OLS(data[\"foundjob\"], rhs)\n",
    "results = model.fit(cov_type=\"HC3\")  # heteroskedasticity-robust\n",
    "print(results.summary())"
   ]
  },
  {
   "cell_type": "markdown",
   "metadata": {
    "id": "62yrByRIBk8Z"
   },
   "source": [
    "### Set up random forest\n"
   ]
  },
  {
   "cell_type": "markdown",
   "metadata": {
    "id": "W4fwaxUtBqgN"
   },
   "source": [
    "So far, so good? Now create a random causal forest object, and fit it with outcome `y`, treatment variable `z`, and feature matrix `x`.\n"
   ]
  },
  {
   "cell_type": "code",
   "execution_count": 61,
   "metadata": {
    "id": "OoPlfQhdB459"
   },
   "outputs": [],
   "source": [
    "# On your own: create and fit random causal forest object"
   ]
  },
  {
   "cell_type": "markdown",
   "metadata": {
    "id": "qoHuWuUnB9LI"
   },
   "source": [
    "### Cheat\n"
   ]
  },
  {
   "cell_type": "code",
   "execution_count": 62,
   "metadata": {
    "id": "l3UWboTmm2dn"
   },
   "outputs": [
    {
     "name": "stderr",
     "output_type": "stream",
     "text": [
      "`sparse` was renamed to `sparse_output` in version 1.2 and will be removed in 1.4. `sparse_output` is ignored unless you leave `sparse` to its default value.\n",
      "Objective did not converge. You might want to increase the number of iterations. Duality gap: 0.0, tolerance: 0.0\n",
      "Objective did not converge. You might want to increase the number of iterations. Duality gap: 0.0, tolerance: 0.0\n",
      "Objective did not converge. You might want to increase the number of iterations. Duality gap: 0.0, tolerance: 0.0\n",
      "Objective did not converge. You might want to increase the number of iterations. Duality gap: 0.0, tolerance: 0.0\n",
      "Objective did not converge. You might want to increase the number of iterations. Duality gap: 0.0, tolerance: 0.0\n",
      "Objective did not converge. You might want to increase the number of iterations. Duality gap: 0.0, tolerance: 0.0\n",
      "Objective did not converge. You might want to increase the number of iterations. Duality gap: 0.0, tolerance: 0.0\n",
      "Objective did not converge. You might want to increase the number of iterations. Duality gap: 0.0, tolerance: 0.0\n",
      "Objective did not converge. You might want to increase the number of iterations. Duality gap: 0.0, tolerance: 0.0\n",
      "Objective did not converge. You might want to increase the number of iterations. Duality gap: 0.0, tolerance: 0.0\n",
      "Objective did not converge. You might want to increase the number of iterations. Duality gap: 0.0, tolerance: 0.0\n",
      "Objective did not converge. You might want to increase the number of iterations. Duality gap: 0.0, tolerance: 0.0\n",
      "Objective did not converge. You might want to increase the number of iterations. Duality gap: 0.0, tolerance: 0.0\n",
      "Objective did not converge. You might want to increase the number of iterations. Duality gap: 0.0, tolerance: 0.0\n",
      "Objective did not converge. You might want to increase the number of iterations. Duality gap: 0.0, tolerance: 0.0\n",
      "Objective did not converge. You might want to increase the number of iterations. Duality gap: 0.0, tolerance: 0.0\n",
      "Objective did not converge. You might want to increase the number of iterations. Duality gap: 0.0, tolerance: 0.0\n",
      "Objective did not converge. You might want to increase the number of iterations. Duality gap: 0.0, tolerance: 0.0\n",
      "Objective did not converge. You might want to increase the number of iterations. Duality gap: 0.0, tolerance: 0.0\n",
      "Objective did not converge. You might want to increase the number of iterations. Duality gap: 0.0, tolerance: 0.0\n",
      "Objective did not converge. You might want to increase the number of iterations. Duality gap: 0.0, tolerance: 0.0\n",
      "Objective did not converge. You might want to increase the number of iterations. Duality gap: 0.0, tolerance: 0.0\n",
      "Objective did not converge. You might want to increase the number of iterations. Duality gap: 0.0, tolerance: 0.0\n",
      "Objective did not converge. You might want to increase the number of iterations. Duality gap: 0.0, tolerance: 0.0\n",
      "Objective did not converge. You might want to increase the number of iterations. Duality gap: 0.0, tolerance: 0.0\n",
      "Objective did not converge. You might want to increase the number of iterations. Duality gap: 0.0, tolerance: 0.0\n",
      "Objective did not converge. You might want to increase the number of iterations. Duality gap: 0.0, tolerance: 0.0\n",
      "Objective did not converge. You might want to increase the number of iterations. Duality gap: 0.0, tolerance: 0.0\n",
      "Objective did not converge. You might want to increase the number of iterations. Duality gap: 0.0, tolerance: 0.0\n",
      "Objective did not converge. You might want to increase the number of iterations. Duality gap: 0.0, tolerance: 0.0\n",
      "Objective did not converge. You might want to increase the number of iterations. Duality gap: 0.0, tolerance: 0.0\n",
      "Objective did not converge. You might want to increase the number of iterations. Duality gap: 0.0, tolerance: 0.0\n",
      "Objective did not converge. You might want to increase the number of iterations. Duality gap: 0.0, tolerance: 0.0\n",
      "Objective did not converge. You might want to increase the number of iterations. Duality gap: 0.0, tolerance: 0.0\n",
      "Objective did not converge. You might want to increase the number of iterations. Duality gap: 0.0, tolerance: 0.0\n",
      "Objective did not converge. You might want to increase the number of iterations. Duality gap: 0.0, tolerance: 0.0\n",
      "Objective did not converge. You might want to increase the number of iterations. Duality gap: 0.0, tolerance: 0.0\n",
      "Objective did not converge. You might want to increase the number of iterations. Duality gap: 0.0, tolerance: 0.0\n",
      "Objective did not converge. You might want to increase the number of iterations. Duality gap: 0.0, tolerance: 0.0\n",
      "Objective did not converge. You might want to increase the number of iterations. Duality gap: 0.0, tolerance: 0.0\n",
      "Objective did not converge. You might want to increase the number of iterations. Duality gap: 0.0, tolerance: 0.0\n",
      "Objective did not converge. You might want to increase the number of iterations. Duality gap: 0.0, tolerance: 0.0\n",
      "Objective did not converge. You might want to increase the number of iterations. Duality gap: 0.0, tolerance: 0.0\n",
      "Objective did not converge. You might want to increase the number of iterations. Duality gap: 0.0, tolerance: 0.0\n",
      "Objective did not converge. You might want to increase the number of iterations. Duality gap: 0.0, tolerance: 0.0\n",
      "Objective did not converge. You might want to increase the number of iterations. Duality gap: 0.0, tolerance: 0.0\n",
      "Objective did not converge. You might want to increase the number of iterations. Duality gap: 0.0, tolerance: 0.0\n",
      "Objective did not converge. You might want to increase the number of iterations. Duality gap: 0.0, tolerance: 0.0\n",
      "Objective did not converge. You might want to increase the number of iterations. Duality gap: 0.0, tolerance: 0.0\n",
      "Objective did not converge. You might want to increase the number of iterations. Duality gap: 0.0, tolerance: 0.0\n",
      "Objective did not converge. You might want to increase the number of iterations. Duality gap: 0.0, tolerance: 0.0\n",
      "Objective did not converge. You might want to increase the number of iterations. Duality gap: 0.0, tolerance: 0.0\n",
      "Objective did not converge. You might want to increase the number of iterations. Duality gap: 0.0, tolerance: 0.0\n",
      "Objective did not converge. You might want to increase the number of iterations. Duality gap: 0.0, tolerance: 0.0\n",
      "Objective did not converge. You might want to increase the number of iterations. Duality gap: 0.0, tolerance: 0.0\n",
      "Objective did not converge. You might want to increase the number of iterations. Duality gap: 0.0, tolerance: 0.0\n",
      "Objective did not converge. You might want to increase the number of iterations. Duality gap: 0.0, tolerance: 0.0\n",
      "Objective did not converge. You might want to increase the number of iterations. Duality gap: 0.0, tolerance: 0.0\n",
      "Objective did not converge. You might want to increase the number of iterations. Duality gap: 0.0, tolerance: 0.0\n",
      "Objective did not converge. You might want to increase the number of iterations. Duality gap: 0.0, tolerance: 0.0\n",
      "Objective did not converge. You might want to increase the number of iterations. Duality gap: 0.0, tolerance: 0.0\n",
      "Objective did not converge. You might want to increase the number of iterations. Duality gap: 0.0, tolerance: 0.0\n",
      "Objective did not converge. You might want to increase the number of iterations. Duality gap: 0.0, tolerance: 0.0\n",
      "Objective did not converge. You might want to increase the number of iterations. Duality gap: 0.0, tolerance: 0.0\n",
      "Objective did not converge. You might want to increase the number of iterations. Duality gap: 0.0, tolerance: 0.0\n",
      "Objective did not converge. You might want to increase the number of iterations. Duality gap: 0.0, tolerance: 0.0\n",
      "Objective did not converge. You might want to increase the number of iterations. Duality gap: 0.0, tolerance: 0.0\n",
      "Objective did not converge. You might want to increase the number of iterations. Duality gap: 0.0, tolerance: 0.0\n",
      "Objective did not converge. You might want to increase the number of iterations. Duality gap: 0.0, tolerance: 0.0\n",
      "Objective did not converge. You might want to increase the number of iterations. Duality gap: 0.0, tolerance: 0.0\n",
      "Objective did not converge. You might want to increase the number of iterations. Duality gap: 0.0, tolerance: 0.0\n",
      "Objective did not converge. You might want to increase the number of iterations. Duality gap: 0.0, tolerance: 0.0\n",
      "Objective did not converge. You might want to increase the number of iterations. Duality gap: 0.0, tolerance: 0.0\n",
      "Objective did not converge. You might want to increase the number of iterations. Duality gap: 0.0, tolerance: 0.0\n",
      "Objective did not converge. You might want to increase the number of iterations. Duality gap: 0.0, tolerance: 0.0\n",
      "Objective did not converge. You might want to increase the number of iterations. Duality gap: 0.0, tolerance: 0.0\n",
      "Objective did not converge. You might want to increase the number of iterations. Duality gap: 0.0, tolerance: 0.0\n",
      "Objective did not converge. You might want to increase the number of iterations. Duality gap: 0.0, tolerance: 0.0\n",
      "Objective did not converge. You might want to increase the number of iterations. Duality gap: 0.0, tolerance: 0.0\n",
      "Objective did not converge. You might want to increase the number of iterations. Duality gap: 0.0, tolerance: 0.0\n",
      "Objective did not converge. You might want to increase the number of iterations. Duality gap: 0.0, tolerance: 0.0\n",
      "Objective did not converge. You might want to increase the number of iterations. Duality gap: 0.0, tolerance: 0.0\n",
      "Objective did not converge. You might want to increase the number of iterations. Duality gap: 0.0, tolerance: 0.0\n",
      "Objective did not converge. You might want to increase the number of iterations. Duality gap: 0.0, tolerance: 0.0\n",
      "Objective did not converge. You might want to increase the number of iterations. Duality gap: 0.0, tolerance: 0.0\n",
      "Objective did not converge. You might want to increase the number of iterations. Duality gap: 0.0, tolerance: 0.0\n",
      "Objective did not converge. You might want to increase the number of iterations. Duality gap: 0.0, tolerance: 0.0\n",
      "Objective did not converge. You might want to increase the number of iterations. Duality gap: 0.0, tolerance: 0.0\n",
      "Objective did not converge. You might want to increase the number of iterations. Duality gap: 0.0, tolerance: 0.0\n",
      "Objective did not converge. You might want to increase the number of iterations. Duality gap: 0.0, tolerance: 0.0\n",
      "Objective did not converge. You might want to increase the number of iterations. Duality gap: 0.0, tolerance: 0.0\n",
      "Objective did not converge. You might want to increase the number of iterations. Duality gap: 0.0, tolerance: 0.0\n",
      "Objective did not converge. You might want to increase the number of iterations. Duality gap: 0.0, tolerance: 0.0\n",
      "Objective did not converge. You might want to increase the number of iterations. Duality gap: 0.0, tolerance: 0.0\n",
      "Objective did not converge. You might want to increase the number of iterations. Duality gap: 0.0, tolerance: 0.0\n",
      "Objective did not converge. You might want to increase the number of iterations. Duality gap: 0.0, tolerance: 0.0\n",
      "Objective did not converge. You might want to increase the number of iterations. Duality gap: 0.0, tolerance: 0.0\n",
      "Objective did not converge. You might want to increase the number of iterations. Duality gap: 0.0, tolerance: 0.0\n",
      "Objective did not converge. You might want to increase the number of iterations. Duality gap: 0.0, tolerance: 0.0\n",
      "Objective did not converge. You might want to increase the number of iterations. Duality gap: 0.0, tolerance: 0.0\n"
     ]
    },
    {
     "name": "stderr",
     "output_type": "stream",
     "text": [
      "Objective did not converge. You might want to increase the number of iterations. Duality gap: 0.0, tolerance: 0.0\n",
      "Objective did not converge. You might want to increase the number of iterations. Duality gap: 0.0, tolerance: 0.0\n",
      "Objective did not converge. You might want to increase the number of iterations. Duality gap: 0.0, tolerance: 0.0\n",
      "Objective did not converge. You might want to increase the number of iterations. Duality gap: 0.0, tolerance: 0.0\n",
      "Objective did not converge. You might want to increase the number of iterations. Duality gap: 0.0, tolerance: 0.0\n",
      "Objective did not converge. You might want to increase the number of iterations. Duality gap: 0.0, tolerance: 0.0\n",
      "Objective did not converge. You might want to increase the number of iterations. Duality gap: 0.0, tolerance: 0.0\n",
      "Objective did not converge. You might want to increase the number of iterations. Duality gap: 0.0, tolerance: 0.0\n",
      "Objective did not converge. You might want to increase the number of iterations. Duality gap: 0.0, tolerance: 0.0\n",
      "Objective did not converge. You might want to increase the number of iterations. Duality gap: 0.0, tolerance: 0.0\n",
      "Objective did not converge. You might want to increase the number of iterations. Duality gap: 0.0, tolerance: 0.0\n",
      "Objective did not converge. You might want to increase the number of iterations. Duality gap: 0.0, tolerance: 0.0\n",
      "Objective did not converge. You might want to increase the number of iterations. Duality gap: 0.0, tolerance: 0.0\n",
      "Objective did not converge. You might want to increase the number of iterations. Duality gap: 0.0, tolerance: 0.0\n",
      "Objective did not converge. You might want to increase the number of iterations. Duality gap: 0.0, tolerance: 0.0\n",
      "Objective did not converge. You might want to increase the number of iterations. Duality gap: 0.0, tolerance: 0.0\n",
      "Objective did not converge. You might want to increase the number of iterations. Duality gap: 0.0, tolerance: 0.0\n",
      "Objective did not converge. You might want to increase the number of iterations. Duality gap: 0.0, tolerance: 0.0\n",
      "Objective did not converge. You might want to increase the number of iterations. Duality gap: 0.0, tolerance: 0.0\n",
      "Objective did not converge. You might want to increase the number of iterations. Duality gap: 0.0, tolerance: 0.0\n",
      "Objective did not converge. You might want to increase the number of iterations. Duality gap: 0.0, tolerance: 0.0\n",
      "Objective did not converge. You might want to increase the number of iterations. Duality gap: 0.0, tolerance: 0.0\n",
      "Objective did not converge. You might want to increase the number of iterations. Duality gap: 0.0, tolerance: 0.0\n",
      "Objective did not converge. You might want to increase the number of iterations. Duality gap: 0.0, tolerance: 0.0\n",
      "Objective did not converge. You might want to increase the number of iterations. Duality gap: 0.0, tolerance: 0.0\n",
      "Objective did not converge. You might want to increase the number of iterations. Duality gap: 0.0, tolerance: 0.0\n",
      "Objective did not converge. You might want to increase the number of iterations. Duality gap: 0.0, tolerance: 0.0\n",
      "Objective did not converge. You might want to increase the number of iterations. Duality gap: 0.0, tolerance: 0.0\n",
      "Objective did not converge. You might want to increase the number of iterations. Duality gap: 0.0, tolerance: 0.0\n",
      "Objective did not converge. You might want to increase the number of iterations. Duality gap: 0.0, tolerance: 0.0\n",
      "Objective did not converge. You might want to increase the number of iterations. Duality gap: 0.0, tolerance: 0.0\n",
      "Objective did not converge. You might want to increase the number of iterations. Duality gap: 0.0, tolerance: 0.0\n",
      "Objective did not converge. You might want to increase the number of iterations. Duality gap: 0.0, tolerance: 0.0\n",
      "Objective did not converge. You might want to increase the number of iterations. Duality gap: 0.0, tolerance: 0.0\n",
      "Objective did not converge. You might want to increase the number of iterations. Duality gap: 0.0, tolerance: 0.0\n",
      "Objective did not converge. You might want to increase the number of iterations. Duality gap: 0.0, tolerance: 0.0\n",
      "Objective did not converge. You might want to increase the number of iterations. Duality gap: 0.0, tolerance: 0.0\n",
      "Objective did not converge. You might want to increase the number of iterations. Duality gap: 0.0, tolerance: 0.0\n",
      "Objective did not converge. You might want to increase the number of iterations. Duality gap: 0.0, tolerance: 0.0\n",
      "Objective did not converge. You might want to increase the number of iterations. Duality gap: 0.0, tolerance: 0.0\n",
      "Objective did not converge. You might want to increase the number of iterations. Duality gap: 0.0, tolerance: 0.0\n",
      "Objective did not converge. You might want to increase the number of iterations. Duality gap: 0.0, tolerance: 0.0\n",
      "Objective did not converge. You might want to increase the number of iterations. Duality gap: 0.0, tolerance: 0.0\n",
      "Objective did not converge. You might want to increase the number of iterations. Duality gap: 0.0, tolerance: 0.0\n",
      "Objective did not converge. You might want to increase the number of iterations. Duality gap: 0.0, tolerance: 0.0\n",
      "Objective did not converge. You might want to increase the number of iterations. Duality gap: 0.0, tolerance: 0.0\n",
      "Objective did not converge. You might want to increase the number of iterations. Duality gap: 0.0, tolerance: 0.0\n",
      "Objective did not converge. You might want to increase the number of iterations. Duality gap: 0.0, tolerance: 0.0\n",
      "Objective did not converge. You might want to increase the number of iterations. Duality gap: 0.0, tolerance: 0.0\n",
      "Objective did not converge. You might want to increase the number of iterations. Duality gap: 0.0, tolerance: 0.0\n",
      "Objective did not converge. You might want to increase the number of iterations. Duality gap: 0.0, tolerance: 0.0\n",
      "Objective did not converge. You might want to increase the number of iterations. Duality gap: 0.0, tolerance: 0.0\n",
      "Objective did not converge. You might want to increase the number of iterations. Duality gap: 0.0, tolerance: 0.0\n",
      "Objective did not converge. You might want to increase the number of iterations. Duality gap: 0.0, tolerance: 0.0\n",
      "Objective did not converge. You might want to increase the number of iterations. Duality gap: 0.0, tolerance: 0.0\n",
      "Objective did not converge. You might want to increase the number of iterations. Duality gap: 0.0, tolerance: 0.0\n",
      "Objective did not converge. You might want to increase the number of iterations. Duality gap: 0.0, tolerance: 0.0\n",
      "Objective did not converge. You might want to increase the number of iterations. Duality gap: 0.0, tolerance: 0.0\n",
      "Objective did not converge. You might want to increase the number of iterations. Duality gap: 0.0, tolerance: 0.0\n",
      "Objective did not converge. You might want to increase the number of iterations. Duality gap: 0.0, tolerance: 0.0\n",
      "Objective did not converge. You might want to increase the number of iterations. Duality gap: 0.0, tolerance: 0.0\n",
      "Objective did not converge. You might want to increase the number of iterations. Duality gap: 0.0, tolerance: 0.0\n",
      "Objective did not converge. You might want to increase the number of iterations. Duality gap: 0.0, tolerance: 0.0\n",
      "Objective did not converge. You might want to increase the number of iterations. Duality gap: 0.0, tolerance: 0.0\n",
      "Objective did not converge. You might want to increase the number of iterations. Duality gap: 0.0, tolerance: 0.0\n",
      "Objective did not converge. You might want to increase the number of iterations. Duality gap: 0.0, tolerance: 0.0\n",
      "Objective did not converge. You might want to increase the number of iterations. Duality gap: 0.0, tolerance: 0.0\n",
      "Objective did not converge. You might want to increase the number of iterations. Duality gap: 0.0, tolerance: 0.0\n",
      "Objective did not converge. You might want to increase the number of iterations. Duality gap: 0.0, tolerance: 0.0\n",
      "Objective did not converge. You might want to increase the number of iterations. Duality gap: 0.0, tolerance: 0.0\n",
      "Objective did not converge. You might want to increase the number of iterations. Duality gap: 0.0, tolerance: 0.0\n",
      "Objective did not converge. You might want to increase the number of iterations. Duality gap: 0.0, tolerance: 0.0\n",
      "Objective did not converge. You might want to increase the number of iterations. Duality gap: 0.0, tolerance: 0.0\n",
      "Objective did not converge. You might want to increase the number of iterations. Duality gap: 0.0, tolerance: 0.0\n",
      "Objective did not converge. You might want to increase the number of iterations. Duality gap: 0.0, tolerance: 0.0\n",
      "Objective did not converge. You might want to increase the number of iterations. Duality gap: 0.0, tolerance: 0.0\n",
      "Objective did not converge. You might want to increase the number of iterations. Duality gap: 0.0, tolerance: 0.0\n",
      "Objective did not converge. You might want to increase the number of iterations. Duality gap: 0.0, tolerance: 0.0\n",
      "Objective did not converge. You might want to increase the number of iterations. Duality gap: 0.0, tolerance: 0.0\n",
      "Objective did not converge. You might want to increase the number of iterations. Duality gap: 0.0, tolerance: 0.0\n",
      "Objective did not converge. You might want to increase the number of iterations. Duality gap: 0.0, tolerance: 0.0\n",
      "Objective did not converge. You might want to increase the number of iterations. Duality gap: 0.0, tolerance: 0.0\n",
      "Objective did not converge. You might want to increase the number of iterations. Duality gap: 0.0, tolerance: 0.0\n",
      "Objective did not converge. You might want to increase the number of iterations. Duality gap: 0.0, tolerance: 0.0\n",
      "Objective did not converge. You might want to increase the number of iterations. Duality gap: 0.0, tolerance: 0.0\n",
      "Objective did not converge. You might want to increase the number of iterations. Duality gap: 0.0, tolerance: 0.0\n",
      "Objective did not converge. You might want to increase the number of iterations. Duality gap: 0.0, tolerance: 0.0\n",
      "Objective did not converge. You might want to increase the number of iterations. Duality gap: 0.0, tolerance: 0.0\n",
      "Objective did not converge. You might want to increase the number of iterations. Duality gap: 0.0, tolerance: 0.0\n",
      "Objective did not converge. You might want to increase the number of iterations. Duality gap: 0.0, tolerance: 0.0\n",
      "Objective did not converge. You might want to increase the number of iterations. Duality gap: 0.0, tolerance: 0.0\n",
      "Objective did not converge. You might want to increase the number of iterations. Duality gap: 0.0, tolerance: 0.0\n",
      "Objective did not converge. You might want to increase the number of iterations. Duality gap: 0.0, tolerance: 0.0\n",
      "Objective did not converge. You might want to increase the number of iterations. Duality gap: 0.0, tolerance: 0.0\n",
      "Objective did not converge. You might want to increase the number of iterations. Duality gap: 0.0, tolerance: 0.0\n",
      "Objective did not converge. You might want to increase the number of iterations. Duality gap: 0.0, tolerance: 0.0\n",
      "Objective did not converge. You might want to increase the number of iterations. Duality gap: 0.0, tolerance: 0.0\n",
      "Objective did not converge. You might want to increase the number of iterations. Duality gap: 0.0, tolerance: 0.0\n",
      "Objective did not converge. You might want to increase the number of iterations. Duality gap: 0.0, tolerance: 0.0\n",
      "Objective did not converge. You might want to increase the number of iterations. Duality gap: 0.0, tolerance: 0.0\n"
     ]
    }
   ],
   "source": [
    "rcf = CausalForest(n_estimators=1000, discrete_treatment=True, criterion=\"het\").fit(\n",
    "    y, z, X=x\n",
    ")"
   ]
  },
  {
   "cell_type": "code",
   "execution_count": null,
   "metadata": {},
   "outputs": [],
   "source": []
  },
  {
   "cell_type": "markdown",
   "metadata": {
    "id": "WniVmeMYCAS9"
   },
   "source": [
    "### Explore effects\n"
   ]
  },
  {
   "cell_type": "markdown",
   "metadata": {
    "id": "EpCYhIH6CHQ1"
   },
   "source": [
    "Let's see what kind of heterogeneous effects our random causal forest predicted\n"
   ]
  },
  {
   "cell_type": "code",
   "execution_count": 63,
   "metadata": {
    "id": "zXZ-maDVnjcf"
   },
   "outputs": [
    {
     "data": {
      "image/png": "[encoded data removed]",
      "text/plain": [
       "<Figure size 432x288 with 1 Axes>"
      ]
     },
     "metadata": {},
     "output_type": "display_data"
    }
   ],
   "source": [
    "# calculate the predicted effects:\n",
    "insamplefx = rcf.effect(x)\n",
    "# plot a histogram of the estimated effects, with average effect overlaid\n",
    "fig = plt.figure()\n",
    "ax = plt.axes()\n",
    "ax.hist(insamplefx, bins=30, density=True)\n",
    "plt.axvline(rcf.ate_, color=\"k\", linestyle=\"dashed\", linewidth=1)\n",
    "plt.suptitle(\"Estimated Treatment effects\")\n",
    "plt.title(\"ATE: {:.3g}\".format(rcf.ate_[0]))\n",
    "plt.show()"
   ]
  },
  {
   "cell_type": "markdown",
   "metadata": {
    "id": "ysSaIrbpCjgx"
   },
   "source": [
    "Let's visualize how these effects vary by prior earnings and education by making a heatmap\n"
   ]
  },
  {
   "cell_type": "code",
   "execution_count": 29,
   "metadata": {
    "id": "S7KqJyWaqgZJ"
   },
   "outputs": [],
   "source": [
    "import itertools"
   ]
  },
  {
   "cell_type": "code",
   "execution_count": 64,
   "metadata": {
    "id": "PS6_MnlavsFn"
   },
   "outputs": [],
   "source": [
    "# create a grid of values for education and prior earnings:\n",
    "educgrid = np.arange(data[\"educ\"].values.min(), data[\"educ\"].values.max() + 1)\n",
    "earngrid = np.arange(\n",
    "    data[\"priorearn\"].values.min(), data[\"priorearn\"].values.max(), 5000\n",
    ")\n",
    "grid = pd.DataFrame(\n",
    "    itertools.product(educgrid, earngrid), columns=[\"educ\", \"priorearn\"]\n",
    ")"
   ]
  },
  {
   "cell_type": "markdown",
   "metadata": {
    "id": "3dOzvR9AC277"
   },
   "source": [
    "We'll first visualize the effects among married, nonwhite females of average age:\n"
   ]
  },
  {
   "cell_type": "code",
   "execution_count": 65,
   "metadata": {
    "id": "alNQLH2WuzWU"
   },
   "outputs": [],
   "source": [
    "grid[\"age\"] = data[\"age\"].values.mean()  # set age to the average\n",
    "grid[\"female\"] = 1  # set female = 1\n",
    "grid[\"nonwhite\"] = 1  # set nonwhite = 1\n",
    "grid[\"married\"] = 1  # set married = 1"
   ]
  },
  {
   "cell_type": "markdown",
   "metadata": {
    "id": "hdQVCJVMDPJi"
   },
   "source": [
    "To do on your own: calculate the predicted effects for each \"observation\" in the grid:\n"
   ]
  },
  {
   "cell_type": "code",
   "execution_count": 66,
   "metadata": {
    "id": "rpJtU9CMDaBG"
   },
   "outputs": [],
   "source": [
    "# gridfx = # uncomment and fill in on your own!"
   ]
  },
  {
   "cell_type": "markdown",
   "metadata": {
    "id": "RIzL26GBDavL"
   },
   "source": [
    "### Cheat\n"
   ]
  },
  {
   "cell_type": "code",
   "execution_count": 67,
   "metadata": {
    "id": "lSqd6njlz3HI"
   },
   "outputs": [],
   "source": [
    "gridfx = rcf.effect(grid)"
   ]
  },
  {
   "cell_type": "markdown",
   "metadata": {
    "id": "_oA4yTCCDmGL"
   },
   "source": [
    "### Visualize effects with a heatmap:\n"
   ]
  },
  {
   "cell_type": "code",
   "execution_count": 68,
   "metadata": {
    "id": "kR7rKsiqokah"
   },
   "outputs": [
    {
     "data": {
      "image/png": "[encoded data removed]",
      "text/plain": [
       "<Figure size 432x288 with 2 Axes>"
      ]
     },
     "metadata": {},
     "output_type": "display_data"
    }
   ],
   "source": [
    "from mpl_toolkits.axes_grid1 import make_axes_locatable\n",
    "\n",
    "fig = plt.figure()\n",
    "ax = plt.subplot()\n",
    "main = ax.scatter(\n",
    "    grid[\"educ\"], grid[\"priorearn\"], c=gridfx, cmap=\"plasma\", marker=\"s\", s=300\n",
    ")\n",
    "plt.suptitle(\"Estimated Treatment effects\")\n",
    "plt.title(\"Nonwhite married females\")\n",
    "plt.xlabel(\"years of education\")\n",
    "plt.ylabel(\"prior earnings\")\n",
    "\n",
    "# create an Axes on the right side of ax. The width of cax will be 5%\n",
    "# of ax and the padding between cax and ax will be fixed at 0.05 inch.\n",
    "divider = make_axes_locatable(ax)\n",
    "cax = divider.append_axes(\"right\", size=\"5%\", pad=0.05)\n",
    "plt.colorbar(main, cax=cax)\n",
    "plt.show()"
   ]
  },
  {
   "cell_type": "markdown",
   "metadata": {
    "id": "XM9p3yq0DxXP"
   },
   "source": [
    "To do on your own: make similar visualizations for males, singles, whites, different ages, etc.\n"
   ]
  },
  {
   "cell_type": "code",
   "execution_count": null,
   "metadata": {
    "id": "lPlA-jY8D6DB"
   },
   "outputs": [],
   "source": []
  },
  {
   "cell_type": "code",
   "execution_count": null,
   "metadata": {},
   "outputs": [],
   "source": []
  }
 ],
 "metadata": {
  "colab": {
   "collapsed_sections": [
    "eU_aIhS7k-SQ",
    "M8kmDmNp5B0m",
    "pRi_NHFHBMbT",
    "Hy2j0806315i",
    "qoHuWuUnB9LI",
    "RIzL26GBDavL"
   ],
   "provenance": []
  },
  "kernelspec": {
   "display_name": "Python 3 (ipykernel)",
   "language": "python",
   "name": "python3"
  },
  "language_info": {
   "codemirror_mode": {
    "name": "ipython",
    "version": 3
   },
   "file_extension": ".py",
   "mimetype": "text/x-python",
   "name": "python",
   "nbconvert_exporter": "python",
   "pygments_lexer": "ipython3",
   "version": "3.10.4"
  }
 },
 "nbformat": 4,
 "nbformat_minor": 1
}
