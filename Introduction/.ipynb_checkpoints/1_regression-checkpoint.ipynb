{
 "cells": [
  {
   "cell_type": "markdown",
   "id": "95a3c6ad-deaf-4897-8b4d-0a635fb92fd5",
   "metadata": {},
   "source": [
    "# Lab: Regression models"
   ]
  },
  {
   "cell_type": "markdown",
   "id": "91d34327-23d6-475e-a8fb-6394de61098a",
   "metadata": {},
   "source": [
    "# 1. Linear models"
   ]
  },
  {
   "cell_type": "code",
   "execution_count": 3,
   "id": "b6eb106a-8717-4f67-bd95-2eb6ae24aadc",
   "metadata": {},
   "outputs": [],
   "source": [
    "import numpy as np \n",
    "import pandas as pd\n",
    "from matplotlib.pyplot import subplots\n",
    "\n",
    "import statsmodels.api as sm\n",
    "from statsmodels.stats.outliers_influence \\\n",
    "     import variance_inflation_factor as VIF\n",
    "from statsmodels.stats.anova import anova_lm\n",
    "\n",
    "from ISLP import load_data\n",
    "from ISLP.models import (ModelSpec as MS,\n",
    "                         summarize,\n",
    "                         poly)"
   ]
  },
  {
   "cell_type": "markdown",
   "id": "bfeb05e0-7e92-4576-97f1-c00cef746216",
   "metadata": {},
   "source": [
    "Let us check if we had imported everything we need using the function `dir`"
   ]
  },
  {
   "cell_type": "code",
   "execution_count": 4,
   "id": "199e6290-a889-4129-bf4c-e89a24885a2d",
   "metadata": {},
   "outputs": [
    {
     "data": {
      "text/plain": [
       "['In',\n",
       " 'MS',\n",
       " 'Out',\n",
       " 'VIF',\n",
       " '_',\n",
       " '__',\n",
       " '___',\n",
       " '__builtin__',\n",
       " '__builtins__',\n",
       " '__doc__',\n",
       " '__loader__',\n",
       " '__name__',\n",
       " '__package__',\n",
       " '__spec__',\n",
       " '_dh',\n",
       " '_i',\n",
       " '_i1',\n",
       " '_i2',\n",
       " '_i3',\n",
       " '_i4',\n",
       " '_ih',\n",
       " '_ii',\n",
       " '_iii',\n",
       " '_oh',\n",
       " 'anova_lm',\n",
       " 'exit',\n",
       " 'get_ipython',\n",
       " 'load_data',\n",
       " 'np',\n",
       " 'pd',\n",
       " 'poly',\n",
       " 'quit',\n",
       " 'sm',\n",
       " 'subplots',\n",
       " 'summarize']"
      ]
     },
     "execution_count": 4,
     "metadata": {},
     "output_type": "execute_result"
    }
   ],
   "source": [
    "dir()"
   ]
  },
  {
   "cell_type": "markdown",
   "id": "d4140455-233a-4ea3-9865-8a6c524f9381",
   "metadata": {},
   "source": [
    "## 1. Linear Regression"
   ]
  },
  {
   "cell_type": "markdown",
   "id": "aa6b3487-13bc-4281-a0f1-908d6aab4e6a",
   "metadata": {},
   "source": [
    "We will use the `Boston` housing dataset. It contains median house value (`medv`) for 506 neighborhoods in the Boston Metropolitan Area. The objective is to predict `medv` using 13 predictors (=covariates) and `statsmodels`, a package implementing reg. methods."
   ]
  },
  {
   "cell_type": "markdown",
   "id": "8b81b947-e538-4f76-8d1e-1b49234743af",
   "metadata": {},
   "source": [
    "Load the data and check the columns"
   ]
  },
  {
   "cell_type": "code",
   "execution_count": 5,
   "id": "145f6728-2275-42be-963c-390bceb84a0d",
   "metadata": {},
   "outputs": [
    {
     "data": {
      "text/plain": [
       "Index(['crim', 'zn', 'indus', 'chas', 'nox', 'rm', 'age', 'dis', 'rad', 'tax',\n",
       "       'ptratio', 'lstat', 'medv'],\n",
       "      dtype='object')"
      ]
     },
     "execution_count": 5,
     "metadata": {},
     "output_type": "execute_result"
    }
   ],
   "source": [
    "Boston = load_data(\"Boston\")\n",
    "Boston.columns"
   ]
  },
  {
   "cell_type": "code",
   "execution_count": 9,
   "id": "332433ff-d6cd-4de2-ba53-04ecd273ff91",
   "metadata": {},
   "outputs": [
    {
     "data": {
      "text/html": [
       "<div>\n",
       "<style scoped>\n",
       "    .dataframe tbody tr th:only-of-type {\n",
       "        vertical-align: middle;\n",
       "    }\n",
       "\n",
       "    .dataframe tbody tr th {\n",
       "        vertical-align: top;\n",
       "    }\n",
       "\n",
       "    .dataframe thead th {\n",
       "        text-align: right;\n",
       "    }\n",
       "</style>\n",
       "<table border=\"1\" class=\"dataframe\">\n",
       "  <thead>\n",
       "    <tr style=\"text-align: right;\">\n",
       "      <th></th>\n",
       "      <th>crim</th>\n",
       "      <th>zn</th>\n",
       "      <th>indus</th>\n",
       "      <th>chas</th>\n",
       "      <th>nox</th>\n",
       "      <th>rm</th>\n",
       "      <th>age</th>\n",
       "      <th>dis</th>\n",
       "      <th>rad</th>\n",
       "      <th>tax</th>\n",
       "      <th>ptratio</th>\n",
       "      <th>lstat</th>\n",
       "      <th>medv</th>\n",
       "    </tr>\n",
       "  </thead>\n",
       "  <tbody>\n",
       "    <tr>\n",
       "      <th>0</th>\n",
       "      <td>0.00632</td>\n",
       "      <td>18.0</td>\n",
       "      <td>2.31</td>\n",
       "      <td>0</td>\n",
       "      <td>0.538</td>\n",
       "      <td>6.575</td>\n",
       "      <td>65.2</td>\n",
       "      <td>4.0900</td>\n",
       "      <td>1</td>\n",
       "      <td>296</td>\n",
       "      <td>15.3</td>\n",
       "      <td>4.98</td>\n",
       "      <td>24.0</td>\n",
       "    </tr>\n",
       "    <tr>\n",
       "      <th>1</th>\n",
       "      <td>0.02731</td>\n",
       "      <td>0.0</td>\n",
       "      <td>7.07</td>\n",
       "      <td>0</td>\n",
       "      <td>0.469</td>\n",
       "      <td>6.421</td>\n",
       "      <td>78.9</td>\n",
       "      <td>4.9671</td>\n",
       "      <td>2</td>\n",
       "      <td>242</td>\n",
       "      <td>17.8</td>\n",
       "      <td>9.14</td>\n",
       "      <td>21.6</td>\n",
       "    </tr>\n",
       "    <tr>\n",
       "      <th>2</th>\n",
       "      <td>0.02729</td>\n",
       "      <td>0.0</td>\n",
       "      <td>7.07</td>\n",
       "      <td>0</td>\n",
       "      <td>0.469</td>\n",
       "      <td>7.185</td>\n",
       "      <td>61.1</td>\n",
       "      <td>4.9671</td>\n",
       "      <td>2</td>\n",
       "      <td>242</td>\n",
       "      <td>17.8</td>\n",
       "      <td>4.03</td>\n",
       "      <td>34.7</td>\n",
       "    </tr>\n",
       "    <tr>\n",
       "      <th>3</th>\n",
       "      <td>0.03237</td>\n",
       "      <td>0.0</td>\n",
       "      <td>2.18</td>\n",
       "      <td>0</td>\n",
       "      <td>0.458</td>\n",
       "      <td>6.998</td>\n",
       "      <td>45.8</td>\n",
       "      <td>6.0622</td>\n",
       "      <td>3</td>\n",
       "      <td>222</td>\n",
       "      <td>18.7</td>\n",
       "      <td>2.94</td>\n",
       "      <td>33.4</td>\n",
       "    </tr>\n",
       "    <tr>\n",
       "      <th>4</th>\n",
       "      <td>0.06905</td>\n",
       "      <td>0.0</td>\n",
       "      <td>2.18</td>\n",
       "      <td>0</td>\n",
       "      <td>0.458</td>\n",
       "      <td>7.147</td>\n",
       "      <td>54.2</td>\n",
       "      <td>6.0622</td>\n",
       "      <td>3</td>\n",
       "      <td>222</td>\n",
       "      <td>18.7</td>\n",
       "      <td>5.33</td>\n",
       "      <td>36.2</td>\n",
       "    </tr>\n",
       "    <tr>\n",
       "      <th>...</th>\n",
       "      <td>...</td>\n",
       "      <td>...</td>\n",
       "      <td>...</td>\n",
       "      <td>...</td>\n",
       "      <td>...</td>\n",
       "      <td>...</td>\n",
       "      <td>...</td>\n",
       "      <td>...</td>\n",
       "      <td>...</td>\n",
       "      <td>...</td>\n",
       "      <td>...</td>\n",
       "      <td>...</td>\n",
       "      <td>...</td>\n",
       "    </tr>\n",
       "    <tr>\n",
       "      <th>501</th>\n",
       "      <td>0.06263</td>\n",
       "      <td>0.0</td>\n",
       "      <td>11.93</td>\n",
       "      <td>0</td>\n",
       "      <td>0.573</td>\n",
       "      <td>6.593</td>\n",
       "      <td>69.1</td>\n",
       "      <td>2.4786</td>\n",
       "      <td>1</td>\n",
       "      <td>273</td>\n",
       "      <td>21.0</td>\n",
       "      <td>9.67</td>\n",
       "      <td>22.4</td>\n",
       "    </tr>\n",
       "    <tr>\n",
       "      <th>502</th>\n",
       "      <td>0.04527</td>\n",
       "      <td>0.0</td>\n",
       "      <td>11.93</td>\n",
       "      <td>0</td>\n",
       "      <td>0.573</td>\n",
       "      <td>6.120</td>\n",
       "      <td>76.7</td>\n",
       "      <td>2.2875</td>\n",
       "      <td>1</td>\n",
       "      <td>273</td>\n",
       "      <td>21.0</td>\n",
       "      <td>9.08</td>\n",
       "      <td>20.6</td>\n",
       "    </tr>\n",
       "    <tr>\n",
       "      <th>503</th>\n",
       "      <td>0.06076</td>\n",
       "      <td>0.0</td>\n",
       "      <td>11.93</td>\n",
       "      <td>0</td>\n",
       "      <td>0.573</td>\n",
       "      <td>6.976</td>\n",
       "      <td>91.0</td>\n",
       "      <td>2.1675</td>\n",
       "      <td>1</td>\n",
       "      <td>273</td>\n",
       "      <td>21.0</td>\n",
       "      <td>5.64</td>\n",
       "      <td>23.9</td>\n",
       "    </tr>\n",
       "    <tr>\n",
       "      <th>504</th>\n",
       "      <td>0.10959</td>\n",
       "      <td>0.0</td>\n",
       "      <td>11.93</td>\n",
       "      <td>0</td>\n",
       "      <td>0.573</td>\n",
       "      <td>6.794</td>\n",
       "      <td>89.3</td>\n",
       "      <td>2.3889</td>\n",
       "      <td>1</td>\n",
       "      <td>273</td>\n",
       "      <td>21.0</td>\n",
       "      <td>6.48</td>\n",
       "      <td>22.0</td>\n",
       "    </tr>\n",
       "    <tr>\n",
       "      <th>505</th>\n",
       "      <td>0.04741</td>\n",
       "      <td>0.0</td>\n",
       "      <td>11.93</td>\n",
       "      <td>0</td>\n",
       "      <td>0.573</td>\n",
       "      <td>6.030</td>\n",
       "      <td>80.8</td>\n",
       "      <td>2.5050</td>\n",
       "      <td>1</td>\n",
       "      <td>273</td>\n",
       "      <td>21.0</td>\n",
       "      <td>7.88</td>\n",
       "      <td>11.9</td>\n",
       "    </tr>\n",
       "  </tbody>\n",
       "</table>\n",
       "<p>506 rows × 13 columns</p>\n",
       "</div>"
      ],
      "text/plain": [
       "        crim    zn  indus  chas    nox     rm   age     dis  rad  tax  \\\n",
       "0    0.00632  18.0   2.31     0  0.538  6.575  65.2  4.0900    1  296   \n",
       "1    0.02731   0.0   7.07     0  0.469  6.421  78.9  4.9671    2  242   \n",
       "2    0.02729   0.0   7.07     0  0.469  7.185  61.1  4.9671    2  242   \n",
       "3    0.03237   0.0   2.18     0  0.458  6.998  45.8  6.0622    3  222   \n",
       "4    0.06905   0.0   2.18     0  0.458  7.147  54.2  6.0622    3  222   \n",
       "..       ...   ...    ...   ...    ...    ...   ...     ...  ...  ...   \n",
       "501  0.06263   0.0  11.93     0  0.573  6.593  69.1  2.4786    1  273   \n",
       "502  0.04527   0.0  11.93     0  0.573  6.120  76.7  2.2875    1  273   \n",
       "503  0.06076   0.0  11.93     0  0.573  6.976  91.0  2.1675    1  273   \n",
       "504  0.10959   0.0  11.93     0  0.573  6.794  89.3  2.3889    1  273   \n",
       "505  0.04741   0.0  11.93     0  0.573  6.030  80.8  2.5050    1  273   \n",
       "\n",
       "     ptratio  lstat  medv  \n",
       "0       15.3   4.98  24.0  \n",
       "1       17.8   9.14  21.6  \n",
       "2       17.8   4.03  34.7  \n",
       "3       18.7   2.94  33.4  \n",
       "4       18.7   5.33  36.2  \n",
       "..       ...    ...   ...  \n",
       "501     21.0   9.67  22.4  \n",
       "502     21.0   9.08  20.6  \n",
       "503     21.0   5.64  23.9  \n",
       "504     21.0   6.48  22.0  \n",
       "505     21.0   7.88  11.9  \n",
       "\n",
       "[506 rows x 13 columns]"
      ]
     },
     "execution_count": 9,
     "metadata": {},
     "output_type": "execute_result"
    }
   ],
   "source": [
    "Boston"
   ]
  },
  {
   "cell_type": "code",
   "execution_count": 12,
   "id": "d6ca84a3-2c26-4288-b485-851f675dcd37",
   "metadata": {},
   "outputs": [
    {
     "data": {
      "text/plain": [
       "<bound method NDFrame.describe of         crim    zn  indus  chas    nox     rm   age     dis  rad  tax  \\\n",
       "0    0.00632  18.0   2.31     0  0.538  6.575  65.2  4.0900    1  296   \n",
       "1    0.02731   0.0   7.07     0  0.469  6.421  78.9  4.9671    2  242   \n",
       "2    0.02729   0.0   7.07     0  0.469  7.185  61.1  4.9671    2  242   \n",
       "3    0.03237   0.0   2.18     0  0.458  6.998  45.8  6.0622    3  222   \n",
       "4    0.06905   0.0   2.18     0  0.458  7.147  54.2  6.0622    3  222   \n",
       "..       ...   ...    ...   ...    ...    ...   ...     ...  ...  ...   \n",
       "501  0.06263   0.0  11.93     0  0.573  6.593  69.1  2.4786    1  273   \n",
       "502  0.04527   0.0  11.93     0  0.573  6.120  76.7  2.2875    1  273   \n",
       "503  0.06076   0.0  11.93     0  0.573  6.976  91.0  2.1675    1  273   \n",
       "504  0.10959   0.0  11.93     0  0.573  6.794  89.3  2.3889    1  273   \n",
       "505  0.04741   0.0  11.93     0  0.573  6.030  80.8  2.5050    1  273   \n",
       "\n",
       "     ptratio  lstat  medv  \n",
       "0       15.3   4.98  24.0  \n",
       "1       17.8   9.14  21.6  \n",
       "2       17.8   4.03  34.7  \n",
       "3       18.7   2.94  33.4  \n",
       "4       18.7   5.33  36.2  \n",
       "..       ...    ...   ...  \n",
       "501     21.0   9.67  22.4  \n",
       "502     21.0   9.08  20.6  \n",
       "503     21.0   5.64  23.9  \n",
       "504     21.0   6.48  22.0  \n",
       "505     21.0   7.88  11.9  \n",
       "\n",
       "[506 rows x 13 columns]>"
      ]
     },
     "execution_count": 12,
     "metadata": {},
     "output_type": "execute_result"
    }
   ],
   "source": [
    "#Some descriptive statistics for all the variables\n",
    "Boston.describe"
   ]
  },
  {
   "cell_type": "code",
   "execution_count": 13,
   "id": "5914f792-f15f-4b2c-9e2b-51ef797419ce",
   "metadata": {},
   "outputs": [
    {
     "data": {
      "text/plain": [
       "count    506.000000\n",
       "mean      22.532806\n",
       "std        9.197104\n",
       "min        5.000000\n",
       "25%       17.025000\n",
       "50%       21.200000\n",
       "75%       25.000000\n",
       "max       50.000000\n",
       "Name: medv, dtype: float64"
      ]
     },
     "execution_count": 13,
     "metadata": {},
     "output_type": "execute_result"
    }
   ],
   "source": [
    "#Only for median value\n",
    "Boston['medv'].describe()"
   ]
  },
  {
   "cell_type": "markdown",
   "id": "059e6220-b685-45d9-bec9-40cfb5d1bfb0",
   "metadata": {},
   "source": [
    "Let's fit a linear regression model. Our response variable will be `medv` and `lstat` our single predictor. We are creating the matrix with an intercept column (=1) and with the value of our predictor for each observation."
   ]
  },
  {
   "cell_type": "code",
   "execution_count": 15,
   "id": "eb8c19c9-3af2-4639-be86-f0a55abef6d7",
   "metadata": {},
   "outputs": [
    {
     "data": {
      "text/html": [
       "<div>\n",
       "<style scoped>\n",
       "    .dataframe tbody tr th:only-of-type {\n",
       "        vertical-align: middle;\n",
       "    }\n",
       "\n",
       "    .dataframe tbody tr th {\n",
       "        vertical-align: top;\n",
       "    }\n",
       "\n",
       "    .dataframe thead th {\n",
       "        text-align: right;\n",
       "    }\n",
       "</style>\n",
       "<table border=\"1\" class=\"dataframe\">\n",
       "  <thead>\n",
       "    <tr style=\"text-align: right;\">\n",
       "      <th></th>\n",
       "      <th>intercept</th>\n",
       "      <th>lstat</th>\n",
       "    </tr>\n",
       "  </thead>\n",
       "  <tbody>\n",
       "    <tr>\n",
       "      <th>0</th>\n",
       "      <td>1.0</td>\n",
       "      <td>4.98</td>\n",
       "    </tr>\n",
       "    <tr>\n",
       "      <th>1</th>\n",
       "      <td>1.0</td>\n",
       "      <td>9.14</td>\n",
       "    </tr>\n",
       "    <tr>\n",
       "      <th>2</th>\n",
       "      <td>1.0</td>\n",
       "      <td>4.03</td>\n",
       "    </tr>\n",
       "    <tr>\n",
       "      <th>3</th>\n",
       "      <td>1.0</td>\n",
       "      <td>2.94</td>\n",
       "    </tr>\n",
       "    <tr>\n",
       "      <th>4</th>\n",
       "      <td>1.0</td>\n",
       "      <td>5.33</td>\n",
       "    </tr>\n",
       "    <tr>\n",
       "      <th>...</th>\n",
       "      <td>...</td>\n",
       "      <td>...</td>\n",
       "    </tr>\n",
       "    <tr>\n",
       "      <th>501</th>\n",
       "      <td>1.0</td>\n",
       "      <td>9.67</td>\n",
       "    </tr>\n",
       "    <tr>\n",
       "      <th>502</th>\n",
       "      <td>1.0</td>\n",
       "      <td>9.08</td>\n",
       "    </tr>\n",
       "    <tr>\n",
       "      <th>503</th>\n",
       "      <td>1.0</td>\n",
       "      <td>5.64</td>\n",
       "    </tr>\n",
       "    <tr>\n",
       "      <th>504</th>\n",
       "      <td>1.0</td>\n",
       "      <td>6.48</td>\n",
       "    </tr>\n",
       "    <tr>\n",
       "      <th>505</th>\n",
       "      <td>1.0</td>\n",
       "      <td>7.88</td>\n",
       "    </tr>\n",
       "  </tbody>\n",
       "</table>\n",
       "<p>506 rows × 2 columns</p>\n",
       "</div>"
      ],
      "text/plain": [
       "     intercept  lstat\n",
       "0          1.0   4.98\n",
       "1          1.0   9.14\n",
       "2          1.0   4.03\n",
       "3          1.0   2.94\n",
       "4          1.0   5.33\n",
       "..         ...    ...\n",
       "501        1.0   9.67\n",
       "502        1.0   9.08\n",
       "503        1.0   5.64\n",
       "504        1.0   6.48\n",
       "505        1.0   7.88\n",
       "\n",
       "[506 rows x 2 columns]"
      ]
     },
     "execution_count": 15,
     "metadata": {},
     "output_type": "execute_result"
    }
   ],
   "source": [
    "X = pd.DataFrame({'intercept': np.ones(Boston.shape[0]),\n",
    "                  'lstat': Boston['lstat']})\n",
    "X"
   ]
  },
  {
   "cell_type": "markdown",
   "id": "4b43acb1-ba69-4866-abea-e8b50c16abe6",
   "metadata": {},
   "source": [
    "We now extract the response associated to each row and fit the model."
   ]
  },
  {
   "cell_type": "code",
   "execution_count": 16,
   "id": "0ef4705c-29ae-407d-a924-1ce5ff641755",
   "metadata": {},
   "outputs": [],
   "source": [
    "y = Boston['medv'] #Extract the response\n",
    "model = sm.OLS(y, X) #Specifies the model \n",
    "results = model.fit() #Fit the model "
   ]
  },
  {
   "cell_type": "code",
   "execution_count": 17,
   "id": "19463cb2-7439-4480-a606-0160d004c9cb",
   "metadata": {},
   "outputs": [
    {
     "data": {
      "text/html": [
       "<div>\n",
       "<style scoped>\n",
       "    .dataframe tbody tr th:only-of-type {\n",
       "        vertical-align: middle;\n",
       "    }\n",
       "\n",
       "    .dataframe tbody tr th {\n",
       "        vertical-align: top;\n",
       "    }\n",
       "\n",
       "    .dataframe thead th {\n",
       "        text-align: right;\n",
       "    }\n",
       "</style>\n",
       "<table border=\"1\" class=\"dataframe\">\n",
       "  <thead>\n",
       "    <tr style=\"text-align: right;\">\n",
       "      <th></th>\n",
       "      <th>coef</th>\n",
       "      <th>std err</th>\n",
       "      <th>t</th>\n",
       "      <th>P&gt;|t|</th>\n",
       "    </tr>\n",
       "  </thead>\n",
       "  <tbody>\n",
       "    <tr>\n",
       "      <th>intercept</th>\n",
       "      <td>34.5538</td>\n",
       "      <td>0.563</td>\n",
       "      <td>61.415</td>\n",
       "      <td>0.0</td>\n",
       "    </tr>\n",
       "    <tr>\n",
       "      <th>lstat</th>\n",
       "      <td>-0.9500</td>\n",
       "      <td>0.039</td>\n",
       "      <td>-24.528</td>\n",
       "      <td>0.0</td>\n",
       "    </tr>\n",
       "  </tbody>\n",
       "</table>\n",
       "</div>"
      ],
      "text/plain": [
       "              coef  std err       t  P>|t|\n",
       "intercept  34.5538    0.563  61.415    0.0\n",
       "lstat      -0.9500    0.039 -24.528    0.0"
      ]
     },
     "execution_count": 17,
     "metadata": {},
     "output_type": "execute_result"
    }
   ],
   "source": [
    "summarize(results) #see the output"
   ]
  },
  {
   "cell_type": "markdown",
   "id": "512c3ed3-9d79-495d-8d8a-5898f4b8e60a",
   "metadata": {},
   "source": [
    "What can you say? "
   ]
  },
  {
   "cell_type": "markdown",
   "id": "bafb31b4-ac5b-453d-8076-8037ca34b0ac",
   "metadata": {},
   "source": [
    "## 1.1 Using transformations: fit and transform"
   ]
  },
  {
   "cell_type": "markdown",
   "id": "14aa9aee-2d69-487b-b84d-586c59019fb2",
   "metadata": {},
   "source": [
    "The previous model was straitghtfoward: 1 variable, linear relationship, but in reality we are going to use much more difficult models. We can use the `sklearn` package to handle this task: _transform_. A transform is an object that is created with some parameters as arguments."
   ]
  },
  {
   "cell_type": "markdown",
   "id": "54db614e-945c-485d-84b2-0def417e20af",
   "metadata": {},
   "source": [
    "We rely on `MS()` a general approach developed in `ISLP`. It creates a transform object, and then a pair of methods are used to construct the corresponding matrix. \n",
    "\n",
    "We first describe this process for our previous simple regression model. Here, tje transform is created by the expression `design = MS(['lstat'])`.\n",
    "\n",
    "Then, `fit()`takes the original array and do computations on it (e.g., meands, sd, scaling). `transform()`applies the fitted transfromation to the array of data, and produces the model matrix. "
   ]
  },
  {
   "cell_type": "code",
   "execution_count": 19,
   "id": "2adfde19-95d9-485c-a696-d0f80c267fb3",
   "metadata": {},
   "outputs": [
    {
     "data": {
      "text/html": [
       "<div>\n",
       "<style scoped>\n",
       "    .dataframe tbody tr th:only-of-type {\n",
       "        vertical-align: middle;\n",
       "    }\n",
       "\n",
       "    .dataframe tbody tr th {\n",
       "        vertical-align: top;\n",
       "    }\n",
       "\n",
       "    .dataframe thead th {\n",
       "        text-align: right;\n",
       "    }\n",
       "</style>\n",
       "<table border=\"1\" class=\"dataframe\">\n",
       "  <thead>\n",
       "    <tr style=\"text-align: right;\">\n",
       "      <th></th>\n",
       "      <th>intercept</th>\n",
       "      <th>lstat</th>\n",
       "    </tr>\n",
       "  </thead>\n",
       "  <tbody>\n",
       "    <tr>\n",
       "      <th>0</th>\n",
       "      <td>1.0</td>\n",
       "      <td>4.98</td>\n",
       "    </tr>\n",
       "    <tr>\n",
       "      <th>1</th>\n",
       "      <td>1.0</td>\n",
       "      <td>9.14</td>\n",
       "    </tr>\n",
       "    <tr>\n",
       "      <th>2</th>\n",
       "      <td>1.0</td>\n",
       "      <td>4.03</td>\n",
       "    </tr>\n",
       "    <tr>\n",
       "      <th>3</th>\n",
       "      <td>1.0</td>\n",
       "      <td>2.94</td>\n",
       "    </tr>\n",
       "    <tr>\n",
       "      <th>4</th>\n",
       "      <td>1.0</td>\n",
       "      <td>5.33</td>\n",
       "    </tr>\n",
       "    <tr>\n",
       "      <th>...</th>\n",
       "      <td>...</td>\n",
       "      <td>...</td>\n",
       "    </tr>\n",
       "    <tr>\n",
       "      <th>501</th>\n",
       "      <td>1.0</td>\n",
       "      <td>9.67</td>\n",
       "    </tr>\n",
       "    <tr>\n",
       "      <th>502</th>\n",
       "      <td>1.0</td>\n",
       "      <td>9.08</td>\n",
       "    </tr>\n",
       "    <tr>\n",
       "      <th>503</th>\n",
       "      <td>1.0</td>\n",
       "      <td>5.64</td>\n",
       "    </tr>\n",
       "    <tr>\n",
       "      <th>504</th>\n",
       "      <td>1.0</td>\n",
       "      <td>6.48</td>\n",
       "    </tr>\n",
       "    <tr>\n",
       "      <th>505</th>\n",
       "      <td>1.0</td>\n",
       "      <td>7.88</td>\n",
       "    </tr>\n",
       "  </tbody>\n",
       "</table>\n",
       "<p>506 rows × 2 columns</p>\n",
       "</div>"
      ],
      "text/plain": [
       "     intercept  lstat\n",
       "0          1.0   4.98\n",
       "1          1.0   9.14\n",
       "2          1.0   4.03\n",
       "3          1.0   2.94\n",
       "4          1.0   5.33\n",
       "..         ...    ...\n",
       "501        1.0   9.67\n",
       "502        1.0   9.08\n",
       "503        1.0   5.64\n",
       "504        1.0   6.48\n",
       "505        1.0   7.88\n",
       "\n",
       "[506 rows x 2 columns]"
      ]
     },
     "execution_count": 19,
     "metadata": {},
     "output_type": "execute_result"
    }
   ],
   "source": [
    "design = MS(['lstat']) \n",
    "design = design.fit(Boston) #Checks if the variable exists. \n",
    "X = design.transform(Boston) #Constructs the the model matrices with 2 columns\n",
    "X"
   ]
  },
  {
   "cell_type": "code",
   "execution_count": 20,
   "id": "4497df39-1d2e-44ba-baa2-57d1b1100ef5",
   "metadata": {},
   "outputs": [
    {
     "data": {
      "text/html": [
       "<div>\n",
       "<style scoped>\n",
       "    .dataframe tbody tr th:only-of-type {\n",
       "        vertical-align: middle;\n",
       "    }\n",
       "\n",
       "    .dataframe tbody tr th {\n",
       "        vertical-align: top;\n",
       "    }\n",
       "\n",
       "    .dataframe thead th {\n",
       "        text-align: right;\n",
       "    }\n",
       "</style>\n",
       "<table border=\"1\" class=\"dataframe\">\n",
       "  <thead>\n",
       "    <tr style=\"text-align: right;\">\n",
       "      <th></th>\n",
       "      <th>intercept</th>\n",
       "      <th>lstat</th>\n",
       "    </tr>\n",
       "  </thead>\n",
       "  <tbody>\n",
       "    <tr>\n",
       "      <th>0</th>\n",
       "      <td>1.0</td>\n",
       "      <td>4.98</td>\n",
       "    </tr>\n",
       "    <tr>\n",
       "      <th>1</th>\n",
       "      <td>1.0</td>\n",
       "      <td>9.14</td>\n",
       "    </tr>\n",
       "    <tr>\n",
       "      <th>2</th>\n",
       "      <td>1.0</td>\n",
       "      <td>4.03</td>\n",
       "    </tr>\n",
       "    <tr>\n",
       "      <th>3</th>\n",
       "      <td>1.0</td>\n",
       "      <td>2.94</td>\n",
       "    </tr>\n",
       "  </tbody>\n",
       "</table>\n",
       "</div>"
      ],
      "text/plain": [
       "   intercept  lstat\n",
       "0        1.0   4.98\n",
       "1        1.0   9.14\n",
       "2        1.0   4.03\n",
       "3        1.0   2.94"
      ]
     },
     "execution_count": 20,
     "metadata": {},
     "output_type": "execute_result"
    }
   ],
   "source": [
    "design = MS(['lstat'])\n",
    "X = design.fit_transform(Boston) #Combines fit and transform in one\n",
    "X[:4] #Shows only the first 4 rows"
   ]
  },
  {
   "cell_type": "code",
   "execution_count": 21,
   "id": "497c6aed-ac92-4d14-be55-00320c3fa088",
   "metadata": {},
   "outputs": [
    {
     "data": {
      "text/html": [
       "<table class=\"simpletable\">\n",
       "<caption>OLS Regression Results</caption>\n",
       "<tr>\n",
       "  <th>Dep. Variable:</th>          <td>medv</td>       <th>  R-squared:         </th> <td>   0.544</td>\n",
       "</tr>\n",
       "<tr>\n",
       "  <th>Model:</th>                   <td>OLS</td>       <th>  Adj. R-squared:    </th> <td>   0.543</td>\n",
       "</tr>\n",
       "<tr>\n",
       "  <th>Method:</th>             <td>Least Squares</td>  <th>  F-statistic:       </th> <td>   601.6</td>\n",
       "</tr>\n",
       "<tr>\n",
       "  <th>Date:</th>             <td>Mon, 28 Aug 2023</td> <th>  Prob (F-statistic):</th> <td>5.08e-88</td>\n",
       "</tr>\n",
       "<tr>\n",
       "  <th>Time:</th>                 <td>10:07:21</td>     <th>  Log-Likelihood:    </th> <td> -1641.5</td>\n",
       "</tr>\n",
       "<tr>\n",
       "  <th>No. Observations:</th>      <td>   506</td>      <th>  AIC:               </th> <td>   3287.</td>\n",
       "</tr>\n",
       "<tr>\n",
       "  <th>Df Residuals:</th>          <td>   504</td>      <th>  BIC:               </th> <td>   3295.</td>\n",
       "</tr>\n",
       "<tr>\n",
       "  <th>Df Model:</th>              <td>     1</td>      <th>                     </th>     <td> </td>   \n",
       "</tr>\n",
       "<tr>\n",
       "  <th>Covariance Type:</th>      <td>nonrobust</td>    <th>                     </th>     <td> </td>   \n",
       "</tr>\n",
       "</table>\n",
       "<table class=\"simpletable\">\n",
       "<tr>\n",
       "      <td></td>         <th>coef</th>     <th>std err</th>      <th>t</th>      <th>P>|t|</th>  <th>[0.025</th>    <th>0.975]</th>  \n",
       "</tr>\n",
       "<tr>\n",
       "  <th>intercept</th> <td>   34.5538</td> <td>    0.563</td> <td>   61.415</td> <td> 0.000</td> <td>   33.448</td> <td>   35.659</td>\n",
       "</tr>\n",
       "<tr>\n",
       "  <th>lstat</th>     <td>   -0.9500</td> <td>    0.039</td> <td>  -24.528</td> <td> 0.000</td> <td>   -1.026</td> <td>   -0.874</td>\n",
       "</tr>\n",
       "</table>\n",
       "<table class=\"simpletable\">\n",
       "<tr>\n",
       "  <th>Omnibus:</th>       <td>137.043</td> <th>  Durbin-Watson:     </th> <td>   0.892</td>\n",
       "</tr>\n",
       "<tr>\n",
       "  <th>Prob(Omnibus):</th> <td> 0.000</td>  <th>  Jarque-Bera (JB):  </th> <td> 291.373</td>\n",
       "</tr>\n",
       "<tr>\n",
       "  <th>Skew:</th>          <td> 1.453</td>  <th>  Prob(JB):          </th> <td>5.36e-64</td>\n",
       "</tr>\n",
       "<tr>\n",
       "  <th>Kurtosis:</th>      <td> 5.319</td>  <th>  Cond. No.          </th> <td>    29.7</td>\n",
       "</tr>\n",
       "</table><br/><br/>Notes:<br/>[1] Standard Errors assume that the covariance matrix of the errors is correctly specified."
      ],
      "text/latex": [
       "\\begin{center}\n",
       "\\begin{tabular}{lclc}\n",
       "\\toprule\n",
       "\\textbf{Dep. Variable:}    &       medv       & \\textbf{  R-squared:         } &     0.544   \\\\\n",
       "\\textbf{Model:}            &       OLS        & \\textbf{  Adj. R-squared:    } &     0.543   \\\\\n",
       "\\textbf{Method:}           &  Least Squares   & \\textbf{  F-statistic:       } &     601.6   \\\\\n",
       "\\textbf{Date:}             & Mon, 28 Aug 2023 & \\textbf{  Prob (F-statistic):} &  5.08e-88   \\\\\n",
       "\\textbf{Time:}             &     10:07:21     & \\textbf{  Log-Likelihood:    } &   -1641.5   \\\\\n",
       "\\textbf{No. Observations:} &         506      & \\textbf{  AIC:               } &     3287.   \\\\\n",
       "\\textbf{Df Residuals:}     &         504      & \\textbf{  BIC:               } &     3295.   \\\\\n",
       "\\textbf{Df Model:}         &           1      & \\textbf{                     } &             \\\\\n",
       "\\textbf{Covariance Type:}  &    nonrobust     & \\textbf{                     } &             \\\\\n",
       "\\bottomrule\n",
       "\\end{tabular}\n",
       "\\begin{tabular}{lcccccc}\n",
       "                   & \\textbf{coef} & \\textbf{std err} & \\textbf{t} & \\textbf{P$> |$t$|$} & \\textbf{[0.025} & \\textbf{0.975]}  \\\\\n",
       "\\midrule\n",
       "\\textbf{intercept} &      34.5538  &        0.563     &    61.415  &         0.000        &       33.448    &       35.659     \\\\\n",
       "\\textbf{lstat}     &      -0.9500  &        0.039     &   -24.528  &         0.000        &       -1.026    &       -0.874     \\\\\n",
       "\\bottomrule\n",
       "\\end{tabular}\n",
       "\\begin{tabular}{lclc}\n",
       "\\textbf{Omnibus:}       & 137.043 & \\textbf{  Durbin-Watson:     } &    0.892  \\\\\n",
       "\\textbf{Prob(Omnibus):} &   0.000 & \\textbf{  Jarque-Bera (JB):  } &  291.373  \\\\\n",
       "\\textbf{Skew:}          &   1.453 & \\textbf{  Prob(JB):          } & 5.36e-64  \\\\\n",
       "\\textbf{Kurtosis:}      &   5.319 & \\textbf{  Cond. No.          } &     29.7  \\\\\n",
       "\\bottomrule\n",
       "\\end{tabular}\n",
       "%\\caption{OLS Regression Results}\n",
       "\\end{center}\n",
       "\n",
       "Notes: \\newline\n",
       " [1] Standard Errors assume that the covariance matrix of the errors is correctly specified."
      ],
      "text/plain": [
       "<class 'statsmodels.iolib.summary.Summary'>\n",
       "\"\"\"\n",
       "                            OLS Regression Results                            \n",
       "==============================================================================\n",
       "Dep. Variable:                   medv   R-squared:                       0.544\n",
       "Model:                            OLS   Adj. R-squared:                  0.543\n",
       "Method:                 Least Squares   F-statistic:                     601.6\n",
       "Date:                Mon, 28 Aug 2023   Prob (F-statistic):           5.08e-88\n",
       "Time:                        10:07:21   Log-Likelihood:                -1641.5\n",
       "No. Observations:                 506   AIC:                             3287.\n",
       "Df Residuals:                     504   BIC:                             3295.\n",
       "Df Model:                           1                                         \n",
       "Covariance Type:            nonrobust                                         \n",
       "==============================================================================\n",
       "                 coef    std err          t      P>|t|      [0.025      0.975]\n",
       "------------------------------------------------------------------------------\n",
       "intercept     34.5538      0.563     61.415      0.000      33.448      35.659\n",
       "lstat         -0.9500      0.039    -24.528      0.000      -1.026      -0.874\n",
       "==============================================================================\n",
       "Omnibus:                      137.043   Durbin-Watson:                   0.892\n",
       "Prob(Omnibus):                  0.000   Jarque-Bera (JB):              291.373\n",
       "Skew:                           1.453   Prob(JB):                     5.36e-64\n",
       "Kurtosis:                       5.319   Cond. No.                         29.7\n",
       "==============================================================================\n",
       "\n",
       "Notes:\n",
       "[1] Standard Errors assume that the covariance matrix of the errors is correctly specified.\n",
       "\"\"\""
      ]
     },
     "execution_count": 21,
     "metadata": {},
     "output_type": "execute_result"
    }
   ],
   "source": [
    "results.summary()"
   ]
  },
  {
   "cell_type": "code",
   "execution_count": 22,
   "id": "77d00726-6c3c-42a6-a263-0d37d51a2522",
   "metadata": {},
   "outputs": [
    {
     "data": {
      "text/plain": [
       "intercept    34.553841\n",
       "lstat        -0.950049\n",
       "dtype: float64"
      ]
     },
     "execution_count": 22,
     "metadata": {},
     "output_type": "execute_result"
    }
   ],
   "source": [
    "results.params #Shows only the fitted coefficients"
   ]
  },
  {
   "cell_type": "markdown",
   "id": "99fb369f-d08d-4953-b6b5-1e5b2fec2c62",
   "metadata": {},
   "source": [
    "Can use `get_prediction()`to obtain predictions and do inference for $\\hat{y}$ for given values of $x$."
   ]
  },
  {
   "cell_type": "code",
   "execution_count": 24,
   "id": "e346c3eb-c17f-4e88-b3b2-13207ca8c7bd",
   "metadata": {},
   "outputs": [
    {
     "data": {
      "text/html": [
       "<div>\n",
       "<style scoped>\n",
       "    .dataframe tbody tr th:only-of-type {\n",
       "        vertical-align: middle;\n",
       "    }\n",
       "\n",
       "    .dataframe tbody tr th {\n",
       "        vertical-align: top;\n",
       "    }\n",
       "\n",
       "    .dataframe thead th {\n",
       "        text-align: right;\n",
       "    }\n",
       "</style>\n",
       "<table border=\"1\" class=\"dataframe\">\n",
       "  <thead>\n",
       "    <tr style=\"text-align: right;\">\n",
       "      <th></th>\n",
       "      <th>intercept</th>\n",
       "      <th>lstat</th>\n",
       "    </tr>\n",
       "  </thead>\n",
       "  <tbody>\n",
       "    <tr>\n",
       "      <th>0</th>\n",
       "      <td>1.0</td>\n",
       "      <td>5</td>\n",
       "    </tr>\n",
       "    <tr>\n",
       "      <th>1</th>\n",
       "      <td>1.0</td>\n",
       "      <td>10</td>\n",
       "    </tr>\n",
       "    <tr>\n",
       "      <th>2</th>\n",
       "      <td>1.0</td>\n",
       "      <td>15</td>\n",
       "    </tr>\n",
       "  </tbody>\n",
       "</table>\n",
       "</div>"
      ],
      "text/plain": [
       "   intercept  lstat\n",
       "0        1.0      5\n",
       "1        1.0     10\n",
       "2        1.0     15"
      ]
     },
     "execution_count": 24,
     "metadata": {},
     "output_type": "execute_result"
    }
   ],
   "source": [
    "new_df = pd.DataFrame({'lstat':[5, 10, 15]}) #Create a new data frame with lstat, with the values at which we want to make prediction \n",
    "newX = design.transform(new_df) #create the corresponding matrix\n",
    "newX"
   ]
  },
  {
   "cell_type": "code",
   "execution_count": 25,
   "id": "08ebdcfe-41a3-4b23-913a-ee58b8373b25",
   "metadata": {},
   "outputs": [
    {
     "data": {
      "text/plain": [
       "array([29.80359411, 25.05334734, 20.30310057])"
      ]
     },
     "execution_count": 25,
     "metadata": {},
     "output_type": "execute_result"
    }
   ],
   "source": [
    "new_predictions = results.get_prediction(newX); #compute the prediction at newX\n",
    "new_predictions.predicted_mean #see the results by extracting the mean "
   ]
  },
  {
   "cell_type": "code",
   "execution_count": 26,
   "id": "ba527fa3-46b0-4d19-a78d-88f9a6fece9b",
   "metadata": {},
   "outputs": [
    {
     "data": {
      "text/plain": [
       "array([[29.00741194, 30.59977628],\n",
       "       [24.47413202, 25.63256267],\n",
       "       [19.73158815, 20.87461299]])"
      ]
     },
     "execution_count": 26,
     "metadata": {},
     "output_type": "execute_result"
    }
   ],
   "source": [
    "new_predictions.conf_int(alpha=0.05) #produce 95% confidence intervals\n"
   ]
  },
  {
   "cell_type": "code",
   "execution_count": 27,
   "id": "c35441b8-c717-44db-960b-e756a4eb1357",
   "metadata": {},
   "outputs": [
    {
     "data": {
      "text/plain": [
       "array([[17.56567478, 42.04151344],\n",
       "       [12.82762635, 37.27906833],\n",
       "       [ 8.0777421 , 32.52845905]])"
      ]
     },
     "execution_count": 27,
     "metadata": {},
     "output_type": "execute_result"
    }
   ],
   "source": [
    "new_predictions.conf_int(obs=True, alpha=0.05) #Prediction intervals: set obs=True\n"
   ]
  },
  {
   "cell_type": "markdown",
   "id": "c210d98c-0a07-4013-8b67-2d919587950b",
   "metadata": {},
   "source": [
    "For instance, the 95% confidence interval associated with an `lstat` value of 5 is (29.01, 30.60), and the 95% prediction interval is (17.57, 42.04). As expected, the confidence and prediction intervals are centered around the same point (a predicted value of 29.80 for medv when lstat equals 5), but the latter are substantially wider."
   ]
  },
  {
   "cell_type": "markdown",
   "id": "d072195b-9681-43c5-8774-7dc687096036",
   "metadata": {},
   "source": [
    "### Defining functions to visualize the data "
   ]
  },
  {
   "cell_type": "markdown",
   "id": "656c1ba4-7086-4922-b424-6710ccf0a536",
   "metadata": {},
   "source": [
    "Define a function called `abline` and has 3 arguments `ax, b, m`. `ax` is an axis object for an existing plot, `b`is the intercept and `m` the slop. Then, we add other plotting options into `ax.plot` using `*args` which allows any number of non-named arguments and `*kwargs` allows any number of named arguments to `abline`. "
   ]
  },
  {
   "cell_type": "code",
   "execution_count": 29,
   "id": "6e4d63d4-0a77-44ce-9996-fff606f913e5",
   "metadata": {},
   "outputs": [],
   "source": [
    "def abline(ax, b, m, *args, **kwargs):\n",
    "    \"Add a line with slope m and intercept b to ax\"\n",
    "    xlim = ax.get_xlim()\n",
    "    ylim = [m * xlim[0] + b, m * xlim[1] + b]\n",
    "    ax.plot(xlim, ylim, *args, **kwargs)"
   ]
  },
  {
   "cell_type": "code",
   "execution_count": 30,
   "id": "09162a32-8748-44c2-aa97-a7161b612acc",
   "metadata": {},
   "outputs": [
    {
     "data": {
      "image/png": "[encoded data removed]",
      "text/plain": [
       "<Figure size 432x288 with 1 Axes>"
      ]
     },
     "metadata": {
      "needs_background": "light"
     },
     "output_type": "display_data"
    }
   ],
   "source": [
    "ax = Boston.plot.scatter('lstat', 'medv')\n",
    "abline(ax,\n",
    "       results.params[0],\n",
    "       results.params[1],\n",
    "       'r--', # produced a red dashed line\n",
    "       linewidth=3) #make it of width 3"
   ]
  },
  {
   "cell_type": "code",
   "execution_count": 31,
   "id": "df1af824-3603-4cc8-b919-e2d907e676f2",
   "metadata": {},
   "outputs": [
    {
     "data": {
      "image/png": "[encoded data removed]",
      "text/plain": [
       "<Figure size 576x576 with 1 Axes>"
      ]
     },
     "metadata": {
      "needs_background": "light"
     },
     "output_type": "display_data"
    }
   ],
   "source": [
    "ax = subplots(figsize=(8,8))[1]\n",
    "ax.scatter(results.fittedvalues, results.resid)\n",
    "ax.set_xlabel('Fitted value')\n",
    "ax.set_ylabel('Residual')\n",
    "ax.axhline(0, c='k', ls='--');"
   ]
  },
  {
   "cell_type": "markdown",
   "id": "722ccd04-1f7e-492f-aaea-56414f8bff68",
   "metadata": {},
   "source": [
    "We add a horizontal line at 0 for reference using the ax.axhline() method, indicating it should be black `(c='k')` and have a dashed linestyle `(ls='--')`.\n"
   ]
  },
  {
   "cell_type": "markdown",
   "id": "47b1b983-7b16-4a30-9f9c-92e02e4addfc",
   "metadata": {},
   "source": [
    "## 1.2 Multiple linear regression"
   ]
  },
  {
   "cell_type": "markdown",
   "id": "11f8ee35-b524-41d4-9989-f08611223d67",
   "metadata": {},
   "source": [
    "Add an extra variable: `age`"
   ]
  },
  {
   "cell_type": "code",
   "execution_count": 33,
   "id": "b6b2f44b-ed4c-4f90-82b4-d6d86baf20cf",
   "metadata": {},
   "outputs": [
    {
     "data": {
      "text/html": [
       "<div>\n",
       "<style scoped>\n",
       "    .dataframe tbody tr th:only-of-type {\n",
       "        vertical-align: middle;\n",
       "    }\n",
       "\n",
       "    .dataframe tbody tr th {\n",
       "        vertical-align: top;\n",
       "    }\n",
       "\n",
       "    .dataframe thead th {\n",
       "        text-align: right;\n",
       "    }\n",
       "</style>\n",
       "<table border=\"1\" class=\"dataframe\">\n",
       "  <thead>\n",
       "    <tr style=\"text-align: right;\">\n",
       "      <th></th>\n",
       "      <th>coef</th>\n",
       "      <th>std err</th>\n",
       "      <th>t</th>\n",
       "      <th>P&gt;|t|</th>\n",
       "    </tr>\n",
       "  </thead>\n",
       "  <tbody>\n",
       "    <tr>\n",
       "      <th>intercept</th>\n",
       "      <td>33.2228</td>\n",
       "      <td>0.731</td>\n",
       "      <td>45.458</td>\n",
       "      <td>0.000</td>\n",
       "    </tr>\n",
       "    <tr>\n",
       "      <th>lstat</th>\n",
       "      <td>-1.0321</td>\n",
       "      <td>0.048</td>\n",
       "      <td>-21.416</td>\n",
       "      <td>0.000</td>\n",
       "    </tr>\n",
       "    <tr>\n",
       "      <th>age</th>\n",
       "      <td>0.0345</td>\n",
       "      <td>0.012</td>\n",
       "      <td>2.826</td>\n",
       "      <td>0.005</td>\n",
       "    </tr>\n",
       "  </tbody>\n",
       "</table>\n",
       "</div>"
      ],
      "text/plain": [
       "              coef  std err       t  P>|t|\n",
       "intercept  33.2228    0.731  45.458  0.000\n",
       "lstat      -1.0321    0.048 -21.416  0.000\n",
       "age         0.0345    0.012   2.826  0.005"
      ]
     },
     "execution_count": 33,
     "metadata": {},
     "output_type": "execute_result"
    }
   ],
   "source": [
    "X = MS(['lstat', 'age']).fit_transform(Boston) \n",
    "model1 = sm.OLS(y, X)\n",
    "results1 = model1.fit()\n",
    "summarize(results1)"
   ]
  },
  {
   "cell_type": "markdown",
   "id": "1309261b-2423-453d-8230-634b6bd773f7",
   "metadata": {},
   "source": [
    "Shortcut to include all the variables:"
   ]
  },
  {
   "cell_type": "code",
   "execution_count": 34,
   "id": "4897061c-8272-4d1c-b954-b421c4dd5764",
   "metadata": {},
   "outputs": [
    {
     "data": {
      "text/plain": [
       "Index(['crim', 'zn', 'indus', 'chas', 'nox', 'rm', 'age', 'dis', 'rad', 'tax',\n",
       "       'ptratio', 'lstat'],\n",
       "      dtype='object')"
      ]
     },
     "execution_count": 34,
     "metadata": {},
     "output_type": "execute_result"
    }
   ],
   "source": [
    "terms = Boston.columns.drop('medv')\n",
    "terms"
   ]
  },
  {
   "cell_type": "code",
   "execution_count": 35,
   "id": "2f520c12-4465-4d9c-8ddd-702461b34c8c",
   "metadata": {},
   "outputs": [
    {
     "data": {
      "text/html": [
       "<div>\n",
       "<style scoped>\n",
       "    .dataframe tbody tr th:only-of-type {\n",
       "        vertical-align: middle;\n",
       "    }\n",
       "\n",
       "    .dataframe tbody tr th {\n",
       "        vertical-align: top;\n",
       "    }\n",
       "\n",
       "    .dataframe thead th {\n",
       "        text-align: right;\n",
       "    }\n",
       "</style>\n",
       "<table border=\"1\" class=\"dataframe\">\n",
       "  <thead>\n",
       "    <tr style=\"text-align: right;\">\n",
       "      <th></th>\n",
       "      <th>coef</th>\n",
       "      <th>std err</th>\n",
       "      <th>t</th>\n",
       "      <th>P&gt;|t|</th>\n",
       "    </tr>\n",
       "  </thead>\n",
       "  <tbody>\n",
       "    <tr>\n",
       "      <th>intercept</th>\n",
       "      <td>41.6173</td>\n",
       "      <td>4.936</td>\n",
       "      <td>8.431</td>\n",
       "      <td>0.000</td>\n",
       "    </tr>\n",
       "    <tr>\n",
       "      <th>crim</th>\n",
       "      <td>-0.1214</td>\n",
       "      <td>0.033</td>\n",
       "      <td>-3.678</td>\n",
       "      <td>0.000</td>\n",
       "    </tr>\n",
       "    <tr>\n",
       "      <th>zn</th>\n",
       "      <td>0.0470</td>\n",
       "      <td>0.014</td>\n",
       "      <td>3.384</td>\n",
       "      <td>0.001</td>\n",
       "    </tr>\n",
       "    <tr>\n",
       "      <th>indus</th>\n",
       "      <td>0.0135</td>\n",
       "      <td>0.062</td>\n",
       "      <td>0.217</td>\n",
       "      <td>0.829</td>\n",
       "    </tr>\n",
       "    <tr>\n",
       "      <th>chas</th>\n",
       "      <td>2.8400</td>\n",
       "      <td>0.870</td>\n",
       "      <td>3.264</td>\n",
       "      <td>0.001</td>\n",
       "    </tr>\n",
       "    <tr>\n",
       "      <th>nox</th>\n",
       "      <td>-18.7580</td>\n",
       "      <td>3.851</td>\n",
       "      <td>-4.870</td>\n",
       "      <td>0.000</td>\n",
       "    </tr>\n",
       "    <tr>\n",
       "      <th>rm</th>\n",
       "      <td>3.6581</td>\n",
       "      <td>0.420</td>\n",
       "      <td>8.705</td>\n",
       "      <td>0.000</td>\n",
       "    </tr>\n",
       "    <tr>\n",
       "      <th>age</th>\n",
       "      <td>0.0036</td>\n",
       "      <td>0.013</td>\n",
       "      <td>0.271</td>\n",
       "      <td>0.787</td>\n",
       "    </tr>\n",
       "    <tr>\n",
       "      <th>dis</th>\n",
       "      <td>-1.4908</td>\n",
       "      <td>0.202</td>\n",
       "      <td>-7.394</td>\n",
       "      <td>0.000</td>\n",
       "    </tr>\n",
       "    <tr>\n",
       "      <th>rad</th>\n",
       "      <td>0.2894</td>\n",
       "      <td>0.067</td>\n",
       "      <td>4.325</td>\n",
       "      <td>0.000</td>\n",
       "    </tr>\n",
       "    <tr>\n",
       "      <th>tax</th>\n",
       "      <td>-0.0127</td>\n",
       "      <td>0.004</td>\n",
       "      <td>-3.337</td>\n",
       "      <td>0.001</td>\n",
       "    </tr>\n",
       "    <tr>\n",
       "      <th>ptratio</th>\n",
       "      <td>-0.9375</td>\n",
       "      <td>0.132</td>\n",
       "      <td>-7.091</td>\n",
       "      <td>0.000</td>\n",
       "    </tr>\n",
       "    <tr>\n",
       "      <th>lstat</th>\n",
       "      <td>-0.5520</td>\n",
       "      <td>0.051</td>\n",
       "      <td>-10.897</td>\n",
       "      <td>0.000</td>\n",
       "    </tr>\n",
       "  </tbody>\n",
       "</table>\n",
       "</div>"
      ],
      "text/plain": [
       "              coef  std err       t  P>|t|\n",
       "intercept  41.6173    4.936   8.431  0.000\n",
       "crim       -0.1214    0.033  -3.678  0.000\n",
       "zn          0.0470    0.014   3.384  0.001\n",
       "indus       0.0135    0.062   0.217  0.829\n",
       "chas        2.8400    0.870   3.264  0.001\n",
       "nox       -18.7580    3.851  -4.870  0.000\n",
       "rm          3.6581    0.420   8.705  0.000\n",
       "age         0.0036    0.013   0.271  0.787\n",
       "dis        -1.4908    0.202  -7.394  0.000\n",
       "rad         0.2894    0.067   4.325  0.000\n",
       "tax        -0.0127    0.004  -3.337  0.001\n",
       "ptratio    -0.9375    0.132  -7.091  0.000\n",
       "lstat      -0.5520    0.051 -10.897  0.000"
      ]
     },
     "execution_count": 35,
     "metadata": {},
     "output_type": "execute_result"
    }
   ],
   "source": [
    "X = MS(terms).fit_transform(Boston)\n",
    "model = sm.OLS(y, X)\n",
    "results = model.fit()\n",
    "summarize(results)"
   ]
  },
  {
   "cell_type": "markdown",
   "id": "430bc1e6-5d62-4c68-a5a5-34c56e993a22",
   "metadata": {},
   "source": [
    "Can see that `age`has a high $p$-value, one might want to run a regression without it. "
   ]
  },
  {
   "cell_type": "code",
   "execution_count": 36,
   "id": "af518498-6107-40cb-848b-9b94d69b3085",
   "metadata": {},
   "outputs": [
    {
     "data": {
      "text/html": [
       "<div>\n",
       "<style scoped>\n",
       "    .dataframe tbody tr th:only-of-type {\n",
       "        vertical-align: middle;\n",
       "    }\n",
       "\n",
       "    .dataframe tbody tr th {\n",
       "        vertical-align: top;\n",
       "    }\n",
       "\n",
       "    .dataframe thead th {\n",
       "        text-align: right;\n",
       "    }\n",
       "</style>\n",
       "<table border=\"1\" class=\"dataframe\">\n",
       "  <thead>\n",
       "    <tr style=\"text-align: right;\">\n",
       "      <th></th>\n",
       "      <th>coef</th>\n",
       "      <th>std err</th>\n",
       "      <th>t</th>\n",
       "      <th>P&gt;|t|</th>\n",
       "    </tr>\n",
       "  </thead>\n",
       "  <tbody>\n",
       "    <tr>\n",
       "      <th>intercept</th>\n",
       "      <td>41.5251</td>\n",
       "      <td>4.920</td>\n",
       "      <td>8.441</td>\n",
       "      <td>0.000</td>\n",
       "    </tr>\n",
       "    <tr>\n",
       "      <th>crim</th>\n",
       "      <td>-0.1214</td>\n",
       "      <td>0.033</td>\n",
       "      <td>-3.683</td>\n",
       "      <td>0.000</td>\n",
       "    </tr>\n",
       "    <tr>\n",
       "      <th>zn</th>\n",
       "      <td>0.0465</td>\n",
       "      <td>0.014</td>\n",
       "      <td>3.379</td>\n",
       "      <td>0.001</td>\n",
       "    </tr>\n",
       "    <tr>\n",
       "      <th>indus</th>\n",
       "      <td>0.0135</td>\n",
       "      <td>0.062</td>\n",
       "      <td>0.217</td>\n",
       "      <td>0.829</td>\n",
       "    </tr>\n",
       "    <tr>\n",
       "      <th>chas</th>\n",
       "      <td>2.8528</td>\n",
       "      <td>0.868</td>\n",
       "      <td>3.287</td>\n",
       "      <td>0.001</td>\n",
       "    </tr>\n",
       "    <tr>\n",
       "      <th>nox</th>\n",
       "      <td>-18.4851</td>\n",
       "      <td>3.714</td>\n",
       "      <td>-4.978</td>\n",
       "      <td>0.000</td>\n",
       "    </tr>\n",
       "    <tr>\n",
       "      <th>rm</th>\n",
       "      <td>3.6811</td>\n",
       "      <td>0.411</td>\n",
       "      <td>8.951</td>\n",
       "      <td>0.000</td>\n",
       "    </tr>\n",
       "    <tr>\n",
       "      <th>dis</th>\n",
       "      <td>-1.5068</td>\n",
       "      <td>0.193</td>\n",
       "      <td>-7.825</td>\n",
       "      <td>0.000</td>\n",
       "    </tr>\n",
       "    <tr>\n",
       "      <th>rad</th>\n",
       "      <td>0.2879</td>\n",
       "      <td>0.067</td>\n",
       "      <td>4.322</td>\n",
       "      <td>0.000</td>\n",
       "    </tr>\n",
       "    <tr>\n",
       "      <th>tax</th>\n",
       "      <td>-0.0127</td>\n",
       "      <td>0.004</td>\n",
       "      <td>-3.333</td>\n",
       "      <td>0.001</td>\n",
       "    </tr>\n",
       "    <tr>\n",
       "      <th>ptratio</th>\n",
       "      <td>-0.9346</td>\n",
       "      <td>0.132</td>\n",
       "      <td>-7.099</td>\n",
       "      <td>0.000</td>\n",
       "    </tr>\n",
       "    <tr>\n",
       "      <th>lstat</th>\n",
       "      <td>-0.5474</td>\n",
       "      <td>0.048</td>\n",
       "      <td>-11.483</td>\n",
       "      <td>0.000</td>\n",
       "    </tr>\n",
       "  </tbody>\n",
       "</table>\n",
       "</div>"
      ],
      "text/plain": [
       "              coef  std err       t  P>|t|\n",
       "intercept  41.5251    4.920   8.441  0.000\n",
       "crim       -0.1214    0.033  -3.683  0.000\n",
       "zn          0.0465    0.014   3.379  0.001\n",
       "indus       0.0135    0.062   0.217  0.829\n",
       "chas        2.8528    0.868   3.287  0.001\n",
       "nox       -18.4851    3.714  -4.978  0.000\n",
       "rm          3.6811    0.411   8.951  0.000\n",
       "dis        -1.5068    0.193  -7.825  0.000\n",
       "rad         0.2879    0.067   4.322  0.000\n",
       "tax        -0.0127    0.004  -3.333  0.001\n",
       "ptratio    -0.9346    0.132  -7.099  0.000\n",
       "lstat      -0.5474    0.048 -11.483  0.000"
      ]
     },
     "execution_count": 36,
     "metadata": {},
     "output_type": "execute_result"
    }
   ],
   "source": [
    "minus_age = Boston.columns.drop(['medv', 'age']) \n",
    "Xma = MS(minus_age).fit_transform(Boston)\n",
    "model1 = sm.OLS(y, Xma)\n",
    "summarize(model1.fit())"
   ]
  },
  {
   "cell_type": "markdown",
   "id": "386fdf80-57d6-494d-8b04-c21eda24a9c5",
   "metadata": {},
   "source": [
    "### Multivariate Goodness of Fit"
   ]
  },
  {
   "cell_type": "code",
   "execution_count": 39,
   "id": "6087ed25-71f1-4f20-a2ac-e242c7b3e92b",
   "metadata": {},
   "outputs": [
    {
     "data": {
      "text/plain": [
       "['HC0_se',\n",
       " 'HC1_se',\n",
       " 'HC2_se',\n",
       " 'HC3_se',\n",
       " '_HCCM',\n",
       " '__class__',\n",
       " '__delattr__',\n",
       " '__dict__',\n",
       " '__dir__',\n",
       " '__doc__',\n",
       " '__eq__',\n",
       " '__format__',\n",
       " '__ge__',\n",
       " '__getattribute__',\n",
       " '__gt__',\n",
       " '__hash__',\n",
       " '__init__',\n",
       " '__init_subclass__',\n",
       " '__le__',\n",
       " '__lt__',\n",
       " '__module__',\n",
       " '__ne__',\n",
       " '__new__',\n",
       " '__reduce__',\n",
       " '__reduce_ex__',\n",
       " '__repr__',\n",
       " '__setattr__',\n",
       " '__sizeof__',\n",
       " '__str__',\n",
       " '__subclasshook__',\n",
       " '__weakref__',\n",
       " '_abat_diagonal',\n",
       " '_cache',\n",
       " '_data_attr',\n",
       " '_data_in_cache',\n",
       " '_get_robustcov_results',\n",
       " '_get_wald_nonlinear',\n",
       " '_is_nested',\n",
       " '_transform_predict_exog',\n",
       " '_use_t',\n",
       " '_wexog_singular_values',\n",
       " 'aic',\n",
       " 'bic',\n",
       " 'bse',\n",
       " 'centered_tss',\n",
       " 'compare_f_test',\n",
       " 'compare_lm_test',\n",
       " 'compare_lr_test',\n",
       " 'condition_number',\n",
       " 'conf_int',\n",
       " 'conf_int_el',\n",
       " 'cov_HC0',\n",
       " 'cov_HC1',\n",
       " 'cov_HC2',\n",
       " 'cov_HC3',\n",
       " 'cov_kwds',\n",
       " 'cov_params',\n",
       " 'cov_type',\n",
       " 'df_model',\n",
       " 'df_resid',\n",
       " 'diagn',\n",
       " 'eigenvals',\n",
       " 'el_test',\n",
       " 'ess',\n",
       " 'f_pvalue',\n",
       " 'f_test',\n",
       " 'fittedvalues',\n",
       " 'fvalue',\n",
       " 'get_influence',\n",
       " 'get_prediction',\n",
       " 'get_robustcov_results',\n",
       " 'info_criteria',\n",
       " 'initialize',\n",
       " 'k_constant',\n",
       " 'llf',\n",
       " 'load',\n",
       " 'model',\n",
       " 'mse_model',\n",
       " 'mse_resid',\n",
       " 'mse_total',\n",
       " 'nobs',\n",
       " 'normalized_cov_params',\n",
       " 'outlier_test',\n",
       " 'params',\n",
       " 'predict',\n",
       " 'pvalues',\n",
       " 'remove_data',\n",
       " 'resid',\n",
       " 'resid_pearson',\n",
       " 'rsquared',\n",
       " 'rsquared_adj',\n",
       " 'save',\n",
       " 'scale',\n",
       " 'ssr',\n",
       " 'summary',\n",
       " 'summary2',\n",
       " 't_test',\n",
       " 't_test_pairwise',\n",
       " 'tvalues',\n",
       " 'uncentered_tss',\n",
       " 'use_t',\n",
       " 'wald_test',\n",
       " 'wald_test_terms',\n",
       " 'wresid']"
      ]
     },
     "execution_count": 39,
     "metadata": {},
     "output_type": "execute_result"
    }
   ],
   "source": [
    "#This shows use everything available\n",
    "dir(results)"
   ]
  },
  {
   "cell_type": "markdown",
   "id": "4bad1fed-6a67-42b1-ab41-25bc1242e8ef",
   "metadata": {},
   "source": [
    "Let see the $R^2$ and RSE."
   ]
  },
  {
   "cell_type": "code",
   "execution_count": 40,
   "id": "ad7e87a5-2bf1-4a0b-97d5-d8df1233a1ff",
   "metadata": {},
   "outputs": [
    {
     "data": {
      "text/plain": [
       "0.7343070437613075"
      ]
     },
     "execution_count": 40,
     "metadata": {},
     "output_type": "execute_result"
    }
   ],
   "source": [
    "results.rsquared"
   ]
  },
  {
   "cell_type": "code",
   "execution_count": 41,
   "id": "43fd96ab-6c03-4417-b933-f918b2a8f7a2",
   "metadata": {},
   "outputs": [
    {
     "data": {
      "text/plain": [
       "4.798034335596368"
      ]
     },
     "execution_count": 41,
     "metadata": {},
     "output_type": "execute_result"
    }
   ],
   "source": [
    "np.sqrt(results.scale)"
   ]
  },
  {
   "cell_type": "markdown",
   "id": "5b6e420e-f10f-4775-9624-7a76cca2647d",
   "metadata": {},
   "source": [
    "### Interaction terms"
   ]
  },
  {
   "cell_type": "markdown",
   "id": "7beebaca-2b78-4267-9131-e82b92ff6cca",
   "metadata": {},
   "source": [
    "The tuple `(\"lstat\",\"age\")` include an interaction term between `lstat` and ` age`. "
   ]
  },
  {
   "cell_type": "code",
   "execution_count": 42,
   "id": "212e80c4-afbe-4974-8839-211510ac9d9c",
   "metadata": {},
   "outputs": [
    {
     "data": {
      "text/html": [
       "<div>\n",
       "<style scoped>\n",
       "    .dataframe tbody tr th:only-of-type {\n",
       "        vertical-align: middle;\n",
       "    }\n",
       "\n",
       "    .dataframe tbody tr th {\n",
       "        vertical-align: top;\n",
       "    }\n",
       "\n",
       "    .dataframe thead th {\n",
       "        text-align: right;\n",
       "    }\n",
       "</style>\n",
       "<table border=\"1\" class=\"dataframe\">\n",
       "  <thead>\n",
       "    <tr style=\"text-align: right;\">\n",
       "      <th></th>\n",
       "      <th>coef</th>\n",
       "      <th>std err</th>\n",
       "      <th>t</th>\n",
       "      <th>P&gt;|t|</th>\n",
       "    </tr>\n",
       "  </thead>\n",
       "  <tbody>\n",
       "    <tr>\n",
       "      <th>intercept</th>\n",
       "      <td>36.0885</td>\n",
       "      <td>1.470</td>\n",
       "      <td>24.553</td>\n",
       "      <td>0.000</td>\n",
       "    </tr>\n",
       "    <tr>\n",
       "      <th>lstat</th>\n",
       "      <td>-1.3921</td>\n",
       "      <td>0.167</td>\n",
       "      <td>-8.313</td>\n",
       "      <td>0.000</td>\n",
       "    </tr>\n",
       "    <tr>\n",
       "      <th>age</th>\n",
       "      <td>-0.0007</td>\n",
       "      <td>0.020</td>\n",
       "      <td>-0.036</td>\n",
       "      <td>0.971</td>\n",
       "    </tr>\n",
       "    <tr>\n",
       "      <th>lstat:age</th>\n",
       "      <td>0.0042</td>\n",
       "      <td>0.002</td>\n",
       "      <td>2.244</td>\n",
       "      <td>0.025</td>\n",
       "    </tr>\n",
       "  </tbody>\n",
       "</table>\n",
       "</div>"
      ],
      "text/plain": [
       "              coef  std err       t  P>|t|\n",
       "intercept  36.0885    1.470  24.553  0.000\n",
       "lstat      -1.3921    0.167  -8.313  0.000\n",
       "age        -0.0007    0.020  -0.036  0.971\n",
       "lstat:age   0.0042    0.002   2.244  0.025"
      ]
     },
     "execution_count": 42,
     "metadata": {},
     "output_type": "execute_result"
    }
   ],
   "source": [
    "X = MS(['lstat',\n",
    "        'age',\n",
    "        ('lstat', 'age')]).fit_transform(Boston)\n",
    "model2 = sm.OLS(y, X)\n",
    "summarize(model2.fit())"
   ]
  },
  {
   "cell_type": "markdown",
   "id": "301c0382-545a-4360-adcc-457ba3da679c",
   "metadata": {},
   "source": [
    "### Non-linear transformations of the predictors"
   ]
  },
  {
   "cell_type": "markdown",
   "id": "bf0e486f-8631-443d-bda5-ba5582dab7c9",
   "metadata": {},
   "source": [
    "Can include a polynomial functions of any predictors using `poly()`. "
   ]
  },
  {
   "cell_type": "code",
   "execution_count": 43,
   "id": "d7eece54-2773-493d-bcce-b07040c1ed23",
   "metadata": {},
   "outputs": [
    {
     "data": {
      "text/html": [
       "<div>\n",
       "<style scoped>\n",
       "    .dataframe tbody tr th:only-of-type {\n",
       "        vertical-align: middle;\n",
       "    }\n",
       "\n",
       "    .dataframe tbody tr th {\n",
       "        vertical-align: top;\n",
       "    }\n",
       "\n",
       "    .dataframe thead th {\n",
       "        text-align: right;\n",
       "    }\n",
       "</style>\n",
       "<table border=\"1\" class=\"dataframe\">\n",
       "  <thead>\n",
       "    <tr style=\"text-align: right;\">\n",
       "      <th></th>\n",
       "      <th>coef</th>\n",
       "      <th>std err</th>\n",
       "      <th>t</th>\n",
       "      <th>P&gt;|t|</th>\n",
       "    </tr>\n",
       "  </thead>\n",
       "  <tbody>\n",
       "    <tr>\n",
       "      <th>intercept</th>\n",
       "      <td>17.7151</td>\n",
       "      <td>0.781</td>\n",
       "      <td>22.681</td>\n",
       "      <td>0.0</td>\n",
       "    </tr>\n",
       "    <tr>\n",
       "      <th>poly(lstat, degree=2)[0]</th>\n",
       "      <td>-179.2279</td>\n",
       "      <td>6.733</td>\n",
       "      <td>-26.620</td>\n",
       "      <td>0.0</td>\n",
       "    </tr>\n",
       "    <tr>\n",
       "      <th>poly(lstat, degree=2)[1]</th>\n",
       "      <td>72.9908</td>\n",
       "      <td>5.482</td>\n",
       "      <td>13.315</td>\n",
       "      <td>0.0</td>\n",
       "    </tr>\n",
       "    <tr>\n",
       "      <th>age</th>\n",
       "      <td>0.0703</td>\n",
       "      <td>0.011</td>\n",
       "      <td>6.471</td>\n",
       "      <td>0.0</td>\n",
       "    </tr>\n",
       "  </tbody>\n",
       "</table>\n",
       "</div>"
      ],
      "text/plain": [
       "                              coef  std err       t  P>|t|\n",
       "intercept                  17.7151    0.781  22.681    0.0\n",
       "poly(lstat, degree=2)[0] -179.2279    6.733 -26.620    0.0\n",
       "poly(lstat, degree=2)[1]   72.9908    5.482  13.315    0.0\n",
       "age                         0.0703    0.011   6.471    0.0"
      ]
     },
     "execution_count": 43,
     "metadata": {},
     "output_type": "execute_result"
    }
   ],
   "source": [
    "X = MS([poly('lstat', degree=2), 'age']).fit_transform(Boston)\n",
    "model3 = sm.OLS(y, X)\n",
    "results3 = model3.fit()\n",
    "summarize(results3)"
   ]
  },
  {
   "cell_type": "markdown",
   "id": "cfa3e9a5-c683-4592-b147-425a2e6b3026",
   "metadata": {},
   "source": [
    "Can see that the the quadratic form of `lstat` is statistically significant, but does it really improve the model? We can measure the extent to which it does using `anova_lm()`. "
   ]
  },
  {
   "cell_type": "code",
   "execution_count": 44,
   "id": "fb21e542-bdc3-4a14-8d88-74059f65f3a0",
   "metadata": {},
   "outputs": [
    {
     "data": {
      "text/html": [
       "<div>\n",
       "<style scoped>\n",
       "    .dataframe tbody tr th:only-of-type {\n",
       "        vertical-align: middle;\n",
       "    }\n",
       "\n",
       "    .dataframe tbody tr th {\n",
       "        vertical-align: top;\n",
       "    }\n",
       "\n",
       "    .dataframe thead th {\n",
       "        text-align: right;\n",
       "    }\n",
       "</style>\n",
       "<table border=\"1\" class=\"dataframe\">\n",
       "  <thead>\n",
       "    <tr style=\"text-align: right;\">\n",
       "      <th></th>\n",
       "      <th>df_resid</th>\n",
       "      <th>ssr</th>\n",
       "      <th>df_diff</th>\n",
       "      <th>ss_diff</th>\n",
       "      <th>F</th>\n",
       "      <th>Pr(&gt;F)</th>\n",
       "    </tr>\n",
       "  </thead>\n",
       "  <tbody>\n",
       "    <tr>\n",
       "      <th>0</th>\n",
       "      <td>503.0</td>\n",
       "      <td>19168.128609</td>\n",
       "      <td>0.0</td>\n",
       "      <td>NaN</td>\n",
       "      <td>NaN</td>\n",
       "      <td>NaN</td>\n",
       "    </tr>\n",
       "    <tr>\n",
       "      <th>1</th>\n",
       "      <td>502.0</td>\n",
       "      <td>14165.613251</td>\n",
       "      <td>1.0</td>\n",
       "      <td>5002.515357</td>\n",
       "      <td>177.278785</td>\n",
       "      <td>7.468491e-35</td>\n",
       "    </tr>\n",
       "  </tbody>\n",
       "</table>\n",
       "</div>"
      ],
      "text/plain": [
       "   df_resid           ssr  df_diff      ss_diff           F        Pr(>F)\n",
       "0     503.0  19168.128609      0.0          NaN         NaN           NaN\n",
       "1     502.0  14165.613251      1.0  5002.515357  177.278785  7.468491e-35"
      ]
     },
     "execution_count": 44,
     "metadata": {},
     "output_type": "execute_result"
    }
   ],
   "source": [
    "anova_lm(results1, results3)\n"
   ]
  },
  {
   "cell_type": "markdown",
   "id": "45608eab-6419-47b8-b46a-10e91e2bd015",
   "metadata": {},
   "source": [
    "The `anova_lm()` function performs a hypothesis test comparing the two models. The null hypothesis is that the quadratic term in the bigger model is not needed, and the alternative hypothesis is that the bigger model is superior. Here the F-statistic is 177.28 and the associated p-value is zero. In this case the F-statistic is the square of the t-statistic for the quadratic term in the linear model summary for `results3` --- a consequence of the fact that these nested models differ by one degree of freedom. This provides very clear evidence that the quadratic polynomial improves the linear model. Is it surprising? "
   ]
  },
  {
   "cell_type": "markdown",
   "id": "08028294-adac-499b-844d-6764c528e7cb",
   "metadata": {},
   "source": [
    "## 1.3 Qualitative predictors"
   ]
  },
  {
   "cell_type": "markdown",
   "id": "1970b7ee-0b24-4255-9c7d-7888f36a4807",
   "metadata": {},
   "source": [
    "Use the `Carseats`data to predict `Sales` (child car seat sales) in 400 locations. "
   ]
  },
  {
   "cell_type": "code",
   "execution_count": 45,
   "id": "2cf0142a-83d7-4fd7-a0e7-4b88a5ccb545",
   "metadata": {},
   "outputs": [
    {
     "data": {
      "text/plain": [
       "Index(['Sales', 'CompPrice', 'Income', 'Advertising', 'Population', 'Price',\n",
       "       'ShelveLoc', 'Age', 'Education', 'Urban', 'US'],\n",
       "      dtype='object')"
      ]
     },
     "execution_count": 45,
     "metadata": {},
     "output_type": "execute_result"
    }
   ],
   "source": [
    "Carseats = load_data('Carseats')\n",
    "Carseats.columns"
   ]
  },
  {
   "cell_type": "markdown",
   "id": "ba5afbbf-dd09-4015-a7e3-9059a95b93aa",
   "metadata": {},
   "source": [
    "`ShelveLoc` is a qualitative variable. It's an indicator of the quality of the shelving location (space in the store where the seat is displayed). It takes 3 values: `Bad`, `Medium`, and `Good`. `ModelSpec()` generates dummy variables automatically, what we call _one-hot encoding_. Sum of these dummies is 1, the firt column is dropped to avoid collinearity (here `Bad`).  "
   ]
  },
  {
   "cell_type": "code",
   "execution_count": 46,
   "id": "9b8a303f-1eec-4e60-ad03-65d2293a3a78",
   "metadata": {},
   "outputs": [
    {
     "data": {
      "text/html": [
       "<div>\n",
       "<style scoped>\n",
       "    .dataframe tbody tr th:only-of-type {\n",
       "        vertical-align: middle;\n",
       "    }\n",
       "\n",
       "    .dataframe tbody tr th {\n",
       "        vertical-align: top;\n",
       "    }\n",
       "\n",
       "    .dataframe thead th {\n",
       "        text-align: right;\n",
       "    }\n",
       "</style>\n",
       "<table border=\"1\" class=\"dataframe\">\n",
       "  <thead>\n",
       "    <tr style=\"text-align: right;\">\n",
       "      <th></th>\n",
       "      <th>coef</th>\n",
       "      <th>std err</th>\n",
       "      <th>t</th>\n",
       "      <th>P&gt;|t|</th>\n",
       "    </tr>\n",
       "  </thead>\n",
       "  <tbody>\n",
       "    <tr>\n",
       "      <th>intercept</th>\n",
       "      <td>6.5756</td>\n",
       "      <td>1.009</td>\n",
       "      <td>6.519</td>\n",
       "      <td>0.000</td>\n",
       "    </tr>\n",
       "    <tr>\n",
       "      <th>CompPrice</th>\n",
       "      <td>0.0929</td>\n",
       "      <td>0.004</td>\n",
       "      <td>22.567</td>\n",
       "      <td>0.000</td>\n",
       "    </tr>\n",
       "    <tr>\n",
       "      <th>Income</th>\n",
       "      <td>0.0109</td>\n",
       "      <td>0.003</td>\n",
       "      <td>4.183</td>\n",
       "      <td>0.000</td>\n",
       "    </tr>\n",
       "    <tr>\n",
       "      <th>Advertising</th>\n",
       "      <td>0.0702</td>\n",
       "      <td>0.023</td>\n",
       "      <td>3.107</td>\n",
       "      <td>0.002</td>\n",
       "    </tr>\n",
       "    <tr>\n",
       "      <th>Population</th>\n",
       "      <td>0.0002</td>\n",
       "      <td>0.000</td>\n",
       "      <td>0.433</td>\n",
       "      <td>0.665</td>\n",
       "    </tr>\n",
       "    <tr>\n",
       "      <th>Price</th>\n",
       "      <td>-0.1008</td>\n",
       "      <td>0.007</td>\n",
       "      <td>-13.549</td>\n",
       "      <td>0.000</td>\n",
       "    </tr>\n",
       "    <tr>\n",
       "      <th>ShelveLoc[Good]</th>\n",
       "      <td>4.8487</td>\n",
       "      <td>0.153</td>\n",
       "      <td>31.724</td>\n",
       "      <td>0.000</td>\n",
       "    </tr>\n",
       "    <tr>\n",
       "      <th>ShelveLoc[Medium]</th>\n",
       "      <td>1.9533</td>\n",
       "      <td>0.126</td>\n",
       "      <td>15.531</td>\n",
       "      <td>0.000</td>\n",
       "    </tr>\n",
       "    <tr>\n",
       "      <th>Age</th>\n",
       "      <td>-0.0579</td>\n",
       "      <td>0.016</td>\n",
       "      <td>-3.633</td>\n",
       "      <td>0.000</td>\n",
       "    </tr>\n",
       "    <tr>\n",
       "      <th>Education</th>\n",
       "      <td>-0.0209</td>\n",
       "      <td>0.020</td>\n",
       "      <td>-1.063</td>\n",
       "      <td>0.288</td>\n",
       "    </tr>\n",
       "    <tr>\n",
       "      <th>Urban[Yes]</th>\n",
       "      <td>0.1402</td>\n",
       "      <td>0.112</td>\n",
       "      <td>1.247</td>\n",
       "      <td>0.213</td>\n",
       "    </tr>\n",
       "    <tr>\n",
       "      <th>US[Yes]</th>\n",
       "      <td>-0.1576</td>\n",
       "      <td>0.149</td>\n",
       "      <td>-1.058</td>\n",
       "      <td>0.291</td>\n",
       "    </tr>\n",
       "    <tr>\n",
       "      <th>Income:Advertising</th>\n",
       "      <td>0.0008</td>\n",
       "      <td>0.000</td>\n",
       "      <td>2.698</td>\n",
       "      <td>0.007</td>\n",
       "    </tr>\n",
       "    <tr>\n",
       "      <th>Price:Age</th>\n",
       "      <td>0.0001</td>\n",
       "      <td>0.000</td>\n",
       "      <td>0.801</td>\n",
       "      <td>0.424</td>\n",
       "    </tr>\n",
       "  </tbody>\n",
       "</table>\n",
       "</div>"
      ],
      "text/plain": [
       "                      coef  std err       t  P>|t|\n",
       "intercept           6.5756    1.009   6.519  0.000\n",
       "CompPrice           0.0929    0.004  22.567  0.000\n",
       "Income              0.0109    0.003   4.183  0.000\n",
       "Advertising         0.0702    0.023   3.107  0.002\n",
       "Population          0.0002    0.000   0.433  0.665\n",
       "Price              -0.1008    0.007 -13.549  0.000\n",
       "ShelveLoc[Good]     4.8487    0.153  31.724  0.000\n",
       "ShelveLoc[Medium]   1.9533    0.126  15.531  0.000\n",
       "Age                -0.0579    0.016  -3.633  0.000\n",
       "Education          -0.0209    0.020  -1.063  0.288\n",
       "Urban[Yes]          0.1402    0.112   1.247  0.213\n",
       "US[Yes]            -0.1576    0.149  -1.058  0.291\n",
       "Income:Advertising  0.0008    0.000   2.698  0.007\n",
       "Price:Age           0.0001    0.000   0.801  0.424"
      ]
     },
     "execution_count": 46,
     "metadata": {},
     "output_type": "execute_result"
    }
   ],
   "source": [
    "allvars = list(Carseats.columns.drop('Sales'))\n",
    "y = Carseats['Sales']\n",
    "final = allvars + [('Income', 'Advertising'),\n",
    "                   ('Price', 'Age')]\n",
    "X = MS(final).fit_transform(Carseats)\n",
    "model = sm.OLS(y, X)\n",
    "summarize(model.fit())"
   ]
  },
  {
   "cell_type": "markdown",
   "id": "012b46ba-d66e-4766-967c-43f570bef790",
   "metadata": {},
   "source": [
    "First line: we made `allvars` a list, so that we could add the interaction terms two lines down.\n",
    "\n",
    "Our model-matrix builder has created a `ShelveLoc[Good]` dummy variable that takes on a value of 1 if the shelving location is good, and 0 otherwise. Same for `ShelveLoc[Medium]`.\n",
    "\n",
    "How do you interpret `ShelveLoc[Good]`? What about `ShelveLoc[Medium]`?"
   ]
  },
  {
   "cell_type": "markdown",
   "id": "b5329e05-47f0-4034-aca5-d959f6341d80",
   "metadata": {},
   "source": [
    "# 2. Classification problems"
   ]
  }
 ],
 "metadata": {
  "kernelspec": {
   "display_name": "Python 3 (ipykernel)",
   "language": "python",
   "name": "python3"
  },
  "language_info": {
   "codemirror_mode": {
    "name": "ipython",
    "version": 3
   },
   "file_extension": ".py",
   "mimetype": "text/x-python",
   "name": "python",
   "nbconvert_exporter": "python",
   "pygments_lexer": "ipython3",
   "version": "3.10.4"
  }
 },
 "nbformat": 4,
 "nbformat_minor": 5
}
